{
 "cells": [
  {
   "cell_type": "code",
   "execution_count": 1,
   "id": "952929a0-9e14-450c-9d84-ffde985006b8",
   "metadata": {},
   "outputs": [],
   "source": [
    "import pandas as pd"
   ]
  },
  {
   "cell_type": "code",
   "execution_count": 2,
   "id": "98d861db-2e80-4b55-af71-2dad853a5feb",
   "metadata": {},
   "outputs": [],
   "source": [
    "df=pd.read_csv('D:\\\\Google Drive - Office\\\\PythonLab\\\\PandasLab\\\\ALL_LOC_SALE_CSV.csv')\n",
    "# print(df.head(10))"
   ]
  },
  {
   "cell_type": "code",
   "execution_count": 3,
   "id": "ca72a944-f2e2-4a36-9826-9be48df72c8f",
   "metadata": {},
   "outputs": [
    {
     "name": "stdout",
     "output_type": "stream",
     "text": [
      "<class 'pandas.core.frame.DataFrame'>\n",
      "RangeIndex: 1508707 entries, 0 to 1508706\n",
      "Data columns (total 21 columns):\n",
      " #   Column           Non-Null Count    Dtype  \n",
      "---  ------           --------------    -----  \n",
      " 0   BR_CD            1508707 non-null  int64  \n",
      " 1   BILL_NO          1508707 non-null  object \n",
      " 2   BILL_DT          1508707 non-null  object \n",
      " 3   EBS_CUST         1508707 non-null  object \n",
      " 4   CUSTOMER_NAME    1508707 non-null  object \n",
      " 5   ADD1             1255796 non-null  object \n",
      " 6   ADD2             1126135 non-null  object \n",
      " 7   ADD3             1099780 non-null  object \n",
      " 8   CH_CD            1508120 non-null  object \n",
      " 9   ITEM_CODE        1508707 non-null  int64  \n",
      " 10  description      1508642 non-null  object \n",
      " 11  BATCH_NO         1508707 non-null  object \n",
      " 12  price            1508707 non-null  float64\n",
      " 13  SOLD_QTY         1508707 non-null  int64  \n",
      " 14  BON_QTY          1508707 non-null  int64  \n",
      " 15  disc_amt         1508707 non-null  float64\n",
      " 16  NET_amt          1508707 non-null  float64\n",
      " 17  GROSS_VALUE      1508707 non-null  float64\n",
      " 18  discounted_rate  1508707 non-null  float64\n",
      " 19  reason           1508707 non-null  object \n",
      " 20  data_flag        1508707 non-null  object \n",
      "dtypes: float64(5), int64(4), object(12)\n",
      "memory usage: 241.7+ MB\n",
      "None\n"
     ]
    }
   ],
   "source": [
    "print(df.info())"
   ]
  },
  {
   "cell_type": "code",
   "execution_count": 4,
   "id": "6c46bf7c-8010-49f4-8e94-df046c3e99d9",
   "metadata": {},
   "outputs": [
    {
     "name": "stdout",
     "output_type": "stream",
     "text": [
      "         BR_CD     BILL_NO    BILL_DT               EBS_CUST  \\\n",
      "0         8025        6393  01-Jul-22  2000187285-2000184171   \n",
      "1         8025        6394  01-Jul-22  2000187285-2000097430   \n",
      "2         8025        6494  01-Jul-22  2000187285-2000097523   \n",
      "3         8037    30066949  01-Jul-22             2000139125   \n",
      "4         8048        62-L  01-Jul-22             2000092979   \n",
      "...        ...         ...        ...                    ...   \n",
      "1508702   8050  8302015603  31-Jul-22             2000097700   \n",
      "1508703   8049  8400099029  31-Jul-22             2000164461   \n",
      "1508704   8049  8302015000  31-Jul-22             2000163585   \n",
      "1508705   8001  1720072066  31-Jul-22             2000188355   \n",
      "1508706   8001  8302012349  31-Jul-22             2000188355   \n",
      "\n",
      "                     CUSTOMER_NAME                                      ADD1  \\\n",
      "0          CITY CARE MEDICAL STORE                                       NaN   \n",
      "1          AL REHMAN MEDICAL STORE                                       NaN   \n",
      "2              RIZVI MEDICAL STORE                                       NaN   \n",
      "3              Life Saver Pharmacy  Railway Road Laylani Adda Near Driver Ho   \n",
      "4        Masood Malik Medical Hall         COLLEGE ROAD OPPOSIT DHQ HOSPITAL   \n",
      "...                            ...                                       ...   \n",
      "1508702    New super medical store                   \"sadar bazar m.b.din,,\"   \n",
      "1508703                  irfan m/s                                Main Bazar   \n",
      "1508704                Mirwais m/s   \"Junction Chowk, Dist Killa Saif Ullah\"   \n",
      "1508705             NORTH PHARMACY                                         -   \n",
      "1508706             NORTH PHARMACY                                         -   \n",
      "\n",
      "                                    ADD2 ADD3          CH_CD   ITEM_CODE  ...  \\\n",
      "0                                    NaN  NaN       RETAILOR  1013000076  ...   \n",
      "1                                    NaN  NaN       RETAILOR  1919000019  ...   \n",
      "2                                    NaN  NaN       RETAILOR  1013000033  ...   \n",
      "3                        tel Distt Kasur  NaN       RETAILOR  1013000096  ...   \n",
      "4                                    NaN  NaN      FRANCHISE  1013000655  ...   \n",
      "...                                  ...  ...            ...         ...  ...   \n",
      "1508702                                -    -  General Trade  1013000158  ...   \n",
      "1508703                                -    -  General Trade  1013000057  ...   \n",
      "1508704                                -    -  General Trade  1913000121  ...   \n",
      "1508705  JADOON PLAZA PHASE 1 ABBOTTABAD    -  General Trade  1913000002  ...   \n",
      "1508706  JADOON PLAZA PHASE 1 ABBOTTABAD    -  General Trade  1919000004  ...   \n",
      "\n",
      "        BATCH_NO   price  SOLD_QTY  BON_QTY  disc_amt  NET_amt  GROSS_VALUE  \\\n",
      "0                   0.00         3        0       0.0   279.12       279.12   \n",
      "1                   0.00         1        0       0.0  2519.00      2519.00   \n",
      "2                   0.00         6        0       0.0   351.96       351.96   \n",
      "3                   0.00         1        0       0.0   177.63       177.63   \n",
      "4                   0.00         1        0       0.0   287.36       287.36   \n",
      "...          ...     ...       ...      ...       ...      ...          ...   \n",
      "1508702            15.76        50        0       0.0   788.00       788.00   \n",
      "1508703            59.66       -45       -3       0.0 -2684.70     -2684.70   \n",
      "1508704           253.97         1        0       0.0   253.97       253.97   \n",
      "1508705           673.97        -1        0       0.0  -673.97      -673.97   \n",
      "1508706           850.00         1        0       0.0   850.00       850.00   \n",
      "\n",
      "         discounted_rate  reason data_flag  \n",
      "0                    0.0    Sale        SD  \n",
      "1                    0.0    Sale        SD  \n",
      "2                    0.0    Sale        SD  \n",
      "3                    0.0    Sale        SD  \n",
      "4                    0.0    Sale        SD  \n",
      "...                  ...     ...       ...  \n",
      "1508702              0.0    Sale       OPS  \n",
      "1508703              0.0  Cancel       OPS  \n",
      "1508704              0.0    Sale       OPS  \n",
      "1508705              0.0  Return       OPS  \n",
      "1508706              0.0    Sale       OPS  \n",
      "\n",
      "[1508707 rows x 21 columns]\n"
     ]
    }
   ],
   "source": [
    "print(df)"
   ]
  },
  {
   "cell_type": "code",
   "execution_count": 5,
   "id": "53bb9cbb-98ab-44e8-a36c-0cd01331badf",
   "metadata": {},
   "outputs": [],
   "source": [
    "# df1=df.query('BR_CD==8032' or 'BR_CD==8035')\n",
    "df1=df.query(\"(BR_CD==8032) and (description.str.contains('NUBER')) and (description.str.contains('15')) \")"
   ]
  },
  {
   "cell_type": "code",
   "execution_count": 6,
   "id": "299b6dce-651d-4585-8bd8-bdb41e5c74ae",
   "metadata": {},
   "outputs": [],
   "source": [
    "df1=df1.groupby(by=[\"BILL_DT\",\"description\",\"BR_CD\",\"data_flag\",\"reason\"]).sum()[['SOLD_QTY']]"
   ]
  },
  {
   "cell_type": "code",
   "execution_count": 7,
   "id": "d75c55d3-b284-4789-83af-3c363ab3cf9e",
   "metadata": {},
   "outputs": [
    {
     "name": "stdout",
     "output_type": "stream",
     "text": [
      "                                                               SOLD_QTY\n",
      "BILL_DT   description                  BR_CD data_flag reason          \n",
      "01-Jul-22 NUBEROL FORTE TAB 15's (PAK) 8032  OPS       Cancel       -27\n",
      "                                                       Sale          85\n",
      "02-Jul-22 NUBEROL FORTE TAB 15's (PAK) 8032  OPS       Sale          68\n",
      "                                             SD        Sale         135\n",
      "03-Jul-22 NUBEROL FORTE TAB 15's (PAK) 8032  SD        Sale         206\n",
      "04-Jul-22 NUBEROL FORTE TAB 15's (PAK) 8032  SD        Return       -19\n",
      "                                                       Sale         193\n",
      "05-Jul-22 NUBEROL FORTE TAB 15's (PAK) 8032  SD        Return       -26\n",
      "                                                       Sale          56\n",
      "06-Jul-22 NUBEROL FORTE TAB 15's (PAK) 8032  SD        Return       -23\n",
      "                                                       Sale         261\n",
      "07-Jul-22 NUBEROL FORTE TAB 15's (PAK) 8032  SD        Return        -6\n",
      "                                                       Sale         181\n",
      "08-Jul-22 NUBEROL FORTE TAB 15's (PAK) 8032  SD        Return       -27\n",
      "                                                       Sale         121\n",
      "09-Jul-22 NUBEROL FORTE TAB 15's (PAK) 8032  SD        Return       -26\n",
      "                                                       Sale          70\n",
      "13-Jul-22 NUBEROL FORTE TAB 15's (PAK) 8032  SD        Return       -15\n",
      "                                                       Sale          97\n",
      "14-Jul-22 NUBEROL FORTE TAB 15's (PAK) 8032  SD        Return       -26\n",
      "                                                       Sale         135\n",
      "16-Jul-22 NUBEROL FORTE TAB 15's (PAK) 8032  SD        Sale         329\n",
      "17-Jul-22 NUBEROL FORTE TAB 15's (PAK) 8032  SD        Sale         277\n",
      "18-Jul-22 NUBEROL FORTE TAB 15's (PAK) 8032  SD        Return       -23\n",
      "                                                       Sale         416\n",
      "19-Jul-22 NUBEROL FORTE TAB 15's (PAK) 8032  SD        Return      -230\n",
      "                                                       Sale         339\n",
      "20-Jul-22 NUBEROL FORTE TAB 15's (PAK) 8032  SD        Return       -48\n",
      "                                                       Sale         141\n",
      "21-Jul-22 NUBEROL FORTE TAB 15's (PAK) 8032  SD        Return       -28\n",
      "                                                       Sale         181\n",
      "23-Jul-22 NUBEROL FORTE TAB 15's (PAK) 8032  SD        Return        -6\n",
      "                                                       Sale         286\n",
      "24-Jul-22 NUBEROL FORTE TAB 15's (PAK) 8032  SD        Return       -19\n",
      "                                                       Sale         127\n",
      "25-Jul-22 NUBEROL FORTE TAB 15's (PAK) 8032  OPS       Sale         418\n",
      "                                             SD        Return       -11\n",
      "                                                       Sale          86\n",
      "26-Jul-22 NUBEROL FORTE TAB 15's (PAK) 8032  SD        Return       -54\n",
      "                                                       Sale         129\n",
      "27-Jul-22 NUBEROL FORTE TAB 15's (PAK) 8032  SD        Return       -19\n",
      "                                                       Sale         175\n",
      "28-Jul-22 NUBEROL FORTE TAB 15's (PAK) 8032  SD        Return        -1\n",
      "                                                       Sale         117\n",
      "30-Jul-22 NUBEROL FORTE TAB 15's (PAK) 8032  SD        Return       -51\n",
      "                                                       Sale         265\n",
      "31-Jul-22 NUBEROL FORTE TAB 15's (PAK) 8032  OPS       Sale        2850\n",
      "                                             SD        Return       -31\n",
      "                                                       Sale          30\n"
     ]
    }
   ],
   "source": [
    "print(df1)"
   ]
  },
  {
   "cell_type": "code",
   "execution_count": 216,
   "id": "5924e614-c1e2-4160-9a62-64cf521640ed",
   "metadata": {},
   "outputs": [],
   "source": [
    "df1.to_csv('D:\\\\Google Drive - Office\\\\PythonLab\\\\PandasLab\\\\ALL_LOC_SALE_data.csv')"
   ]
  },
  {
   "cell_type": "code",
   "execution_count": null,
   "id": "ca83c36f-66c7-4ee7-ab37-593e458f8e7b",
   "metadata": {},
   "outputs": [],
   "source": []
  }
 ],
 "metadata": {
  "kernelspec": {
   "display_name": "Python 3",
   "language": "python",
   "name": "python3"
  },
  "language_info": {
   "codemirror_mode": {
    "name": "ipython",
    "version": 3
   },
   "file_extension": ".py",
   "mimetype": "text/x-python",
   "name": "python",
   "nbconvert_exporter": "python",
   "pygments_lexer": "ipython3",
   "version": "3.9.6"
  }
 },
 "nbformat": 4,
 "nbformat_minor": 5
}
