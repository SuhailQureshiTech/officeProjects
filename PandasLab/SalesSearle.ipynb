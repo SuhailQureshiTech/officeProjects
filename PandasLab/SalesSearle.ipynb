{
 "cells": [
  {
   "cell_type": "code",
   "execution_count": 112,
   "id": "3dbf1ef0-2434-4adc-8f84-177cb1c25f1c",
   "metadata": {},
   "outputs": [],
   "source": [
    "import pandas as pd\n",
    "import numpy as np\n",
    "# import csv\n",
    "# csv.QUOTE_NONNUMERIC"
   ]
  },
  {
   "cell_type": "code",
   "execution_count": 121,
   "id": "1f96a808-1d15-4b49-b8a4-653516aa0e3a",
   "metadata": {},
   "outputs": [],
   "source": [
    "df=pd.read_csv('D:\\\\Google Drive - Office\\\\PythonLab\\\\PandasLab\\\\ALL_LOC_SALES.csv',sep=\"\\$SPL\\$\",engine='python')\n"
   ]
  },
  {
   "cell_type": "code",
   "execution_count": 123,
   "id": "3b88f8f3-c554-491b-93c5-35bded5a4c5a",
   "metadata": {},
   "outputs": [
    {
     "name": "stdout",
     "output_type": "stream",
     "text": [
      "        BR_CD      BILL_NO    BILL_DT               EBS_CUST          CH_CD  \\\n",
      "0        8025         9681  01-Aug-22  2000187285-2000097480       RETAILOR   \n",
      "1        8042  62207300866  01-Aug-22             2000097205       RETAILER   \n",
      "2        8058       633957  01-Aug-22             2000006573      Franchise   \n",
      "3        8087   1300152071  01-Aug-22             2000163656       Retailer   \n",
      "4        8051        27591  01-Aug-22           2000187354-2       RETAILER   \n",
      "...       ...          ...        ...                    ...            ...   \n",
      "1669138  8029   8302237234  31-Aug-22             2000009530  General Trade   \n",
      "1669139  8046   8302233294  31-Aug-22             2000163843  General Trade   \n",
      "1669140  8049   8302233705  31-Aug-22             2000161130  General Trade   \n",
      "1669141  8049   8302233727  31-Aug-22             2000159914  General Trade   \n",
      "1669142  8046   8302238893  31-Aug-22             2000136812  General Trade   \n",
      "\n",
      "              PROD_CD                                 PROD_NM BATCH_NO  \\\n",
      "0        1.013000e+09        HYDRYLLIN DM SYRUP 120ml's (PAK)            \n",
      "1        1.013000e+09              LAMNET 50MG TAB 30's (PAK)            \n",
      "2        1.013000e+09  CO-EXTOR 5/160/12.5 MG TAB  28'S (PAK)            \n",
      "3        1.013001e+09               MORCET 5MG TAB 14's (PAK)            \n",
      "4        1.013000e+09         METROZINE 400MG TAB 100's (PAK)            \n",
      "...               ...                                     ...      ...   \n",
      "1669138  1.219000e+09                         Ez-Colic 7.5 ML            \n",
      "1669139  1.013000e+09          TRAMAL 100MG SR TAB 10's (PAK)            \n",
      "1669140  1.013000e+09              TRAMAL 50MG CAP 10's (PAK)            \n",
      "1669141  1.013000e+09         EXTOR 10/160 TABLETS 14'S (PAK)            \n",
      "1669142  1.013000e+09           EXTOR 5/80 TABLETS 14'S (PAK)            \n",
      "\n",
      "          PRICE  SOLD_QTY  BON_QTY  DISC_AMT  NET_AMT  GROSS_VALUE  \\\n",
      "0          0.00       2.0      0.0       0.0   122.44       122.44   \n",
      "1          0.00       1.0      0.0       0.0   442.00       442.00   \n",
      "2          0.00       1.0      0.0       0.0   666.15       666.15   \n",
      "3          0.00       2.0      0.0       0.0   335.84       335.84   \n",
      "4          0.00       1.0      0.0       0.0   185.97       185.97   \n",
      "...         ...       ...      ...       ...      ...          ...   \n",
      "1669138  359.58       1.0      0.0       0.0   359.58       359.58   \n",
      "1669139  291.73      10.0      0.0       0.0  2917.30      2917.30   \n",
      "1669140  148.82       4.0      0.0       0.0   595.28       595.28   \n",
      "1669141  420.76       2.0      0.0       0.0   841.52       841.52   \n",
      "1669142  281.36       2.0      0.0       0.0   562.72       562.72   \n",
      "\n",
      "         DISCOUNTED_RATE REASON DATA_FLAG  Unnamed: 17  \n",
      "0                    0.0   Sale        SD          NaN  \n",
      "1                    0.0   Sale        SD          NaN  \n",
      "2                    0.0   Sale        SD          NaN  \n",
      "3                    0.0   Sale        SD          NaN  \n",
      "4                    0.0   Sale        SD          NaN  \n",
      "...                  ...    ...       ...          ...  \n",
      "1669138              0.0   Sale       OPS          NaN  \n",
      "1669139              0.0   Sale       OPS          NaN  \n",
      "1669140              0.0   Sale       OPS          NaN  \n",
      "1669141              0.0   Sale       OPS          NaN  \n",
      "1669142              0.0   Sale       OPS          NaN  \n",
      "\n",
      "[1669143 rows x 18 columns]\n"
     ]
    }
   ],
   "source": [
    "print(df)"
   ]
  },
  {
   "cell_type": "code",
   "execution_count": 116,
   "id": "e98c0dc7-a09a-43ce-b5ad-add6237f02ad",
   "metadata": {},
   "outputs": [
    {
     "name": "stdout",
     "output_type": "stream",
     "text": [
      "<class 'pandas.core.frame.DataFrame'>\n",
      "RangeIndex: 1669143 entries, 0 to 1669142\n",
      "Data columns (total 1 columns):\n",
      " #   Column                                                                                                                                                                                                                   Non-Null Count    Dtype \n",
      "---  ------                                                                                                                                                                                                                   --------------    ----- \n",
      " 0   BR_CD$SPL$BILL_NO$SPL$BILL_DT$SPL$EBS_CUST$SPL$CH_CD$SPL$PROD_CD$SPL$PROD_NM$SPL$BATCH_NO$SPL$PRICE$SPL$SOLD_QTY$SPL$BON_QTY$SPL$DISC_AMT$SPL$NET_AMT$SPL$GROSS_VALUE$SPL$DISCOUNTED_RATE$SPL$REASON$SPL$DATA_FLAG$SPL$  1669143 non-null  object\n",
      "dtypes: object(1)\n",
      "memory usage: 12.7+ MB\n"
     ]
    },
    {
     "data": {
      "text/html": [
       "<div>\n",
       "<style scoped>\n",
       "    .dataframe tbody tr th:only-of-type {\n",
       "        vertical-align: middle;\n",
       "    }\n",
       "\n",
       "    .dataframe tbody tr th {\n",
       "        vertical-align: top;\n",
       "    }\n",
       "\n",
       "    .dataframe thead th {\n",
       "        text-align: right;\n",
       "    }\n",
       "</style>\n",
       "<table border=\"1\" class=\"dataframe\">\n",
       "  <thead>\n",
       "    <tr style=\"text-align: right;\">\n",
       "      <th></th>\n",
       "      <th>BR_CD$SPL$BILL_NO$SPL$BILL_DT$SPL$EBS_CUST$SPL$CH_CD$SPL$PROD_CD$SPL$PROD_NM$SPL$BATCH_NO$SPL$PRICE$SPL$SOLD_QTY$SPL$BON_QTY$SPL$DISC_AMT$SPL$NET_AMT$SPL$GROSS_VALUE$SPL$DISCOUNTED_RATE$SPL$REASON$SPL$DATA_FLAG$SPL$</th>\n",
       "    </tr>\n",
       "  </thead>\n",
       "  <tbody>\n",
       "  </tbody>\n",
       "</table>\n",
       "</div>"
      ],
      "text/plain": [
       "Empty DataFrame\n",
       "Columns: [BR_CD$SPL$BILL_NO$SPL$BILL_DT$SPL$EBS_CUST$SPL$CH_CD$SPL$PROD_CD$SPL$PROD_NM$SPL$BATCH_NO$SPL$PRICE$SPL$SOLD_QTY$SPL$BON_QTY$SPL$DISC_AMT$SPL$NET_AMT$SPL$GROSS_VALUE$SPL$DISCOUNTED_RATE$SPL$REASON$SPL$DATA_FLAG$SPL$]\n",
       "Index: []"
      ]
     },
     "execution_count": 116,
     "metadata": {},
     "output_type": "execute_result"
    }
   ],
   "source": [
    "df.info()\n",
    "df[:0]"
   ]
  },
  {
   "cell_type": "code",
   "execution_count": null,
   "id": "533574cb-f380-4eea-a5d6-ed8e0450a1fd",
   "metadata": {},
   "outputs": [],
   "source": [
    "# df['BR_CD 𝑆𝑃𝐿 BILL_NO 𝑆𝑃𝐿 BILL_DT 𝑆𝑃𝐿 EBS_CUST 𝑆𝑃𝐿 CH_CD 𝑆𝑃𝐿 PROD_CD 𝑆𝑃𝐿 PROD_NM 𝑆𝑃𝐿 BATCH_NO 𝑆𝑃𝐿 PRICE 𝑆𝑃𝐿 SOLD_QTY 𝑆𝑃𝐿 BON_QTY 𝑆𝑃𝐿 DISC_AMT 𝑆𝑃𝐿 NET_AMT 𝑆𝑃𝐿 GROSS_VALUE 𝑆𝑃𝐿 DISCOUNTED_RATE 𝑆𝑃𝐿 REASON 𝑆𝑃𝐿 DATA_FLAG 𝑆𝑃𝐿']"
   ]
  },
  {
   "cell_type": "code",
   "execution_count": null,
   "id": "8235da4c-84ce-4423-ac50-2d6da0b4028d",
   "metadata": {},
   "outputs": [],
   "source": [
    "df=df[:2]\n",
    "print(df.ro  .str.split('$SPL$'))"
   ]
  },
  {
   "cell_type": "code",
   "execution_count": null,
   "id": "48de44c8-0697-4e21-b406-c3db4419faab",
   "metadata": {},
   "outputs": [],
   "source": [
    "df.columns = df.columns.str.strip()"
   ]
  },
  {
   "cell_type": "code",
   "execution_count": null,
   "id": "b4fbf2ab-740d-4580-a5ac-4192322f9364",
   "metadata": {},
   "outputs": [],
   "source": [
    "df.info()"
   ]
  },
  {
   "cell_type": "code",
   "execution_count": null,
   "id": "b24a3c8e-1acd-46ec-b980-868baccc59be",
   "metadata": {},
   "outputs": [],
   "source": [
    "L=[]\n",
    "\n",
    "for i, row in df.iterrows():\n",
    "#     print(i,row)\n",
    "#     s=(row.str)\n",
    "    L.append(row.str.split('$SPL$',''))\n",
    "\n",
    "print(L)"
   ]
  },
  {
   "cell_type": "code",
   "execution_count": null,
   "id": "23dfdaf2-09a8-4323-95ba-6654c1837f04",
   "metadata": {},
   "outputs": [],
   "source": [
    "x = df.to_string(header=False,\n",
    "                  index=False,\n",
    "                  index_names=False).split('$SPL$')\n",
    "vals = [','.join(ele.split()) for ele in x]\n",
    "print('vals type : ',type(vals))\n",
    "print(vals)\n",
    "df1 = pd.DataFrame(vals)\n",
    "df.reset_index(inplace=False)\n",
    "df1.to_csv('D:\\\\Google Drive - Office\\\\PythonLab\\\\PandasLab\\\\mango.csv')\n",
    "print(type(df1))\n"
   ]
  },
  {
   "cell_type": "code",
   "execution_count": null,
   "id": "6ab9867d-909c-4e67-aea9-7380077487fc",
   "metadata": {},
   "outputs": [],
   "source": [
    "df=df.replace('\\$','',regex=True).astype(str)\n",
    "df=df.replace('SPL',',',regex=True).astype(str)\n",
    "df.columns =['BR_CD,BILL_NO,BILL_DT,EBS_CUST,CH_CD,PROD_CD,PROD_NM,BATCH_NO,PRICE,SOLD_QTY,BON_QTY,DISC_AMT,NET_AMT,GROSS_VALUE,DISCOUNTED_RATE,REASON,DATA_FLAG']"
   ]
  },
  {
   "cell_type": "code",
   "execution_count": null,
   "id": "80926c01-708b-44eb-939c-11dc6af2c3ed",
   "metadata": {},
   "outputs": [],
   "source": [
    "df1=df[['BR_CD']"
   ]
  },
  {
   "cell_type": "code",
   "execution_count": null,
   "id": "e49cfca0-d7a4-4ce2-a20d-1f6ebd817387",
   "metadata": {},
   "outputs": [],
   "source": [
    "print(df.columns)"
   ]
  },
  {
   "cell_type": "code",
   "execution_count": null,
   "id": "c3c662a2-e54d-4821-b98e-17b4a9972819",
   "metadata": {},
   "outputs": [],
   "source": [
    "print(df.info())"
   ]
  },
  {
   "cell_type": "code",
   "execution_count": null,
   "id": "564b1cdd-1e57-4aea-8bb6-ae7deecbd5e4",
   "metadata": {},
   "outputs": [],
   "source": [
    "print(df1)"
   ]
  },
  {
   "cell_type": "code",
   "execution_count": null,
   "id": "b4f07056-aabc-407a-8408-6d85c72c0447",
   "metadata": {},
   "outputs": [],
   "source": [
    "print(df[['BR_CD,BILL_NO,BILL_DT,EBS_CUST,CH_CD,PROD_CD,PROD_NM,BATCH_NO,PRICE,SOLD_QTY,BON_QTY,DISC_AMT,NET_AMT,GROSS_VALUE,DISCOUNTED_RATE,REASON,DATA_FLAG']])"
   ]
  },
  {
   "cell_type": "code",
   "execution_count": null,
   "id": "995fa6f3-999a-499c-8568-57f0e331d724",
   "metadata": {},
   "outputs": [],
   "source": [
    "df.to_csv('D:\\\\Google Drive - Office\\\\PythonLab\\\\PandasLab\\\\chiko.csv',index=False)"
   ]
  },
  {
   "cell_type": "code",
   "execution_count": null,
   "id": "e238becb-ba1f-42a9-956c-f3d77fcea080",
   "metadata": {},
   "outputs": [],
   "source": [
    "print(df.columns)"
   ]
  },
  {
   "cell_type": "code",
   "execution_count": null,
   "id": "42bc71c2-7c5c-408f-b328-fac6b56dcaaa",
   "metadata": {},
   "outputs": [],
   "source": [
    "# print(df.groupby(by=[\"PROD_NM\"]).sum())"
   ]
  },
  {
   "cell_type": "code",
   "execution_count": null,
   "id": "598544a0-6983-40cd-a243-6ce2b2445df2",
   "metadata": {},
   "outputs": [],
   "source": []
  }
 ],
 "metadata": {
  "kernelspec": {
   "display_name": "Python 3",
   "language": "python",
   "name": "python3"
  },
  "language_info": {
   "codemirror_mode": {
    "name": "ipython",
    "version": 3
   },
   "file_extension": ".py",
   "mimetype": "text/x-python",
   "name": "python",
   "nbconvert_exporter": "python",
   "pygments_lexer": "ipython3",
   "version": "3.9.6"
  }
 },
 "nbformat": 4,
 "nbformat_minor": 5
}
