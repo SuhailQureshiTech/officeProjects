{
 "cells": [
  {
   "cell_type": "code",
   "execution_count": null,
   "id": "952929a0-9e14-450c-9d84-ffde985006b8",
   "metadata": {},
   "outputs": [],
   "source": []
  }
 ],
 "metadata": {
  "kernelspec": {
   "display_name": "Python 3",
   "language": "python",
   "name": "python3"
  },
  "language_info": {
   "name": ""
  }
 },
 "nbformat": 4,
 "nbformat_minor": 5
}
