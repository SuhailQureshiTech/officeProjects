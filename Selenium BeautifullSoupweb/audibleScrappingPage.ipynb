{
 "cells": [
  {
   "cell_type": "code",
   "execution_count": null,
   "id": "fc45834a",
   "metadata": {},
   "outputs": [],
   "source": [
    "#review package and module\n",
    "from selenium import webdriver\n",
    "\n",
    "from selenium.webdriver.common.keys import Keys\n",
    "from selenium.webdriver.common.by import By\n",
    "from selenium.webdriver.chrome.options import Options\n",
    "\n",
    "# webdriver manager\n",
    "from webdriver_manager.chrome import ChromeDriverManager\n",
    "from selenium.webdriver.chrome.service import Service\n",
    "\n",
    "# # import chromedriver_autoinstaller\n",
    "\n",
    "from selenium.common.exceptions import NoSuchElementException, NoSuchFrameException, StaleElementReferenceException\n",
    "import pandas as pd\n",
    "import os\n",
    "import time"
   ]
  },
  {
   "cell_type": "code",
   "execution_count": null,
   "id": "5ad2a88a",
   "metadata": {},
   "outputs": [],
   "source": [
    "book_title=[]\n",
    "book_author=[]\n",
    "book_length=[]\n",
    "container=None\n",
    "prod=None"
   ]
  },
  {
   "cell_type": "code",
   "execution_count": null,
   "id": "984aa591",
   "metadata": {},
   "outputs": [],
   "source": [
    "driver = webdriver.Chrome(service=Service(ChromeDriverManager().install()))\n",
    "\n",
    "web = 'https://www.audible.com/search'\n",
    "driver.get(web)"
   ]
  },
  {
   "cell_type": "code",
   "execution_count": null,
   "id": "feb0b708",
   "metadata": {},
   "outputs": [],
   "source": [
    "container=driver.find_element(by=By.CLASS_NAME, value='adbl-impression-container ')\n",
    "print('Container : ',container.text)"
   ]
  },
  {
   "cell_type": "code",
   "execution_count": null,
   "id": "33746a94",
   "metadata": {},
   "outputs": [],
   "source": [
    "vproducts=container.find_elements(by=By.XPATH,value='.//li')\n"
   ]
  },
  {
   "cell_type": "code",
   "execution_count": null,
   "id": "d3977767",
   "metadata": {},
   "outputs": [],
   "source": [
    "print(vproducts)"
   ]
  },
  {
   "cell_type": "code",
   "execution_count": null,
   "id": "d6e4b7af",
   "metadata": {},
   "outputs": [],
   "source": [
    "len(products)\n"
   ]
  },
  {
   "cell_type": "code",
   "execution_count": null,
   "id": "454509a9",
   "metadata": {},
   "outputs": [],
   "source": [
    "global prod\n",
    "prod=None\n",
    "for prod in products:\n",
    "#     prod.find_element_by_xpath('//h3[contains(@class,\"bc-heading\")]').text\n",
    "#     prod.find_elements\n",
    "    a=prod.find_element(by=By.XPATH,value='.//h3[contains(@class,\"bc-heading\")]').get_attribute('text')\n",
    "    print(a)\n",
    "    "
   ]
  },
  {
   "cell_type": "code",
   "execution_count": null,
   "id": "2db2665c",
   "metadata": {},
   "outputs": [],
   "source": [
    "# book_title=[]\n",
    "# book_author=[]\n",
    "# book_length=[]\n",
    "\n",
    "global book_title,book_author,book_length\n",
    "\n",
    "book_title=[]\n",
    "book_author=[]\n",
    "book_length=[]\n",
    "\n",
    "\n",
    "booktitle=driver.find_elements(by=By.XPATH,value='.//h3[contains(@class,\"bc-heading\")]//a')\n",
    "bookauthor=driver.find_elements(by=By.XPATH,value='.//li[contains(@class,\"authorLabel\")]//a')\n",
    "# booklength=driver.find_elements(by=By.XPATH,value='.//li[contains(@class,\"runtimeLabel\")]/span')\n",
    "\n",
    "\n",
    "for vbooktitle in booktitle:\n",
    "    book_title.append(vbooktitle.get_attribute('text'))\n",
    "#     print(vbooktitle.get_attribute('text'))\n",
    "\n",
    "for vauthor in bookauthor:\n",
    "    book_author.append(vauthor.get_attribute('text'))\n",
    "#     print(vauthor.get_attribute('text'))\n",
    "\n",
    "# for vbooklength in booklength:\n",
    "#     book_length.append(vbooklength.text)\n",
    "#     print(vbooklength.text)\n",
    "\n",
    "print('book author ',len(book_author))   \n",
    "print('book title ',len(book_title))   \n",
    "    \n",
    "# driver.quit()    \n",
    "    "
   ]
  },
  {
   "cell_type": "code",
   "execution_count": null,
   "id": "81700f19",
   "metadata": {},
   "outputs": [],
   "source": [
    "driver.quit()"
   ]
  },
  {
   "cell_type": "code",
   "execution_count": null,
   "id": "6028f240",
   "metadata": {},
   "outputs": [],
   "source": [
    "len(book_author)"
   ]
  },
  {
   "cell_type": "code",
   "execution_count": null,
   "id": "11030998",
   "metadata": {},
   "outputs": [],
   "source": [
    "pd.DataFrame({'book_title':book_title,'author':book_author,'Book_Length':book_length})"
   ]
  },
  {
   "cell_type": "code",
   "execution_count": null,
   "id": "7aee3059",
   "metadata": {},
   "outputs": [],
   "source": []
  }
 ],
 "metadata": {
  "kernelspec": {
   "display_name": "Python 3",
   "language": "python",
   "name": "python3"
  },
  "language_info": {
   "codemirror_mode": {
    "name": "ipython",
    "version": 3
   },
   "file_extension": ".py",
   "mimetype": "text/x-python",
   "name": "python",
   "nbconvert_exporter": "python",
   "pygments_lexer": "ipython3",
   "version": "3.9.6"
  }
 },
 "nbformat": 4,
 "nbformat_minor": 5
}
