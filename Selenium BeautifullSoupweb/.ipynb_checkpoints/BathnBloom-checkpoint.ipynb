{
 "cells": [
  {
   "cell_type": "code",
   "execution_count": null,
   "id": "00b8c6ab",
   "metadata": {},
   "outputs": [],
   "source": [
    "#review package and module\n",
    "from selenium import webdriver\n",
    "from selenium.webdriver.common.keys import Keys\n",
    "from selenium.webdriver.common.by import By\n",
    "from selenium.webdriver.chrome.options import Options\n",
    "from webdriver_manager.chrome import ChromeDriverManager\n",
    "# import chromedriver_autoinstaller\n",
    "from selenium.webdriver.chrome.service import Service\n",
    "from selenium.common.exceptions import NoSuchElementException,NoSuchFrameException,StaleElementReferenceException\n",
    "import pandas as pd\n",
    "import os\n",
    "import time"
   ]
  },
  {
   "cell_type": "code",
   "execution_count": null,
   "id": "6eaaeecf",
   "metadata": {},
   "outputs": [],
   "source": [
    "productNames=[]\n",
    "productPrice=[]\n",
    "subCategory=[]"
   ]
  },
  {
   "cell_type": "code",
   "execution_count": null,
   "id": "95c49dc9",
   "metadata": {},
   "outputs": [],
   "source": [
    "#relevant website\n",
    "website_1='https://www.bathnbloom.com/store/c35/AllProducts'"
   ]
  },
  {
   "cell_type": "code",
   "execution_count": null,
   "id": "06ad32d6",
   "metadata": {},
   "outputs": [],
   "source": [
    "driver = webdriver.Chrome(service=Service(ChromeDriverManager().install()))\n",
    "#open website\n",
    "driver.get(website_1)\n",
    "# driver.maximize_window()"
   ]
  },
  {
   "cell_type": "code",
   "execution_count": null,
   "id": "d0bf190a",
   "metadata": {},
   "outputs": [],
   "source": [
    "class _scrpWeb:\n",
    "    def __init__(self,website):\n",
    "        self.website=website\n",
    "        driver = webdriver.Chrome(service=Service(ChromeDriverManager().install()))\n",
    "        \n",
    "        #open website\n",
    "        driver.get(website)\n",
    "        global productNames,productPrice  \n",
    "        productNames=driver.find_elements(by=By.XPATH, value=('//div[@id=\"wsite-com-product-list\" ]//div[@class=\"wsite-com-category-product-name wsite-com-link-text\"][1]'))\n",
    "        productPrice=driver.find_elements(by=By.XPATH, value=('//div[@id=\"wsite-com-product-list\" ]//div[@class=\"wsite-com-price  wsite-com-category-product-featured-price\"][1]'))\n",
    "\n",
    "#         while True:\n",
    "#             try:        \n",
    "#                 btn=driver.find_element(by=By.LINK_TEXT,value=('SHOW MORE'))\n",
    "#                 btn.click()  \n",
    "#                 btn=None\n",
    "#             except NoSuchElementException:\n",
    "#                 break\n",
    "#             finally:\n",
    "#                 productNames=driver.find_elements(by=By.XPATH, value=('//div[@class=\"card-information__wrapper text-left\"]//span[@class=\"text\"][1]'))\n",
    "#                 productPrice=driver.find_elements(by=By.XPATH, value=('//dd[@class=\"price__last\"]//span[@class=\"price-item price-item--regular\"][1]'))\n",
    "#                 time.sleep(100)\n"
   ]
  },
  {
   "cell_type": "code",
   "execution_count": null,
   "id": "94ca366a",
   "metadata": {},
   "outputs": [],
   "source": [
    "subCategoryData=driver.find_elements(by=By.XPATH,value=('//div[@class=\"wsite-section-content\" ]//div[@class=\"container\"]//a[@href]'))"
   ]
  },
  {
   "cell_type": "code",
   "execution_count": null,
   "id": "feb691b2",
   "metadata": {},
   "outputs": [],
   "source": [
    "len(subCategoryData)"
   ]
  },
  {
   "cell_type": "code",
   "execution_count": null,
   "id": "7b40cd4a",
   "metadata": {},
   "outputs": [],
   "source": [
    "global subCategory\n",
    "for subCat in subCategoryData:\n",
    "#     print(subCat.get_attribute(\"href\"))\n",
    "    subCategory.append(subCat.get_attribute(\"href\"))"
   ]
  },
  {
   "cell_type": "code",
   "execution_count": 15,
   "id": "4665ed07",
   "metadata": {},
   "outputs": [
    {
     "name": "stdout",
     "output_type": "stream",
     "text": [
      "https://www.bathnbloom.com/store/c35/AllProducts\n",
      "https://www.bathnbloom.com/store/c8/bathandbody\n",
      "https://www.bathnbloom.com/store/c2/ShowerGelandCream\n",
      "https://www.bathnbloom.com/store/c4/Bodyscrub\n",
      "https://www.bathnbloom.com/store/c3/BodyLotion\n",
      "https://www.bathnbloom.com/store/c5/Bodymist\n",
      "https://www.bathnbloom.com/store/c7/Spa_N_Aromatherapy.html\n",
      "https://www.bathnbloom.com/store/c10/Essential_Oil.html\n",
      "https://www.bathnbloom.com/store/c14/Aroma_Oil.html\n",
      "https://www.bathnbloom.com/store/c28/Oil_Warmers_N_Mist_Diffusers.html\n",
      "https://www.bathnbloom.com/store/c12/Massage_Oil.html\n",
      "https://www.bathnbloom.com/store/c15/Room_Essence.html\n",
      "https://www.bathnbloom.com/store/c21/Reeds_Diffusers.html\n",
      "https://www.bathnbloom.com/store/c23/En_Toute_Saison_Diffusers.html\n",
      "https://www.bathnbloom.com/store/c26/En_Toute_Saison_Diffuser_Oil_Refill.html\n",
      "https://www.bathnbloom.com/store/c22/Flowery_Diffusers.html\n",
      "https://www.bathnbloom.com/store/c27/Flowery_Diffuser_Oil_Refill.html\n",
      "https://www.bathnbloom.com/store/c9/Soap_N_Sanitizers.html\n",
      "https://www.bathnbloom.com/store/c11/Hand_Cream.html\n",
      "https://www.bathnbloom.com/store/c24/Natural_Soap.html\n",
      "https://www.bathnbloom.com/store/c17/Heavenly_Gifts.html\n",
      "https://www.bathnbloom.com/store/c20/Giftsets\n",
      "https://www.bathnbloom.com/store/c18/En_Toute_Saison_Scented_Sachet.html\n",
      "https://www.bathnbloom.com/store/c30/AWalkintheRoseYardCollection\n",
      "https://www.bathnbloom.com/store/c31/MangoTangerineCollection\n",
      "https://www.bathnbloom.com/store/c32/VirginCoconutCollection\n",
      "https://www.bathnbloom.com/store/c33/ThaiJasmineCollection\n",
      "https://www.bathnbloom.com/store/c34/LemongrassMintCollection\n",
      "https://www.facebook.com/bathnbloomsingapore/\n",
      "https://twitter.com/BathNBloomSGP\n",
      "https://instagram.com/bathnbloomsingapore\n",
      "https://www.bathnbloom.com/store/p48/RoseShowerBodyWash.html\n",
      "https://www.bathnbloom.com/store/p50/RoseBodyLotion.html\n",
      "https://www.bathnbloom.com/store/p52/RoseHandCream.html\n",
      "https://www.bathnbloom.com/store/p51/RoseBodyGelScrub.html\n",
      "https://www.bathnbloom.com/store/p53/RoseMassageOil.html\n",
      "https://www.bathnbloom.com/store/p185/SimplyRoseYardNourishingSet.html\n",
      "https://www.bathnbloom.com/store/p186/SimplyPureNourishingSet.html\n",
      "https://www.bathnbloom.com/store/p1/LemongrassMintShowerGel.html\n",
      "https://www.bathnbloom.com/store/p16/LemongrassMintBodyLotion.html\n",
      "https://www.bathnbloom.com/store/p15/LemongrassMintHandCream.html\n",
      "https://www.bathnbloom.com/store/p21/LemongrassBodyScrub.html\n",
      "https://www.bathnbloom.com/store/p37/LemongrassMintMassageOil.html\n",
      "https://www.bathnbloom.com/store/p2/ThaiJasmineShowerGel.html\n",
      "https://www.bathnbloom.com/store/p4/ThaiJasminebodylotion.html\n",
      "https://www.bathnbloom.com/store/p6/ThaiJasmineHandCream.html\n",
      "https://www.bathnbloom.com/store/p5/ThaiJasmineBodyScrub.html\n",
      "https://www.bathnbloom.com/store/p3/ThaiJasmineMassageOil.html\n",
      "https://www.bathnbloom.com/store/p30/VirginCoconutBodyWash.html\n",
      "https://www.bathnbloom.com/store/p147/VirginCoconutBodyLotion.html\n",
      "https://www.bathnbloom.com/store/p29/VirginCoconutMassageOil.html\n",
      "https://www.bathnbloom.com/store/p38/VirginCoconutOrganicOil.html\n",
      "https://www.bathnbloom.com/store/p191/CoconutAloeVeraGel.html\n",
      "https://www.bathnbloom.com/store/p35/VirginCoconutHandCream.html\n",
      "https://www.bathnbloom.com/store/p33/VirginCoconutBodyScrub.html\n",
      "https://www.bathnbloom.com/store/p184/potpourri.html\n",
      "https://www.bathnbloom.com/store/p189/4SOAPHERBALSET.html\n",
      "https://www.bathnbloom.com/store/p187/4SOAPCAFESET.html\n",
      "https://www.bathnbloom.com/store/p188/4SOAPFLOWERSET.html\n",
      "https://www.bathnbloom.com/store/p71/JanvierReed100.html\n",
      "https://www.bathnbloom.com/store/p70/FevrierReed100.html\n",
      "https://www.bathnbloom.com/store/p72/MarsReed100.html\n",
      "https://www.bathnbloom.com/store/p73/AvrilReed100.html\n",
      "https://www.bathnbloom.com/store/p74/MaiReed100.html\n",
      "https://www.bathnbloom.com/store/p75/JuinReed100.html\n",
      "https://www.bathnbloom.com/store/p76/JuilletReed100.html\n",
      "https://www.bathnbloom.com/store/p77/AoutReed100.html\n"
     ]
    }
   ],
   "source": [
    "for s in range(0, len(subCategory)):\n",
    "    print(subCategory[s])"
   ]
  },
  {
   "cell_type": "code",
   "execution_count": 18,
   "id": "a1f78444",
   "metadata": {},
   "outputs": [],
   "source": [
    "subCategory=[\n",
    "'https://www.bathnbloom.com/store/c8/bathandbody'\n",
    "]\n",
    "\n",
    "for subCat in range(0,len(subCategory)):\n",
    "#     print('list data : ',listData[category])\n",
    "\n",
    "    webPage=subCategory[subCat]\n",
    "#     print('web : ',webPage)\n",
    "    category=webPage.replace('https://www.bathnbloom.com/store/c8/','')\n",
    "#     print(category)\n",
    "    a=_scrpWeb(webPage)\n",
    "\n",
    "    # creating DataFrame\n",
    "    product_list=[]\n",
    "    for p in productNames:\n",
    "        product_list.append(p.text)\n",
    "    #     print(p.text)\n",
    "\n",
    "    product_price=[]\n",
    "    for pr in productPrice:\n",
    "        product_price.append(pr.text)\n",
    "    #     print(pr.text)\n",
    "\n",
    "    productsDict={'Product':product_list,'Product_Price':product_price}\n",
    "    df=pd.DataFrame.from_dict(productsDict)\n",
    "    df['Product_Price']=df['Product_Price'].apply(lambda x: x.replace('Rs.',''))\n",
    "    df['Product_Price']=df['Product_Price'].apply(lambda x: x.replace(',',''))\n",
    "\n",
    "    df.insert(loc=0,column='Category',value=category)\n",
    "#     df\n",
    "#     checkFolder('webscrapping')\n",
    "    df.to_csv(f'c://WebScrapping1/{category}.csv',index=False)\n",
    "#     driver.close()"
   ]
  },
  {
   "cell_type": "code",
   "execution_count": null,
   "id": "a44a5726",
   "metadata": {},
   "outputs": [],
   "source": []
  },
  {
   "cell_type": "markdown",
   "id": "9b335f47",
   "metadata": {},
   "source": [
    "# End"
   ]
  },
  {
   "cell_type": "code",
   "execution_count": null,
   "id": "a45041b3",
   "metadata": {},
   "outputs": [],
   "source": []
  },
  {
   "cell_type": "code",
   "execution_count": null,
   "id": "7347cbe4",
   "metadata": {},
   "outputs": [],
   "source": [
    "driver.quit()"
   ]
  },
  {
   "cell_type": "code",
   "execution_count": null,
   "id": "1ff46a93",
   "metadata": {},
   "outputs": [],
   "source": [
    "global productNames,productNames  \n",
    "while True:\n",
    "#     productNames=[]\n",
    "#     productNames=[]\n",
    "    btn=None\n",
    "    try:        \n",
    "#                 btn=None\n",
    "        btn=driver.find_element(by=By.LINK_TEXT,value=('SHOW MORE'))\n",
    "        btn.click()                \n",
    "    except NoSuchElementException:\n",
    "        break;\n",
    "    finally:\n",
    "#                 productNames=driver.find_elements(by=By.XPATH, value=('//div[@class=\"card-information__wrapper text-left\"]//span[@class=\"text\"][1]'))\n",
    "        productPrice=driver.find_elements(by=By.XPATH, value=('//dd[@class=\"price__last\"]//span[@class=\"price-item price-item--regular\"][1]'))\n",
    "        time.sleep(10)"
   ]
  },
  {
   "cell_type": "code",
   "execution_count": null,
   "id": "9d8d78eb",
   "metadata": {},
   "outputs": [],
   "source": [
    "print(len(productPrice))"
   ]
  },
  {
   "cell_type": "code",
   "execution_count": null,
   "id": "13af2ded",
   "metadata": {},
   "outputs": [],
   "source": [
    "# driver.refresh()\n",
    "# price=driver.find_elements(by=By.XPATH, value=('//dd[@class=\"price__last\"]//span[@class=\"price-item price-item--regular\"][1]'))\n",
    "for p in productPrice:\n",
    "    print(p.text)"
   ]
  },
  {
   "cell_type": "code",
   "execution_count": null,
   "id": "f68ba06d",
   "metadata": {},
   "outputs": [],
   "source": [
    "#relevant website\n",
    "website_1='https://springs.com.pk/collections/chocolates'"
   ]
  },
  {
   "cell_type": "code",
   "execution_count": null,
   "id": "f36a706b",
   "metadata": {},
   "outputs": [],
   "source": [
    "print()"
   ]
  },
  {
   "cell_type": "code",
   "execution_count": null,
   "id": "1dc123c7",
   "metadata": {},
   "outputs": [],
   "source": [
    "productNames=driver.find_elements(by=By.XPATH, value=('//div[@class=\"card-information__wrapper text-left\"]//span[@class=\"text\"][1]'))"
   ]
  },
  {
   "cell_type": "code",
   "execution_count": null,
   "id": "a691b8cb",
   "metadata": {},
   "outputs": [],
   "source": [
    "len(productNames)"
   ]
  },
  {
   "cell_type": "code",
   "execution_count": null,
   "id": "ad5585b2",
   "metadata": {},
   "outputs": [],
   "source": [
    "for prodcuts in productNames:\n",
    "    print(prodcuts.text)"
   ]
  },
  {
   "cell_type": "code",
   "execution_count": null,
   "id": "232d6481",
   "metadata": {},
   "outputs": [],
   "source": [
    "hrefLinks=driver.find_elements(by=By.XPATH,value=('//div[@class=\"pagination-page-item pagination-page-infinite\"]/a'))"
   ]
  },
  {
   "cell_type": "code",
   "execution_count": null,
   "id": "52643a8d",
   "metadata": {},
   "outputs": [],
   "source": [
    "for href in hrefLinks:\n",
    "    print(href.text)"
   ]
  },
  {
   "cell_type": "code",
   "execution_count": null,
   "id": "fabbea66",
   "metadata": {},
   "outputs": [],
   "source": [
    "btn=driver.find_element(by=By.LINK_TEXT,value=('SHOW MORE'))"
   ]
  },
  {
   "cell_type": "code",
   "execution_count": null,
   "id": "9ffef4e3",
   "metadata": {},
   "outputs": [],
   "source": [
    "# for b in btn:\n",
    "#     print(b.text)\n",
    "btn.text"
   ]
  },
  {
   "cell_type": "code",
   "execution_count": null,
   "id": "c655be2a",
   "metadata": {},
   "outputs": [],
   "source": [
    "btn=driver.find_element(by=By.LINK_TEXT,value=('SHOW MORE'))\n",
    "btn.click()"
   ]
  },
  {
   "cell_type": "code",
   "execution_count": null,
   "id": "4eeb94be",
   "metadata": {},
   "outputs": [],
   "source": [
    "while True:\n",
    "    productNames=[]\n",
    "    btn=None\n",
    "    try:        \n",
    "        btn=driver.find_element(by=By.LINK_TEXT,value=('SHOW MORE'))\n",
    "        btn.click()\n",
    "        btn=None\n",
    "    except NoSuchElementException:\n",
    "        break\n",
    "    finally:\n",
    "        productNames=driver.find_elements(by=By.XPATH, value=('//div[@class=\"card-information__wrapper text-left\"]//span[@class=\"text\"][1]'))\n",
    "        time.sleep(10)\n",
    "        \n",
    "\n"
   ]
  },
  {
   "cell_type": "code",
   "execution_count": null,
   "id": "3b9d8420",
   "metadata": {},
   "outputs": [],
   "source": [
    "print(btn.text)"
   ]
  },
  {
   "cell_type": "code",
   "execution_count": null,
   "id": "67d542f1",
   "metadata": {},
   "outputs": [],
   "source": [
    "print(len(productNames))"
   ]
  },
  {
   "cell_type": "code",
   "execution_count": null,
   "id": "58fbd73a",
   "metadata": {},
   "outputs": [],
   "source": [
    "for prodcuts in productNames:\n",
    "    print(prodcuts.text)"
   ]
  },
  {
   "cell_type": "code",
   "execution_count": null,
   "id": "1c6144ab",
   "metadata": {},
   "outputs": [],
   "source": [
    "productPrice=driver.find_elements(by=By.XPATH, value=('//dd[@class=\"price__last\"]//span[@class=\"price-item price-item--regular\"][1]'))"
   ]
  },
  {
   "cell_type": "code",
   "execution_count": null,
   "id": "8a0be00f",
   "metadata": {},
   "outputs": [],
   "source": [
    "driver.close()"
   ]
  },
  {
   "cell_type": "code",
   "execution_count": null,
   "id": "c6279339",
   "metadata": {},
   "outputs": [],
   "source": [
    "print(len(pro))"
   ]
  },
  {
   "cell_type": "markdown",
   "id": "d9918894",
   "metadata": {},
   "source": [
    "# sub category"
   ]
  },
  {
   "cell_type": "code",
   "execution_count": null,
   "id": "6f1c6b32",
   "metadata": {},
   "outputs": [],
   "source": [
    "subCategoryData=driver.find_elements(by=By.XPATH,value=('//li[@class=\"menu-lv-item menu-lv-3 text-left\"]//a[@href]'))\n"
   ]
  },
  {
   "cell_type": "code",
   "execution_count": null,
   "id": "e5e6bd25",
   "metadata": {},
   "outputs": [],
   "source": [
    "len(subCategoryData)"
   ]
  },
  {
   "cell_type": "code",
   "execution_count": null,
   "id": "fff4a109",
   "metadata": {},
   "outputs": [],
   "source": [
    "global subCategory\n",
    "for subCat in subCategoryData:\n",
    "#     print(subCat.get_attribute(\"href\"))\n",
    "    subCategory.append(subCat.get_attribute(\"href\"))\n",
    "\n"
   ]
  },
  {
   "cell_type": "code",
   "execution_count": null,
   "id": "f5564b89",
   "metadata": {},
   "outputs": [],
   "source": [
    "print(subCategory)"
   ]
  },
  {
   "cell_type": "code",
   "execution_count": null,
   "id": "09c794f9",
   "metadata": {},
   "outputs": [],
   "source": [
    "for s in range(0, len(subCategory)):\n",
    "    print(subCategory[s])"
   ]
  },
  {
   "cell_type": "code",
   "execution_count": null,
   "id": "e00e8da3",
   "metadata": {},
   "outputs": [],
   "source": [
    "driver.close()"
   ]
  },
  {
   "cell_type": "markdown",
   "id": "df93451a",
   "metadata": {},
   "source": [
    "# check if folder exists if not create"
   ]
  },
  {
   "cell_type": "code",
   "execution_count": null,
   "id": "860e9f60",
   "metadata": {},
   "outputs": [],
   "source": [
    "def checkFolder(folder):\n",
    "#     folder=tfolder\n",
    "    isExists=os.path.exists(f'c://{folder}')\n",
    "    if not isExists:\n",
    "        os.mkdir(f'c://{folder}')\n",
    "    "
   ]
  },
  {
   "cell_type": "code",
   "execution_count": null,
   "id": "3b5cf28a",
   "metadata": {},
   "outputs": [],
   "source": [
    "checkFolder('webscrapping')"
   ]
  },
  {
   "cell_type": "markdown",
   "id": "78ba84ea",
   "metadata": {},
   "source": [
    "# class"
   ]
  },
  {
   "cell_type": "code",
   "execution_count": null,
   "id": "3f1a1692",
   "metadata": {},
   "outputs": [],
   "source": [
    "class _scrpWeb:\n",
    "    def __init__(self,website):\n",
    "        self.website=website\n",
    "        driver = webdriver.Chrome(service=Service(ChromeDriverManager().install()))\n",
    "        \n",
    "        #open website\n",
    "        driver.get(website)\n",
    "#         driver.maximize_window()\n",
    "#         global productNames\n",
    "#         driver.refresh()\n",
    "        global productNames,productPrice  \n",
    "        while True:\n",
    "#             productNames=[]\n",
    "#             productPrice=[]\n",
    "#             btn=None\n",
    "            try:        \n",
    "#                 btn=None\n",
    "                btn=driver.find_element(by=By.LINK_TEXT,value=('SHOW MORE'))\n",
    "                btn.click()  \n",
    "                btn=None\n",
    "            except NoSuchElementException:\n",
    "                break\n",
    "            finally:\n",
    "                productNames=driver.find_elements(by=By.XPATH, value=('//div[@class=\"card-information__wrapper text-left\"]//span[@class=\"text\"][1]'))\n",
    "                productPrice=driver.find_elements(by=By.XPATH, value=('//dd[@class=\"price__last\"]//span[@class=\"price-item price-item--regular\"][1]'))\n",
    "                time.sleep(100)\n",
    "#                 btn=None\n",
    "\n",
    "\n"
   ]
  },
  {
   "cell_type": "code",
   "execution_count": null,
   "id": "57a4df7e",
   "metadata": {},
   "outputs": [],
   "source": [
    "# Extracting...."
   ]
  },
  {
   "cell_type": "code",
   "execution_count": null,
   "id": "743f6baf",
   "metadata": {},
   "outputs": [],
   "source": [
    "\n",
    "webPage='https://springs.com.pk/collections/jam-honey-spreads'\n",
    "category=webPage.replace('https://springs.com.pk/collections/','')\n",
    "a=_scrpWeb(webPage)\n",
    "\n",
    "# driver.close()\n",
    "\n",
    "# creating DataFrame\n",
    "product_list=[]\n",
    "for p in productNames:\n",
    "        product_list.append(p.text)\n",
    "    #     print(p.text)\n",
    "\n",
    "product_price=[]\n",
    "for pr in productPrice:\n",
    "        product_price.append(pr.text)\n",
    "    #     print(pr.text)\n",
    "\n",
    "productsDict={'Product':product_list,'Product_Price':product_price}\n",
    "df=pd.DataFrame.from_dict(productsDict)\n",
    "# df[\"Product_Price\"].fillna(\"0\", inplace=True)\n",
    "df['Product_Price'].replace('',0)\n",
    "df['Product_Price']=df['Product_Price'].apply(lambda x: x.replace('Rs.',''))\n",
    "df['Product_Price']=df['Product_Price'].apply(lambda x: x.replace(',',''))\n",
    "# df['Product_Price']=df['Product_Price'].astype(float)\n",
    "df.insert(loc=0,column='Category',value=category)\n",
    "df\n",
    "checkFolder('webscrapping')\n",
    "df.to_csv(f'c://webscrapping/{category}.csv',index=False)\n",
    "# driver.close()\n",
    "# driver.quit()\n"
   ]
  },
  {
   "cell_type": "code",
   "execution_count": null,
   "id": "5edba0ab",
   "metadata": {},
   "outputs": [],
   "source": [
    "#test extracting link and webscrapping in a Loop.... using list......\n",
    "\n",
    "subCategory=[\n",
    "'https://springs.com.pk/collections/ss-cigar',\n",
    "'https://springs.com.pk/collections/sugar-baking-dessert',\n",
    "'https://springs.com.pk/collections/talcum-powder-prickly-heat-powder',\n",
    "'https://springs.com.pk/collections/tea-coffee',\n",
    "'https://springs.com.pk/collections/tissues-wipes',\n",
    "'https://springs.com.pk/collections/toiletries',\n",
    "'https://springs.com.pk/collections/toner',\n",
    "'https://springs.com.pk/collections/toothbrush',\n",
    "'https://springs.com.pk/collections/toothpaste',\n",
    "'https://springs.com.pk/collections/treats-accessories',\n",
    "'https://springs.com.pk/collections/unisex',\n",
    "'https://springs.com.pk/collections/women',\n",
    "'https://springs.com.pk/collections/wraps-pittas',\n",
    "'https://springs.com.pk/collections/yogurt'\n",
    "]\n",
    "\n",
    "for subCat in range(0,len(subCategory)):\n",
    "#     print('list data : ',listData[category])\n",
    "\n",
    "    webPage=subCategory[subCat]\n",
    "#     print('web : ',webPage)\n",
    "    category=webPage.replace('https://springs.com.pk/collections/','')\n",
    "#     print(category)\n",
    "    a=_scrpWeb(webPage)\n",
    "\n",
    "    # creating DataFrame\n",
    "    product_list=[]\n",
    "    for p in productNames:\n",
    "        product_list.append(p.text)\n",
    "    #     print(p.text)\n",
    "\n",
    "    product_price=[]\n",
    "    for pr in productPrice:\n",
    "        product_price.append(pr.text)\n",
    "    #     print(pr.text)\n",
    "\n",
    "    productsDict={'Product':product_list,'Product_Price':product_price}\n",
    "    df=pd.DataFrame.from_dict(productsDict)\n",
    "    df['Product_Price']=df['Product_Price'].apply(lambda x: x.replace('Rs.',''))\n",
    "    df['Product_Price']=df['Product_Price'].apply(lambda x: x.replace(',',''))\n",
    "#     df['Product_Price']=df['Product_Price'].astype(float)\n",
    "    df.insert(loc=0,column='Category',value=category)\n",
    "    df\n",
    "    checkFolder('webscrapping')\n",
    "    df.to_csv(f'c://WebScrapping1/{category}.csv',index=False)\n",
    "#     driver.close()\n"
   ]
  },
  {
   "cell_type": "code",
   "execution_count": null,
   "id": "6d9f4c71",
   "metadata": {},
   "outputs": [],
   "source": [
    "#test extracting link and webscrapping in a Loop....\n",
    "\n",
    "for subCat in range(0,len(subCategory)):\n",
    "\n",
    "#     print(subCategory[subCat])\n",
    "#     print(subCat.get_attribute(\"href\"))\n",
    "    \n",
    "\n",
    "    webPage=subCategory[subCat]\n",
    "#     print('web : ',webPage)\n",
    "    category=webPage.replace('https://springs.com.pk/collections/','')\n",
    "#     print(category)\n",
    "    a=_scrpWeb(webPage)\n",
    "\n",
    "    # creating DataFrame\n",
    "    product_list=[]\n",
    "    for p in productNames:\n",
    "        product_list.append(p.text)\n",
    "    #     print(p.text)\n",
    "\n",
    "    product_price=[]\n",
    "    for pr in productPrice:\n",
    "        product_price.append(pr.text)\n",
    "    #     print(pr.text)\n",
    "\n",
    "    productsDict={'Product':product_list,'Product_Price':product_price}\n",
    "    df=pd.DataFrame.from_dict(productsDict)\n",
    "    df['Product_Price']=df['Product_Price'].apply(lambda x: x.replace('Rs.',''))\n",
    "    df['Product_Price']=df['Product_Price'].apply(lambda x: x.replace(',',''))\n",
    "    df['Product_Price']=df['Product_Price'].astype(float)\n",
    "    df.insert(loc=0,column='Category',value=category)\n",
    "    df\n",
    "    checkFolder('webscrapping')\n",
    "    df.to_csv(f'c://webscrapping/{category}.csv',index=False)\n",
    "#     driver.close()\n",
    "\n",
    "\n"
   ]
  },
  {
   "cell_type": "code",
   "execution_count": null,
   "id": "e771bd50",
   "metadata": {},
   "outputs": [],
   "source": [
    "# for handle in driver.window_handles:\n",
    "#     driver.switch_to.window(handle)\n",
    "driver.close()"
   ]
  },
  {
   "cell_type": "code",
   "execution_count": null,
   "id": "6a075d80",
   "metadata": {},
   "outputs": [],
   "source": [
    "s='https://springs.com.pk/collections/chips-snacks-popcorn'\n",
    "print(s.replace('https://springs.com.pk/collections/',''))"
   ]
  },
  {
   "cell_type": "code",
   "execution_count": null,
   "id": "392668a9",
   "metadata": {},
   "outputs": [],
   "source": []
  }
 ],
 "metadata": {
  "kernelspec": {
   "display_name": "Python 3",
   "language": "python",
   "name": "python3"
  },
  "language_info": {
   "codemirror_mode": {
    "name": "ipython",
    "version": 3
   },
   "file_extension": ".py",
   "mimetype": "text/x-python",
   "name": "python",
   "nbconvert_exporter": "python",
   "pygments_lexer": "ipython3",
   "version": "3.9.6"
  }
 },
 "nbformat": 4,
 "nbformat_minor": 5
}
