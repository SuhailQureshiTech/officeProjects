{
 "cells": [
  {
   "cell_type": "code",
   "execution_count": null,
   "metadata": {},
   "outputs": [],
   "source": [
    "pip install chromedriver_autoinstaller"
   ]
  },
  {
   "cell_type": "markdown",
   "metadata": {},
   "source": [
    "### Part 1 - Set Up"
   ]
  },
  {
   "cell_type": "code",
   "execution_count": null,
   "metadata": {},
   "outputs": [],
   "source": [
    "#review package and module\n",
    "from selenium import webdriver\n",
    "from selenium.webdriver.common.keys import Keys\n",
    "from selenium.webdriver.common.by import By\n",
    "from selenium.webdriver.chrome.options import Options\n",
    "from webdriver_manager.chrome import ChromeDriverManager\n",
    "# import chromedriver_autoinstaller\n",
    "from selenium.webdriver.chrome.service import Service\n",
    "import time"
   ]
  },
  {
   "cell_type": "code",
   "execution_count": null,
   "metadata": {},
   "outputs": [],
   "source": [
    "#relevant website\n",
    "website_1='https://www.geekbuying.com/searchword/laptop/'"
   ]
  },
  {
   "cell_type": "code",
   "execution_count": 95,
   "metadata": {},
   "outputs": [],
   "source": [
    "#initialize chrome\n",
    "# driver=webdriver.Chrome(executable_path=ChromeDriverManager().install())\n",
    "\n",
    "# chromedriver_autoinstaller.install()\n",
    "# driver = webdriver.Chrome(service=Service())\n",
    "\n",
    "driver = webdriver.Chrome(service=Service(ChromeDriverManager().install()))\n",
    "\n",
    "#open website\n",
    "driver.get(website_1)\n",
    "driver.maximize_window()\n"
   ]
  },
  {
   "cell_type": "markdown",
   "metadata": {},
   "source": [
    "### Part 2 - Locators "
   ]
  },
  {
   "cell_type": "markdown",
   "metadata": {},
   "source": [
    "##### Xpath - Locator "
   ]
  },
  {
   "cell_type": "code",
   "execution_count": null,
   "metadata": {},
   "outputs": [],
   "source": [
    "# price=driver.find_element_by_xpath('(//li[@class=\"searchResultItem\"]/div/div[3])[1]')\n",
    "\n",
    "price= driver.find_element(by=By.XPATH, value=('(//li[@class=\"searchResultItem\"]/div/div[3])[1]'))\n"
   ]
  },
  {
   "cell_type": "code",
   "execution_count": null,
   "metadata": {},
   "outputs": [],
   "source": [
    "for value in price:\n",
    "    print(value.text)"
   ]
  },
  {
   "cell_type": "code",
   "execution_count": null,
   "metadata": {},
   "outputs": [],
   "source": [
    "price= driver.find_elements(by=By.XPATH, value=('//li[@class=\"searchResultItem\"]/div/div[3]'))"
   ]
  },
  {
   "cell_type": "markdown",
   "metadata": {},
   "source": [
    "##### Class Name - Locator"
   ]
  },
  {
   "cell_type": "code",
   "execution_count": null,
   "metadata": {},
   "outputs": [],
   "source": [
    "for value in price:\n",
    "    print(value.text)"
   ]
  },
  {
   "cell_type": "code",
   "execution_count": 74,
   "metadata": {},
   "outputs": [
    {
     "data": {
      "text/plain": [
       "list"
      ]
     },
     "execution_count": 74,
     "metadata": {},
     "output_type": "execute_result"
    }
   ],
   "source": [
    "type(price)\n"
   ]
  },
  {
   "cell_type": "code",
   "execution_count": 75,
   "metadata": {},
   "outputs": [
    {
     "data": {
      "text/plain": [
       "40"
      ]
     },
     "execution_count": 75,
     "metadata": {},
     "output_type": "execute_result"
    }
   ],
   "source": [
    "len(price)"
   ]
  },
  {
   "cell_type": "code",
   "execution_count": 96,
   "metadata": {},
   "outputs": [],
   "source": [
    "names=driver.find_elements(by=By.CLASS_NAME, value=('pro_title'))"
   ]
  },
  {
   "cell_type": "code",
   "execution_count": 87,
   "metadata": {},
   "outputs": [
    {
     "data": {
      "text/plain": [
       "40"
      ]
     },
     "execution_count": 87,
     "metadata": {},
     "output_type": "execute_result"
    }
   ],
   "source": [
    "len(names)"
   ]
  },
  {
   "cell_type": "code",
   "execution_count": 98,
   "metadata": {},
   "outputs": [
    {
     "name": "stdout",
     "output_type": "stream",
     "text": [
      "ALLDOCUBE iWork GT 2 in 1 Tablet Windows 11 i5-1135G7 CPU, 8GB LPDDR4x 256GB PCIE SSD, 11'' Keyboard Not Included\n",
      "ALLDOCUBE iWork GT 2 in 1 Tablet Windows 11 i3-1115G4 CPU, 8GB LPDDR4x 256GB PCIE SSD, 11'' Keyboard Not Included\n",
      "ALLDOCUBE KNote X Pro Tablet Laptop Intel Gemini Lake N4100 13.3 Inch 1080P FHD Screen Windows 10 8GB RAM 128GB ROM - Grey\n",
      "ALLDOCUBE iWork GT 2 in 1 Tablet Windows 11 i5-1135G7 CPU 16GB LPDDR4x 512GB PCIE SSD, 11'' Keyboard Not Included\n",
      "Type-C Hub 10 in 1 USB C to 4K HDMI+RJ45+PD 100W Charge+USB3.0+VGA+SD/TF card reader Dock for MacBook Windows\n",
      "Game Monitor Second Screen for Laptop PC Phone Xbox\n",
      "ALLDOCUBE GTBook 15 Laptop, 15.6 inch FHD IPS 1920x1080, Intel Celeron N5100 Quad Core 2.8GHz, 12GB DDR4 256GB SSD, 2.0MP Camera BT5.0 2.4/5GHz Dual WiFi, MicroSD 3.5mm Audio USB3.0 Mini HDMI Type-C\n",
      "KUU YEPBOOK 15.6'' Laptop 19.8mm Ultra Thin, Intel N5095 4 Cores 2.0GHz, 16GB DDR4 512GB SSD, 1920x1080 16:9 FHD Screen, Fingerprint Unlock, 2.4/5GHz Dual Wi-Fi BT4.2 HD Camera, USB3.0x2 HDMI Micro SD\n",
      "ALLDOCUBE GTBook 15 Laptop, 15.6 inch FHD IPS 1920x1080, Intel Celeron N5100 Quad Core 2.8GHz, 12GB DDR4 512GB SSD, 2.0MP Camera BT5.0 2.4/5GHz Dual WiFi, MicroSD 3.5mm Audio USB3.0 Mini HDMI Type-C\n",
      "One-Netbook T1 2 in 1 Laptop Protective Bag\n",
      "ONE Netbook OneXPlayer 2 Game Console 8.4'' 2K IPS Screen AMD Ryzen 7 6800U 32GB LPDDR5 1TB M.2 17100mAh Battery Windows White - EU\n",
      "Baseus 8-in-1 Type-C USB 3.0 HUB Adapter for Laptop Tablet Phone - Gray\n",
      "P1 Webcam 1080P with Microphone Auto Focus Light Correction For Windows PC Mac Desktop - Black\n",
      "GPD WIN Max 2 Smallest Handheld Gaming 10.1 Inch Touch Screen CPU AMD 6800U Mini PC RAM 16GB SSD 1TB - EU Plug\n",
      "BMAX Y13 2-in-1 Convertible Laptop 13.3 Inch IPS Screen Intel Gemini Lake N4120 8GB DDR4 256GB SSD Windows 10 5000mAh Battery Backlit Keyboard - Grey\n",
      "ONE Netbook OneXPlayer 2 Game Console 8.4'' 2K IPS Screen AMD Ryzen 7 6800U 32GB LPDDR5 1TB M.2 17100mAh Battery Windows Black - EU\n",
      "ONE Netbook OneXPlayer 2 Game Console 8.4'' 2K IPS Screen AMD Ryzen 7 6800U 32GB LPDDR5 2TB M.2 17100mAh Battery Windows Black - EU\n",
      "ONE Netbook OneXPlayer 2 Game Console 8.4'' 2K IPS Screen AMD Ryzen 7 6800U 32GB LPDDR5 2TB M.2 17100mAh Battery Windows White - EU\n",
      "One Netbook 4S Mini Laptop Intel Core i3-1210U Processor, 16GB LPRRD5 512GB ROM 10.1'' 2.5K LTPS Full Display Black - EU Plug\n",
      "GPD WIN Max 2 Smallest Handheld Gaming 10.1 Inch Touch Screen CPU AMD 6800U Mini PC RAM 16GB SSD 1TB - US Plug\n",
      "One Netbook 4S Platinum 2 in 1 Laptop Intel Core i7-1250U Processor, 16GB LPDDR5 1TB ROM 10.1'' 2.5K LTPS Full Display - EU Plug\n",
      "(Buy 1 Get 3 Free Gift) One Netbook T1 2 in 1 Tablet PC Intel Core i7-1260P Mini , 16GB DDR5 2TB SSD 13'' Inches 2160x1440 FHD 2K Ultra-IPS Screen, USB Type-C USB3.0*2 TF Slot Mini HDMI 3.5mm\n",
      "BMAX X15 Laptop 15.6 Inch IPS Screen Intel Gemini Lake N4100 Windows 10 8GB RAM 256GB SSD 5000mAh Battery - Grey\n",
      "GPD Pocket 3 Laptop Mini Tablet PC 8 Inch 1920 x 1200 Resolution IPS Touchscreen Intel Core i7-1195G7 16GB RAM 1TB SSD Windows 10 Home 38.5Wh Battery - EU Plug\n",
      "ONE Netbook OneXPlayer 2 Game Console 8.4'' 2K IPS Screen AMD Ryzen 7 6800U 16GB LPDDR5 1TB M.2 17100mAh Battery Windows 11 Black - EU\n",
      "ONE Netbook OneXPlayer Mini Pro Game Console 7'' IPS Display AMD RYZEN 7 6800U 32GB LPDDR5 2TB M.2 12450mAh Battery Windows11 - EU\n",
      "ONE Netbook OneXPlayer 2 Game Console 8.4'' 2K IPS Screen AMD Ryzen 7 6800U 32GB LPDDR5 1TB M.2 17100mAh Battery Windows White - US\n",
      "One Netbook A1 Pro Mini Engineer Laptop 7 Inches 1920*1200p Touch Screen Intel Core i5-1130G7 16GB RAM 512GB SSD Windows 11 6000mAh Battery Fingerprint Recognition - Black\n",
      "GPD MicroPC Pocket Laptop Mini PC 6 Inch Screen Intel Celeron N4120 8GB RAM 256GB SSD Windows 10 Pro Home 2x3100mAh Battery - US Plug\n",
      "One Netbook OneGx1 Pro Gaming Laptop 7-inch 1920x1200 Intel i7-1160G7 16GB RAM 512GB SSD WiFi 6 Windows 10 - 5G Version Black\n",
      "2.4G Wireless Bluetooth Mouse for MacBook, iPad, Windows , Tablet - Green\n",
      "2.4G Wireless Bluetooth Mouse for MacBook, iPad, Windows , Tablet - Pink\n",
      "2.4G Wireless Bluetooth Mouse for MacBook, iPad, Windows , Tablet - Yellow\n",
      "2.4G Wireless Bluetooth Mouse for MacBook, iPad, Windows , Tablet - Purple\n",
      "2.4G Wireless Bluetooth Mouse for MacBook, iPad, Windows , Tablet - White\n",
      "2.4G Wireless Bluetooth Mouse for MacBook, iPad, Windows , Tablet - Blue\n",
      "2.4G Wireless Bluetooth Mouse for MacBook, iPad, Windows , Tablet - Black\n",
      "ONE Netbook OneXPlayer 2 Game Console 8.4'' 2K IPS Screen AMD Ryzen 7 6800U 32GB LPDDR5 2TB M.2 17100mAh Battery Windows Black - JP\n",
      "ONE Netbook OneXPlayer 2 Game Console 8.4'' 2K IPS Screen AMD Ryzen 7 6800U 32GB LPDDR5 1TB M.2 17100mAh Battery Windows Black - US\n",
      "ONE Netbook OneXPlayer 2 Game Console 8.4'' 2K IPS Screen AMD Ryzen 7 6800U 32GB LPDDR5 1TB M.2 17100mAh Battery Windows White - JP\n"
     ]
    }
   ],
   "source": [
    "for name_list in names:\n",
    "    print(name_list.text)\n",
    "    \n",
    "driver.close()    "
   ]
  },
  {
   "cell_type": "code",
   "execution_count": 93,
   "metadata": {},
   "outputs": [
    {
     "name": "stdout",
     "output_type": "stream",
     "text": [
      "ONE Netbook OneXPlayer 2 Game Console 8.4'' 2K IPS Screen AMD Ryzen 7 6800U 32GB LPDDR5 1TB M.2 17100mAh Battery Windows White - EU\n"
     ]
    }
   ],
   "source": []
  },
  {
   "cell_type": "markdown",
   "metadata": {},
   "source": [
    "##### ID - Locator"
   ]
  },
  {
   "cell_type": "code",
   "execution_count": null,
   "metadata": {},
   "outputs": [],
   "source": []
  },
  {
   "cell_type": "code",
   "execution_count": null,
   "metadata": {},
   "outputs": [],
   "source": []
  },
  {
   "cell_type": "code",
   "execution_count": null,
   "metadata": {},
   "outputs": [],
   "source": []
  },
  {
   "cell_type": "markdown",
   "metadata": {},
   "source": [
    "##### Name - Locator"
   ]
  },
  {
   "cell_type": "code",
   "execution_count": null,
   "metadata": {},
   "outputs": [],
   "source": []
  },
  {
   "cell_type": "code",
   "execution_count": null,
   "metadata": {},
   "outputs": [],
   "source": []
  },
  {
   "cell_type": "code",
   "execution_count": null,
   "metadata": {},
   "outputs": [],
   "source": []
  },
  {
   "cell_type": "markdown",
   "metadata": {},
   "source": [
    "##### LinkText - Locator"
   ]
  },
  {
   "cell_type": "code",
   "execution_count": null,
   "metadata": {},
   "outputs": [],
   "source": []
  },
  {
   "cell_type": "code",
   "execution_count": null,
   "metadata": {},
   "outputs": [],
   "source": []
  },
  {
   "cell_type": "code",
   "execution_count": null,
   "metadata": {},
   "outputs": [],
   "source": []
  },
  {
   "cell_type": "markdown",
   "metadata": {},
   "source": [
    "##### Partial LinkText - Locator"
   ]
  },
  {
   "cell_type": "code",
   "execution_count": null,
   "metadata": {},
   "outputs": [],
   "source": []
  },
  {
   "cell_type": "code",
   "execution_count": null,
   "metadata": {},
   "outputs": [],
   "source": []
  },
  {
   "cell_type": "code",
   "execution_count": null,
   "metadata": {},
   "outputs": [],
   "source": []
  },
  {
   "cell_type": "markdown",
   "metadata": {},
   "source": [
    "### Part 3 - Different ways to use Locators "
   ]
  },
  {
   "cell_type": "code",
   "execution_count": null,
   "metadata": {},
   "outputs": [],
   "source": []
  },
  {
   "cell_type": "code",
   "execution_count": null,
   "metadata": {},
   "outputs": [],
   "source": []
  },
  {
   "cell_type": "code",
   "execution_count": null,
   "metadata": {},
   "outputs": [],
   "source": []
  },
  {
   "cell_type": "markdown",
   "metadata": {},
   "source": [
    "### Part 4 - Selenium in Action"
   ]
  },
  {
   "cell_type": "code",
   "execution_count": null,
   "metadata": {},
   "outputs": [],
   "source": []
  },
  {
   "cell_type": "code",
   "execution_count": null,
   "metadata": {},
   "outputs": [],
   "source": []
  },
  {
   "cell_type": "code",
   "execution_count": null,
   "metadata": {},
   "outputs": [],
   "source": []
  },
  {
   "cell_type": "code",
   "execution_count": null,
   "metadata": {},
   "outputs": [],
   "source": []
  },
  {
   "cell_type": "markdown",
   "metadata": {},
   "source": [
    "### Optional : Run everything in one Step - Headless "
   ]
  },
  {
   "cell_type": "code",
   "execution_count": null,
   "metadata": {},
   "outputs": [],
   "source": []
  }
 ],
 "metadata": {
  "kernelspec": {
   "display_name": "Python 3",
   "language": "python",
   "name": "python3"
  },
  "language_info": {
   "codemirror_mode": {
    "name": "ipython",
    "version": 3
   },
   "file_extension": ".py",
   "mimetype": "text/x-python",
   "name": "python",
   "nbconvert_exporter": "python",
   "pygments_lexer": "ipython3",
   "version": "3.9.6"
  }
 },
 "nbformat": 4,
 "nbformat_minor": 4
}
