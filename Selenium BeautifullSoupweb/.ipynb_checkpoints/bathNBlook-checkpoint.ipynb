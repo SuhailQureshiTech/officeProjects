{
 "cells": [
  {
   "cell_type": "code",
   "execution_count": 1,
   "id": "00b8c6ab",
   "metadata": {
    "scrolled": true
   },
   "outputs": [],
   "source": [
    "#review package and module\n",
    "from selenium import webdriver\n",
    "from selenium.webdriver.common.keys import Keys\n",
    "from selenium.webdriver.common.by import By\n",
    "from selenium.webdriver.support.ui import WebDriverWait\n",
    "from selenium.webdriver.support import expected_conditions as EC\n",
    "from selenium.webdriver.chrome.options import Options\n",
    "from selenium.webdriver import ActionChains\n",
    "from selenium.webdriver.common.action_chains import ActionChains\n",
    "\n",
    "from webdriver_manager.chrome import ChromeDriverManager\n",
    "# import chromedriver_autoinstaller\n",
    "from selenium.webdriver.chrome.service import Service\n",
    "from selenium.common.exceptions import NoSuchElementException,NoSuchFrameException,StaleElementReferenceException\n",
    "# ,MaxRetryError\n",
    "from urllib3.exceptions import MaxRetryError,NewConnectionError\n",
    "from selenium.common.exceptions import TimeoutException\n",
    "import pandas as pd\n",
    "import os\n",
    "import time"
   ]
  },
  {
   "cell_type": "code",
   "execution_count": 2,
   "id": "6eaaeecf",
   "metadata": {
    "scrolled": true
   },
   "outputs": [],
   "source": [
    "# main variables\n",
    "productNames=[]\n",
    "productDetail=[]\n",
    "productPrice=[]\n",
    "subCategory=[]\n",
    "imageSrc=[]\n",
    "imageSrc1=[]\n",
    "checkAttributeStatus=None\n",
    "driver=None"
   ]
  },
  {
   "cell_type": "code",
   "execution_count": 9,
   "id": "c2fcbba1",
   "metadata": {},
   "outputs": [],
   "source": [
    "def getSubCategory(website):   \n",
    "    global subCategory\n",
    "    subCategory=[]\n",
    "    website_1=website\n",
    "    driver = webdriver.Chrome(service=Service(ChromeDriverManager().install()))\n",
    "    #open website\n",
    "    driver.get(website_1)\n",
    "    driver.maximize_window()\n",
    "\n",
    "    subCategoryData=driver.find_elements(\n",
    "                        by=By.XPATH\n",
    "                        ,value=('//div[@id=\"wsite-com-hierarchy\"]//li')  )\n",
    "\n",
    "\n",
    "    # print(subCategoryData2)\n",
    "    # # (by=By.XPATH,value=('./li'))\n",
    "\n",
    "    for subCat in subCategoryData:\n",
    "    #     subCat\n",
    "    #     print(subCat.get_attribute(\"href\"))\n",
    "        subCategory.append(subCat.get_attribute(\"href\"))\n",
    "   \n",
    "    driver.delete_all_cookies()\n",
    "    driver.close()\n",
    "    driver.quit()\n"
   ]
  },
  {
   "cell_type": "code",
   "execution_count": 4,
   "id": "19280d96",
   "metadata": {
    "scrolled": true
   },
   "outputs": [],
   "source": [
    "def checkAttribute(webSite):\n",
    "    driver = webdriver.Chrome(service=Service(ChromeDriverManager().install()))\n",
    "    #open website\n",
    "    driver.get(webSite)\n",
    "    driver.maximize_window()\n",
    "    chkAtr=None\n",
    "    try:\n",
    "        btn=driver.find_element(by=By.XPATH,value=('//button[text()=\"Accept all cookies\"]'))\n",
    "        btn.click()  \n",
    "        pagination = driver.find_element(\n",
    "           by=By.XPATH, value=('//button[contains(text(),\"Load more\")]'))\n",
    "        chkAtr='Found'\n",
    "\n",
    "    except NoSuchElementException:\n",
    "        chkAtr='Not Found'\n",
    "        driver.delete_all_cookies()\n",
    "        driver.close()\n",
    "        driver.quit()\n",
    "    return chkAtr"
   ]
  },
  {
   "cell_type": "code",
   "execution_count": 5,
   "id": "9e94eda3",
   "metadata": {
    "scrolled": true
   },
   "outputs": [],
   "source": [
    "class _scrpWebWaitNoPage:  \n",
    "    \n",
    "    global productNames, productPrice,imageSrc,driver\n",
    "\n",
    "    productsDict={}\n",
    "    productNames=[]\n",
    "    productPrice=[]\n",
    "    imageSrc=[]\n",
    "    subCategory=[]\n",
    "    driver=None\n",
    "\n",
    "    def __init__(self, website):\n",
    "        self.website = website\n",
    "        driver = webdriver.Chrome(service=Service(\n",
    "            ChromeDriverManager().install()))\n",
    "\n",
    "        # open website\n",
    "        driver.get(website)\n",
    "        productNames1 = []\n",
    "        productPrice1 = []\n",
    "        imageSrc1=[]\n",
    "\n",
    "        productNames1 =WebDriverWait(driver, 120).until(\n",
    "            EC.presence_of_all_elements_located((By.XPATH\n",
    "                    ,'//div[@class=\"grid__item large--seven-tenths right js-de-ProductTilesObserver\"]//h4[1]')))    \n",
    "\n",
    "        for pname in productNames1:\n",
    "            productNames.append(pname.text)\n",
    "\n",
    "        productPrice1=WebDriverWait(driver, 120).until(EC.presence_of_all_elements_located((By.XPATH\n",
    "                                ,'//span[@class=\"js-de-ProductTile-currentPrice\"][1]')))    \n",
    "\n",
    "        for price in productPrice1:\n",
    "            productPrice.append(price.text)\n",
    "\n",
    "        imageSrc1 =WebDriverWait(driver, 120).until(\n",
    "            EC.presence_of_all_elements_located((By.XPATH\n",
    "                    , '//div[@class=\"de-productTile-showcaseImageContainer\"]/img[1]')))  \n",
    "\n",
    "        for pImage in imageSrc1:\n",
    "            imageSrc.append(pImage.get_attribute(\"data-src\"))                \n",
    "                \n",
    "        time.sleep(60)\n",
    "\n",
    "        driver.close()\n",
    "        driver.quit()"
   ]
  },
  {
   "cell_type": "code",
   "execution_count": 6,
   "id": "d1b64ed6",
   "metadata": {},
   "outputs": [],
   "source": [
    "# class _scrpWebWait:  \n",
    "  \n",
    "#     global productNames, productPrice,imageSrc,driver,productDetail,imageSrc1\n",
    "\n",
    "#     productsDict={}\n",
    "#     productNames=[]\n",
    "#     productDetail=[]\n",
    "#     productPrice=[]\n",
    "#     imageSrc=[]\n",
    "#     imageSrc1=[]\n",
    "#     subCategory=[]\n",
    "#     driver=None\n",
    "    \n",
    "#     def __init__(self, website):\n",
    "#         def getCloseResources():\n",
    "#             driver.delete_all_cookies()\n",
    "#             driver.close()\n",
    "#             driver.quit()  \n",
    "            \n",
    "# # Product Names            \n",
    "#         def getProdNames():\n",
    "#             try:\n",
    "#                 print('getting productnames....')\n",
    "#                 time.sleep(30)\n",
    "#                 productNames1=WebDriverWait(driver, 120).until(\n",
    "#                 EC.presence_of_all_elements_located((By.XPATH\n",
    "#             ,'//div[contains(@class,\"c-Grid-styles__Wrapper-sc-7b9df201-2 XkYBc\")]//h3[@class=\"text__Text-sc-fac938e2-0 product-card__Name-sc-a4c933fb-4 cKOjOB iFwJeI\"][1]')))    \n",
    "\n",
    "#                 for pname in productNames1:\n",
    "#                     productNames.append(pname.text)  \n",
    "# #                     imageUrl=None\n",
    "# #                     prod=pname.text\n",
    "# #                     imageUrl=f'''//div[contains(@id,\"masonry-child\")]//img[@alt=\"{prod}\" and contains(@src,\"https\")] '''\n",
    "# #                     primages=driver.find_element(by=By.XPATH,value=(imageUrl))    \n",
    "# #                     imageSrc.append(primages.get_attribute(\"src\"))\n",
    "\n",
    "#     # # Product Details...\n",
    "#     #             time.sleep(30)\n",
    "#     #             productDetail1=WebDriverWait(driver, 120).until(\n",
    "#     #             EC.presence_of_all_elements_located((By.XPATH\n",
    "#     #                 ,'//div[contains(@class,\"c-Grid-styles__Wrapper-sc-7b9df201-2 XkYBc\")]//p[@class=\"text__Text-sc-fac938e2-0 product-card__Strapline-sc-a4c933fb-5 CIHoe hFslzk\"][1]')))    \n",
    "\n",
    "#     #             for prodDtl in productDetail1:\n",
    "#     #                 productDetail.append(prodDtl.text)  \n",
    "\n",
    "#     # # prod price:\n",
    "#     #             time.sleep(30)\n",
    "#     #             productPrice1=WebDriverWait(driver, 120).until(\n",
    "#     #             EC.presence_of_all_elements_located((By.XPATH\n",
    "#     #                 ,'//div[contains(@class,\"c-Grid-styles__Wrapper-sc-7b9df201-2 XkYBc\")]//span[@class=\"product-card__MoneyText-sc-a4c933fb-9 iPIKwB\"][1]')))    \n",
    "\n",
    "#     #             for prodPrice in productPrice1:\n",
    "#     #                 productPrice.append(prodPrice.text)   \n",
    "\n",
    "\n",
    "#             except:\n",
    "#                 pass\n",
    "\n",
    "            \n",
    "        \n",
    "# #         import gc  \n",
    "#         self.website = website\n",
    "#         driver = webdriver.Chrome(service=Service(\n",
    "#             ChromeDriverManager().install()))\n",
    "\n",
    "#         driver.get(website)\n",
    "\n",
    "#         time.sleep(30\n",
    "#         btn=WebDriverWait(driver, 30).until(EC.presence_of_element_located((By.XPATH\n",
    "#                                     ,'//button[text()=\"Reject non-essential\"]')))   \n",
    "#         btn.click()  \n",
    "#         btn=None\n",
    "#         try:\n",
    "#             while True:       \n",
    "          \n",
    "#                     time.sleep(60)\n",
    "#                     loadMoreButton=WebDriverWait(driver, 120).until(EC.presence_of_element_located(\n",
    "#                             (By.XPATH,'//button[contains(text(),\"Load more\")]')))     \n",
    "\n",
    "#                     loadMoreButton.click()\n",
    "#                     loadMoreButton=None                \n",
    "               \n",
    "#         except: \n",
    "# #          (TimeoutException,NoSuchElementException,StaleElementReferenceException,MaxRetryError\n",
    "# #               ,ConnectionRefusedError,NewConnectionError,NoSuchWindowException):\n",
    "#             pass\n",
    "\n",
    "#         getProdNames()      \n",
    "#         getCloseResources()\n",
    "# #         getProdImages()\n",
    "\n",
    "# #         try:\n",
    "# # # Product Images: \n",
    "# #             print('images....')\n",
    "# #             time.sleep(30)\n",
    "# #             for pn in range(0,len(productNames)):\n",
    "# #                 imageUrl=None\n",
    "# #                 prod=productNames[pn]\n",
    "# # #                 print(prod)\n",
    "# #                 imageUrl=f'''//div[contains(@id,\"masonry-child\")]//img[@alt=\"{prod}\" and contains(@src,\"https\")] '''\n",
    "# #                 primages=driver.find_element(by=By.XPATH,value=(imageUrl))    \n",
    "# #                 imageSrc1.append(primages)\n",
    "\n",
    "\n",
    "# #             # prod='Broken Heart'\n",
    "# #             # imageUrl=f'''//div[contains(@id,\"masonry-child\")]//img[@alt=\"{prod}\" and contains(@src,\"https\")] '''\n",
    "\n",
    "# #             # # # primages=driver.find_element(by=By.XPATH,value=('//div[contains(@id,\"masonry-child\")]//img[@alt=\"Ippuku Dan - Warming Mini Bath Bombs\" and contains(@src,\"https\")]'))\n",
    "# #             # primages=driver.find_element(by=By.XPATH,value=(imageUrl))\n",
    "# #             # imageSrc.append(primages)\n",
    "\n",
    "\n",
    "# #             # # len(imageSrc)    \n",
    "# #             for x in range(0,len(imageSrc1)):\n",
    "# #                 imageSrc.append(imageSrc1[x].get_attribute(\"src\"))\n",
    "# # #                 print(imageSrc1[x].get_attribute(\"src\"))\n",
    "            \n",
    "# #         except:\n",
    "# #             pass;\n",
    "# #         finally:\n",
    "# #             time.sleep(60)\n",
    "# #             driver.delete_all_cookies()\n",
    "# #             driver.close()\n",
    "# #             driver.quit()  \n",
    "    \n",
    "\n",
    "\n",
    "            "
   ]
  },
  {
   "cell_type": "code",
   "execution_count": null,
   "id": "a8fbb700",
   "metadata": {},
   "outputs": [],
   "source": [
    "a=_scrpWebWait('https://www.lush.com/uk/en/c/bath-bombs')"
   ]
  },
  {
   "cell_type": "code",
   "execution_count": null,
   "id": "2bfda53d",
   "metadata": {},
   "outputs": [],
   "source": [
    "len(imageSrc)"
   ]
  },
  {
   "cell_type": "code",
   "execution_count": null,
   "id": "08b2e85a",
   "metadata": {},
   "outputs": [],
   "source": [
    "driver.delete_all_cookies()\n",
    "driver.close()\n",
    "driver.quit()  "
   ]
  },
  {
   "cell_type": "code",
   "execution_count": null,
   "id": "63445ce1",
   "metadata": {},
   "outputs": [],
   "source": []
  },
  {
   "cell_type": "code",
   "execution_count": null,
   "id": "0ae698b9",
   "metadata": {},
   "outputs": [],
   "source": [
    "# old....(1)\n",
    "class _scrpWebWait:  \n",
    "  \n",
    "    global productNames, productPrice,imageSrc,driver,productDetail,imageSrc1\n",
    "\n",
    "    productsDict={}\n",
    "    productNames=[]\n",
    "    productDetail=[]\n",
    "    productPrice=[]\n",
    "    imageSrc=[]\n",
    "    imageSrc1=[]\n",
    "    subCategory=[]\n",
    "    driver=None\n",
    "    \n",
    "    def __init__(self, website):\n",
    "        import gc  \n",
    "        self.website = website\n",
    "        driver = webdriver.Chrome(service=Service(\n",
    "            ChromeDriverManager().install()))\n",
    "\n",
    "        driver.get(website)\n",
    "\n",
    "        time.sleep(30)\n",
    "        btn=WebDriverWait(driver, 30).until(EC.presence_of_element_located((By.XPATH\n",
    "                    ,'//button[text()=\"Accept all cookies\"]')))  \n",
    "        btn.click()  \n",
    "        btn=None\n",
    "        try:\n",
    "            while True:       \n",
    "          \n",
    "                    time.sleep(60)\n",
    "                    loadMoreButton=WebDriverWait(driver, 120).until(EC.presence_of_element_located(\n",
    "                            (By.XPATH,'//button[contains(text(),\"Load more\")]')))     \n",
    "\n",
    "                    loadMoreButton.click()\n",
    "                    loadMoreButton=None                \n",
    "               \n",
    "        except: \n",
    "#          (TimeoutException,NoSuchElementException,StaleElementReferenceException,MaxRetryError\n",
    "#               ,ConnectionRefusedError,NewConnectionError,NoSuchWindowException):\n",
    "            pass\n",
    "\n",
    "        try:\n",
    "#             print('dd')\n",
    "        \n",
    "# Product Names\n",
    "            time.sleep(30)\n",
    "            productNames1=WebDriverWait(driver, 120).until(\n",
    "            EC.presence_of_all_elements_located((By.XPATH\n",
    "        ,'//div[contains(@class,\"c-Grid-styles__Wrapper-sc-7b9df201-2 XkYBc\")]//h3[@class=\"text__Text-sc-fac938e2-0 product-card__Name-sc-a4c933fb-4 cKOjOB iFwJeI\"][1]')))    \n",
    "\n",
    "            for pname in productNames1:\n",
    "                productNames.append(pname.text)  \n",
    "\n",
    "# Product Details...\n",
    "            time.sleep(30)\n",
    "            productDetail1=WebDriverWait(driver, 120).until(\n",
    "            EC.presence_of_all_elements_located((By.XPATH\n",
    "                ,'//div[contains(@class,\"c-Grid-styles__Wrapper-sc-7b9df201-2 XkYBc\")]//p[@class=\"text__Text-sc-fac938e2-0 product-card__Strapline-sc-a4c933fb-5 CIHoe hFslzk\"][1]')))    \n",
    "\n",
    "            for prodDtl in productDetail1:\n",
    "                productDetail.append(prodDtl.text)  \n",
    "\n",
    "# prod price:\n",
    "            time.sleep(30)\n",
    "            productPrice1=WebDriverWait(driver, 120).until(\n",
    "            EC.presence_of_all_elements_located((By.XPATH\n",
    "                ,'//div[contains(@class,\"c-Grid-styles__Wrapper-sc-7b9df201-2 XkYBc\")]//span[@class=\"product-card__MoneyText-sc-a4c933fb-9 iPIKwB\"][1]')))    \n",
    "\n",
    "            for prodPrice in productPrice1:\n",
    "                productPrice.append(prodPrice.text)   \n",
    "    \n",
    "\n",
    "        except:\n",
    "            pass\n",
    "\n",
    "        finally:\n",
    "            time.sleep(60)\n",
    "            driver.delete_all_cookies()\n",
    "            driver.close()\n",
    "            driver.quit()   \n",
    "\n",
    "\n",
    "            "
   ]
  },
  {
   "cell_type": "markdown",
   "id": "3f80d630",
   "metadata": {},
   "source": [
    "# runing coding manually"
   ]
  },
  {
   "cell_type": "code",
   "execution_count": null,
   "id": "c1a3b94c",
   "metadata": {},
   "outputs": [],
   "source": [
    "getSubCategory('https://www.bathnbloom.com/store/c8/bathandbody')\n",
    "subCategory"
   ]
  },
  {
   "cell_type": "code",
   "execution_count": 7,
   "id": "76c15a70",
   "metadata": {},
   "outputs": [],
   "source": [
    "# Obsolete... Working......0\n",
    "def getBathBloomData(website):\n",
    "    from selenium import webdriver\n",
    "    from selenium_stealth import stealth\n",
    "    import time\n",
    "\n",
    "    global productNames, productPrice,imageSrc,driver,productDetail,imageSrc1\n",
    "\n",
    "    productsDict={}\n",
    "    productNames=[]\n",
    "    productDetail=[]\n",
    "    productPrice=[]\n",
    "    imageSrc=[]\n",
    "    imageSrc1=[]    \n",
    "    prodImages=[]\n",
    "\n",
    "    driver=None\n",
    "    options = webdriver.ChromeOptions()\n",
    "    options.add_argument(\"start-maximized\")\n",
    "\n",
    "    # options.add_argument(\"--headless\")\n",
    "\n",
    "    options.add_experimental_option(\"excludeSwitches\", [\"enable-automation\"])\n",
    "    options.add_experimental_option('useAutomationExtension', False)\n",
    "    driver = webdriver.Chrome(\n",
    "            service=Service(ChromeDriverManager().install()),options=options\n",
    "    )\n",
    "    stealth(driver,\n",
    "            languages=[\"en-US\", \"en\"],\n",
    "            vendor=\"Google Inc.\",\n",
    "            platform=\"Win32\",\n",
    "            webgl_vendor=\"Intel Inc.\",\n",
    "            renderer=\"Intel Iris OpenGL Engine\",\n",
    "            fix_hairline=True,\n",
    "            )\n",
    "\n",
    "    url = website\n",
    "    driver.get(url)\n",
    "\n",
    "\n",
    "    try:\n",
    "        while True:\n",
    "            productPrice1=[]\n",
    "            productNames1=[]\n",
    "\n",
    "            try:\n",
    "        # productImages\n",
    "                    prodImages=driver.find_elements(by=By.XPATH\n",
    "                     ,value=('//img[@class=\"wsite-com-category-product-image wsite-imageaspectratio-image\"][1]'))\n",
    "\n",
    "                    for x in range(0,len(prodImages)):\n",
    "    #                     print(prodImages[x].get_attribute(\"src\"))\n",
    "                        imageSrc.append(prodImages[x].get_attribute(\"src\"))\n",
    "\n",
    "\n",
    "        # //img[@class=\"wsite-com-category-product-featured-image wsite-imageaspectratio-image\"]\n",
    "            except:\n",
    "                pass\n",
    "            try:           \n",
    "                    productNames1=WebDriverWait(driver, 30).until(\n",
    "                        EC.presence_of_all_elements_located((By.XPATH\n",
    "                        ,'//div[@class=\"wsite-com-category-product-name wsite-com-link-text\"][1]')))    \n",
    "\n",
    "                    for pname in productNames1:\n",
    "                        productNames.append(pname.text)    \n",
    "            except:\n",
    "                pass\n",
    "\n",
    "    # # prod price:\n",
    "            try:\n",
    "                productPrice1=WebDriverWait(driver, 30).until(\n",
    "                EC.presence_of_all_elements_located((By.XPATH\n",
    "                            ,'//div[@class=\"wsite-com-price wsite-com-category-product-price \"][1]')))    \n",
    "\n",
    "                \n",
    "                for prodPrice in productPrice1:\n",
    "                    chkElement=prodPrice.text\n",
    "                    if chkElement=='':\n",
    "                        productPrice.append(0)\n",
    "                    elif productPrice1=='':\n",
    "                          productPrice.append(0)\n",
    "                    else:                        \n",
    "                        productPrice.append(prodPrice.text) \n",
    "                prin('product price')\n",
    "                productPrice1\n",
    "            except:\n",
    "                pass\n",
    "\n",
    "            loadMoreButton=WebDriverWait(driver, 60).until(EC.presence_of_element_located(\n",
    "                        (By.XPATH,'//a[normalize-space()=\"Next\"]')))    \n",
    "            loadMoreButton.click()\n",
    "            loadMoreButton=None  \n",
    "\n",
    "    #         productPrice1=[]\n",
    "    #         productNames1=[]\n",
    "    except:\n",
    "        pass\n",
    "    # finally:\n",
    "\n",
    "    time.sleep(30)\n",
    "    driver.delete_all_cookies()\n",
    "    driver.close()\n",
    "    driver.quit()  \n",
    "    print('doneee...')\n"
   ]
  },
  {
   "cell_type": "code",
   "execution_count": 46,
   "id": "9263ec31",
   "metadata": {},
   "outputs": [],
   "source": [
    "global productNames,productPrice\n",
    "productNames=[]\n",
    "productPrice=[]"
   ]
  },
  {
   "cell_type": "code",
   "execution_count": 35,
   "id": "cd0225e8",
   "metadata": {},
   "outputs": [
    {
     "name": "stdout",
     "output_type": "stream",
     "text": [
      "Product Names  10\n",
      "Product detail  0\n",
      "Product Price  0\n",
      "image src  0\n"
     ]
    }
   ],
   "source": [
    "print('Product Names ',len(productNames))\n",
    "print('Product detail ',len(productDetail))\n",
    "print('Product Price ',len(productPrice))\n",
    "print('image src ',len(imageSrc))"
   ]
  },
  {
   "cell_type": "code",
   "execution_count": null,
   "id": "cdf03a9c",
   "metadata": {},
   "outputs": [],
   "source": [
    "productNames"
   ]
  },
  {
   "cell_type": "code",
   "execution_count": null,
   "id": "80d9564c",
   "metadata": {},
   "outputs": [],
   "source": [
    "productPrice"
   ]
  },
  {
   "cell_type": "markdown",
   "id": "75cbd9e6",
   "metadata": {},
   "source": [
    "# runing coding manually  --- End"
   ]
  },
  {
   "cell_type": "code",
   "execution_count": null,
   "id": "60135dfa",
   "metadata": {},
   "outputs": [],
   "source": [
    "from selenium import webdriver\n",
    "from selenium_stealth import stealth\n",
    "import time\n",
    "\n",
    "global productNames, productPrice,imageSrc,driver,productDetail,imageSrc1\n",
    "\n",
    "productsDict={}\n",
    "productNames=[]\n",
    "productDetail=[]\n",
    "productPrice=[]\n",
    "imageSrc=[]\n",
    "imageSrc1=[]    \n",
    "prodImages=[]\n",
    "\n",
    "driver=None\n",
    "options = webdriver.ChromeOptions()\n",
    "options.add_argument(\"start-maximized\")\n",
    "\n",
    "# options.add_argument(\"--headless\")\n",
    "\n",
    "options.add_experimental_option(\"excludeSwitches\", [\"enable-automation\"])\n",
    "options.add_experimental_option('useAutomationExtension', False)\n",
    "driver = webdriver.Chrome(\n",
    "        service=Service(ChromeDriverManager().install()),options=options\n",
    ")\n",
    "stealth(driver,\n",
    "        languages=[\"en-US\", \"en\"],\n",
    "        vendor=\"Google Inc.\",\n",
    "        platform=\"Win32\",\n",
    "        webgl_vendor=\"Intel Inc.\",\n",
    "        renderer=\"Intel Iris OpenGL Engine\",\n",
    "        fix_hairline=True,\n",
    "        )\n",
    "\n",
    "url = \"https://www.bathnbloom.com/store/c8/bathandbody\"\n",
    "driver.get(url)\n",
    "prodImages=driver.find_elements(by=By.XPATH\n",
    "                                ,value=('//img[@class=\"wsite-com-category-product-featured-image wsite-imageaspectratio-image\"]'))\n",
    "\n",
    "for x in range(0,len(prodImages)):\n",
    "    print(prodImages[x].get_attribute(\"src\"))\n",
    "\n"
   ]
  },
  {
   "cell_type": "code",
   "execution_count": null,
   "id": "d6cfb8f0",
   "metadata": {},
   "outputs": [],
   "source": [
    "# New bathAndBodyWorks...\n",
    "class bathAndBodyWorks:\n",
    "    def scrapData(website):\n",
    "        global productNames, productPrice,imageSrc,driver,productDetail,imageSrc1\n",
    "        productsDict={}\n",
    "        productNames=[]\n",
    "        productDetail=[]\n",
    "        productPrice=[]\n",
    "        imageSrc=[]\n",
    "        imageSrc1=[]\n",
    "        subCategory=[]\n",
    "        driver=None\n",
    "        \n",
    "        driver = webdriver.Chrome(service=Service(ChromeDriverManager().install()))\n",
    "        driver.get(website)\n",
    "        try:\n",
    "            while True:       \n",
    "\n",
    "                    time.sleep(120)\n",
    "                    loadMoreButton=WebDriverWait(driver, 120).until(EC.presence_of_element_located(\n",
    "                            (By.XPATH,'//li[@class=\"first-last next\"]/a[@class=\"page-next\"]')))     \n",
    "\n",
    "                    loadMoreButton.click()\n",
    "                    loadMoreButton=None                \n",
    "\n",
    "        except: \n",
    "#          (TimeoutException,NoSuchElementException,StaleElementReferenceException,MaxRetryError\n",
    "#               ,ConnectionRefusedError,NewConnectionError,NoSuchWindowException):\n",
    "            pass\n",
    "        \n",
    "        \n",
    "        \n",
    "#         productNames1=WebDriverWait(driver, 30).until(\n",
    "#             EC.presence_of_all_elements_located((By.XPATH\n",
    "#             ,'//div[@class=\"search-result-content\"]/ul[@id=\"search-result-items\"]//h3[@class=\"product-name\"][1]')))    \n",
    "\n",
    "#         for pname in productNames1:\n",
    "#             print(pname.text)\n",
    "#             productNames.append(pname.text)    \n",
    "            \n",
    "        time.sleep(30)\n",
    "        driver.delete_all_cookies()\n",
    "        driver.close()\n",
    "        driver.quit()  \n",
    "        print('done........')            \n",
    "\n",
    "\n",
    "\n"
   ]
  },
  {
   "cell_type": "code",
   "execution_count": null,
   "id": "134e6f45",
   "metadata": {},
   "outputs": [],
   "source": [
    "scrapData=bathAndBodyWorks"
   ]
  },
  {
   "cell_type": "code",
   "execution_count": null,
   "id": "559e29f2",
   "metadata": {},
   "outputs": [],
   "source": [
    "scrapData.scrapData('https://www.bathandbodyworks.com/c/body-care/all-moisturizers')"
   ]
  },
  {
   "cell_type": "markdown",
   "id": "a508e7a0",
   "metadata": {},
   "source": [
    "# End......"
   ]
  },
  {
   "cell_type": "code",
   "execution_count": null,
   "id": "7c5f3f20",
   "metadata": {},
   "outputs": [],
   "source": [
    "class _scrpWebWaitProdImages:   \n",
    "\n",
    "    def __init__(self, website):\n",
    "        global productNames, productPrice,imageSrc,driver,productDetail,imageSrc1\n",
    "        productsDict={}\n",
    "        productNames=[]\n",
    "        productDetail=[]\n",
    "        productPrice=[]\n",
    "        imageSrc=[]\n",
    "        imageSrc1=[]\n",
    "        subCategory=[]\n",
    "        driver=None\n",
    "        import gc  \n",
    "        self.website = website\n",
    "        driver = webdriver.Chrome(service=Service(\n",
    "            ChromeDriverManager().install()))\n",
    "\n",
    "        driver.get(website)\n",
    "\n",
    "        time.sleep(30)\n",
    "        btn=WebDriverWait(driver, 30).until(EC.presence_of_element_located((By.XPATH\n",
    "                    ,'//button[text()=\"Accept all cookies\"]')))  \n",
    "        btn.click()  \n",
    "        btn=None\n",
    "        try:\n",
    "            while True:       \n",
    "          \n",
    "                    time.sleep(60)\n",
    "                    loadMoreButton=WebDriverWait(driver, 120).until(EC.presence_of_element_located(\n",
    "                            (By.XPATH,'//button[contains(text(),\"Load more\")]')))     \n",
    "\n",
    "                    loadMoreButton.click()\n",
    "                    loadMoreButton=None                \n",
    "               \n",
    "        except: \n",
    "#          (TimeoutException,NoSuchElementException,StaleElementReferenceException,MaxRetryError\n",
    "#               ,ConnectionRefusedError,NewConnectionError,NoSuchWindowException):\n",
    "            pass\n",
    "\n",
    "\n",
    "#         try:\n",
    "# # Product Details...\n",
    "#             time.sleep(30)\n",
    "#             productDetail1=WebDriverWait(driver, 120).until(\n",
    "#             EC.presence_of_all_elements_located((By.XPATH\n",
    "#                 ,'//div[contains(@class,\"c-Grid-styles__Wrapper-sc-7b9df201-2 XkYBc\")]//p[@class=\"text__Text-sc-fac938e2-0 product-card__Strapline-sc-a4c933fb-5 CIHoe hFslzk\"][1]')))    \n",
    "\n",
    "#             for prodDtl in productDetail1:\n",
    "#                 productDetail.append(prodDtl.text)  \n",
    "\n",
    "# # prod price:\n",
    "\n",
    "#             time.sleep(30)\n",
    "#             productPrice1=WebDriverWait(driver, 120).until(\n",
    "#             EC.presence_of_all_elements_located((By.XPATH\n",
    "#                 ,'//div[contains(@class,\"c-Grid-styles__Wrapper-sc-7b9df201-2 XkYBc\")]//span[@class=\"product-card__MoneyText-sc-a4c933fb-9 iPIKwB\"][1]')))    \n",
    "\n",
    "#             for prodPrice in productPrice1:\n",
    "#                 productPrice.append(prodPrice.text)   \n",
    "#         except:\n",
    "#             pass\n",
    "\n",
    "\n",
    "        try:\n",
    "# Product Images: \n",
    "#             print('images....')\n",
    "            time.sleep(30)\n",
    "#             global productNames\n",
    "#             productNames=[]\n",
    "            productNames1=WebDriverWait(driver, 120).until(\n",
    "            EC.presence_of_all_elements_located((By.XPATH\n",
    "            ,'//div[contains(@class,\"c-Grid-styles__Wrapper-sc-7b9df201-2 XkYBc\")]//h3[@class=\"text__Text-sc-fac938e2-0 product-card__Name-sc-a4c933fb-4 cKOjOB iFwJeI\"][1]')))    \n",
    "\n",
    "            for pname in productNames1:\n",
    "#                 print(pname.text)\n",
    "                productNames.append(pname.text)           \n",
    "\n",
    "            for pn in range(0,len(productNames)):\n",
    "                imageUrl=None\n",
    "                prod=productNames[pn]\n",
    "#                 print(prod)\n",
    "                imageUrl=f'''img[alt='{prod}']'''\n",
    "            #     print(imageUrl)\n",
    "                try:\n",
    "                    primages=driver.find_element(by=By.CSS_SELECTOR,value=(imageUrl))   \n",
    "#                     print(primages)\n",
    "            #         print(primages.get_attribute(\"src\"))\n",
    "                    imageSrc.append(primages.get_attribute(\"src\"))\n",
    "\n",
    "                except Exception as e:\n",
    "            #         print('except.....',str(e))\n",
    "                     if 'invalid selector' in str(e):\n",
    "                        pass\n",
    "            #             print(primages.get_attribute(\"src\"))\n",
    "                        imageSrc.append(primages.get_attribute(\"not found\"))\n",
    "\n",
    "            #     imageSrc1.append(primages)\n",
    "\n",
    "\n",
    " \n",
    "                        \n",
    "        except:\n",
    "            pass\n",
    "\n",
    "        finally:\n",
    "            time.sleep(60)\n",
    "            driver.delete_all_cookies()\n",
    "            driver.close()\n",
    "            driver.quit()  \n",
    "            print('done........')"
   ]
  },
  {
   "cell_type": "code",
   "execution_count": null,
   "id": "4c53e943",
   "metadata": {},
   "outputs": [],
   "source": [
    "len(imageSrc1)"
   ]
  },
  {
   "cell_type": "code",
   "execution_count": null,
   "id": "8e830ed1",
   "metadata": {},
   "outputs": [],
   "source": [
    "a=_scrpWebWait('https://www.lush.com/uk/en/c/bath-bombs')"
   ]
  },
  {
   "cell_type": "code",
   "execution_count": null,
   "id": "9c4777e0",
   "metadata": {},
   "outputs": [],
   "source": [
    "# ***************\n",
    "a=_scrpWebWaitProdImages('https://www.lush.com/uk/en/c/shampoo')"
   ]
  },
  {
   "cell_type": "code",
   "execution_count": null,
   "id": "03ecdeff",
   "metadata": {},
   "outputs": [],
   "source": [
    "imageSrc"
   ]
  },
  {
   "cell_type": "code",
   "execution_count": null,
   "id": "564e46f6",
   "metadata": {},
   "outputs": [],
   "source": [
    "a=_scrpWebWait"
   ]
  },
  {
   "cell_type": "code",
   "execution_count": null,
   "id": "15b1ff03",
   "metadata": {},
   "outputs": [],
   "source": [
    "a.scrapProdImages('https://www.lush.com/uk/en/c/bath-bombs')"
   ]
  },
  {
   "cell_type": "code",
   "execution_count": null,
   "id": "001f8fad",
   "metadata": {},
   "outputs": [],
   "source": [
    "print('Product Names ',len(productNames))\n",
    "print('Product detail ',len(productDetail))\n",
    "print('Product Price ',len(productPrice))\n",
    "print('image src ',len(imageSrc))"
   ]
  },
  {
   "cell_type": "code",
   "execution_count": null,
   "id": "cba083b2",
   "metadata": {},
   "outputs": [],
   "source": [
    "imageSrc"
   ]
  },
  {
   "cell_type": "code",
   "execution_count": null,
   "id": "34fea36f",
   "metadata": {},
   "outputs": [],
   "source": [
    "global imageSrc1\n",
    "for pn in range(0,len(productNames)):\n",
    "    imageUrl=None\n",
    "    prod=productNames[pn]\n",
    "    imageSrc1.append(primages)\n",
    "    print(prod)"
   ]
  },
  {
   "cell_type": "code",
   "execution_count": null,
   "id": "c88ffb7c",
   "metadata": {},
   "outputs": [],
   "source": [
    "for x in range(0,len(imageSrc1)):\n",
    "#     print(imageSrc1[x])\n",
    "#     imageSrc.append(imageSrc1[x].get_attribute(\"src\"))\n",
    "    print(imageSrc1[x].get_attribute(\"src\"))\n",
    "    "
   ]
  },
  {
   "cell_type": "code",
   "execution_count": null,
   "id": "3779df28",
   "metadata": {},
   "outputs": [],
   "source": [
    "global productNames,imageSrc\n",
    "\n",
    "productsDict={'Product':productNames,'Product_Image':imageSrc}\n",
    "df=pd.DataFrame.from_dict(productsDict)\n",
    "#     df.insert(loc=0,column='Category',value=category)\n",
    "#     df.insert(loc=0,column='Head',value='Kids')\n",
    "\n",
    "print(df.info())\n",
    "print(df.head())"
   ]
  },
  {
   "cell_type": "code",
   "execution_count": null,
   "id": "9558b269",
   "metadata": {},
   "outputs": [],
   "source": [
    "imageSrc=[]\n",
    "for pn in range(0,len(productNames)):\n",
    "    productDesc=productNames[pn]\n",
    "#     print(productDesc)\n",
    "    imageUrl=f'''//div[@class=\"flex__Flex-sc-2d867263-0 product-card__ImageContainer-sc-a4c933fb-2 eziUEP jLkqUY\"]//img[@alt=\"{productDesc}\"] '''\n",
    "    primages=WebDriverWait(driver,20).until(\n",
    "         EC.presence_of_element_located(By.XPATH,imageUrl)       \n",
    "    )\n",
    "#     primages=driver.find_element(by=By.XPATH,value=(imageUrl))\n",
    "#     imageSrc.append(primages)"
   ]
  },
  {
   "cell_type": "code",
   "execution_count": null,
   "id": "369c9456",
   "metadata": {},
   "outputs": [],
   "source": [
    "len(imageSrc)"
   ]
  },
  {
   "cell_type": "code",
   "execution_count": null,
   "id": "6bd0f8b5",
   "metadata": {},
   "outputs": [],
   "source": [
    "global imageSrc,productNames,productDetail,product_price"
   ]
  },
  {
   "cell_type": "code",
   "execution_count": null,
   "id": "f4958ee6",
   "metadata": {},
   "outputs": [],
   "source": [
    "len(productPrice)"
   ]
  },
  {
   "cell_type": "code",
   "execution_count": null,
   "id": "d71efdf1",
   "metadata": {},
   "outputs": [],
   "source": [
    "# global productDetail\n",
    "print('xxxx')\n",
    "print(len(productDetail))"
   ]
  },
  {
   "cell_type": "code",
   "execution_count": null,
   "id": "c8df0537",
   "metadata": {},
   "outputs": [],
   "source": [
    "def getProdNamesImages():\n",
    "    global productNames,imageSrc,imageSrc1\n",
    "    productNames=[]\n",
    "    imageSrc=[]\n",
    "    imageSrc1=[]\n",
    "    prodImage=None\n",
    "    \n",
    "    driver = webdriver.Chrome(service=Service(\n",
    "        ChromeDriverManager().install()))\n",
    "\n",
    "    # open website\n",
    "    driver.get('https://www.lush.com/uk/en/c/bath-bombs')\n",
    "    btn=WebDriverWait(driver, 30).until(EC.presence_of_element_located((By.XPATH\n",
    "                ,'//button[text()=\"Accept all cookies\"]')))  \n",
    "    btn.click()  \n",
    "    btn=None\n",
    "    try:\n",
    "        while True:       \n",
    "\n",
    "                time.sleep(60)\n",
    "                loadMoreButton=WebDriverWait(driver, 120).until(EC.presence_of_element_located(\n",
    "                        (By.XPATH,'//button[contains(text(),\"Load more\")]')))     \n",
    "\n",
    "                loadMoreButton.click()\n",
    "                loadMoreButton=None                \n",
    "\n",
    "    except: \n",
    "    #          (TimeoutException,NoSuchElementException,StaleElementReferenceException,MaxRetryError\n",
    "    #               ,ConnectionRefusedError,NewConnectionError,NoSuchWindowException):\n",
    "        pass\n",
    "    try:\n",
    "        productNames1=WebDriverWait(driver, 120).until(\n",
    "        EC.presence_of_all_elements_located((By.XPATH\n",
    "        ,'//div[contains(@class,\"c-Grid-styles__Wrapper-sc-7b9df201-2 XkYBc\")]//h3[@class=\"text__Text-sc-fac938e2-0 product-card__Name-sc-a4c933fb-4 cKOjOB iFwJeI\"][1]')))    \n",
    "\n",
    "        for pname in productNames1:\n",
    "            productNames.append(pname.text)    \n",
    "#             print(pname.text) \n",
    "\n",
    "        for pn in range(0,len(productNames)):\n",
    "            imageUrl=None\n",
    "            prod=productNames[pn]\n",
    "#             print(prod)\n",
    "            imageUrl=f'''img[alt='{prod}']'''\n",
    "        #     print(imageUrl)\n",
    "            try:\n",
    "                primages=driver.find_element(by=By.CSS_SELECTOR,value=(imageUrl))   \n",
    "#                 print(primages)\n",
    "        #         print(primages.get_attribute(\"src\"))\n",
    "                imageSrc.append(primages.get_attribute(\"src\"))\n",
    "\n",
    "            except Exception as e:\n",
    "        #         print('except.....',str(e))\n",
    "                 if 'invalid selector' in str(e):\n",
    "                    pass\n",
    "        #             print(primages.get_attribute(\"src\"))\n",
    "                    imageSrc.append(primages.get_attribute(\"not found\"))\n",
    "\n",
    "        #     imageSrc1.append(primages)\n",
    "\n",
    "\n",
    "    except:\n",
    "        pass;\n",
    "    time.sleep(20)\n",
    "    driver.delete_all_cookies()\n",
    "    driver.close()\n",
    "    driver.quit()  \n",
    "    print('done........')\n",
    "    "
   ]
  },
  {
   "cell_type": "code",
   "execution_count": null,
   "id": "91946631",
   "metadata": {},
   "outputs": [],
   "source": [
    "getProdNamesImages()"
   ]
  },
  {
   "cell_type": "code",
   "execution_count": 29,
   "id": "ad4e38be",
   "metadata": {},
   "outputs": [
    {
     "name": "stdout",
     "output_type": "stream",
     "text": [
      "Product Names  10\n",
      "Product detail  0\n",
      "Product Price  0\n",
      "image src  0\n"
     ]
    }
   ],
   "source": [
    "print('Product Names ',len(productNames))\n",
    "print('Product detail ',len(productDetail))\n",
    "print('Product Price ',len(productPrice))\n",
    "print('image src ',len(imageSrc))"
   ]
  },
  {
   "cell_type": "code",
   "execution_count": null,
   "id": "1f72fc58",
   "metadata": {},
   "outputs": [],
   "source": [
    "imageSrc"
   ]
  },
  {
   "cell_type": "code",
   "execution_count": null,
   "id": "26bbef0b",
   "metadata": {},
   "outputs": [],
   "source": [
    "prodImage=None\n",
    "driver = webdriver.Chrome(service=Service(\n",
    "    ChromeDriverManager().install()))\n",
    "\n",
    "# open website\n",
    "driver.get('https://www.lush.com/uk/en/c/bath-bombs')\n",
    "btn=WebDriverWait(driver, 30).until(EC.presence_of_element_located((By.XPATH\n",
    "            ,'//button[text()=\"Accept all cookies\"]')))  \n",
    "btn.click()  \n",
    "btn=None\n",
    "try:\n",
    "    while True:       \n",
    "\n",
    "            time.sleep(60)\n",
    "            loadMoreButton=WebDriverWait(driver, 120).until(EC.presence_of_element_located(\n",
    "                    (By.XPATH,'//button[contains(text(),\"Load more\")]')))     \n",
    "\n",
    "            loadMoreButton.click()\n",
    "            loadMoreButton=None                \n",
    "\n",
    "except: \n",
    "#          (TimeoutException,NoSuchElementException,StaleElementReferenceException,MaxRetryError\n",
    "#               ,ConnectionRefusedError,NewConnectionError,NoSuchWindowException):\n",
    "    pass"
   ]
  },
  {
   "cell_type": "code",
   "execution_count": null,
   "id": "a4e4063b",
   "metadata": {},
   "outputs": [],
   "source": [
    "# Product Names\n",
    "global productNames\n",
    "productNames=[]\n",
    "productNames1=WebDriverWait(driver, 120).until(\n",
    "EC.presence_of_all_elements_located((By.XPATH\n",
    ",'//div[contains(@class,\"c-Grid-styles__Wrapper-sc-7b9df201-2 XkYBc\")]//h3[@class=\"text__Text-sc-fac938e2-0 product-card__Name-sc-a4c933fb-4 cKOjOB iFwJeI\"][1]')))    \n",
    "\n",
    "for pname in productNames1:\n",
    "    productNames.append(pname.text)    \n",
    "    print(pname.text)"
   ]
  },
  {
   "cell_type": "code",
   "execution_count": null,
   "id": "e32a1ea0",
   "metadata": {},
   "outputs": [],
   "source": [
    "global imageSrc,imageSrc1\n",
    "imageSrc=[]\n",
    "imageSrc1=[]\n",
    "\n",
    "\n",
    "for pn in range(0,len(productNames)):\n",
    "    imageUrl=None\n",
    "    prod=productNames[pn]\n",
    "    print(prod)\n",
    "    imageUrl=f'''img[alt='{prod}']'''\n",
    "#     print(imageUrl)\n",
    "    try:\n",
    "        primages=driver.find_element(by=By.CSS_SELECTOR,value=(imageUrl))   \n",
    "        print(primages)\n",
    "#         print(primages.get_attribute(\"src\"))\n",
    "        imageSrc.append(primages.get_attribute(\"src\"))\n",
    "        \n",
    "    except Exception as e:\n",
    "#         print('except.....',str(e))\n",
    "         if 'invalid selector' in str(e):\n",
    "            pass\n",
    "#             print(primages.get_attribute(\"src\"))\n",
    "            imageSrc.append(primages.get_attribute(\"not found\"))\n",
    "\n",
    "#     imageSrc1.append(primages)\n",
    "\n",
    "\n",
    "\n",
    "\n",
    "    \n",
    "    "
   ]
  },
  {
   "cell_type": "code",
   "execution_count": null,
   "id": "b8823ba8",
   "metadata": {},
   "outputs": [],
   "source": [
    "imageSrc"
   ]
  },
  {
   "cell_type": "code",
   "execution_count": null,
   "id": "691cdff7",
   "metadata": {},
   "outputs": [],
   "source": [
    "productNames"
   ]
  },
  {
   "cell_type": "code",
   "execution_count": null,
   "id": "a64fd88d",
   "metadata": {},
   "outputs": [],
   "source": [
    "len(imageSrc)"
   ]
  },
  {
   "cell_type": "code",
   "execution_count": null,
   "id": "3eccd9d9",
   "metadata": {},
   "outputs": [],
   "source": [
    "imageSrc"
   ]
  },
  {
   "cell_type": "code",
   "execution_count": null,
   "id": "1a02e812",
   "metadata": {},
   "outputs": [],
   "source": [
    "driver.delete_all_cookies()\n",
    "driver.close()\n",
    "driver.quit()  "
   ]
  },
  {
   "cell_type": "code",
   "execution_count": null,
   "id": "7e90b8b4",
   "metadata": {},
   "outputs": [],
   "source": [
    "productsDict={}\n",
    "productsDict={'Product':productNames,'Product_Details':productDetail ,'Product_Price':productPrice ,'Images':imageSrc           }\n",
    "df=pd.DataFrame.from_dict(productsDict)\n",
    "# df.insert(loc=0,column='Category',value=category)\n",
    "# df.insert(loc=0,column='Head',value='Kids')\n",
    "print(df.info())\n",
    "# df.to_csv('lush.csv')\n",
    "    "
   ]
  },
  {
   "cell_type": "code",
   "execution_count": null,
   "id": "279530c9",
   "metadata": {},
   "outputs": [],
   "source": [
    "imageSrc"
   ]
  },
  {
   "cell_type": "code",
   "execution_count": null,
   "id": "50adafed",
   "metadata": {},
   "outputs": [],
   "source": [
    "for x in range(0,len(productNames)):\n",
    "    print(productNames[x])\n",
    "#     print(imageSrc[x].get_attribute(\"src\"))\n",
    "    "
   ]
  },
  {
   "cell_type": "code",
   "execution_count": null,
   "id": "e302bca7",
   "metadata": {
    "scrolled": true
   },
   "outputs": [],
   "source": [
    "# class _scrpWebWait:  \n",
    "    \n",
    "#     global productNames, productPrice,imageSrc,driver\n",
    "\n",
    "#     productsDict={}\n",
    "#     productNames=[]\n",
    "#     productPrice=[]\n",
    "#     imageSrc=[]\n",
    "#     subCategory=[]\n",
    "#     driver=None\n",
    "\n",
    "#     def __init__(self, website):\n",
    "#         self.website = website\n",
    "#         driver = webdriver.Chrome(service=Service(\n",
    "#             ChromeDriverManager().install()))\n",
    "\n",
    "#         # open website\n",
    "#         driver.get(website)\n",
    "#         productNames1 = []\n",
    "#         productPrice1 = []\n",
    "#         imageSrc1=[]\n",
    "\n",
    "#         currentPage = 0\n",
    "#         pagination = driver.find_element(\n",
    "#             by=By.XPATH, value=('//div[@class=\"paginate-bottom\"]'))\n",
    "#         pages = pagination.find_elements(by=By.TAG_NAME, value='span')\n",
    "#         lastPage = int(pages[-2].text)\n",
    "        \n",
    "#         while currentPage<=lastPage:            \n",
    "            \n",
    "#             productNames1 =WebDriverWait(driver, 120).until(\n",
    "#                 EC.presence_of_all_elements_located((By.XPATH\n",
    "#                         ,'//div[@class=\"grid__item large--seven-tenths right js-de-ProductTilesObserver\"]//h4[1]')))    \n",
    "          \n",
    "#             for pname in productNames1:\n",
    "#                 productNames.append(pname.text)\n",
    "\n",
    "#             productPrice1=WebDriverWait(driver, 120).until(EC.presence_of_all_elements_located((By.XPATH\n",
    "#                                     ,'//span[@class=\"js-de-ProductTile-currentPrice\"][1]')))    \n",
    "            \n",
    "#             for price in productPrice1:\n",
    "#                 productPrice.append(price.text)\n",
    "                \n",
    "#             imageSrc1 =WebDriverWait(driver, 120).until(\n",
    "#                 EC.presence_of_all_elements_located((By.XPATH\n",
    "#                         , '//div[@class=\"de-productTile-showcaseImageContainer\"]/img[1]')))  \n",
    "          \n",
    "#             for pImage in imageSrc1:\n",
    "#                 imageSrc.append(pImage.get_attribute(\"data-src\"))                \n",
    "                \n",
    "#             time.sleep(60)\n",
    "#             currentPage=currentPage+1\n",
    "#             try:\n",
    "#                 productNames1 = []\n",
    "#                 productPrice1 = []\n",
    "#                 imageSrc1=[]\n",
    "                \n",
    "# #                 WebDriverWait(browser, 5).until(EC.alert_is_present(), 'Timed out waiting for alerts to appear')\n",
    "# #                 alert = browser.switch_to.alert\n",
    "# #                 alert.accept()\n",
    "\n",
    "#                 nextPage=WebDriverWait(driver, 120).until(\n",
    "#                     EC.presence_of_element_located((By.XPATH, '//span[@class=\"next\"]')))    \n",
    "#                 nextPage.click()\n",
    "                \n",
    "#             except (TimeoutException,NoSuchElementException,StaleElementReferenceException):\n",
    "#                 pass\n",
    "            \n",
    "#         driver.close()\n",
    "#         driver.quit()"
   ]
  },
  {
   "cell_type": "code",
   "execution_count": 8,
   "id": "a1f78444",
   "metadata": {
    "scrolled": false
   },
   "outputs": [
    {
     "name": "stdout",
     "output_type": "stream",
     "text": [
      "https://www.bathnbloom.com/store/c33/ThaiJasmineCollection\n"
     ]
    },
    {
     "name": "stderr",
     "output_type": "stream",
     "text": [
      "[WDM] - Downloading: 100%|████████████████████████████████████████████████████████| 6.30M/6.30M [00:05<00:00, 1.24MB/s]\n"
     ]
    },
    {
     "name": "stdout",
     "output_type": "stream",
     "text": [
      "doneee...\n"
     ]
    }
   ],
   "source": [
    "\n",
    "global productNames,productDetail,productPrice,imageSrc,subCategory\n",
    "\n",
    "# print('Product Names ',len(productNames))\n",
    "# print('Product detail ',len(productDetail))\n",
    "# print('Product Price ',len(productPrice))\n",
    "# print('image src ',len(imageSrc))\n",
    "\n",
    "# global subCategory\n",
    "# getSubCategory()\n",
    "\n",
    "# productsDict={}\n",
    "# productNames=[]\n",
    "# productDetails=[]\n",
    "# productPrice=[]\n",
    "# imageSrc=[]\n",
    "# # subCategory=[]\n",
    "# driver=None\n",
    "\n",
    "subCategory=[\n",
    "#  'https://www.bathnbloom.com/store/c17/Heavenly_Gifts.html'\n",
    "\n",
    " 'https://www.bathnbloom.com/store/c33/ThaiJasmineCollection'\n",
    "#  'https://www.bathnbloom.com/store/c34/LemongrassMintCollection'\n",
    "            ]\n",
    "\n",
    "# subCategory\n",
    "\n",
    "for subCat in range(0,len(subCategory)):\n",
    "    website=subCategory[subCat]\n",
    "    print(subCategory[subCat])\n",
    "#     a=_scrpWebWaitProdImages(website)\n",
    "    getBathBloomData(website)\n",
    "#     category=website.replace('https://www.lush.com/uk/en/c/','')\n",
    "        \n",
    "#     print(subCategory[subCat])\n",
    "#     global checkAttributeStatus\n",
    "#     checkAttributeStatus=checkAttribute(subCategory[subCat])\n",
    "#     print(checkAttributeStatus)\n",
    "    \n",
    "#     if checkAttributeStatus=='Found':\n",
    "#         webPage=subCategory[subCat]\n",
    "#         category=webPage.replace('https://www.decathlon.com/collections/','')\n",
    "#         a=_scrpWebWait(webPage)\n",
    "#         productDetail\n",
    "#     else:\n",
    "#         webPage=subCategory[subCat]\n",
    "#         category=webPage.replace('https://www.decathlon.com/collections/','')\n",
    "#         a=_scrpWebWaitNoPage(webPage)\n",
    "    \n",
    "#     creating DataFrame\n",
    "#     product_list=[]\n",
    "#     for p in productNames:\n",
    "#         product_list.append(p)\n",
    "\n",
    "#     product_details=[]\n",
    "#     for p in productDetail:\n",
    "#         product_details.append(p)\n",
    "        \n",
    "        \n",
    "#     product_price=[]\n",
    "#     for pr in productPrice:\n",
    "#         product_price.append(pr)\n",
    "\n",
    "#     product_price=[]\n",
    "#     for pim in imageSrc:\n",
    "#         product_image.append(pim)        \n",
    "\n",
    "    productsDict={'Product':productNames, 'Product_Price':productPrice,'Product_Image':imageSrc}\n",
    "    df=pd.DataFrame.from_dict(productsDict)\n",
    "    df.insert(loc=0,column='Category',value='ThaiJasmineCollection')\n",
    "#     df.insert(loc=0,column='Head',value='Kids')\n",
    "    \n",
    "#     print(df)\n",
    "    df.to_csv(f'c://WebScrapping1/bathandbloom/ThaiJasmineCollection.csv',index=False)\n"
   ]
  },
  {
   "cell_type": "code",
   "execution_count": 40,
   "id": "3a4050de",
   "metadata": {},
   "outputs": [
    {
     "name": "stdout",
     "output_type": "stream",
     "text": [
      "Product Names  1\n",
      "Product detail  0\n",
      "Product Price  1\n",
      "image src  1\n"
     ]
    }
   ],
   "source": [
    "print('Product Names ',len(productNames))\n",
    "print('Product detail ',len(productDetail))\n",
    "print('Product Price ',len(productPrice))\n",
    "print('image src ',len(imageSrc))"
   ]
  },
  {
   "cell_type": "code",
   "execution_count": null,
   "id": "dfabad18",
   "metadata": {},
   "outputs": [],
   "source": [
    "len(imageSrc)"
   ]
  },
  {
   "cell_type": "code",
   "execution_count": 10,
   "id": "3fcb006f",
   "metadata": {},
   "outputs": [
    {
     "data": {
      "text/plain": [
       "[None,\n",
       " None,\n",
       " None,\n",
       " None,\n",
       " None,\n",
       " None,\n",
       " None,\n",
       " None,\n",
       " None,\n",
       " None,\n",
       " None,\n",
       " None,\n",
       " None,\n",
       " None,\n",
       " None,\n",
       " None,\n",
       " None,\n",
       " None,\n",
       " None,\n",
       " None,\n",
       " None,\n",
       " None,\n",
       " None,\n",
       " None,\n",
       " None,\n",
       " None,\n",
       " None,\n",
       " None]"
      ]
     },
     "execution_count": 10,
     "metadata": {},
     "output_type": "execute_result"
    }
   ],
   "source": [
    "getSubCategory('https://www.bathnbloom.com/store/c7/Spa_N_Aromatherapy.html')\n",
    "subCategory"
   ]
  },
  {
   "cell_type": "code",
   "execution_count": null,
   "id": "d1a873e8",
   "metadata": {
    "scrolled": true
   },
   "outputs": [],
   "source": [
    "checkAttributeStatus=checkAttribute('https://www.decathlon.com/collections/hike-camp-deals')\n",
    "checkAttributeStatus"
   ]
  },
  {
   "cell_type": "code",
   "execution_count": null,
   "id": "95589d16",
   "metadata": {
    "scrolled": true
   },
   "outputs": [],
   "source": [
    "driver.close()"
   ]
  },
  {
   "cell_type": "code",
   "execution_count": null,
   "id": "94ca366a",
   "metadata": {
    "scrolled": true
   },
   "outputs": [],
   "source": [
    "subCategoryData=driver.find_elements(by=By.XPATH,value=('//ul[@class=\"de-u-listReset\"]//a[@href]'))\n"
   ]
  },
  {
   "cell_type": "code",
   "execution_count": null,
   "id": "feb691b2",
   "metadata": {
    "scrolled": true
   },
   "outputs": [],
   "source": [
    "len(subCategoryData)"
   ]
  },
  {
   "cell_type": "code",
   "execution_count": null,
   "id": "7b40cd4a",
   "metadata": {
    "scrolled": true
   },
   "outputs": [],
   "source": [
    "global subCategory\n",
    "for subCat in subCategoryData:\n",
    "#     print(subCat.get_attribute(\"href\"))\n",
    "    subCategory.append(subCat.get_attribute(\"href\"))"
   ]
  },
  {
   "cell_type": "code",
   "execution_count": null,
   "id": "4665ed07",
   "metadata": {
    "scrolled": true
   },
   "outputs": [],
   "source": [
    "for s in range(0, len(subCategory)):\n",
    "    print(\"'\"+subCategory[s]+\"',\")"
   ]
  },
  {
   "cell_type": "code",
   "execution_count": null,
   "id": "3724793c",
   "metadata": {
    "scrolled": true
   },
   "outputs": [],
   "source": [
    "productsDict.clear()\n",
    "productNames=[]\n",
    "productPrice=[]\n",
    "subCategory=[]"
   ]
  },
  {
   "cell_type": "code",
   "execution_count": null,
   "id": "ee26912c",
   "metadata": {
    "scrolled": true
   },
   "outputs": [],
   "source": [
    "productsDict"
   ]
  },
  {
   "cell_type": "code",
   "execution_count": null,
   "id": "a44a5726",
   "metadata": {
    "scrolled": true
   },
   "outputs": [],
   "source": [
    "# global driver\n",
    "# driver.close()\n"
   ]
  },
  {
   "cell_type": "markdown",
   "id": "9b335f47",
   "metadata": {},
   "source": [
    "# End"
   ]
  },
  {
   "cell_type": "code",
   "execution_count": null,
   "id": "c380184f",
   "metadata": {},
   "outputs": [],
   "source": [
    "driver.close()"
   ]
  },
  {
   "cell_type": "code",
   "execution_count": null,
   "id": "805e7ac0",
   "metadata": {},
   "outputs": [],
   "source": [
    "driver.quit()"
   ]
  },
  {
   "cell_type": "markdown",
   "id": "b07d0110",
   "metadata": {},
   "source": [
    "# # pagination next page"
   ]
  },
  {
   "cell_type": "code",
   "execution_count": null,
   "id": "ecfbccea",
   "metadata": {},
   "outputs": [],
   "source": [
    "driver.quit()"
   ]
  },
  {
   "cell_type": "code",
   "execution_count": null,
   "id": "b6e40adf",
   "metadata": {},
   "outputs": [],
   "source": [
    "a=_scrpWebWait('https://www.lush.com/uk/en/c/bath-bombs')"
   ]
  },
  {
   "cell_type": "code",
   "execution_count": null,
   "id": "f9d94ede",
   "metadata": {},
   "outputs": [],
   "source": [
    "getSubCategory()\n",
    "subCategory"
   ]
  },
  {
   "cell_type": "code",
   "execution_count": null,
   "id": "d9ec753b",
   "metadata": {},
   "outputs": [],
   "source": [
    "prodImage=None\n",
    "driver = webdriver.Chrome(service=Service(\n",
    "    ChromeDriverManager().install()))\n",
    "\n",
    "# open website\n",
    "driver.get('https://www.lush.com/uk/en/c/handmade-soap')\n",
    "btn=WebDriverWait(driver, 30).until(EC.presence_of_element_located((By.XPATH\n",
    "                    ,'//button[text()=\"Accept all cookies\"]')))  \n",
    "btn.click()  \n"
   ]
  },
  {
   "cell_type": "code",
   "execution_count": null,
   "id": "e1f6b2c8",
   "metadata": {},
   "outputs": [],
   "source": [
    "# getting products image...\n",
    "global imageSrc\n",
    "imageSrc=[]\n",
    "\n",
    "imageSrc1 =WebDriverWait(driver, 200).until(EC.presence_of_all_elements_located((By.XPATH\n",
    "    ,'//div[@class=\"grid__Wrapper-sc-a19bb341-0 igawnv\"]//img[contains(@src,\"png\")][1]')))\n",
    "\n",
    "\n",
    "# len(imageSrc1)\n",
    "\n",
    "# choices = driver.find_elements_by_xpath(\"//div[contains(.,'5') and contains(@class, 'option')]\")    \n",
    "\n",
    "#     print(dx[x].get_attribute(\"src\"))\n",
    "#     print(x)\n",
    "    \n",
    "# # print('leng prodImages : '+len(prodImages))\n",
    "# for x in range(0,len(prodImages)):\n",
    "#     imageSrc.append(prodImages[x].get_attribute(\"src\"))\n",
    "\n",
    "# len(imageSrc)\n",
    "    \n",
    " "
   ]
  },
  {
   "cell_type": "code",
   "execution_count": null,
   "id": "27d6b174",
   "metadata": {},
   "outputs": [],
   "source": [
    "# imageSrc\n",
    "# for x in range(0,len(imageSrc)):\n",
    "#     print(imageSrc[x])\n",
    "df=pd.DataFrame(imageSrc)"
   ]
  },
  {
   "cell_type": "code",
   "execution_count": null,
   "id": "d053fc80",
   "metadata": {},
   "outputs": [],
   "source": [
    "df.to_csv('images.csv')"
   ]
  },
  {
   "cell_type": "code",
   "execution_count": null,
   "id": "da2c9c1a",
   "metadata": {},
   "outputs": [],
   "source": [
    "driver.delete_all_cookies()\n",
    "driver.close()\n",
    "driver.quit()   "
   ]
  },
  {
   "cell_type": "code",
   "execution_count": null,
   "id": "bf796f76",
   "metadata": {},
   "outputs": [],
   "source": [
    "len(imageSrc)"
   ]
  },
  {
   "cell_type": "code",
   "execution_count": null,
   "id": "d1cb86ee",
   "metadata": {},
   "outputs": [],
   "source": [
    "prodImage=None\n",
    "driver = webdriver.Chrome(service=Service(\n",
    "    ChromeDriverManager().install()))\n",
    "\n",
    "# open website\n",
    "driver.get('https://www.lush.com/uk/en/c/handmade-soap')\n",
    "\n",
    "try:\n",
    "    btn=WebDriverWait(driver, 30).until(EC.presence_of_element_located((By.XPATH\n",
    "                        ,'//button[text()=\"Accept all cookies\"]')))  \n",
    "    \n",
    "#     driver.find_element(by=By.XPATH,value=('//button[text()=\"Accept all cookies\"]'))\n",
    "    btn.click()  \n",
    "\n",
    "    prodImage=WebDriverWait(driver, 60).until(EC.presence_of_all_elements_located((By.XPATH\n",
    "                        ,'//div[@class=\"grid__Wrapper-sc-a19bb341-0 igawnv\"]//img[contains(@src,\".png\")]')))   \n",
    "\n",
    "#     driver.find_elements(by=By.XPATH\n",
    "#                             ,value=('//div[@class=\"grid__Wrapper-sc-a19bb341-0 igawnv\"]//img[contains(@src,\".png\")]')\n",
    "#                                   )\n",
    "# WebDriverWait(driver, 120).until(EC.presence_of_all_elements_located((By.XPATH\n",
    "#                         ,'//div[@class=\"grid__Wrapper-sc-a19bb341-0 igawnv\"]//img[contains(@src,\".png\")]')))   \n",
    "    \n",
    "# productPrice1=WebDriverWait(driver, 120).until(EC.presence_of_all_elements_located((By.XPATH\n",
    "#                         ,'//span[@class=\"js-de-ProductTile-currentPrice\"][1]')))        \n",
    "    \n",
    "except (NoSuchElementException):\n",
    "    pass\n",
    "\n",
    "# try:\n",
    "#     prodImage=driver.find_elements(by=By.XPATH\n",
    "#                             ,value=('//div[@class=\"grid__Wrapper-sc-a19bb341-0 igawnv\"]//img[contains(@src,\".png\")]')\n",
    "#                                   )\n",
    "\n",
    "# except:\n",
    "#     pass\n",
    "\n",
    "# print(prodImage)\n",
    "# driver.close()\n",
    "\n",
    "# for image in prodImage:\n",
    "\n",
    "print(prodImage)    \n",
    "\n"
   ]
  },
  {
   "cell_type": "code",
   "execution_count": null,
   "id": "864b798a",
   "metadata": {
    "scrolled": true
   },
   "outputs": [],
   "source": [
    "\n"
   ]
  },
  {
   "cell_type": "code",
   "execution_count": null,
   "id": "6747a3e0",
   "metadata": {
    "scrolled": true
   },
   "outputs": [],
   "source": [
    "for pImage in imageSrc1:\n",
    "    print(pImage.get_attribute(\"data-src\"))"
   ]
  },
  {
   "cell_type": "code",
   "execution_count": null,
   "id": "22f36872",
   "metadata": {
    "scrolled": true
   },
   "outputs": [],
   "source": [
    "# global productNames,productPrice,i\n",
    "a=_scrpWebWait('https://www.decathlon.com/collections/bikes-cycling-deals')\n",
    "# imageSrc"
   ]
  },
  {
   "cell_type": "code",
   "execution_count": null,
   "id": "d407ac67",
   "metadata": {
    "scrolled": true
   },
   "outputs": [],
   "source": [
    "len(imageSrc)"
   ]
  },
  {
   "cell_type": "code",
   "execution_count": null,
   "id": "c8fe5f6d",
   "metadata": {
    "scrolled": true
   },
   "outputs": [],
   "source": [
    "print(imageSrc)"
   ]
  },
  {
   "cell_type": "code",
   "execution_count": null,
   "id": "2da24237",
   "metadata": {
    "scrolled": true
   },
   "outputs": [],
   "source": [
    "productPrice1=driver.find_elements(by=By.XPATH, value=('//span[@class=\"js-de-ProductTile-currentPrice\"][1]'))           \n",
    "            "
   ]
  },
  {
   "cell_type": "code",
   "execution_count": null,
   "id": "a519dbed",
   "metadata": {
    "scrolled": true
   },
   "outputs": [],
   "source": []
  },
  {
   "cell_type": "code",
   "execution_count": null,
   "id": "1fd51039",
   "metadata": {
    "scrolled": true
   },
   "outputs": [],
   "source": [
    "for price in productPrice1:\n",
    "    print(price.get_attribute(\"innerText\"))"
   ]
  },
  {
   "cell_type": "code",
   "execution_count": null,
   "id": "25bca175",
   "metadata": {
    "scrolled": true
   },
   "outputs": [],
   "source": [
    "global productNames,productPrice\n",
    "a=_scrpWeb('https://www.decathlon.com/collections/bikes-cycling-deals')\n"
   ]
  },
  {
   "cell_type": "code",
   "execution_count": null,
   "id": "dac71a74",
   "metadata": {
    "scrolled": true
   },
   "outputs": [],
   "source": [
    "product_list=[]\n",
    "for p in productNames:\n",
    "    print(p)"
   ]
  },
  {
   "cell_type": "code",
   "execution_count": null,
   "id": "a45041b3",
   "metadata": {
    "scrolled": true
   },
   "outputs": [],
   "source": [
    "currentPage=0\n",
    "\n",
    "pagination=driver.find_element(by=By.XPATH,value=('//div[@class=\"paginate-bottom\"]'))\n",
    "pages=pagination.find_elements(by=By.TAG_NAME,value='span')\n",
    "lastPage=int(pages[-2].text)\n",
    "\n",
    "while currentPage<=lastPage:\n",
    "    currentPage=currentPage+1\n",
    "    try:\n",
    "        nextPage=driver.find_element(by=By.XPATH,value=('//span[@class=\"next\"]'))\n",
    "        nextPage.click()\n",
    "    except:\n",
    "        pass\n",
    "\n",
    "\n"
   ]
  },
  {
   "cell_type": "code",
   "execution_count": null,
   "id": "7347cbe4",
   "metadata": {
    "scrolled": true
   },
   "outputs": [],
   "source": [
    "driver.close()"
   ]
  },
  {
   "cell_type": "code",
   "execution_count": null,
   "id": "1ff46a93",
   "metadata": {
    "scrolled": true
   },
   "outputs": [],
   "source": [
    "global productNames,productNames  \n",
    "while True:\n",
    "#     productNames=[]\n",
    "#     productNames=[]\n",
    "    btn=None\n",
    "    try:        \n",
    "#                 btn=None\n",
    "        btn=driver.find_element(by=By.LINK_TEXT,value=('SHOW MORE'))\n",
    "        btn.click()                \n",
    "    except NoSuchElementException:\n",
    "        break;\n",
    "    finally:\n",
    "#                 productNames=driver.find_elements(by=By.XPATH, value=('//div[@class=\"card-information__wrapper text-left\"]//span[@class=\"text\"][1]'))\n",
    "        productPrice=driver.find_elements(by=By.XPATH, value=('//dd[@class=\"price__last\"]//span[@class=\"price-item price-item--regular\"][1]'))\n",
    "        time.sleep(10)"
   ]
  },
  {
   "cell_type": "code",
   "execution_count": null,
   "id": "9d8d78eb",
   "metadata": {
    "scrolled": true
   },
   "outputs": [],
   "source": [
    "print(len(productPrice))"
   ]
  },
  {
   "cell_type": "code",
   "execution_count": null,
   "id": "13af2ded",
   "metadata": {
    "scrolled": true
   },
   "outputs": [],
   "source": [
    "# driver.refresh()\n",
    "# price=driver.find_elements(by=By.XPATH, value=('//dd[@class=\"price__last\"]//span[@class=\"price-item price-item--regular\"][1]'))\n",
    "for p in productPrice:\n",
    "    print(p.text)"
   ]
  },
  {
   "cell_type": "code",
   "execution_count": null,
   "id": "f68ba06d",
   "metadata": {
    "scrolled": true
   },
   "outputs": [],
   "source": [
    "#relevant website\n",
    "website_1='https://springs.com.pk/collections/chocolates'"
   ]
  },
  {
   "cell_type": "code",
   "execution_count": null,
   "id": "f36a706b",
   "metadata": {
    "scrolled": true
   },
   "outputs": [],
   "source": [
    "print()"
   ]
  },
  {
   "cell_type": "code",
   "execution_count": null,
   "id": "1dc123c7",
   "metadata": {
    "scrolled": true
   },
   "outputs": [],
   "source": [
    "productNames=driver.find_elements(by=By.XPATH, value=('//div[@class=\"card-information__wrapper text-left\"]//span[@class=\"text\"][1]'))"
   ]
  },
  {
   "cell_type": "code",
   "execution_count": null,
   "id": "a691b8cb",
   "metadata": {
    "scrolled": true
   },
   "outputs": [],
   "source": [
    "len(productNames)"
   ]
  },
  {
   "cell_type": "code",
   "execution_count": null,
   "id": "ad5585b2",
   "metadata": {
    "scrolled": true
   },
   "outputs": [],
   "source": [
    "for prodcuts in productNames:\n",
    "    print(prodcuts.text)"
   ]
  },
  {
   "cell_type": "code",
   "execution_count": null,
   "id": "232d6481",
   "metadata": {
    "scrolled": true
   },
   "outputs": [],
   "source": [
    "hrefLinks=driver.find_elements(by=By.XPATH,value=('//div[@class=\"pagination-page-item pagination-page-infinite\"]/a'))"
   ]
  },
  {
   "cell_type": "code",
   "execution_count": null,
   "id": "52643a8d",
   "metadata": {
    "scrolled": true
   },
   "outputs": [],
   "source": [
    "for href in hrefLinks:\n",
    "    print(href.text)"
   ]
  },
  {
   "cell_type": "code",
   "execution_count": null,
   "id": "fabbea66",
   "metadata": {
    "scrolled": true
   },
   "outputs": [],
   "source": [
    "btn=driver.find_element(by=By.LINK_TEXT,value=('SHOW MORE'))"
   ]
  },
  {
   "cell_type": "code",
   "execution_count": null,
   "id": "9ffef4e3",
   "metadata": {
    "scrolled": true
   },
   "outputs": [],
   "source": [
    "# for b in btn:\n",
    "#     print(b.text)\n",
    "btn.text"
   ]
  },
  {
   "cell_type": "code",
   "execution_count": null,
   "id": "c655be2a",
   "metadata": {
    "scrolled": true
   },
   "outputs": [],
   "source": [
    "btn=driver.find_element(by=By.LINK_TEXT,value=('SHOW MORE'))\n",
    "btn.click()"
   ]
  },
  {
   "cell_type": "code",
   "execution_count": null,
   "id": "4eeb94be",
   "metadata": {
    "scrolled": true
   },
   "outputs": [],
   "source": [
    "while True:\n",
    "    productNames=[]\n",
    "    btn=None\n",
    "    try:        \n",
    "        btn=driver.find_element(by=By.LINK_TEXT,value=('SHOW MORE'))\n",
    "        btn.click()\n",
    "        btn=None\n",
    "    except NoSuchElementException:\n",
    "        break\n",
    "    finally:\n",
    "        productNames=driver.find_elements(by=By.XPATH, value=('//div[@class=\"card-information__wrapper text-left\"]//span[@class=\"text\"][1]'))\n",
    "        time.sleep(10)  \n"
   ]
  },
  {
   "cell_type": "code",
   "execution_count": null,
   "id": "3b9d8420",
   "metadata": {
    "scrolled": true
   },
   "outputs": [],
   "source": [
    "print(btn.text)"
   ]
  },
  {
   "cell_type": "code",
   "execution_count": null,
   "id": "67d542f1",
   "metadata": {
    "scrolled": true
   },
   "outputs": [],
   "source": [
    "print(len(productNames))"
   ]
  },
  {
   "cell_type": "code",
   "execution_count": null,
   "id": "58fbd73a",
   "metadata": {
    "scrolled": true
   },
   "outputs": [],
   "source": [
    "for prodcuts in productNames:\n",
    "    print(prodcuts.text)"
   ]
  },
  {
   "cell_type": "code",
   "execution_count": null,
   "id": "1c6144ab",
   "metadata": {
    "scrolled": true
   },
   "outputs": [],
   "source": [
    "productPrice=driver.find_elements(by=By.XPATH, value=('//dd[@class=\"price__last\"]//span[@class=\"price-item price-item--regular\"][1]'))"
   ]
  },
  {
   "cell_type": "code",
   "execution_count": null,
   "id": "8a0be00f",
   "metadata": {
    "scrolled": true
   },
   "outputs": [],
   "source": [
    "driver.close()"
   ]
  },
  {
   "cell_type": "code",
   "execution_count": null,
   "id": "c6279339",
   "metadata": {
    "scrolled": true
   },
   "outputs": [],
   "source": [
    "print(len(pro))"
   ]
  },
  {
   "cell_type": "markdown",
   "id": "d9918894",
   "metadata": {},
   "source": [
    "# sub category"
   ]
  },
  {
   "cell_type": "code",
   "execution_count": null,
   "id": "6f1c6b32",
   "metadata": {
    "scrolled": true
   },
   "outputs": [],
   "source": [
    "\n",
    "driver.close()"
   ]
  },
  {
   "cell_type": "code",
   "execution_count": null,
   "id": "e5e6bd25",
   "metadata": {
    "scrolled": true
   },
   "outputs": [],
   "source": [
    "len(subCategoryData)"
   ]
  },
  {
   "cell_type": "markdown",
   "id": "ce3bfdcf",
   "metadata": {},
   "source": [
    "# # Subcategory Data...."
   ]
  },
  {
   "cell_type": "code",
   "execution_count": null,
   "id": "fff4a109",
   "metadata": {
    "scrolled": true
   },
   "outputs": [],
   "source": [
    "global subCategory\n",
    "website_1='https://www.lush.com/uk/en'\n",
    "driver = webdriver.Chrome(service=Service(ChromeDriverManager().install()))\n",
    "#open website\n",
    "driver.get(website_1)\n",
    "driver.maximize_window()\n",
    "\n",
    "btn=driver.find_element(by=By.XPATH,value=('//button[text()=\"Accept all cookies\"]'))\n",
    "btn.click()  \n",
    "\n",
    "# subCategoryData1=driver.find_elements(by=By.XPATH\n",
    "#                 ,value=('//ul[@class=\"Section__Collection-sc-40f90a5d-2 hsZmFD\"][1]'))\n",
    "\n",
    "# print(subCategoryData1.find_elements)\n",
    "\n",
    "# subCategoryData=driver.find_elements(\n",
    "#                     by=By.XPATH\n",
    "#                     ,value=('//li[contains(@class,\"Section__CollectionListItem-sc-40f90a5d-3 bgxHKl\")][1]')  )\n",
    "\n",
    "\n",
    "# for x in range(len(subCategoryData1)):\n",
    "# #     print(subCategoryData1[x])\n",
    "#     subCategoryData2=subCategoryData1[x].find_element(\n",
    "#                         by=By.XPATH\n",
    "#                         ,value=('//li[contains(@class,\"Section__CollectionListItem-sc-40f90a5d-3 bgxHKl\")]//a')  )\n",
    "#     print(subCategoryData2.get_attribute(\"href\"))\n",
    "\n",
    "subCategoryData=driver.find_elements(\n",
    "                    by=By.XPATH\n",
    "                    ,value=('//li[contains(@class,\"Section__CollectionListItem-sc-40f90a5d-3 bgxHKl\")]//a[1]')  )\n",
    "\n",
    "\n",
    "# print(subCategoryData2)\n",
    "# # (by=By.XPATH,value=('./li'))\n",
    "\n",
    "for subCat in subCategoryData:\n",
    "#     subCat\n",
    "#     print(subCat.get_attribute(\"href\"))\n",
    "    subCategory.append(subCat.get_attribute(\"href\"))\n",
    "\n",
    "driver.close()\n",
    "\n"
   ]
  },
  {
   "cell_type": "code",
   "execution_count": null,
   "id": "0059f4e7",
   "metadata": {
    "scrolled": true
   },
   "outputs": [],
   "source": [
    "\n"
   ]
  },
  {
   "cell_type": "code",
   "execution_count": null,
   "id": "ec6a788f",
   "metadata": {
    "scrolled": true
   },
   "outputs": [],
   "source": [
    "for subCat in subCategoryData:\n",
    "    print(subCat.get_attribute(\"href\"))\n",
    "#     subCategory.append(subCat.get_attribute(\"href\"))\n"
   ]
  },
  {
   "cell_type": "code",
   "execution_count": null,
   "id": "f5564b89",
   "metadata": {
    "scrolled": true
   },
   "outputs": [],
   "source": [
    "print(subCategoryData)"
   ]
  },
  {
   "cell_type": "code",
   "execution_count": null,
   "id": "09c794f9",
   "metadata": {
    "scrolled": true
   },
   "outputs": [],
   "source": [
    "for s in range(0, len(subCategory)):\n",
    "    print(subCategory[s])"
   ]
  },
  {
   "cell_type": "code",
   "execution_count": null,
   "id": "e00e8da3",
   "metadata": {
    "scrolled": true
   },
   "outputs": [],
   "source": [
    "driver.close()"
   ]
  },
  {
   "cell_type": "markdown",
   "id": "df93451a",
   "metadata": {},
   "source": [
    "# check if folder exists if not create"
   ]
  },
  {
   "cell_type": "code",
   "execution_count": null,
   "id": "860e9f60",
   "metadata": {
    "scrolled": true
   },
   "outputs": [],
   "source": [
    "def checkFolder(folder):\n",
    "#     folder=tfolder\n",
    "    isExists=os.path.exists(f'c://{folder}')\n",
    "    if not isExists:\n",
    "        os.mkdir(f'c://{folder}')\n",
    "    "
   ]
  },
  {
   "cell_type": "code",
   "execution_count": null,
   "id": "3b5cf28a",
   "metadata": {
    "scrolled": true
   },
   "outputs": [],
   "source": [
    "checkFolder('webscrapping')"
   ]
  },
  {
   "cell_type": "markdown",
   "id": "78ba84ea",
   "metadata": {},
   "source": [
    "# class"
   ]
  },
  {
   "cell_type": "code",
   "execution_count": null,
   "id": "3f1a1692",
   "metadata": {
    "scrolled": true
   },
   "outputs": [],
   "source": [
    "class _scrpWeb:\n",
    "    def __init__(self,website):\n",
    "        self.website=website\n",
    "        driver = webdriver.Chrome(service=Service(ChromeDriverManager().install()))\n",
    "        \n",
    "        #open website\n",
    "        driver.get(website)\n",
    "#         driver.maximize_window()\n",
    "#         global productNames\n",
    "#         driver.refresh()\n",
    "        global productNames,productPrice  \n",
    "        while True:\n",
    "#             productNames=[]\n",
    "#             productPrice=[]\n",
    "#             btn=None\n",
    "            try:        \n",
    "#                 btn=None\n",
    "                btn=driver.find_element(by=By.LINK_TEXT,value=('SHOW MORE'))\n",
    "                btn.click()  \n",
    "                btn=None\n",
    "            except NoSuchElementException:\n",
    "                break\n",
    "            finally:\n",
    "                productNames=driver.find_elements(by=By.XPATH, value=('//div[@class=\"card-information__wrapper text-left\"]//span[@class=\"text\"][1]'))\n",
    "                productPrice=driver.find_elements(by=By.XPATH, value=('//dd[@class=\"price__last\"]//span[@class=\"price-item price-item--regular\"][1]'))\n",
    "                time.sleep(100)\n",
    "#                 btn=None\n",
    "\n",
    "\n"
   ]
  },
  {
   "cell_type": "code",
   "execution_count": null,
   "id": "57a4df7e",
   "metadata": {
    "scrolled": true
   },
   "outputs": [],
   "source": [
    "# Extracting...."
   ]
  },
  {
   "cell_type": "code",
   "execution_count": null,
   "id": "743f6baf",
   "metadata": {
    "scrolled": true
   },
   "outputs": [],
   "source": [
    "\n",
    "webPage='https://springs.com.pk/collections/jam-honey-spreads'\n",
    "category=webPage.replace('https://springs.com.pk/collections/','')\n",
    "a=_scrpWeb(webPage)\n",
    "\n",
    "# driver.close()\n",
    "\n",
    "# creating DataFrame\n",
    "product_list=[]\n",
    "for p in productNames:\n",
    "        product_list.append(p.text)\n",
    "    #     print(p.text)\n",
    "\n",
    "product_price=[]\n",
    "for pr in productPrice:\n",
    "        product_price.append(pr.text)\n",
    "    #     print(pr.text)\n",
    "\n",
    "productsDict={'Product':product_list,'Product_Price':product_price}\n",
    "df=pd.DataFrame.from_dict(productsDict)\n",
    "# df[\"Product_Price\"].fillna(\"0\", inplace=True)\n",
    "df['Product_Price'].replace('',0)\n",
    "df['Product_Price']=df['Product_Price'].apply(lambda x: x.replace('Rs.',''))\n",
    "df['Product_Price']=df['Product_Price'].apply(lambda x: x.replace(',',''))\n",
    "# df['Product_Price']=df['Product_Price'].astype(float)\n",
    "df.insert(loc=0,column='Category',value=category)\n",
    "df\n",
    "checkFolder('webscrapping')\n",
    "df.to_csv(f'c://webscrapping/{category}.csv',index=False)\n",
    "# driver.close()\n",
    "# driver.quit()\n"
   ]
  },
  {
   "cell_type": "code",
   "execution_count": null,
   "id": "5edba0ab",
   "metadata": {
    "scrolled": true
   },
   "outputs": [],
   "source": [
    "#test extracting link and webscrapping in a Loop.... using list......\n",
    "\n",
    "subCategory=[\n",
    "'https://springs.com.pk/collections/ss-cigar',\n",
    "'https://springs.com.pk/collections/sugar-baking-dessert',\n",
    "'https://springs.com.pk/collections/talcum-powder-prickly-heat-powder',\n",
    "'https://springs.com.pk/collections/tea-coffee',\n",
    "'https://springs.com.pk/collections/tissues-wipes',\n",
    "'https://springs.com.pk/collections/toiletries',\n",
    "'https://springs.com.pk/collections/toner',\n",
    "'https://springs.com.pk/collections/toothbrush',\n",
    "'https://springs.com.pk/collections/toothpaste',\n",
    "'https://springs.com.pk/collections/treats-accessories',\n",
    "'https://springs.com.pk/collections/unisex',\n",
    "'https://springs.com.pk/collections/women',\n",
    "'https://springs.com.pk/collections/wraps-pittas',\n",
    "'https://springs.com.pk/collections/yogurt'\n",
    "]\n",
    "\n",
    "for subCat in range(0,len(subCategory)):\n",
    "#     print('list data : ',listData[category])\n",
    "\n",
    "    webPage=subCategory[subCat]\n",
    "#     print('web : ',webPage)\n",
    "    category=webPage.replace('https://springs.com.pk/collections/','')\n",
    "#     print(category)\n",
    "    a=_scrpWeb(webPage)\n",
    "\n",
    "    # creating DataFrame\n",
    "    product_list=[]\n",
    "    for p in productNames:\n",
    "        product_list.append(p.text)\n",
    "    #     print(p.text)\n",
    "\n",
    "    product_price=[]\n",
    "    for pr in productPrice:\n",
    "        product_price.append(pr.text)\n",
    "    #     print(pr.text)\n",
    "\n",
    "    productsDict={'Product':product_list,'Product_Price':product_price}\n",
    "    df=pd.DataFrame.from_dict(productsDict)\n",
    "    df['Product_Price']=df['Product_Price'].apply(lambda x: x.replace('Rs.',''))\n",
    "    df['Product_Price']=df['Product_Price'].apply(lambda x: x.replace(',',''))\n",
    "#     df['Product_Price']=df['Product_Price'].astype(float)\n",
    "    df.insert(loc=0,column='Category',value=category)\n",
    "    df\n",
    "    checkFolder('webscrapping')\n",
    "    df.to_csv(f'c://WebScrapping1/{category}.csv',index=False)\n",
    "#     driver.close()\n"
   ]
  },
  {
   "cell_type": "code",
   "execution_count": null,
   "id": "6d9f4c71",
   "metadata": {
    "scrolled": true
   },
   "outputs": [],
   "source": [
    "#test extracting link and webscrapping in a Loop....\n",
    "\n",
    "for subCat in range(0,len(subCategory)):\n",
    "\n",
    "#     print(subCategory[subCat])\n",
    "#     print(subCat.get_attribute(\"href\"))\n",
    "    \n",
    "\n",
    "    webPage=subCategory[subCat]\n",
    "#     print('web : ',webPage)\n",
    "    category=webPage.replace('https://springs.com.pk/collections/','')\n",
    "#     print(category)\n",
    "    a=_scrpWeb(webPage)\n",
    "\n",
    "    # creating DataFrame\n",
    "    product_list=[]\n",
    "    for p in productNames:\n",
    "        product_list.append(p.text)\n",
    "    #     print(p.text)\n",
    "\n",
    "    product_price=[]\n",
    "    for pr in productPrice:\n",
    "        product_price.append(pr.text)\n",
    "    #     print(pr.text)\n",
    "\n",
    "    productsDict={'Product':product_list,'Product_Price':product_price}\n",
    "    df=pd.DataFrame.from_dict(productsDict)\n",
    "    df['Product_Price']=df['Product_Price'].apply(lambda x: x.replace('Rs.',''))\n",
    "    df['Product_Price']=df['Product_Price'].apply(lambda x: x.replace(',',''))\n",
    "    df['Product_Price']=df['Product_Price'].astype(float)\n",
    "    df.insert(loc=0,column='Category',value=category)\n",
    "    df\n",
    "    checkFolder('webscrapping')\n",
    "    df.to_csv(f'c://webscrapping/{category}.csv',index=False)\n",
    "#     driver.close()\n",
    "\n",
    "\n"
   ]
  },
  {
   "cell_type": "code",
   "execution_count": null,
   "id": "e771bd50",
   "metadata": {
    "scrolled": true
   },
   "outputs": [],
   "source": [
    "# for handle in driver.window_handles:\n",
    "#     driver.switch_to.window(handle)\n",
    "driver.close()"
   ]
  },
  {
   "cell_type": "code",
   "execution_count": null,
   "id": "6a075d80",
   "metadata": {
    "scrolled": true
   },
   "outputs": [],
   "source": [
    "s='https://springs.com.pk/collections/chips-snacks-popcorn'\n",
    "print(s.replace('https://springs.com.pk/collections/',''))"
   ]
  },
  {
   "cell_type": "code",
   "execution_count": null,
   "id": "392668a9",
   "metadata": {
    "scrolled": true
   },
   "outputs": [],
   "source": [
    "def checkAttribute(webSite):\n",
    "    driver = webdriver.Chrome(service=Service(ChromeDriverManager().install()))\n",
    "    #open website\n",
    "    driver.get(website_1)\n",
    "    driver.maximize_window()\n",
    "    chkAtr=None\n",
    "    try:    \n",
    "        pagination = driver.find_element(\n",
    "           by=By.XPATH, value=('//div[@class=\"paginate-bottom\"]'))\n",
    "        chkAtr='Found'\n",
    "\n",
    "    except NoSuchElementException:\n",
    "        chkAtr='Not Found'\n",
    "        driver.close()\n",
    "        driver.quit()\n",
    "    return chkAtr\n",
    "        "
   ]
  },
  {
   "cell_type": "code",
   "execution_count": null,
   "id": "b7f7edf7",
   "metadata": {
    "scrolled": true
   },
   "outputs": [],
   "source": [
    "x=checkAttribute('https://www.decathlon.com/collections/hike-camp-deals')"
   ]
  },
  {
   "cell_type": "code",
   "execution_count": null,
   "id": "d5fafab4",
   "metadata": {
    "scrolled": true
   },
   "outputs": [],
   "source": [
    "x"
   ]
  },
  {
   "cell_type": "code",
   "execution_count": null,
   "id": "31e24f9e",
   "metadata": {
    "scrolled": true
   },
   "outputs": [],
   "source": []
  }
 ],
 "metadata": {
  "kernelspec": {
   "display_name": "Python 3",
   "language": "python",
   "name": "python3"
  },
  "language_info": {
   "codemirror_mode": {
    "name": "ipython",
    "version": 3
   },
   "file_extension": ".py",
   "mimetype": "text/x-python",
   "name": "python",
   "nbconvert_exporter": "python",
   "pygments_lexer": "ipython3",
   "version": "3.9.6"
  }
 },
 "nbformat": 4,
 "nbformat_minor": 5
}
