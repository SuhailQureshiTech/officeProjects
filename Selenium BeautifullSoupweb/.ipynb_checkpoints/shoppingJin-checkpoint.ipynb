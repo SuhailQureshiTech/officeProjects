{
 "cells": [
  {
   "cell_type": "code",
   "execution_count": null,
   "id": "00b8c6ab",
   "metadata": {
    "scrolled": false
   },
   "outputs": [],
   "source": [
    "#review package and module\n",
    "from selenium import webdriver\n",
    "from selenium.webdriver.common.keys import Keys\n",
    "from selenium.webdriver.common.by import By\n",
    "from selenium.webdriver.support.ui import WebDriverWait\n",
    "from selenium.webdriver.support import expected_conditions as EC\n",
    "from selenium.webdriver.chrome.options import Options\n",
    "from selenium.webdriver import ActionChains\n",
    "from selenium.webdriver.common.action_chains import ActionChains\n",
    "\n",
    "from webdriver_manager.chrome import ChromeDriverManager\n",
    "# import chromedriver_autoinstaller\n",
    "from selenium.webdriver.chrome.service import Service\n",
    "from selenium.common.exceptions import NoSuchElementException,NoSuchFrameException,StaleElementReferenceException\n",
    "# ,MaxRetryError\n",
    "from urllib3.exceptions import MaxRetryError,NewConnectionError\n",
    "from selenium.common.exceptions import TimeoutException\n",
    "import pandas as pd\n",
    "import os\n",
    "from selenium import webdriver\n",
    "from selenium_stealth import stealth\n",
    "import time"
   ]
  },
  {
   "cell_type": "code",
   "execution_count": null,
   "id": "6eaaeecf",
   "metadata": {
    "scrolled": false
   },
   "outputs": [],
   "source": [
    "# main variables\n",
    "productNames=[]\n",
    "productDetail=[]\n",
    "missingProdImages=[]\n",
    "prodImagesList={}\n",
    "productType=[]\n",
    "productPrice=[]\n",
    "subCategory=[]\n",
    "prodImages=[]\n",
    "imageSrc=[]\n",
    "imageSrc1=[]\n",
    "imageAlt=[]\n",
    "checkAttributeStatus=None\n",
    "driver=None"
   ]
  },
  {
   "cell_type": "code",
   "execution_count": null,
   "id": "c2fcbba1",
   "metadata": {
    "scrolled": true
   },
   "outputs": [],
   "source": [
    "def getSubCategory(website):   \n",
    "    global subCategory\n",
    "    subCategory=[]\n",
    "    driver=None\n",
    "    options = webdriver.ChromeOptions()\n",
    "    options.add_argument(\"start-maximized\")    \n",
    "    \n",
    "    options.add_experimental_option(\"excludeSwitches\", [\"enable-automation\"])\n",
    "    options.add_experimental_option('useAutomationExtension', False)\n",
    "    driver = webdriver.Chrome(\n",
    "            service=Service(ChromeDriverManager().install()),options=options\n",
    "    )\n",
    "    stealth(driver,\n",
    "            languages=[\"en-US\", \"en\"],\n",
    "            vendor=\"Google Inc.\",\n",
    "            platform=\"Win32\",\n",
    "            webgl_vendor=\"Intel Inc.\",\n",
    "            renderer=\"Intel Iris OpenGL Engine\",\n",
    "            fix_hairline=True,\n",
    "            )\n",
    "\n",
    "    url = website\n",
    "    driver.get(url)    \n",
    "    try:\n",
    "        btn=btn=WebDriverWait(driver, 120).until(EC.element_to_be_clickable((By.XPATH\n",
    "                    ,'//button[text()=\"Accept all cookies\"]')))  \n",
    "        btn.click()  \n",
    "        btn=None\n",
    "    finally:\n",
    "         subCategoryData=driver.find_elements(by=By.XPATH,value=('//div[@class=\"flex__Flex-sc-2d867263-0 hzDVkS\"]/a'))\n",
    " \n",
    "    for subCat in subCategoryData:\n",
    "        subCategory.append(subCat.get_attribute(\"href\"))\n",
    "    \n",
    "    \n",
    "#     subCategory=[]\n",
    "#     website_1=website\n",
    "#     driver = webdriver.Chrome(service=Service(ChromeDriverManager().install()))\n",
    "#     #open website\n",
    "#     driver.get(website_1)\n",
    "#     driver.maximize_window()\n",
    "\n",
    "#     # print(subCategoryData2)\n",
    "#     # # (by=By.XPATH,value=('./li'))\n",
    "\n",
    "\n",
    "   \n",
    "    driver.delete_all_cookies()\n",
    "    driver.close()\n",
    "    driver.quit()\n"
   ]
  },
  {
   "cell_type": "code",
   "execution_count": null,
   "id": "64d43cba",
   "metadata": {},
   "outputs": [],
   "source": [
    "getSubCategory('https://www.lush.com/uk/en/c/lifestyle')\n",
    "subCategory"
   ]
  },
  {
   "cell_type": "code",
   "execution_count": null,
   "id": "19280d96",
   "metadata": {
    "scrolled": false
   },
   "outputs": [],
   "source": [
    "def checkAttribute(webSite):\n",
    "    driver = webdriver.Chrome(service=Service(ChromeDriverManager().install()))\n",
    "    #open website\n",
    "    driver.get(webSite)\n",
    "    driver.maximize_window()\n",
    "    chkAtr=None\n",
    "    try:\n",
    "        btn=driver.find_element(by=By.XPATH,value=('//button[text()=\"Accept all cookies\"]'))\n",
    "        btn.click()  \n",
    "        pagination = driver.find_element(\n",
    "           by=By.XPATH, value=('//button[contains(text(),\"Load more\")]'))\n",
    "        chkAtr='Found'\n",
    "\n",
    "    except NoSuchElementException:\n",
    "        chkAtr='Not Found'\n",
    "        driver.delete_all_cookies()\n",
    "        driver.close()\n",
    "        driver.quit()\n",
    "    return chkAtr"
   ]
  },
  {
   "cell_type": "code",
   "execution_count": null,
   "id": "9e94eda3",
   "metadata": {
    "scrolled": false
   },
   "outputs": [],
   "source": [
    "class _scrpWebWaitNoPage:  \n",
    "    \n",
    "    global productNames, productPrice,imageSrc,driver\n",
    "\n",
    "    productsDict={}\n",
    "    productNames=[]\n",
    "    productPrice=[]\n",
    "    imageSrc=[]\n",
    "    subCategory=[]\n",
    "    driver=None\n",
    "\n",
    "    def __init__(self, website):\n",
    "        self.website = website\n",
    "        driver = webdriver.Chrome(service=Service(\n",
    "            ChromeDriverManager().install()))\n",
    "\n",
    "        # open website\n",
    "        driver.get(website)\n",
    "        productNames1 = []\n",
    "        productPrice1 = []\n",
    "        imageSrc1=[]\n",
    "\n",
    "        productNames1 =WebDriverWait(driver, 120).until(\n",
    "            EC.presence_of_all_elements_located((By.XPATH\n",
    "                    ,'//div[@class=\"grid__item large--seven-tenths right js-de-ProductTilesObserver\"]//h4[1]')))    \n",
    "\n",
    "        for pname in productNames1:\n",
    "            productNames.append(pname.text)\n",
    "\n",
    "        productPrice1=WebDriverWait(driver, 120).until(EC.presence_of_all_elements_located((By.XPATH\n",
    "                                ,'//span[@class=\"js-de-ProductTile-currentPrice\"][1]')))    \n",
    "\n",
    "        for price in productPrice1:\n",
    "            productPrice.append(price.text)\n",
    "\n",
    "        imageSrc1 =WebDriverWait(driver, 120).until(\n",
    "            EC.presence_of_all_elements_located((By.XPATH\n",
    "                    , '//div[@class=\"de-productTile-showcaseImageContainer\"]/img[1]')))  \n",
    "\n",
    "        for pImage in imageSrc1:\n",
    "            imageSrc.append(pImage.get_attribute(\"data-src\"))                \n",
    "                \n",
    "        time.sleep(60)\n",
    "\n",
    "        driver.close()\n",
    "        driver.quit()"
   ]
  },
  {
   "cell_type": "code",
   "execution_count": null,
   "id": "d1b64ed6",
   "metadata": {
    "scrolled": true
   },
   "outputs": [],
   "source": [
    "# class _scrpWebWait:  \n",
    "  \n",
    "#     global productNames, productPrice,imageSrc,driver,productDetail,imageSrc1\n",
    "\n",
    "#     productsDict={}\n",
    "#     productNames=[]\n",
    "#     productDetail=[]\n",
    "#     productPrice=[]\n",
    "#     imageSrc=[]\n",
    "#     imageSrc1=[]\n",
    "#     subCategory=[]\n",
    "#     driver=None\n",
    "    \n",
    "#     def __init__(self, website):\n",
    "#         def getCloseResources():\n",
    "#             driver.delete_all_cookies()\n",
    "#             driver.close()\n",
    "#             driver.quit()  \n",
    "            \n",
    "# # Product Names            \n",
    "#         def getProdNames():\n",
    "#             try:\n",
    "#                 print('getting productnames....')\n",
    "#                 time.sleep(30)\n",
    "#                 productNames1=WebDriverWait(driver, 120).until(\n",
    "#                 EC.presence_of_all_elements_located((By.XPATH\n",
    "#             ,'//div[contains(@class,\"c-Grid-styles__Wrapper-sc-7b9df201-2 XkYBc\")]//h3[@class=\"text__Text-sc-fac938e2-0 product-card__Name-sc-a4c933fb-4 cKOjOB iFwJeI\"][1]')))    \n",
    "\n",
    "#                 for pname in productNames1:\n",
    "#                     productNames.append(pname.text)  \n",
    "# #                     imageUrl=None\n",
    "# #                     prod=pname.text\n",
    "# #                     imageUrl=f'''//div[contains(@id,\"masonry-child\")]//img[@alt=\"{prod}\" and contains(@src,\"https\")] '''\n",
    "# #                     primages=driver.find_element(by=By.XPATH,value=(imageUrl))    \n",
    "# #                     imageSrc.append(primages.get_attribute(\"src\"))\n",
    "\n",
    "#     # # Product Details...\n",
    "#     #             time.sleep(30)\n",
    "#     #             productDetail1=WebDriverWait(driver, 120).until(\n",
    "#     #             EC.presence_of_all_elements_located((By.XPATH\n",
    "#     #                 ,'//div[contains(@class,\"c-Grid-styles__Wrapper-sc-7b9df201-2 XkYBc\")]//p[@class=\"text__Text-sc-fac938e2-0 product-card__Strapline-sc-a4c933fb-5 CIHoe hFslzk\"][1]')))    \n",
    "\n",
    "#     #             for prodDtl in productDetail1:\n",
    "#     #                 productDetail.append(prodDtl.text)  \n",
    "\n",
    "#     # # prod price:\n",
    "#     #             time.sleep(30)\n",
    "#     #             productPrice1=WebDriverWait(driver, 120).until(\n",
    "#     #             EC.presence_of_all_elements_located((By.XPATH\n",
    "#     #                 ,'//div[contains(@class,\"c-Grid-styles__Wrapper-sc-7b9df201-2 XkYBc\")]//span[@class=\"product-card__MoneyText-sc-a4c933fb-9 iPIKwB\"][1]')))    \n",
    "\n",
    "#     #             for prodPrice in productPrice1:\n",
    "#     #                 productPrice.append(prodPrice.text)   \n",
    "\n",
    "\n",
    "#             except:\n",
    "#                 pass\n",
    "\n",
    "            \n",
    "        \n",
    "# #         import gc  \n",
    "#         self.website = website\n",
    "#         driver = webdriver.Chrome(service=Service(\n",
    "#             ChromeDriverManager().install()))\n",
    "\n",
    "#         driver.get(website)\n",
    "\n",
    "#         time.sleep(30\n",
    "#         btn=WebDriverWait(driver, 30).until(EC.presence_of_element_located((By.XPATH\n",
    "#                                     ,'//button[text()=\"Reject non-essential\"]')))   \n",
    "#         btn.click()  \n",
    "#         btn=None\n",
    "#         try:\n",
    "#             while True:       \n",
    "          \n",
    "#                     time.sleep(60)\n",
    "#                     loadMoreButton=WebDriverWait(driver, 120).until(EC.presence_of_element_located(\n",
    "#                             (By.XPATH,'//button[contains(text(),\"Load more\")]')))     \n",
    "\n",
    "#                     loadMoreButton.click()\n",
    "#                     loadMoreButton=None                \n",
    "               \n",
    "#         except: \n",
    "# #          (TimeoutException,NoSuchElementException,StaleElementReferenceException,MaxRetryError\n",
    "# #               ,ConnectionRefusedError,NewConnectionError,NoSuchWindowException):\n",
    "#             pass\n",
    "\n",
    "#         getProdNames()      \n",
    "#         getCloseResources()\n",
    "# #         getProdImages()\n",
    "\n",
    "# #         try:\n",
    "# # # Product Images: \n",
    "# #             print('images....')\n",
    "# #             time.sleep(30)\n",
    "# #             for pn in range(0,len(productNames)):\n",
    "# #                 imageUrl=None\n",
    "# #                 prod=productNames[pn]\n",
    "# # #                 print(prod)\n",
    "# #                 imageUrl=f'''//div[contains(@id,\"masonry-child\")]//img[@alt=\"{prod}\" and contains(@src,\"https\")] '''\n",
    "# #                 primages=driver.find_element(by=By.XPATH,value=(imageUrl))    \n",
    "# #                 imageSrc1.append(primages)\n",
    "\n",
    "\n",
    "# #             # prod='Broken Heart'\n",
    "# #             # imageUrl=f'''//div[contains(@id,\"masonry-child\")]//img[@alt=\"{prod}\" and contains(@src,\"https\")] '''\n",
    "\n",
    "# #             # # # primages=driver.find_element(by=By.XPATH,value=('//div[contains(@id,\"masonry-child\")]//img[@alt=\"Ippuku Dan - Warming Mini Bath Bombs\" and contains(@src,\"https\")]'))\n",
    "# #             # primages=driver.find_element(by=By.XPATH,value=(imageUrl))\n",
    "# #             # imageSrc.append(primages)\n",
    "\n",
    "\n",
    "# #             # # len(imageSrc)    \n",
    "# #             for x in range(0,len(imageSrc1)):\n",
    "# #                 imageSrc.append(imageSrc1[x].get_attribute(\"src\"))\n",
    "# # #                 print(imageSrc1[x].get_attribute(\"src\"))\n",
    "            \n",
    "# #         except:\n",
    "# #             pass;\n",
    "# #         finally:\n",
    "# #             time.sleep(60)\n",
    "# #             driver.delete_all_cookies()\n",
    "# #             driver.close()\n",
    "# #             driver.quit()  \n",
    "    \n",
    "\n",
    "\n",
    "            "
   ]
  },
  {
   "cell_type": "code",
   "execution_count": null,
   "id": "a8fbb700",
   "metadata": {
    "scrolled": true
   },
   "outputs": [],
   "source": [
    "a=_scrpWebWait('https://www.lush.com/uk/en/c/bath-bombs')"
   ]
  },
  {
   "cell_type": "code",
   "execution_count": null,
   "id": "2bfda53d",
   "metadata": {
    "scrolled": true
   },
   "outputs": [],
   "source": [
    "len(imageSrc)"
   ]
  },
  {
   "cell_type": "code",
   "execution_count": null,
   "id": "08b2e85a",
   "metadata": {
    "scrolled": true
   },
   "outputs": [],
   "source": [
    "driver.delete_all_cookies()\n",
    "driver.close()\n",
    "driver.quit()  "
   ]
  },
  {
   "cell_type": "code",
   "execution_count": null,
   "id": "63445ce1",
   "metadata": {
    "scrolled": true
   },
   "outputs": [],
   "source": []
  },
  {
   "cell_type": "code",
   "execution_count": null,
   "id": "0ae698b9",
   "metadata": {
    "scrolled": true
   },
   "outputs": [],
   "source": [
    "# old....(1)\n",
    "class _scrpWebWait:  \n",
    "  \n",
    "    global productNames, productPrice,imageSrc,driver,productDetail,imageSrc1\n",
    "\n",
    "    productsDict={}\n",
    "    productNames=[]\n",
    "    productDetail=[]\n",
    "    productPrice=[]\n",
    "    imageSrc=[]\n",
    "    imageSrc1=[]\n",
    "    subCategory=[]\n",
    "    driver=None\n",
    "    \n",
    "    def __init__(self, website):\n",
    "        import gc  \n",
    "        self.website = website\n",
    "        driver = webdriver.Chrome(service=Service(\n",
    "            ChromeDriverManager().install()))\n",
    "\n",
    "        driver.get(website)\n",
    "\n",
    "        time.sleep(30)\n",
    "        btn=WebDriverWait(driver, 30).until(EC.presence_of_element_located((By.XPATH\n",
    "                    ,'//button[text()=\"Accept all cookies\"]')))  \n",
    "        btn.click()  \n",
    "        btn=None\n",
    "        try:\n",
    "            while True:       \n",
    "          \n",
    "                    time.sleep(60)\n",
    "                    loadMoreButton=WebDriverWait(driver, 120).until(EC.presence_of_element_located(\n",
    "                            (By.XPATH,'//button[contains(text(),\"Load more\")]')))     \n",
    "\n",
    "                    loadMoreButton.click()\n",
    "                    loadMoreButton=None                \n",
    "               \n",
    "        except: \n",
    "#          (TimeoutException,NoSuchElementException,StaleElementReferenceException,MaxRetryError\n",
    "#               ,ConnectionRefusedError,NewConnectionError,NoSuchWindowException):\n",
    "            pass\n",
    "        finally:\n",
    "            print('xxxx')\n",
    "\n",
    "#         try:\n",
    "# #             print('dd')\n",
    "        \n",
    "# # Product Names\n",
    "#             time.sleep(30)\n",
    "#             productNames1=WebDriverWait(driver, 120).until(\n",
    "#             EC.presence_of_all_elements_located((By.XPATH\n",
    "#         ,'//div[contains(@class,\"c-Grid-styles__Wrapper-sc-7b9df201-2 XkYBc\")]//h3[@class=\"text__Text-sc-fac938e2-0 product-card__Name-sc-a4c933fb-4 cKOjOB iFwJeI\"][1]')))    \n",
    "\n",
    "#             for pname in productNames1:\n",
    "#                 productNames.append(pname.text)  \n",
    "\n",
    "# # Product Details...\n",
    "#             time.sleep(30)\n",
    "#             productDetail1=WebDriverWait(driver, 120).until(\n",
    "#             EC.presence_of_all_elements_located((By.XPATH\n",
    "#                 ,'//div[contains(@class,\"c-Grid-styles__Wrapper-sc-7b9df201-2 XkYBc\")]//p[@class=\"text__Text-sc-fac938e2-0 product-card__Strapline-sc-a4c933fb-5 CIHoe hFslzk\"][1]')))    \n",
    "\n",
    "#             for prodDtl in productDetail1:\n",
    "#                 productDetail.append(prodDtl.text)  \n",
    "\n",
    "# # prod price:\n",
    "#             time.sleep(30)\n",
    "#             productPrice1=WebDriverWait(driver, 120).until(\n",
    "#             EC.presence_of_all_elements_located((By.XPATH\n",
    "#                 ,'//div[contains(@class,\"c-Grid-styles__Wrapper-sc-7b9df201-2 XkYBc\")]//span[@class=\"product-card__MoneyText-sc-a4c933fb-9 iPIKwB\"][1]')))    \n",
    "\n",
    "#             for prodPrice in productPrice1:\n",
    "#                 productPrice.append(prodPrice.text)   \n",
    "    \n",
    "\n",
    "#         except:\n",
    "#             pass\n",
    "\n",
    "#         finally:\n",
    "        time.sleep(60)\n",
    "        driver.delete_all_cookies()\n",
    "        driver.close()\n",
    "        driver.quit()   \n",
    "\n",
    "\n",
    "            "
   ]
  },
  {
   "cell_type": "code",
   "execution_count": null,
   "id": "bdd201aa",
   "metadata": {},
   "outputs": [],
   "source": [
    "global driver\n",
    "driver.delete_all_cookies()\n",
    "driver.close()\n",
    "driver.quit()  "
   ]
  },
  {
   "cell_type": "code",
   "execution_count": null,
   "id": "c09a6a06",
   "metadata": {},
   "outputs": [],
   "source": [
    "print('doneee...') \n",
    "print('Product Names ',len(productNames))\n",
    "print('Product Type ',len(productType))\n",
    "print('Product detail ',len(productDetail))\n",
    "print('Product Price ',len(productPrice))\n",
    "print('Product Images ',len(prodImages))"
   ]
  },
  {
   "cell_type": "code",
   "execution_count": null,
   "id": "8cba6b41",
   "metadata": {},
   "outputs": [],
   "source": [
    "strValue = \"₨360,000Save Rs 55,001\\n₨304,999\"\n",
    "index = strValue.find(\"\\\\\") #stores the index of a substring or char\n",
    "strValue[:index] #returns the chars before the seen char or substring\n",
    "# ch = 'n'\n",
    "# # Remove all characters before the character '-' from string\n",
    "# before, sep, after = strValue.partition('-')\n",
    "# if len(after) > 0:\n",
    "#     strValue = after\n",
    "# print(strValue)"
   ]
  },
  {
   "cell_type": "code",
   "execution_count": null,
   "id": "52cfb007",
   "metadata": {},
   "outputs": [],
   "source": [
    "# checking new logic\n",
    "import regex as re    \n",
    "global productNames,imageAlt, productPrice,imageSrc,driver,productDetail,imageSrc1,prodImages,productType,missingProdImages,prodImagesList\n",
    "\n",
    "imageSrc=[]\n",
    "productNames=[]\n",
    "productType=[]\n",
    "productDetail=[]\n",
    "imageSrc1=[]    \n",
    "prodImages=[]\n",
    "productPrice=[]\n",
    "missingProdImages=[]\n",
    "imageAlt=[]\n",
    "prodImage=None\n",
    "pName=None\n",
    "\n",
    "driver=None\n",
    "options = webdriver.ChromeOptions()\n",
    "#     options.add_argument(\"start-maximized\")    \n",
    "\n",
    "options.add_experimental_option(\"excludeSwitches\", [\"enable-automation\"])\n",
    "options.add_experimental_option('useAutomationExtension', False)\n",
    "driver = webdriver.Chrome(\n",
    "        service=Service(ChromeDriverManager().install()),options=options\n",
    ")\n",
    "stealth(driver,\n",
    "        languages=[\"en-US\", \"en\"],\n",
    "        vendor=\"Google Inc.\",\n",
    "        platform=\"Win32\",\n",
    "        webgl_vendor=\"Intel Inc.\",\n",
    "        renderer=\"Intel Iris OpenGL Engine\",\n",
    "        fix_hairline=True,\n",
    "        )\n",
    "website='https://www.shoppingjin.pk/prices/home-appliances/air-conditioner/'\n",
    "url = website\n",
    "driver.get(url)    \n",
    "\n",
    "try:\n",
    "    prodNames=WebDriverWait(driver, 20).until(EC.presence_of_all_elements_located(\n",
    "                                (By.XPATH\n",
    "                    ,'//div[@class=\"image-fade_in_back\"]/a[1]'\n",
    "                                )))\n",
    "    \n",
    "    for pr in prodNames:\n",
    "#         print(pr.get_attribute(\"aria-label\"))\n",
    "        productNames.append(pr.get_attribute(\"aria-label\"))\n",
    "\n",
    "    imageAlt1=WebDriverWait(driver, 20).until(EC.presence_of_all_elements_located(\n",
    "                                (By.XPATH\n",
    "                    ,'//div[@class=\"image-fade_in_back\"]/a/img[1]'\n",
    "                                )))\n",
    "    \n",
    "    for imgAlt in imageAlt1:\n",
    "#         print(imgAlt.get_attribute(\"alt\"))\n",
    "        imageAlt.append(imgAlt.get_attribute(\"alt\"))        \n",
    "        \n",
    "#     try:\n",
    "#         htmlElement=driver.find_element(By.TAG_NAME,'html')\n",
    "#         htmlElement.send_keys(Keys.HOME)\n",
    "#         htmlElement.send_keys(Keys.END)  \n",
    "#         time.sleep(600)\n",
    "#         prodImage=WebDriverWait(driver, 40).until(EC.presence_of_all_elements_located(\n",
    "#                             (By.XPATH\n",
    "#                 ,'//div[@class=\"image-fade_in_back\"]/a/img[1]'\n",
    "#                             )))\n",
    "\n",
    "#         for primage in prodImage:\n",
    "#             print(primage.get_attribute(\"src\"))\n",
    "#             prodImages.append(primage.get_attribute(\"src\"))\n",
    "#     except:\n",
    "#             pass\n",
    "        \n",
    "\n",
    "except Exception as ex:\n",
    "    print(ex)\n",
    "\n",
    "# time.sleep(40)\n",
    "# driver.delete_all_cookies()\n",
    "# driver.close()\n",
    "# driver.quit()  \n",
    "print('doneee...') \n",
    "print('Product Names ',len(productNames))\n",
    "print('Product Names Alt',len(imageAlt))\n",
    "print('Product Type ',len(productType))\n",
    "print('Product detail ',len(productDetail))\n",
    "print('Product Price ',len(productPrice))\n",
    "print('Product Images ',len(prodImages))"
   ]
  },
  {
   "cell_type": "code",
   "execution_count": null,
   "id": "a01f6e08",
   "metadata": {},
   "outputs": [],
   "source": [
    "global imageAlt\n",
    "imageAlt"
   ]
  },
  {
   "cell_type": "code",
   "execution_count": null,
   "id": "122c5256",
   "metadata": {},
   "outputs": [],
   "source": [
    "global productNames,imageAlt, productPrice,imageSrc,driver,productDetail,imageSrc1,prodImages,productType\n",
    "global missingProdImages,prodImagesList\n",
    "\n",
    "imageSrc=[]\n",
    "# productNames=[]\n",
    "productType=[]\n",
    "productDetail=[]\n",
    "imageSrc1=[]    \n",
    "prodImages=[]\n",
    "productPrice=[]\n",
    "missingProdImages=[]\n",
    "# imageAlt=[]\n",
    "prodImage=None\n",
    "pName=None\n",
    "\n",
    "htmlElement=driver.find_element(By.TAG_NAME,'html')\n",
    "htmlElement.send_keys(Keys.HOME)\n",
    "htmlElement.send_keys(Keys.END)\n",
    "time.sleep(60)\n",
    "\n",
    "for imageAlt1 in imageAlt:\n",
    "#     print('image Alt ',imageAlt1)\n",
    "    imageLink='img[alt='+\"'\"+imageAlt1+\"'\"+\"]\"\n",
    "#     '+pName+'\"]'\n",
    "    print(imageLink)\n",
    "    prodImage=WebDriverWait(driver, 15).until(EC.presence_of_element_located(\n",
    "                (By.CSS_SELECTOR,imageLink )))\n",
    "\n",
    "\n",
    "    print('prod image... 1',prodImage.get_attribute(\"src\"))\n",
    "    product_src=prodImage.get_attribute(\"src\")\n",
    "    if 'jpg.webp' in product_src:\n",
    "        prodImagesList[imageAlt1]=product_src\n",
    "    else:\n",
    "        prodImagesList[imageAlt1]='N/A'       \n",
    "            \n",
    "\n",
    "print('Hogya...')    "
   ]
  },
  {
   "cell_type": "code",
   "execution_count": null,
   "id": "1d7aa86e",
   "metadata": {},
   "outputs": [],
   "source": [
    "prodImagesList"
   ]
  },
  {
   "cell_type": "code",
   "execution_count": null,
   "id": "e4d95aae",
   "metadata": {},
   "outputs": [],
   "source": [
    "len(prodImagesList)"
   ]
  },
  {
   "cell_type": "code",
   "execution_count": null,
   "id": "947039a0",
   "metadata": {},
   "outputs": [],
   "source": [
    "# checking new logic\n",
    "global productNames,driver,prodImages,imageSrc,missingProdImages,prodImagesList\n",
    "prodImages=[]\n",
    "missingProdImages1=imageAlt\n",
    "missingProdLen=len(missingProdImages1)\n",
    "print('missing product length ' ,missingProdLen)\n",
    "# print(missingProdImages1)\n",
    "while len(missingProdImages1)>0:\n",
    "    htmlElement=driver.find_element(By.TAG_NAME,'html')\n",
    "    htmlElement.send_keys(Keys.HOME)\n",
    "    htmlElement.send_keys(Keys.END)\n",
    "    time.sleep(30)\n",
    "    for pName in missingProdImages1:  \n",
    "        print('missing product name : ',pName)\n",
    "        imageLink='img[alt=\"'+pName+'\"]'\n",
    "#         img[alt=\"'+pName+'\"]\n",
    "        print(imageLink)\n",
    "        try:              \n",
    "            prodImage=WebDriverWait(driver, 15).until(EC.visibility_of_any_elements_located(\n",
    "                            (By.CSS_SELECTOR,\n",
    "                            )))\n",
    "            \n",
    "            \n",
    "            print('prod image... 1',prodImage.get_attribute(\"src\"))\n",
    "\n",
    "            product_name=pName\n",
    "            product_src=prodImage.get_attribute(\"src\")\n",
    "            prodImagesList[product_name]=product_src\n",
    "            if len(product_src)>0 and ('jpg' in  product_src  ):\n",
    "                missingProdImages1.remove(pName)\n",
    "                prodImage=None\n",
    "        except(NoSuchElementException,TimeoutException):\n",
    "#             print('NoSuchElementException..........')\n",
    "#             htmlElement=driver.find_element(By.TAG_NAME,'html')\n",
    "#             htmlElement.send_keys(Keys.HOME)\n",
    "#             htmlElement.send_keys(Keys.END)\n",
    "#             prodImage=WebDriverWait(driver, 15).until(EC.presence_of_element_located(\n",
    "#                             (By.XPATH\n",
    "#                 ,'//div[@class=\"image-fade_in_back\"]/a[contains(@aria-label,\"'+pName+'\")]/img[1]'\n",
    "#                             )))\n",
    "#             print('prod image... 2',prodImage.get_attribute(\"src\"))\n",
    "\n",
    "#             product_name=pName\n",
    "#             product_src=prodImage.get_attribute(\"src\")\n",
    "#             prodImagesList[product_name]=product_src\n",
    "#             if len(product_src)>0  and ('jpg' in  product_src  ):\n",
    "#                 missingProdImages1.remove(pName)\n",
    "#             prodImage=None\n",
    "            pass            \n",
    "        except:\n",
    "            pass  \n",
    "\n",
    "print('done.......... Ho gaya....')\n",
    "missingProdLen=len(missingProdImages1)\n",
    "print('missing product length ' ,missingProdLen)"
   ]
  },
  {
   "cell_type": "code",
   "execution_count": null,
   "id": "0a9208c7",
   "metadata": {},
   "outputs": [],
   "source": [
    "# checking new logic\n",
    "\n",
    "global productNames, productPrice,imageSrc,driver,productDetail,imageSrc1,prodImages,productType,missingProdImages,prodImagesList\n",
    "\n",
    "\n",
    "# prodPrice=driver.find_elements(By.XPATH,'//div[@class=\"price-wrapper\"]/span[@class=\"price\"]')\n",
    "# for pr in prodPrice:\n",
    "#     your_string = pr.text\n",
    "#     split_char = \"\\n\"\n",
    "#     substring = your_string.split(split_char)[-1]\n",
    "# #     print(substring)\n",
    "#     productPrice.append(substring)    \n",
    "\n",
    "# for pName in productNames:\n",
    "#     try:\n",
    "#         prImages=driver.find_element(By.XPATH\n",
    "#                         ,'//img[contains(@alt,\"'+pName+'\") and contains(@src,\".jpg.webp\")]'                                 )\n",
    "#         print(pName)\n",
    "#         print(prImages.get_attribute(\"src\"))\n",
    "        \n",
    "#     except(NoSuchElementException):\n",
    "#         pass\n",
    "    \n",
    "# driver.delete_all_cookies()\n",
    "# driver.close()\n",
    "# driver.quit()  \n",
    "\n",
    "print('done......')\n"
   ]
  },
  {
   "cell_type": "code",
   "execution_count": null,
   "id": "0f7208fd",
   "metadata": {},
   "outputs": [],
   "source": [
    "global productNames, productPrice,imageSrc,driver,productDetail,imageSrc1,prodImages,productType,missingProdImages,prodImagesList\n",
    "\n",
    "prodcutNames"
   ]
  },
  {
   "cell_type": "code",
   "execution_count": null,
   "id": "1d334ccd",
   "metadata": {},
   "outputs": [],
   "source": [
    "# getting image link  only..\n",
    "def gettingImageLinkOnly():\n",
    "    global productNames, productPrice,imageSrc,driver,productDetail,imageSrc1,prodImages,productType,missingProdImages,prodImagesList\n",
    "    prodImages=[]\n",
    "    missingProdImages=[]\n",
    "\n",
    "    htmlElement=driver.find_element(By.TAG_NAME,'html')\n",
    "    htmlElement.send_keys(Keys.HOME)\n",
    "    htmlElement.send_keys(Keys.END)\n",
    "    htmlElement.send_keys(Keys.HOME)\n",
    "    totRec=0    \n",
    "    for pName in productNames:\n",
    "        totRec=totRec+1\n",
    "#         print(pName)\n",
    "        try:\n",
    "    #         time.sleep(10)\n",
    "            prodImage=WebDriverWait(driver, 20).until(EC.visibility_of_element_located(\n",
    "                            (By.XPATH\n",
    "                ,'//img[contains(@alt,\"'+pName+'\") and contains(@src,\".png\")]'\n",
    "                            )))\n",
    "#             print('product : ',pName)\n",
    "#             print('prod image... ',prodImage.get_attribute(\"src\"))\n",
    "            product_name=pName\n",
    "            product_src=prodImage.get_attribute(\"src\")\n",
    "            prodImagesList[product_name]=product_src\n",
    "            prodImage=None  \n",
    "\n",
    "        except:\n",
    "#             print('missing prod')\n",
    "            missingProdImages.append(pName)\n",
    "            pass  \n",
    "\n",
    "    print('total Image Link......... : ',totRec)\n",
    "    "
   ]
  },
  {
   "cell_type": "code",
   "execution_count": null,
   "id": "9474d499",
   "metadata": {
    "scrolled": true
   },
   "outputs": [],
   "source": [
    "# Obsolete... not working.... ver:0.00\n",
    "\n",
    "def getLushData(website):\n",
    "    \n",
    "    import regex as re    \n",
    "    global productNames, productPrice,imageSrc,driver,productDetail,imageSrc1,prodImages,productType,missingProdImages,prodImagesList\n",
    "    \n",
    "    imageSrc=[]\n",
    "    productNames=[]\n",
    "    productType=[]\n",
    "    productDetail=[]\n",
    "    imageSrc1=[]    \n",
    "    prodImages=[]\n",
    "    productPrice=[]\n",
    "    missingProdImages=[]\n",
    "    imageAlt=[]\n",
    "    prodImage=None\n",
    "    pName=None\n",
    "\n",
    "    driver=None\n",
    "    options = webdriver.ChromeOptions()\n",
    "#     options.add_argument(\"start-maximized\")    \n",
    "    \n",
    "    options.add_experimental_option(\"excludeSwitches\", [\"enable-automation\"])\n",
    "    options.add_experimental_option('useAutomationExtension', False)\n",
    "    driver = webdriver.Chrome(\n",
    "            service=Service(ChromeDriverManager().install()),options=options\n",
    "    )\n",
    "    stealth(driver,\n",
    "            languages=[\"en-US\", \"en\"],\n",
    "            vendor=\"Google Inc.\",\n",
    "            platform=\"Win32\",\n",
    "            webgl_vendor=\"Intel Inc.\",\n",
    "            renderer=\"Intel Iris OpenGL Engine\",\n",
    "            fix_hairline=True,\n",
    "            )\n",
    "\n",
    "    url = website\n",
    "    driver.get(url)    \n",
    "    \n",
    "#     def siteImages(vImageAlt):  \n",
    "# #         global productNames,imageAlt, productPrice,imageSrc,driver,productDetail,imageSrc1,prodImages,productType\n",
    "# #         global missingProdImages,prodImagesList\n",
    "\n",
    "# #         imageSrc=[]\n",
    "#         # productNames=[]\n",
    "# #         productType=[]\n",
    "# #         productDetail=[]\n",
    "# #         imageSrc1=[]    \n",
    "# #         prodImages=[]\n",
    "# #         productPrice=[]\n",
    "# #         missingProdImages=[]\n",
    "#         # imageAlt=[]\n",
    "# #         prodImage=None\n",
    "# #         pName=None\n",
    "\n",
    "#         htmlElement=driver.find_element(By.TAG_NAME,'html')\n",
    "#         htmlElement.send_keys(Keys.HOME)\n",
    "#         htmlElement.send_keys(Keys.END)\n",
    "#         time.sleep(60)\n",
    "\n",
    "#         for imageAlt1 in vImageAlt:\n",
    "#             imageLink='img[alt='+\"'\"+imageAlt1+\"'\"+\"]\"\n",
    "#     #         print(imageLink)\n",
    "#             prodImage=WebDriverWait(driver, 15).until(EC.presence_of_element_located(\n",
    "#                         (By.CSS_SELECTOR,imageLink )))\n",
    "\n",
    "\n",
    "#     #         print('prod image... 1',prodImage.get_attribute(\"src\"))\n",
    "#             product_src=prodImage.get_attribute(\"src\")\n",
    "#             if 'jpg.webp' in product_src:\n",
    "#                 prodImagesList[imageAlt1]=product_src\n",
    "#             else:\n",
    "#                 prodImagesList[imageAlt1]='N/A'       \n",
    "\n",
    "\n",
    "#         print('Hogya...')    \n",
    "    \n",
    "#     btn=        btn=WebDriverWait(driver, 60).until(EC.element_to_be_clickable((By.XPATH\n",
    "#                 ,'//button[text()=\"Accept all cookies\"]')))  \n",
    "#     btn.click()  \n",
    "#     btn=None \n",
    "        \n",
    "    try:   \n",
    "        while True: \n",
    "            time.sleep(40)\n",
    "            \n",
    "            prodNames1=driver.find_elements(By.XPATH,'//div[@class=\"title-wrapper\"]/p[1]')\n",
    "            for pn in prodNames1:\n",
    "#                 print(pn.text)\n",
    "                productNames.append(pn.text)\n",
    "\n",
    "            prodPrice=driver.find_elements(By.XPATH,'//div[@class=\"price-wrapper\"]/span[@class=\"price\"]')\n",
    "            # prodPrice\n",
    "            for pr in prodPrice:\n",
    "                your_string = pr.text\n",
    "                split_char = \"\\n\"\n",
    "                substring = your_string.split(split_char)[-1]\n",
    "#                 print(substring)\n",
    "                productPrice.append(substring)    \n",
    "    \n",
    "     \n",
    "#             try:\n",
    "#                 htmlElement=driver.find_element(By.TAG_NAME,'html')\n",
    "#                 htmlElement.send_keys(Keys.HOME)\n",
    "#                 htmlElement.send_keys(Keys.END)\n",
    "#                 time.sleep(30)\n",
    "#                 imageAlt1=[]\n",
    "#                 imageAlt1=WebDriverWait(driver, 30).until(EC.presence_of_all_elements_located(\n",
    "#                                     (By.XPATH\n",
    "#                         ,'//div[@class=\"image-fade_in_back\"]/a/img[1]'\n",
    "#                                     )))\n",
    "#                 for imgAlt in imageAlt1:\n",
    "#                     imageAlt.append(imgAlt.get_attribute(\"alt\")) \n",
    "#                     imageLink='img[alt='+\"'\"+imgAlt.get_attribute(\"alt\")+\"']\" \n",
    "                    \n",
    "#                     prodImage=WebDriverWait(driver, 50).until(EC.presence_of_element_located(\n",
    "#                             (By.CSS_SELECTOR,imageLink )))\n",
    "#                     product_src=prodImage.get_attribute(\"src\")\n",
    "#                     if 'jpg.webp' in product_src:\n",
    "#                         print('image : ',product_src)\n",
    "#                         prodImages.append(product_src)        \n",
    "#                     else:\n",
    "#                         prodImages.append('N/A')   \n",
    "#             except Exception as ex:\n",
    "#                 pass\n",
    "# #                 print('image ',ex)  \n",
    "\n",
    "    \n",
    "        NextPage=WebDriverWait(driver, 30).until(\n",
    "            EC.presence_of_element_located((By.XPATH,'//a[@class=\"next page-number\"]')))         \n",
    "#         time.sleep(30)\n",
    "        NextPage.click()\n",
    "        NextPage=None \n",
    "    except Exception as ex:\n",
    "        pass\n",
    "#         print(ex)  \n",
    "    \n",
    "    print('doneee...') \n",
    "    print('Product Names ',len(productNames))\n",
    "    print('Product Names Alt ',len(imageAlt))\n",
    "    print('Product Type ',len(productType))\n",
    "    print('Product detail ',len(productDetail))\n",
    "    print('Product Price ',len(productPrice))\n",
    "    print('Product Images ',len(prodImages))\n",
    "    print('Product Images list ',len(prodImagesList))\n",
    "\n",
    "    driver.delete_all_cookies()\n",
    "    driver.close()\n",
    "    driver.quit()  "
   ]
  },
  {
   "cell_type": "code",
   "execution_count": null,
   "id": "05c85e0b",
   "metadata": {
    "scrolled": false
   },
   "outputs": [],
   "source": [
    "getLushData('https://www.shoppingjin.pk/prices/tv/lcd/')        "
   ]
  },
  {
   "cell_type": "code",
   "execution_count": null,
   "id": "a88806fb",
   "metadata": {},
   "outputs": [],
   "source": [
    "print('doneee...') \n",
    "print('Product Names ',len(productNames))\n",
    "print('Product Names Alt ',len(imageAlt))\n",
    "print('Product Type ',len(productType))\n",
    "print('Product detail ',len(productDetail))\n",
    "print('Product Price ',len(productPrice))\n",
    "print('Product Images ',len(prodImages))"
   ]
  },
  {
   "cell_type": "code",
   "execution_count": null,
   "id": "0b7d19d2",
   "metadata": {},
   "outputs": [],
   "source": [
    "global prodImages\n",
    "prodImages"
   ]
  },
  {
   "cell_type": "code",
   "execution_count": null,
   "id": "5416611b",
   "metadata": {},
   "outputs": [],
   "source": [
    "# Obsolete... not working.... ver:0.00\n",
    "\n",
    "def getLushDataImageList(website):\n",
    "    \n",
    "    import regex as re    \n",
    "    global productNames, productPrice,imageSrc,driver,productDetail,imageSrc1,prodImages\n",
    "    global productType,missingProdImages,prodImagesList,imageAlt\n",
    "    \n",
    "#     imageSrc=[]\n",
    "#     productNames=[]\n",
    "#     productType=[]\n",
    "#     productDetail=[]\n",
    "#     imageSrc1=[]    \n",
    "#     prodImages=[]\n",
    "#     productPrice=[]\n",
    "#     missingProdImages=[]\n",
    "#     imageAlt=[]\n",
    "    prodImage=None\n",
    "    pName=None\n",
    "\n",
    "    driver=None\n",
    "    options = webdriver.ChromeOptions()\n",
    "#     options.add_argument(\"start-maximized\")    \n",
    "    \n",
    "    options.add_experimental_option(\"excludeSwitches\", [\"enable-automation\"])\n",
    "    options.add_experimental_option('useAutomationExtension', False)\n",
    "    driver = webdriver.Chrome(\n",
    "            service=Service(ChromeDriverManager().install()),options=options\n",
    "    )\n",
    "    stealth(driver,\n",
    "            languages=[\"en-US\", \"en\"],\n",
    "            vendor=\"Google Inc.\",\n",
    "            platform=\"Win32\",\n",
    "            webgl_vendor=\"Intel Inc.\",\n",
    "            renderer=\"Intel Iris OpenGL Engine\",\n",
    "            fix_hairline=True,\n",
    "            )\n",
    "\n",
    "    url = website\n",
    "    driver.get(url) \n",
    "       \n",
    "    try:   \n",
    "        while True:    \n",
    "#             htmlElement=driver.find_element(By.TAG_NAME,'html')\n",
    "#             htmlElement.send_keys(Keys.HOME)\n",
    "#             htmlElement.send_keys(Keys.END)\n",
    "#             time.sleep(40)\n",
    "            NextPage=WebDriverWait(driver, 30).until(\n",
    "                EC.presence_of_element_located((By.XPATH,'//a[@class=\"next page-number\"]')))\n",
    "            \n",
    "            for imageAlt1 in imageAlt:\n",
    "            #     print('image Alt ',imageAlt1)\n",
    "                imageLink='img[alt='+\"'\"+imageAlt1+\"'\"+\"]\"\n",
    "            #     '+pName+'\"]'\n",
    "                print(imageLink)\n",
    "                prodImage=WebDriverWait(driver, 15).until(EC.presence_of_element_located(\n",
    "                            (By.CSS_SELECTOR,imageLink )))\n",
    "\n",
    "\n",
    "                print('prod image... 1',prodImage.get_attribute(\"src\"))\n",
    "                product_src=prodImage.get_attribute(\"src\")\n",
    "                if 'jpg.webp' in product_src:\n",
    "                    prodImagesList[imageAlt1]=product_src\n",
    "                    imageAlt.remove(pName)\n",
    "                else:\n",
    "                    prodImagesList[imageAlt1]='N/A'     \n",
    "\n",
    "                print('Hogya...')   \n",
    "    \n",
    "            time.sleep(20)\n",
    "            NextPage.click()\n",
    "            NextPage=None \n",
    "            time.sleep(20)\n",
    "    except Exception as ex:\n",
    "#         pass\n",
    "        print(ex)  \n",
    "    \n",
    "    print('doneee...') \n",
    "#     print('Product Names ',len(productNames))\n",
    "#     print('Product Names Alt ',len(imageAlt))\n",
    "#     print('Product Type ',len(productType))\n",
    "#     print('Product detail ',len(productDetail))\n",
    "#     print('Product Price ',len(productPrice))\n",
    "#     print('Product Images ',len(prodImages))\n",
    "#     print('Product Images list ',len(prodImagesList))\n",
    "\n",
    "    driver.delete_all_cookies()\n",
    "    driver.close()\n",
    "    driver.quit()  "
   ]
  },
  {
   "cell_type": "code",
   "execution_count": null,
   "id": "1916b9a8",
   "metadata": {},
   "outputs": [],
   "source": [
    "getLushDataImageList('https://www.shoppingjin.pk/prices/home-appliances/air-conditioner/')      "
   ]
  },
  {
   "cell_type": "code",
   "execution_count": null,
   "id": "6a13bc3c",
   "metadata": {},
   "outputs": [],
   "source": [
    "len(imageAlt)"
   ]
  },
  {
   "cell_type": "code",
   "execution_count": null,
   "id": "f8061893",
   "metadata": {},
   "outputs": [],
   "source": [
    "productNames"
   ]
  },
  {
   "cell_type": "code",
   "execution_count": null,
   "id": "486ca490",
   "metadata": {},
   "outputs": [],
   "source": [
    "# checking  missing prod\n",
    "def gettingMissingImage():\n",
    "    global productNames,driver,prodImages,imageSrc,missingProdImages,prodImagesList\n",
    "    prodImages=[]\n",
    "    missingProdImages1=missingProdImages\n",
    "    missingProdLen=len(missingProdImages1)\n",
    "    print('missing product length ' ,missingProdLen)\n",
    "    print(missingProdImages1)\n",
    "    while len(missingProdImages1)>0:\n",
    "        htmlElement=driver.find_element(By.TAG_NAME,'html')\n",
    "        htmlElement.send_keys(Keys.HOME)\n",
    "        htmlElement.send_keys(Keys.END)\n",
    "        for pName in missingProdImages1:  \n",
    "            print('missing product name : ',pName)\n",
    "            try:              \n",
    "                prodImage=WebDriverWait(driver, 15).until(EC.presence_of_element_located(\n",
    "                                (By.XPATH\n",
    "                    ,'//img[contains(@alt,\"'+pName+'\") and contains(@src,\".png\")]'\n",
    "                                )))\n",
    "                print('prod image... 1',prodImage.get_attribute(\"src\"))\n",
    "                \n",
    "                product_name=pName\n",
    "                product_src=prodImage.get_attribute(\"src\")\n",
    "                prodImagesList[product_name]=product_src\n",
    "                if len(product_src)>0:\n",
    "                    missingProdImages1.remove(pName)\n",
    "                    prodImage=None\n",
    "            except(NoSuchElementException,TimeoutException):\n",
    "                print('NoSuchElementException..........')\n",
    "                htmlElement=driver.find_element(By.TAG_NAME,'html')\n",
    "                htmlElement.send_keys(Keys.HOME)\n",
    "                htmlElement.send_keys(Keys.END)\n",
    "                prodImage=WebDriverWait(driver, 15).until(EC.presence_of_element_located(\n",
    "                                (By.XPATH\n",
    "                    ,'//img[contains(@alt,\"'+pName+'\") and contains(@src,\".jpeg\")]'\n",
    "                                )))\n",
    "                print('prod image... 2',prodImage.get_attribute(\"src\"))\n",
    "                \n",
    "                product_name=pName\n",
    "                product_src=prodImage.get_attribute(\"src\")\n",
    "                prodImagesList[product_name]=product_src\n",
    "                if len(product_src)>0:\n",
    "                    missingProdImages1.remove(pName)\n",
    "                prodImage=None\n",
    "                pass            \n",
    "            except:\n",
    "                pass  \n",
    "    \n",
    "    print('done.......... Ho gaya....')\n",
    "    missingProdLen=len(missingProdImages1)\n",
    "    print('missing product length ' ,missingProdLen)"
   ]
  },
  {
   "cell_type": "code",
   "execution_count": 12,
   "id": "80f08ca4",
   "metadata": {},
   "outputs": [
    {
     "name": "stdout",
     "output_type": "stream",
     "text": [
      "https://www.shoppingjin.pk/prices/tv/lcd/\n",
      "doneee...\n",
      "Product Names  48\n",
      "Product Names Alt  0\n",
      "Product Type  0\n",
      "Product detail  0\n",
      "Product Price  48\n",
      "Product Images  0\n",
      "Product Images list  0\n",
      "category...  TV-LCD\n"
     ]
    },
    {
     "ename": "ValueError",
     "evalue": "All arrays must be of the same length",
     "output_type": "error",
     "traceback": [
      "\u001b[1;31m---------------------------------------------------------------------------\u001b[0m",
      "\u001b[1;31mValueError\u001b[0m                                Traceback (most recent call last)",
      "\u001b[1;32m<ipython-input-12-79b95b64cace>\u001b[0m in \u001b[0;36m<module>\u001b[1;34m\u001b[0m\n\u001b[0;32m     42\u001b[0m              \u001b[1;33m,\u001b[0m\u001b[1;34m'Image'\u001b[0m\u001b[1;33m:\u001b[0m\u001b[0mprodImages\u001b[0m\u001b[1;33m\u001b[0m\u001b[1;33m\u001b[0m\u001b[0m\n\u001b[0;32m     43\u001b[0m             }\n\u001b[1;32m---> 44\u001b[1;33m     \u001b[0mdf\u001b[0m \u001b[1;33m=\u001b[0m \u001b[0mpd\u001b[0m\u001b[1;33m.\u001b[0m\u001b[0mDataFrame\u001b[0m\u001b[1;33m(\u001b[0m\u001b[0mdetails\u001b[0m\u001b[1;33m)\u001b[0m\u001b[1;33m\u001b[0m\u001b[1;33m\u001b[0m\u001b[0m\n\u001b[0m\u001b[0;32m     45\u001b[0m     \u001b[0mdf\u001b[0m\u001b[1;33m.\u001b[0m\u001b[0minsert\u001b[0m\u001b[1;33m(\u001b[0m\u001b[0mloc\u001b[0m\u001b[1;33m=\u001b[0m\u001b[1;36m0\u001b[0m\u001b[1;33m,\u001b[0m\u001b[0mcolumn\u001b[0m\u001b[1;33m=\u001b[0m\u001b[1;34m'Category'\u001b[0m\u001b[1;33m,\u001b[0m\u001b[0mvalue\u001b[0m\u001b[1;33m=\u001b[0m\u001b[0mstr\u001b[0m\u001b[1;33m.\u001b[0m\u001b[0mupper\u001b[0m\u001b[1;33m(\u001b[0m\u001b[0mcategory\u001b[0m\u001b[1;33m)\u001b[0m\u001b[1;33m)\u001b[0m\u001b[1;33m\u001b[0m\u001b[1;33m\u001b[0m\u001b[0m\n\u001b[0;32m     46\u001b[0m     \u001b[0mdf\u001b[0m\u001b[1;33m.\u001b[0m\u001b[0minsert\u001b[0m\u001b[1;33m(\u001b[0m\u001b[0mloc\u001b[0m\u001b[1;33m=\u001b[0m\u001b[1;36m0\u001b[0m\u001b[1;33m,\u001b[0m\u001b[0mcolumn\u001b[0m\u001b[1;33m=\u001b[0m\u001b[1;34m'Head'\u001b[0m\u001b[1;33m,\u001b[0m\u001b[0mvalue\u001b[0m\u001b[1;33m=\u001b[0m\u001b[0mstr\u001b[0m\u001b[1;33m.\u001b[0m\u001b[0mupper\u001b[0m\u001b[1;33m(\u001b[0m\u001b[0mvHead\u001b[0m\u001b[1;33m)\u001b[0m\u001b[1;33m)\u001b[0m\u001b[1;33m\u001b[0m\u001b[1;33m\u001b[0m\u001b[0m\n",
      "\u001b[1;32m~\\AppData\\Local\\Programs\\Python\\Python39\\lib\\site-packages\\pandas\\core\\frame.py\u001b[0m in \u001b[0;36m__init__\u001b[1;34m(self, data, index, columns, dtype, copy)\u001b[0m\n\u001b[0;32m    612\u001b[0m         \u001b[1;32melif\u001b[0m \u001b[0misinstance\u001b[0m\u001b[1;33m(\u001b[0m\u001b[0mdata\u001b[0m\u001b[1;33m,\u001b[0m \u001b[0mdict\u001b[0m\u001b[1;33m)\u001b[0m\u001b[1;33m:\u001b[0m\u001b[1;33m\u001b[0m\u001b[1;33m\u001b[0m\u001b[0m\n\u001b[0;32m    613\u001b[0m             \u001b[1;31m# GH#38939 de facto copy defaults to False only in non-dict cases\u001b[0m\u001b[1;33m\u001b[0m\u001b[1;33m\u001b[0m\u001b[1;33m\u001b[0m\u001b[0m\n\u001b[1;32m--> 614\u001b[1;33m             \u001b[0mmgr\u001b[0m \u001b[1;33m=\u001b[0m \u001b[0mdict_to_mgr\u001b[0m\u001b[1;33m(\u001b[0m\u001b[0mdata\u001b[0m\u001b[1;33m,\u001b[0m \u001b[0mindex\u001b[0m\u001b[1;33m,\u001b[0m \u001b[0mcolumns\u001b[0m\u001b[1;33m,\u001b[0m \u001b[0mdtype\u001b[0m\u001b[1;33m=\u001b[0m\u001b[0mdtype\u001b[0m\u001b[1;33m,\u001b[0m \u001b[0mcopy\u001b[0m\u001b[1;33m=\u001b[0m\u001b[0mcopy\u001b[0m\u001b[1;33m,\u001b[0m \u001b[0mtyp\u001b[0m\u001b[1;33m=\u001b[0m\u001b[0mmanager\u001b[0m\u001b[1;33m)\u001b[0m\u001b[1;33m\u001b[0m\u001b[1;33m\u001b[0m\u001b[0m\n\u001b[0m\u001b[0;32m    615\u001b[0m         \u001b[1;32melif\u001b[0m \u001b[0misinstance\u001b[0m\u001b[1;33m(\u001b[0m\u001b[0mdata\u001b[0m\u001b[1;33m,\u001b[0m \u001b[0mma\u001b[0m\u001b[1;33m.\u001b[0m\u001b[0mMaskedArray\u001b[0m\u001b[1;33m)\u001b[0m\u001b[1;33m:\u001b[0m\u001b[1;33m\u001b[0m\u001b[1;33m\u001b[0m\u001b[0m\n\u001b[0;32m    616\u001b[0m             \u001b[1;32mimport\u001b[0m \u001b[0mnumpy\u001b[0m\u001b[1;33m.\u001b[0m\u001b[0mma\u001b[0m\u001b[1;33m.\u001b[0m\u001b[0mmrecords\u001b[0m \u001b[1;32mas\u001b[0m \u001b[0mmrecords\u001b[0m\u001b[1;33m\u001b[0m\u001b[1;33m\u001b[0m\u001b[0m\n",
      "\u001b[1;32m~\\AppData\\Local\\Programs\\Python\\Python39\\lib\\site-packages\\pandas\\core\\internals\\construction.py\u001b[0m in \u001b[0;36mdict_to_mgr\u001b[1;34m(data, index, columns, dtype, typ, copy)\u001b[0m\n\u001b[0;32m    462\u001b[0m         \u001b[1;31m# TODO: can we get rid of the dt64tz special case above?\u001b[0m\u001b[1;33m\u001b[0m\u001b[1;33m\u001b[0m\u001b[1;33m\u001b[0m\u001b[0m\n\u001b[0;32m    463\u001b[0m \u001b[1;33m\u001b[0m\u001b[0m\n\u001b[1;32m--> 464\u001b[1;33m     return arrays_to_mgr(\n\u001b[0m\u001b[0;32m    465\u001b[0m         \u001b[0marrays\u001b[0m\u001b[1;33m,\u001b[0m \u001b[0mdata_names\u001b[0m\u001b[1;33m,\u001b[0m \u001b[0mindex\u001b[0m\u001b[1;33m,\u001b[0m \u001b[0mcolumns\u001b[0m\u001b[1;33m,\u001b[0m \u001b[0mdtype\u001b[0m\u001b[1;33m=\u001b[0m\u001b[0mdtype\u001b[0m\u001b[1;33m,\u001b[0m \u001b[0mtyp\u001b[0m\u001b[1;33m=\u001b[0m\u001b[0mtyp\u001b[0m\u001b[1;33m,\u001b[0m \u001b[0mconsolidate\u001b[0m\u001b[1;33m=\u001b[0m\u001b[0mcopy\u001b[0m\u001b[1;33m\u001b[0m\u001b[1;33m\u001b[0m\u001b[0m\n\u001b[0;32m    466\u001b[0m     )\n",
      "\u001b[1;32m~\\AppData\\Local\\Programs\\Python\\Python39\\lib\\site-packages\\pandas\\core\\internals\\construction.py\u001b[0m in \u001b[0;36marrays_to_mgr\u001b[1;34m(arrays, arr_names, index, columns, dtype, verify_integrity, typ, consolidate)\u001b[0m\n\u001b[0;32m    117\u001b[0m         \u001b[1;31m# figure out the index, if necessary\u001b[0m\u001b[1;33m\u001b[0m\u001b[1;33m\u001b[0m\u001b[1;33m\u001b[0m\u001b[0m\n\u001b[0;32m    118\u001b[0m         \u001b[1;32mif\u001b[0m \u001b[0mindex\u001b[0m \u001b[1;32mis\u001b[0m \u001b[1;32mNone\u001b[0m\u001b[1;33m:\u001b[0m\u001b[1;33m\u001b[0m\u001b[1;33m\u001b[0m\u001b[0m\n\u001b[1;32m--> 119\u001b[1;33m             \u001b[0mindex\u001b[0m \u001b[1;33m=\u001b[0m \u001b[0m_extract_index\u001b[0m\u001b[1;33m(\u001b[0m\u001b[0marrays\u001b[0m\u001b[1;33m)\u001b[0m\u001b[1;33m\u001b[0m\u001b[1;33m\u001b[0m\u001b[0m\n\u001b[0m\u001b[0;32m    120\u001b[0m         \u001b[1;32melse\u001b[0m\u001b[1;33m:\u001b[0m\u001b[1;33m\u001b[0m\u001b[1;33m\u001b[0m\u001b[0m\n\u001b[0;32m    121\u001b[0m             \u001b[0mindex\u001b[0m \u001b[1;33m=\u001b[0m \u001b[0mensure_index\u001b[0m\u001b[1;33m(\u001b[0m\u001b[0mindex\u001b[0m\u001b[1;33m)\u001b[0m\u001b[1;33m\u001b[0m\u001b[1;33m\u001b[0m\u001b[0m\n",
      "\u001b[1;32m~\\AppData\\Local\\Programs\\Python\\Python39\\lib\\site-packages\\pandas\\core\\internals\\construction.py\u001b[0m in \u001b[0;36m_extract_index\u001b[1;34m(data)\u001b[0m\n\u001b[0;32m    633\u001b[0m             \u001b[0mlengths\u001b[0m \u001b[1;33m=\u001b[0m \u001b[0mlist\u001b[0m\u001b[1;33m(\u001b[0m\u001b[0mset\u001b[0m\u001b[1;33m(\u001b[0m\u001b[0mraw_lengths\u001b[0m\u001b[1;33m)\u001b[0m\u001b[1;33m)\u001b[0m\u001b[1;33m\u001b[0m\u001b[1;33m\u001b[0m\u001b[0m\n\u001b[0;32m    634\u001b[0m             \u001b[1;32mif\u001b[0m \u001b[0mlen\u001b[0m\u001b[1;33m(\u001b[0m\u001b[0mlengths\u001b[0m\u001b[1;33m)\u001b[0m \u001b[1;33m>\u001b[0m \u001b[1;36m1\u001b[0m\u001b[1;33m:\u001b[0m\u001b[1;33m\u001b[0m\u001b[1;33m\u001b[0m\u001b[0m\n\u001b[1;32m--> 635\u001b[1;33m                 \u001b[1;32mraise\u001b[0m \u001b[0mValueError\u001b[0m\u001b[1;33m(\u001b[0m\u001b[1;34m\"All arrays must be of the same length\"\u001b[0m\u001b[1;33m)\u001b[0m\u001b[1;33m\u001b[0m\u001b[1;33m\u001b[0m\u001b[0m\n\u001b[0m\u001b[0;32m    636\u001b[0m \u001b[1;33m\u001b[0m\u001b[0m\n\u001b[0;32m    637\u001b[0m             \u001b[1;32mif\u001b[0m \u001b[0mhave_dicts\u001b[0m\u001b[1;33m:\u001b[0m\u001b[1;33m\u001b[0m\u001b[1;33m\u001b[0m\u001b[0m\n",
      "\u001b[1;31mValueError\u001b[0m: All arrays must be of the same length"
     ]
    }
   ],
   "source": [
    "# Obsolete not working ... Ver: 0.00\n",
    "# passing data -------- list....\n",
    "\n",
    "global prodImages,productPrice,productDetail,productType,productNames,driver\n",
    "import pandas as pd\n",
    "\n",
    "\n",
    "subCategory=[\n",
    "'https://www.shoppingjin.pk/prices/tv/lcd/'\n",
    "]\n",
    "\n",
    "# subCategory\n",
    "\n",
    "for subCat in range(0,len(subCategory)):\n",
    "    prodImages=[]\n",
    "#     productsDict={}\n",
    "\n",
    "    df=pd.DataFrame()\n",
    "    \n",
    "    website=subCategory[subCat]\n",
    "    print(subCategory[subCat])\n",
    "    \n",
    "    getLushData(website)\n",
    "#     gettingImageLinkOnly()\n",
    "#     gettingMissingImage()\n",
    "    \n",
    "#     category=website.replace('https://www.shoppingjin.pk/prices/tv/lcd/','')  \n",
    "#     category=category.replace('/','')\n",
    "    category='TV-LCD'\n",
    "    print('category... ',category)\n",
    "\n",
    "    vHead='Home Appliances'\n",
    "    \n",
    "#     for p in productNames:   \n",
    "#         image=prodImagesList.get(p)\n",
    "#         prodImages.append(str(image))\n",
    "\n",
    "    details={'Product':productNames\n",
    "             ,'Product Type':category\n",
    "#              ,'Product Detail':productDetail\n",
    "             ,'Product Price':productPrice\n",
    "             ,'Image':prodImages\n",
    "            }\n",
    "    df = pd.DataFrame(details)  \n",
    "    df.insert(loc=0,column='Category',value=str.upper(category))\n",
    "    df.insert(loc=0,column='Head',value=str.upper(vHead)) \n",
    "\n",
    "    df.to_csv(f'c://WebScrapping1//shoppingjin/{category}.csv',index=False)\n",
    "    \n",
    "#     print('Product Names Finsh',len(productNames))\n",
    "#     print('Product Type  Finsh',len(productType))\n",
    "#     print('Product detail  Finsh',len(productDetail))\n",
    "#     print('Product Price  Finsh',len(productPrice))\n",
    "#     print('Product Images  Finsh',len(prodImages))\n",
    "    \n",
    "#     driver.delete_all_cookies()\n",
    "#     driver.close()\n",
    "#     driver.quit()  "
   ]
  },
  {
   "cell_type": "code",
   "execution_count": null,
   "id": "99e14aa9",
   "metadata": {},
   "outputs": [],
   "source": [
    "global driver\n",
    "driver.delete_all_cookies()\n",
    "driver.close()\n",
    "driver.quit()  "
   ]
  },
  {
   "cell_type": "code",
   "execution_count": null,
   "id": "d90f88ce",
   "metadata": {},
   "outputs": [],
   "source": [
    "getLushData('https://www.lush.com/uk/en/c/plastic-free')"
   ]
  },
  {
   "cell_type": "code",
   "execution_count": null,
   "id": "f95a708c",
   "metadata": {},
   "outputs": [],
   "source": [
    "getLushProdImagesData()"
   ]
  },
  {
   "cell_type": "code",
   "execution_count": null,
   "id": "c7c2f01b",
   "metadata": {},
   "outputs": [],
   "source": [
    "global driver\n",
    "driver.delete_all_cookies()\n",
    "driver.close()\n",
    "driver.quit()  "
   ]
  },
  {
   "cell_type": "code",
   "execution_count": null,
   "id": "1bb8d17d",
   "metadata": {},
   "outputs": [],
   "source": []
  },
  {
   "cell_type": "code",
   "execution_count": null,
   "id": "62ffcb12",
   "metadata": {},
   "outputs": [],
   "source": [
    "len(missingProdImages)\n",
    "# missingProdImages"
   ]
  },
  {
   "cell_type": "code",
   "execution_count": null,
   "id": "88c66899",
   "metadata": {},
   "outputs": [],
   "source": [
    "len(prodImagesList)"
   ]
  },
  {
   "cell_type": "code",
   "execution_count": null,
   "id": "8d111633",
   "metadata": {},
   "outputs": [],
   "source": [
    "prodImagesList"
   ]
  },
  {
   "cell_type": "code",
   "execution_count": null,
   "id": "3724cf12",
   "metadata": {},
   "outputs": [],
   "source": [
    "# keys = [\"One\", \"Two\", \"Three\", \"Four\"]\n",
    "\n",
    "# values = [1,2,3,4]\n",
    "\n",
    "# yourdict = {k:v for k,v in zip(keys, values)}\n",
    "\n",
    "# yourdict"
   ]
  },
  {
   "cell_type": "code",
   "execution_count": null,
   "id": "c7529378",
   "metadata": {},
   "outputs": [],
   "source": [
    "print('Product Names ',len(productNames))\n",
    "print('Product Type ',len(productType))\n",
    "print('Product detail ',len(productDetail))\n",
    "print('Product Price ',len(productPrice))\n",
    "print('Product Images ',len(prodImages))"
   ]
  },
  {
   "cell_type": "code",
   "execution_count": null,
   "id": "edf0f3f1",
   "metadata": {},
   "outputs": [],
   "source": [
    "# working...\n",
    "global prodImages,productPrice,productDetail,productType,productNames\n",
    "\n",
    "a=[]\n",
    "prodImages=[]\n",
    "\n",
    "aDict={}\n",
    "# b=pd.DataFrame()\n",
    "for p in productNames:    \n",
    "#     print('Product_Name : ',p,prodImagesList.get(p))\n",
    "#     a.append(str(p))\n",
    "    image=prodImagesList.get(p)\n",
    "#     print('image : ',image)\n",
    "    prodImages.append(str(image))\n",
    "\n",
    "details={'Product':productNames,'Product Type':productType,'Product Detail':productDetail,'Product Price':productPrice\n",
    "         ,'Image':prodImages}\n",
    "df = pd.DataFrame(details)  \n",
    "df\n",
    "df.to_csv('imageList.csv',index=False)\n",
    "# yourDict={k:v for k,v in zip(a,b)}    \n",
    "# print(yourDict)\n",
    "    "
   ]
  },
  {
   "cell_type": "code",
   "execution_count": null,
   "id": "1e7bdad6",
   "metadata": {},
   "outputs": [],
   "source": [
    "# vHead='LUSH X SPONGEBOB'\n",
    "# # vType='dehydration-dryness'\n",
    "# productsDict={'Product_Name':productNames,'Product_type':productType ,'Product_Title':productDetail\n",
    "#              ,'Product_Price':productPrice\n",
    "#              ,'Product_Image':prodImages}\n",
    "# df=pd.DataFrame.from_dict(productsDict)\n",
    "# df.insert(loc=0,column='Category',value=str.upper(category))\n",
    "# df.insert(loc=0,column='Head',value=str.upper(vHead)) \n",
    "\n",
    "# df.to_csv(f'c://WebScrapping1//lush/{category}.csv',index=False)\n",
    "\n",
    "productsDict={'Product':productNames}\n",
    "productDf=pd.DataFrame.from_dict(productsDict)\n"
   ]
  },
  {
   "cell_type": "code",
   "execution_count": null,
   "id": "dbeac656",
   "metadata": {},
   "outputs": [],
   "source": []
  },
  {
   "cell_type": "code",
   "execution_count": null,
   "id": "44cdecde",
   "metadata": {},
   "outputs": [],
   "source": [
    "prodIm"
   ]
  },
  {
   "cell_type": "code",
   "execution_count": null,
   "id": "b19252fb",
   "metadata": {},
   "outputs": [],
   "source": [
    "prodImagesList.get('Outback Mate')"
   ]
  },
  {
   "cell_type": "code",
   "execution_count": null,
   "id": "4817d1ff",
   "metadata": {},
   "outputs": [],
   "source": [
    "prodImagePd=pd.DataFrame([prodImagesList])\n",
    "\n",
    "prodImagePd=prodImagePd.transpose()\n",
    "prodImagePd.to_csv('imageList.csv')\n",
    "prodImagePd=pd.read_csv('imageList.csv',names=['Product', 'Image'])\n"
   ]
  },
  {
   "cell_type": "code",
   "execution_count": null,
   "id": "318eefb7",
   "metadata": {},
   "outputs": [],
   "source": [
    "prodImagePd"
   ]
  },
  {
   "cell_type": "code",
   "execution_count": null,
   "id": "5bc2344b",
   "metadata": {},
   "outputs": [],
   "source": [
    "prodNamesPd=pd.DataFrame([productNames])\n",
    "\n",
    "prodNamesPd=prodNamesPd.transpose()\n",
    "prodNamesPd.to_csv('productList.csv')\n",
    "prodNamesPd=pd.read_csv('productList.csv',names=['Product'])\n"
   ]
  },
  {
   "cell_type": "code",
   "execution_count": null,
   "id": "acc7d37c",
   "metadata": {},
   "outputs": [],
   "source": [
    "prodNamesPd"
   ]
  },
  {
   "cell_type": "code",
   "execution_count": null,
   "id": "a96cd21e",
   "metadata": {},
   "outputs": [],
   "source": [
    "prodImagePd.info()"
   ]
  },
  {
   "cell_type": "code",
   "execution_count": null,
   "id": "55c48592",
   "metadata": {},
   "outputs": [],
   "source": [
    "type(prodImagePd)"
   ]
  },
  {
   "cell_type": "code",
   "execution_count": null,
   "id": "6363569e",
   "metadata": {},
   "outputs": [],
   "source": [
    "prodImagePd"
   ]
  },
  {
   "cell_type": "code",
   "execution_count": null,
   "id": "7657a72f",
   "metadata": {},
   "outputs": [],
   "source": [
    "prodImagePd"
   ]
  },
  {
   "cell_type": "code",
   "execution_count": null,
   "id": "1de9f135",
   "metadata": {},
   "outputs": [],
   "source": [
    "productNamesPd=pd.DataFrame(productNames,index=None)"
   ]
  },
  {
   "cell_type": "code",
   "execution_count": null,
   "id": "65dfb6da",
   "metadata": {},
   "outputs": [],
   "source": [
    "productNamesPd.info()"
   ]
  },
  {
   "cell_type": "code",
   "execution_count": null,
   "id": "4fefced2",
   "metadata": {},
   "outputs": [],
   "source": [
    "productNamesPd"
   ]
  },
  {
   "cell_type": "code",
   "execution_count": null,
   "id": "be6eca17",
   "metadata": {},
   "outputs": [],
   "source": [
    "fran_sale_df = df.merge(\n",
    "    cus_df, how='left', left_on=['ibl_customer_code'], right_on=['SAP_CUSTOMER_CODE'])"
   ]
  },
  {
   "cell_type": "code",
   "execution_count": null,
   "id": "6da04fca",
   "metadata": {},
   "outputs": [],
   "source": [
    "productNamesPd"
   ]
  },
  {
   "cell_type": "code",
   "execution_count": null,
   "id": "a04ea011",
   "metadata": {},
   "outputs": [],
   "source": [
    "prodImagePd"
   ]
  },
  {
   "cell_type": "code",
   "execution_count": null,
   "id": "26327867",
   "metadata": {
    "scrolled": true
   },
   "outputs": [],
   "source": [
    "# Obsolete not working ... Ver: 0.00\n",
    "# passing data -------- list....\n",
    "\n",
    "global productNames, productPrice,imageSrc,driver,productDetail,imageSrc1,prodImages\n",
    "import pandas as pd\n",
    "\n",
    "\n",
    "subCategory=[\n",
    "'https://www.lush.com/uk/en/c/plastic-free'\n",
    "]\n",
    "\n",
    "# subCategory\n",
    "\n",
    "for subCat in range(0,len(subCategory)):\n",
    "    driver=None\n",
    "    productsDict={}\n",
    "#     productNames=[]\n",
    "#     productDetail=[]\n",
    "#     productPrice=[]\n",
    "#     imageSrc=[]\n",
    "#     imageSrc1=[]    \n",
    "#     prodImages=[]\n",
    "    df=pd.DataFrame()\n",
    "    \n",
    "    website=subCategory[subCat]\n",
    "    print(subCategory[subCat])\n",
    "#     a=_scrpWebWaitProdImages(website)\n",
    "    getLushData(website)\n",
    "    category=website.replace('https://www.lush.com/uk/en/c/','')   \n",
    "#     category=category.replace(\"-\",\"_\")\n",
    "    print('category... ',category)\n",
    "\n",
    "    vHead='LUSH X SPONGEBOB'\n",
    "    # vType='dehydration-dryness'\n",
    "    productsDict={'Product_Name':productNames,'Product_type':productType ,'Product_Title':productDetail\n",
    "                 ,'Product_Price':productPrice\n",
    "                 ,'Product_Image':prodImages}\n",
    "    df=pd.DataFrame.from_dict(productsDict)\n",
    "    df.insert(loc=0,column='Category',value=str.upper(category))\n",
    "    df.insert(loc=0,column='Head',value=str.upper(vHead)) \n",
    "\n",
    "    df.to_csv(f'c://WebScrapping1//lush/{category}.csv',index=False)\n",
    "    \n",
    "    print('Product Names ',len(productNames))\n",
    "    print('Product Type ',len(productType))\n",
    "    print('Product detail ',len(productDetail))\n",
    "    print('Product Price ',len(productPrice))\n",
    "    print('Product Images ',len(prodImages))"
   ]
  },
  {
   "cell_type": "code",
   "execution_count": null,
   "id": "3f8bb78b",
   "metadata": {},
   "outputs": [],
   "source": [
    "prodImagePd.to_csv('imageList.csv')"
   ]
  },
  {
   "cell_type": "code",
   "execution_count": null,
   "id": "a3b6e25b",
   "metadata": {},
   "outputs": [],
   "source": [
    "productNames"
   ]
  },
  {
   "cell_type": "code",
   "execution_count": null,
   "id": "91133ec9",
   "metadata": {},
   "outputs": [],
   "source": [
    "    global productNames,driver,prodImages,imageSrc\n",
    "    prodImages=[]\n",
    "    \n",
    "    htmlElement=driver.find_element(By.TAG_NAME,'html')\n",
    "    htmlElement.send_keys(Keys.END)\n",
    "    htmlElement.send_keys(Keys.HOME)\n",
    "\n",
    "    totRec=0    \n",
    "    for pName in productNames:\n",
    "\n",
    "        totRec=totRec+1\n",
    "        print(pName)\n",
    "        try:\n",
    "            time.sleep(10)\n",
    "            prodImage=WebDriverWait(driver, 30).until(EC.visibility_of_element_located(\n",
    "                            (By.XPATH\n",
    "                ,'//div[@class=\"grid__Wrapper-sc-a19bb341-0 igawnv\"]//img[contains(@alt,\"'+pName+'\") and contains(@src,\".png\") ]'\n",
    "                            )))\n",
    "            print('prod image... ',prodImage)\n",
    "            prodImages.append(prodImage)\n",
    "            prodImageSrc=prodImage.get_attribute(\"src\")\n",
    "            print('prod image src...',prodImageSrc)\n",
    "\n",
    "        except(NoSuchElementException):\n",
    "            htmlElement=driver.find_element(By.TAG_NAME,'html')\n",
    "            htmlElement.send_keys(Keys.END)\n",
    "            htmlElement.send_keys(Keys.HOME)\n",
    "            time.sleep(10)\n",
    "            prodImage=WebDriverWait(driver, 30).until(EC.visibility_of_element_located(\n",
    "                            (By.XPATH\n",
    "                ,'//div[@class=\"grid__Wrapper-sc-a19bb341-0 igawnv\"]//img[contains(@alt,\"'+pName+'\") and contains(@src,\".jpeg\") ]'\n",
    "                            )))\n",
    "            print('prod image... ',prodImage)\n",
    "            prodImages.append(prodImage)\n",
    "            prodImageSrc=prodImage.get_attribute(\"src\")\n",
    "            print('prod image src...',prodImageSrc)\n",
    "            \n",
    "        except(NoSuchElementException):\n",
    "            htmlElement=driver.find_element(By.TAG_NAME,'html')\n",
    "            htmlElement.send_keys(Keys.END)\n",
    "            htmlElement.send_keys(Keys.HOME)\n",
    "            time.sleep(10)\n",
    "            prodImage=WebDriverWait(driver, 30).until(EC.visibility_of_element_located(\n",
    "                            (By.XPATH\n",
    "                ,'//div[@class=\"grid__Wrapper-sc-a19bb341-0 igawnv\"]//img[contains(@alt,\"'+pName+'\") and contains(@src,\".jpeg\") ]'\n",
    "                            )))\n",
    "            print('prod image... ',prodImage)\n",
    "            prodImages.append(prodImage)\n",
    "            prodImageSrc=prodImage.get_attribute(\"src\")\n",
    "            print('prod image src...',prodImageSrc)\n",
    "            \n",
    "        except(TimeoutException):\n",
    "            print('timeout....')\n",
    "            htmlElement=driver.find_element(By.TAG_NAME,'html')\n",
    "            htmlElement.send_keys(Keys.END)\n",
    "            htmlElement.send_keys(Keys.HOME)\n",
    "            time.sleep(10)\n",
    "            prodImage=WebDriverWait(driver, 30).until(EC.visibility_of_element_located(\n",
    "                            (By.XPATH\n",
    "                ,'//div[@class=\"grid__Wrapper-sc-a19bb341-0 igawnv\"]//img[contains(@alt,\"'+pName+'\") and contains(@src,\".png\") ]'\n",
    "                            )))\n",
    "            print('Except prod image... ',prodImage)\n",
    "            prodImages.append(prodImage)\n",
    "            prodImageSrc=prodImage.get_attribute(\"src\")\n",
    "            print('Except prod image src...',prodImageSrc)\n",
    "            pass\n",
    "#             prodImageSrc=prodImage.get_attribute(\"src\")\n",
    "#             print('prod image src...',prodImageSrc)\n",
    "#             prodImages.append('N/A')\n",
    "#     print('total : ',totRec)\n",
    "    print('done hogya bus kar')\n"
   ]
  },
  {
   "cell_type": "code",
   "execution_count": null,
   "id": "59a8cb3e",
   "metadata": {},
   "outputs": [],
   "source": [
    "global driver\n",
    "htmlElement=driver.find_element(By.TAG_NAME,'html')\n",
    "htmlElement.send_keys(Keys.HOME)\n",
    "# parentClass=driver.find_element(By.XPATH,'//div[@class=\"c-Grid-styles__Wrapper-sc-7b9df201-2 XkYBc\"]')\n",
    "# print('parent class : ',parentClass)\n",
    "\n",
    " \n",
    "\n",
    "prodNameDiv=driver.find_elements(By.XPATH\n",
    "                ,'//div[@class=\"grid__Wrapper-sc-a19bb341-0 igawnv\"]//h3[@class=\"text__Text-sc-fac938e2-0 product-card-styles__Name-sc-f25f1993-4 cKOjOB gEMgaf\"][1]')\n",
    "\n",
    "time.sleep(60)\n",
    "print('prodname : ',prodNameDiv)\n",
    "print('done...........')\n"
   ]
  },
  {
   "cell_type": "code",
   "execution_count": null,
   "id": "8b1c62be",
   "metadata": {},
   "outputs": [],
   "source": []
  },
  {
   "cell_type": "code",
   "execution_count": null,
   "id": "49600966",
   "metadata": {},
   "outputs": [],
   "source": [
    "print('Product Names ',len(productNames))\n",
    "print('Product Type ',len(productType))\n",
    "print('Product detail ',len(productDetail))\n",
    "print('Product Price ',len(productPrice))\n",
    "print('Product Images ',len(prodImages))"
   ]
  },
  {
   "cell_type": "code",
   "execution_count": null,
   "id": "9bbf93a8",
   "metadata": {},
   "outputs": [],
   "source": [
    "print('Product Names ',len(productNames))\n",
    "print('Product Type ',len(productType))\n",
    "print('Product detail ',len(productDetail))\n",
    "print('Product Price ',len(productPrice))\n",
    "print('Product Images ',len(prodImages))"
   ]
  },
  {
   "cell_type": "code",
   "execution_count": null,
   "id": "77898bc7",
   "metadata": {
    "scrolled": true
   },
   "outputs": [],
   "source": [
    "# Obsolete... not working.... ver:0.00\n",
    "\n",
    "def getLushImageData(website):\n",
    "    import regex as re\n",
    "    \n",
    "    global productNames, productPrice,imageSrc,driver,productDetail,imageSrc1,    prodImages\n",
    "\n",
    "    imageSrc=[]\n",
    "    imageSrc1=[]    \n",
    "    prodImages=[]\n",
    "    prodImage=None\n",
    "\n",
    "    driver=None\n",
    "    options = webdriver.ChromeOptions()\n",
    "    options.add_argument(\"start-maximized\")    \n",
    "    \n",
    "    options.add_experimental_option(\"excludeSwitches\", [\"enable-automation\"])\n",
    "    options.add_experimental_option('useAutomationExtension', False)\n",
    "    driver = webdriver.Chrome(\n",
    "            service=Service(ChromeDriverManager().install()),options=options\n",
    "    )\n",
    "    stealth(driver,\n",
    "            languages=[\"en-US\", \"en\"],\n",
    "            vendor=\"Google Inc.\",\n",
    "            platform=\"Win32\",\n",
    "            webgl_vendor=\"Intel Inc.\",\n",
    "            renderer=\"Intel Iris OpenGL Engine\",\n",
    "            fix_hairline=True,\n",
    "            )\n",
    "\n",
    "    url = website\n",
    "    driver.get(url)    \n",
    "    try:\n",
    "        btn=        btn=WebDriverWait(driver, 120).until(EC.element_to_be_clickable((By.XPATH\n",
    "                    ,'//button[text()=\"Accept all cookies\"]')))  \n",
    "        btn.click()  \n",
    "        btn=None \n",
    "    except Exception as e:\n",
    "        print(e)\n",
    "    finally:        \n",
    "        try:   \n",
    "            while True:\n",
    "\n",
    "                    loadMoreButton=WebDriverWait(driver, 120).until(EC.presence_of_element_located(\n",
    "                            (By.XPATH,'//button[contains(text(),\"Load more\")]')))     \n",
    "\n",
    "                    loadMoreButton.click()\n",
    "                    loadMoreButton=None \n",
    "\n",
    "        except:\n",
    "            pass\n",
    "        finally:\n",
    "            try:\n",
    "#                 print('image...............')\n",
    "                time.sleep(120)       \n",
    "#                 prodImage=WebDriverWait(driver, 60).until(\n",
    "#                 EC.presence_of_all_elements_located((By.XPATH\n",
    "#                 ,'//img[contains(@src,\"bugs\") and contains(@src,\".png\")]')))\n",
    "                \n",
    "#                 prodImage=driver.find_elements(\n",
    "#                     By.XPATH,'//img[contains(@src,\"bugs\") and contains(@src,\".png\")]')\n",
    "\n",
    "#                 sriptText=\"$(\"img[alt=\"By the Campfire Knot Wrap\"]\");\"\n",
    "                element=driver.('$(\"img[alt=\"By the Campfire Knot Wrap\"]\")') \n",
    "                print('name : ',element)\n",
    "                \n",
    "                prodImages.append(prodImage)\n",
    "            except  Exception as e:\n",
    "                print(e)\n",
    "            finally:\n",
    "#                 print(prodImages)\n",
    "                totRec=0\n",
    "                for pImage in prodImages:\n",
    "                    totRec=totRec+1\n",
    "                    print(pImage)\n",
    "                    \n",
    "    \n",
    "    time.sleep(20)\n",
    "    driver.delete_all_cookies()\n",
    "    driver.close()\n",
    "    driver.quit()  \n",
    "    print('Image doneee...')  \n",
    "#     print('total rec . ',totRec)\n",
    "    "
   ]
  },
  {
   "cell_type": "code",
   "execution_count": null,
   "id": "2ffcef0c",
   "metadata": {
    "scrolled": true
   },
   "outputs": [],
   "source": [
    "# 1\n",
    "import regex as re\n",
    "global productNames, productPrice,imageSrc,driver,productDetail,imageSrc1,    prodImages,productType\n",
    "\n",
    "driver=None\n",
    "options = webdriver.ChromeOptions()\n",
    "options.add_argument(\"start-maximized\")    \n",
    "\n",
    "options.add_experimental_option(\"excludeSwitches\", [\"enable-automation\"])\n",
    "options.add_experimental_option('useAutomationExtension', False)\n",
    "driver = webdriver.Chrome(\n",
    "        service=Service(ChromeDriverManager().install()),options=options\n",
    ")\n",
    "stealth(driver,\n",
    "        languages=[\"en-US\", \"en\"],\n",
    "        vendor=\"Google Inc.\",\n",
    "        platform=\"Win32\",\n",
    "        webgl_vendor=\"Intel Inc.\",\n",
    "        renderer=\"Intel Iris OpenGL Engine\",\n",
    "        fix_hairline=True,\n",
    "        )\n",
    "\n",
    "website='https://www.lush.com/uk/en/c/plastic-free'\n",
    "url = website\n",
    "driver.get(url)    \n",
    "\n",
    "btn=        btn=WebDriverWait(driver, 120).until(EC.element_to_be_clickable((By.XPATH\n",
    "            ,'//button[text()=\"Accept all cookies\"]')))  \n",
    "btn.click()  \n",
    "btn=None \n",
    "\n",
    "try:   \n",
    "    while True:\n",
    "\n",
    "#                 time.sleep(60)\n",
    "            loadMoreButton=WebDriverWait(driver, 120).until(EC.element_to_be_clickable(\n",
    "                    (By.XPATH,'//button[contains(text(),\"Load more\")]')))     \n",
    "\n",
    "            loadMoreButton.click()\n",
    "            loadMoreButton=None \n",
    "except:\n",
    "    pass  "
   ]
  },
  {
   "cell_type": "code",
   "execution_count": null,
   "id": "61b29e9a",
   "metadata": {
    "scrolled": true
   },
   "outputs": [],
   "source": [
    "htmlElement=driver.find_element(By.TAG_NAME,'html')\n",
    "htmlElement.send_keys(Keys.HOME)\n",
    "htmlElement.send_keys(Keys.END)"
   ]
  },
  {
   "cell_type": "code",
   "execution_count": null,
   "id": "2cd214c7",
   "metadata": {
    "scrolled": true
   },
   "outputs": [],
   "source": [
    "#####2\n",
    "\n",
    "imageSrc=[]\n",
    "productNames=[]\n",
    "productType=[]\n",
    "productDetail=[]\n",
    "imageSrc1=[]    \n",
    "prodImages=[]\n",
    "productPrice=[]\n",
    "prodImage=None\n",
    "\n",
    "parentClass=driver.find_element(By.XPATH,'//div[@class=\"c-Grid-styles__Wrapper-sc-7b9df201-2 XkYBc\"]')\n",
    "\n",
    "prodNameDiv=parentClass.find_elements(By.XPATH\n",
    "                ,'//div[@class=\"c-Grid-styles__Wrapper-sc-7b9df201-2 XkYBc\"]//div[@class=\"flex__Flex-sc-2d867263-0 product-card__ContentContainer-sc-a4c933fb-3 eziUEP bLPKdN\"]/h3[1]')\n",
    "\n",
    "# prodDescDiv=parentClass.find_elements(By.XPATH\n",
    "#                 ,'//div[@class=\"c-Grid-styles__Wrapper-sc-7b9df201-2 XkYBc\"]//div[@class=\"flex__Flex-sc-2d867263-0 product-card__ContentContainer-sc-a4c933fb-3 eziUEP bLPKdN\"]/h3[1]')\n",
    "\n",
    "# prodTypeDiv=parentClass.find_elements(By.XPATH,'//div[@class=\"c-Grid-styles__Wrapper-sc-7b9df201-2 XkYBc\"]//div[@class=\"flex__Flex-sc-2d867263-0 product-card__ContentContainer-sc-a4c933fb-3 eziUEP bLPKdN\"]/p[1]')\n",
    "\n",
    "# prodPriceDiv=parentClass.find_elements(By.XPATH\n",
    "#                 ,'//div[@class=\"c-Grid-styles__Wrapper-sc-7b9df201-2 XkYBc\"]//div[@class=\"flex__Flex-sc-2d867263-0 product-card__ContentContainer-sc-a4c933fb-3 eziUEP bLPKdN\"]//span[@class=\"product-card__MoneyText-sc-a4c933fb-9 iPIKwB\"]/span[1]')\n",
    "\n",
    "\n",
    "# for pr in prodPriceDiv:\n",
    "#     productPrice.append(pr.text)\n",
    "\n",
    "# for pt in prodTypeDiv:\n",
    "#     productType.append(pt.text)\n",
    "\n",
    "# for pd in prodDescDiv:\n",
    "#     productDetail.append(pd.text)\n",
    "\n",
    "for prodName in prodNameDiv:   \n",
    "    pName=prodName.text\n",
    "#     print(pName)\n",
    "#     productName=pName.replace(' ', '_').lower()\n",
    "    productNames.append(pName)\n",
    "    \n",
    "for p in productNames:\n",
    "    print(p)\n",
    "    try:\n",
    "        child=parentClass.find_element(By.XPATH,'//img[contains(@alt,\"'+p+'\") and contains(@src,\".png\")]')\n",
    "        prodImages.append(child.get_attribute(\"src\"))\n",
    "        print(child.get_attribute(\"src\"))\n",
    "        \n",
    "    except(NoSuchElementException):\n",
    "        child=parentClass.find_element(By.XPATH,'//img[contains(@alt,\"'+p+'\") and contains(@src,\".jpeg\")]')\n",
    "        prodImages.append(child.get_attribute(\"src\"))\n",
    "        print(child.get_attribute(\"src\"))\n",
    "    \n",
    "prodNameProdType=len(productNames)-len(productType)\n",
    "if prodNameProdType>0:\n",
    "    for a in range(0,prodNameProdType):\n",
    "        productType.append('N/A')\n",
    "\n",
    "print(len(productType))\n",
    "\n",
    "print('done...')"
   ]
  },
  {
   "cell_type": "code",
   "execution_count": null,
   "id": "cc9c9007",
   "metadata": {},
   "outputs": [],
   "source": []
  },
  {
   "cell_type": "code",
   "execution_count": null,
   "id": "d7fce08f",
   "metadata": {
    "scrolled": true
   },
   "outputs": [],
   "source": [
    "getLushData('https://www.lush.com/uk/en/c/gift-wrapping')"
   ]
  },
  {
   "cell_type": "code",
   "execution_count": null,
   "id": "ab4be8ce",
   "metadata": {
    "scrolled": true
   },
   "outputs": [],
   "source": [
    "getLushImageData('https://www.lush.com/uk/en/c/gift-wrapping')"
   ]
  },
  {
   "cell_type": "code",
   "execution_count": null,
   "id": "eef28525",
   "metadata": {
    "scrolled": true
   },
   "outputs": [],
   "source": [
    "print('Product Names ',len(productNames))\n",
    "print('Product detail ',len(productDetail))\n",
    "print('Product Type ',len(productType))\n",
    "print('Product Price ',len(productPrice))\n",
    "print('image src ',len(prodImages))\n"
   ]
  },
  {
   "cell_type": "code",
   "execution_count": null,
   "id": "ec4a6127",
   "metadata": {
    "scrolled": true
   },
   "outputs": [],
   "source": [
    "# print(productType)\n",
    "print(prodImages)"
   ]
  },
  {
   "cell_type": "code",
   "execution_count": null,
   "id": "002dd2a1",
   "metadata": {
    "scrolled": true
   },
   "outputs": [],
   "source": [
    "try:\n",
    "    \n",
    "    time.sleep(60)\n",
    "    primages=WebDriverWait(driver, 120).until(EC.presence_of_all_elements_located((By.XPATH\n",
    "        ,'//div[@class=\"flex__Flex-sc-2d867263-0 product-card__ImageContainer-sc-a4c933fb-2 eziUEP jLkqUY\"]//noscript'\n",
    "            ))) \n",
    "except:\n",
    "    pass\n",
    "for imageUrl in primages:\n",
    "    imageSrc1=imageUrl.get_attribute(\"innerHTML\")\n",
    "    print(imageSrc1)\n",
    "#     a=re.sub(\"\\\"\", \"'\", imageSrc1) \n",
    "#     prodImages.append(re.search(\"src='(.*?)'\", a).group(1))    "
   ]
  },
  {
   "cell_type": "code",
   "execution_count": null,
   "id": "7819b5b9",
   "metadata": {
    "scrolled": true
   },
   "outputs": [],
   "source": [
    "\n",
    "for pname in productNames:\n",
    "#     print(pname)\n",
    "#     img[alt=\"Bugs Knot Wrap\"]\n",
    "#     stringXpath=f'img[alt=\"'+pname+'\"]'\n",
    "    stringXpath='//div[@class=\"flex__Flex-sc-2d867263-0 product-card__ImageContainer-sc-a4c933fb-2 eziUEP jLkqUY\"]//img[@alt=\"'+pname+'\"]'\n",
    "    print(stringXpath)\n",
    "    try:\n",
    "        \n",
    "        productImage=WebDriverWait(driver, 60).until(\n",
    "        EC.presence_of_all_elements_located((By.XPATH\n",
    "            ,stringXpath\n",
    "        )))    \n",
    "\n",
    "        for pimage in productImage:\n",
    "            a=pimage.get_attribute(\"srcset\")\n",
    "            b=pimage.get_attribute(\"src\")\n",
    "            print('a : ',a)\n",
    "            print('b : ',b)\n",
    "        #         productNames.append(\n",
    "        #                     pname.get_attribute(\"innerHTML\")                       \n",
    "        #                     )  \n",
    "        \n",
    "    except:\n",
    "        pass;\n",
    "        \n",
    "\n"
   ]
  },
  {
   "cell_type": "code",
   "execution_count": null,
   "id": "018d5eef",
   "metadata": {
    "scrolled": true
   },
   "outputs": [],
   "source": [
    "print(productNames)\n",
    "len(productNames)"
   ]
  },
  {
   "cell_type": "code",
   "execution_count": null,
   "id": "36887c5c",
   "metadata": {
    "scrolled": true
   },
   "outputs": [],
   "source": [
    "# for i in range(0,len(productNames)):\n",
    "# prodName=productNames[i]\n",
    "# imageUrl=f'img[alt=\"{prodName}\"]'\n",
    "# print(imageUrl)\n",
    "# try:\n",
    "a=WebDriverWait(driver, 30).until(EC.presence_of_element_located((By.XPATH,                                                                      \n",
    "        ,'//div[contains(@class,\"c-Grid-styles__Wrapper-sc-7b9df201-2 XkYBc\")]//h3[@class=\"text__Text-sc-fac938e2-0 product-card__Name-sc-a4c933fb-4 cKOjOB iFwJeI\"][1]'\n",
    "            )))     \n",
    "print(' a : ',a)\n",
    "#     except:\n",
    "#         pass\n",
    "\n",
    "    \n",
    "    "
   ]
  },
  {
   "cell_type": "code",
   "execution_count": null,
   "id": "ab662ccc",
   "metadata": {
    "scrolled": true
   },
   "outputs": [],
   "source": [
    "a=driver.find_element(by=By,value=('Question Block Gift Box'))\n"
   ]
  },
  {
   "cell_type": "code",
   "execution_count": null,
   "id": "1f5922b0",
   "metadata": {
    "scrolled": true
   },
   "outputs": [],
   "source": [
    "print(prodImages)\n",
    "len(prodImages)"
   ]
  },
  {
   "cell_type": "markdown",
   "id": "3f80d630",
   "metadata": {},
   "source": [
    "# runing coding manually"
   ]
  },
  {
   "cell_type": "code",
   "execution_count": null,
   "id": "c1a3b94c",
   "metadata": {
    "scrolled": true
   },
   "outputs": [],
   "source": [
    "getSubCategory('https://www.lush.com/uk/en/c/lush-x-spongebob')\n",
    "subCategory"
   ]
  },
  {
   "cell_type": "code",
   "execution_count": null,
   "id": "c82a0b02",
   "metadata": {
    "scrolled": true
   },
   "outputs": [],
   "source": [
    "getLushData('https://www.lush.com/uk/en/c/collaborations')"
   ]
  },
  {
   "cell_type": "code",
   "execution_count": null,
   "id": "99fa0420",
   "metadata": {
    "scrolled": true
   },
   "outputs": [],
   "source": [
    "print('Product Names ',len(productNames))\n",
    "print('Product detail ',len(productDetail))\n",
    "print('Product Price ',len(productPrice))\n",
    "print('image src ',len(prodImages))"
   ]
  },
  {
   "cell_type": "code",
   "execution_count": null,
   "id": "f65ab83f",
   "metadata": {
    "scrolled": true
   },
   "outputs": [],
   "source": [
    "imageSrc"
   ]
  },
  {
   "cell_type": "code",
   "execution_count": null,
   "id": "8f1cdb36",
   "metadata": {
    "scrolled": true
   },
   "outputs": [],
   "source": [
    "# imageSrc\n",
    "# packageDetails = f'''<img alt='Asteroid' srcSet='https://www.lush.com/cdn-cgi/image/width=256,f=auto,quality=75/https://unicorn.lush.com/media/thumbnails/products/astroid_bath_bomb_9018_2023_d3c8b361_thumbnail_256.png 1x, https://www.lush.com/cdn-cgi/image/width=640,f=auto,quality=75/https://unicorn.lush.com/media/thumbnails/products/astroid_bath_bomb_9018_2023_d3c8b361_thumbnail_256.png 2x' src='https://www.lush.com/cdn-cgi/image/width=640,f=auto,quality=75/https://unicorn.lush.com/media/thumbnails/products/astroid_bath_bomb_9018_2023_d3c8b361_thumbnail_256.png' decoding='async' data-nimg='intrinsic' style='position:absolute;top:0;left:0;bottom:0;right:0;box-sizing:border-box;padding:0;border:none;margin:auto;display:block;width:0;height:0;min-width:100%;max-width:100%;min-height:100%;max-height:100%' loading='lazy'/>'''\n",
    "# name = re.search(\"name='(.*?)'\", packageDetails).group(1)\n",
    "for image in range(0,len(imageSrc)):\n",
    "    print(imageSrc[image])\n",
    "    a=imageSrc[image]\n",
    "    print(re.search(\"src='(.*?)'\", a).group(1))\n",
    "# print('name ... : ',name)"
   ]
  },
  {
   "cell_type": "code",
   "execution_count": null,
   "id": "994ffa58",
   "metadata": {
    "scrolled": true
   },
   "outputs": [],
   "source": [
    "import regex as re\n",
    "for x in range(0,len(imageSrc)):\n",
    "    a=imageSrc[x]\n",
    "    a=re.sub(\"\\\"\", \"'\", a)\n",
    "    print(a) "
   ]
  },
  {
   "cell_type": "code",
   "execution_count": null,
   "id": "6a9717f7",
   "metadata": {
    "scrolled": true
   },
   "outputs": [],
   "source": [
    "\n",
    "import re\n",
    " \n",
    "# initializing string\n",
    "packageDetails = f'''<img alt='Asteroid' srcSet='https://www.lush.com/cdn-cgi/image/width=256,f=auto,quality=75/https://unicorn.lush.com/media/thumbnails/products/astroid_bath_bomb_9018_2023_d3c8b361_thumbnail_256.png 1x, https://www.lush.com/cdn-cgi/image/width=640,f=auto,quality=75/https://unicorn.lush.com/media/thumbnails/products/astroid_bath_bomb_9018_2023_d3c8b361_thumbnail_256.png 2x' src='https://www.lush.com/cdn-cgi/image/width=640,f=auto,quality=75/https://unicorn.lush.com/media/thumbnails/products/astroid_bath_bomb_9018_2023_d3c8b361_thumbnail_256.png' decoding='async' data-nimg='intrinsic' style='position:absolute;top:0;left:0;bottom:0;right:0;box-sizing:border-box;padding:0;border:none;margin:auto;display:block;width:0;height:0;min-width:100%;max-width:100%;min-height:100%;max-height:100%' loading='lazy'/>'''\n",
    "# name = re.search(\"name='(.*?)'\", packageDetails).group(1)\n",
    "name = re.search(\"src='(.*?)'\", packageDetails).group(1)\n",
    "print('name ... : ',name)\n",
    "\n",
    "\n"
   ]
  },
  {
   "cell_type": "code",
   "execution_count": null,
   "id": "05ab92c7",
   "metadata": {
    "scrolled": true
   },
   "outputs": [],
   "source": [
    "import re\n",
    "\n",
    "packageDetails = f'''package: name='com.example.tracker' versionCode='1' versionName='1.0' '''\n",
    "name = re.search(\"name='(.*?)'\", packageDetails).group(1)\n",
    "versionCode = re.search(\"versionCode='(.*?)'\", packageDetails).group(1)\n",
    "versionName = re.search(\"versionName='(.*?)'\", packageDetails).group(1)\n",
    "\n",
    "print('package name is ', name)\n",
    "print ('version code is ', versionCode)\n",
    "print ('version name is ', versionName )"
   ]
  },
  {
   "cell_type": "code",
   "execution_count": null,
   "id": "5a3d1692",
   "metadata": {
    "scrolled": true
   },
   "outputs": [],
   "source": [
    "imageSrc"
   ]
  },
  {
   "cell_type": "code",
   "execution_count": null,
   "id": "76c15a70",
   "metadata": {
    "scrolled": true
   },
   "outputs": [],
   "source": [
    "# Obsolete... Working......0\n",
    "def getLushData(website):\n",
    "    from selenium import webdriver\n",
    "    from selenium_stealth import stealth\n",
    "    import time\n",
    "\n",
    "    global productNames, productPrice,imageSrc,driver,productDetail,imageSrc1,    prodImages\n",
    "\n",
    "    productsDict={}\n",
    "    productNames=[]\n",
    "    productDetail=[]\n",
    "    productPrice=[]\n",
    "    imageSrc=[]\n",
    "    imageSrc1=[]    \n",
    "    prodImages=[]\n",
    "\n",
    "    driver=None\n",
    "    options = webdriver.ChromeOptions()\n",
    "    options.add_argument(\"start-maximized\")\n",
    "\n",
    "    # options.add_argument(\"--headless\")\n",
    "\n",
    "    options.add_experimental_option(\"excludeSwitches\", [\"enable-automation\"])\n",
    "    options.add_experimental_option('useAutomationExtension', False)\n",
    "    driver = webdriver.Chrome(\n",
    "            service=Service(ChromeDriverManager().install()),options=options\n",
    "    )\n",
    "    stealth(driver,\n",
    "            languages=[\"en-US\", \"en\"],\n",
    "            vendor=\"Google Inc.\",\n",
    "            platform=\"Win32\",\n",
    "            webgl_vendor=\"Intel Inc.\",\n",
    "            renderer=\"Intel Iris OpenGL Engine\",\n",
    "            fix_hairline=True,\n",
    "            )\n",
    "\n",
    "    url = website\n",
    "    driver.get(url)\n",
    "\n",
    "    try:\n",
    "        btn=WebDriverWait(driver, 60).until(EC.presence_of_element_located((By.XPATH\n",
    "                    ,'//button[text()=\"Accept all cookies\"]')))  \n",
    "        btn.click()  \n",
    "        btn=None \n",
    "    except:\n",
    "        pass\n",
    "\n",
    "    try:           \n",
    "            productNames1=WebDriverWait(driver, 30).until(\n",
    "                EC.presence_of_all_elements_located((By.XPATH\n",
    "                ,'//div[@class=\"flex__Flex-sc-2d867263-0 product-card__ContentContainer-sc-a4c933fb-3 eziUEP bLPKdN\"]/h3[1]')))    \n",
    "            for pname in productNames1:\n",
    "                productNames.append(\n",
    "                    pname.get_attribute(\"innerHTML\")\n",
    "                            )    \n",
    "    except:\n",
    "        pass\n",
    "\n",
    "    try:           \n",
    "            productDetail1=WebDriverWait(driver, 30).until(\n",
    "                EC.presence_of_all_elements_located((By.XPATH\n",
    "                ,'//div[@class=\"flex__Flex-sc-2d867263-0 product-card__ContentContainer-sc-a4c933fb-3 eziUEP bLPKdN\"]/span[1]')))    \n",
    "            for pDetail in productDetail1:\n",
    "                productDetail.append(\n",
    "                    pDetail.get_attribute(\"innerHTML\")\n",
    "                            )    \n",
    "    except:\n",
    "        pass    \n",
    "    \n",
    "# prod price:\n",
    "    try:\n",
    "        productPrice1=WebDriverWait(driver, 30).until(\n",
    "        EC.presence_of_all_elements_located((By.XPATH\n",
    "                    ,'//div[@class=\"flex__Flex-sc-2d867263-0 product-card__ContentContainer-sc-a4c933fb-3 eziUEP bLPKdN\"]//span[@class=\"product-card__MoneyText-sc-a4c933fb-9 iPIKwB\"][1]')))    \n",
    "        for prodPrice in productPrice1:\n",
    "            pPrice=prodPrice.get_attribute(\"innerHTML\")\n",
    "            pPrice=pPrice.replace('<span>','').replace('</span>','')\n",
    "            if pPrice=='':\n",
    "                productPrice.append(0)\n",
    "            else:                        \n",
    "                productPrice.append(pPrice) \n",
    "    except:\n",
    "        pass\n",
    "    \n",
    "\n",
    "\n",
    "#  \n",
    "\n",
    "#             time.sleep(120)\n",
    "#             loadMoreButton=WebDriverWait(driver, 120).until(EC.presence_of_element_located(\n",
    "#                     (By.CSS_SELECTOR,'div[class=\"desktop-only\"] a[title=\"Go to next page\"] img[role=\"presentation\"]')))     \n",
    "\n",
    "#             loadMoreButton.click()\n",
    "#             loadMoreButton=None    \n",
    "\n",
    "    #         productPrice1=[]\n",
    "    #         productNames1=[]\n",
    "#     except:\n",
    "#         pass\n",
    "    # finally:\n",
    "\n",
    "    time.sleep(30)\n",
    "    driver.delete_all_cookies()\n",
    "    driver.close()\n",
    "    driver.quit()  \n",
    "    print('doneee...')\n"
   ]
  },
  {
   "cell_type": "code",
   "execution_count": null,
   "id": "921d154e",
   "metadata": {
    "scrolled": true
   },
   "outputs": [],
   "source": []
  },
  {
   "cell_type": "code",
   "execution_count": null,
   "id": "db5ae3bc",
   "metadata": {
    "scrolled": true
   },
   "outputs": [],
   "source": [
    "def getLushDataImages(website):\n",
    "    from selenium import webdriver\n",
    "    from selenium_stealth import stealth\n",
    "    import time\n",
    "\n",
    "    global productNames, productPrice,imageSrc,driver,productDetail,imageSrc1,    prodImages\n",
    "\n",
    "\n",
    "    imageSrc=[]\n",
    "    imageSrc1=[]    \n",
    "    prodImages=[]\n",
    "\n",
    "    driver=None\n",
    "    options = webdriver.ChromeOptions()\n",
    "    options.add_argument(\"start-maximized\")\n",
    "\n",
    "    # options.add_argument(\"--headless\")\n",
    "\n",
    "    options.add_experimental_option(\"excludeSwitches\", [\"enable-automation\"])\n",
    "    options.add_experimental_option('useAutomationExtension', False)\n",
    "    driver = webdriver.Chrome(\n",
    "            service=Service(ChromeDriverManager().install()),options=options\n",
    "    )\n",
    "    stealth(driver,\n",
    "            languages=[\"en-US\", \"en\"],\n",
    "            vendor=\"Google Inc.\",\n",
    "            platform=\"Win32\",\n",
    "            webgl_vendor=\"Intel Inc.\",\n",
    "            renderer=\"Intel Iris OpenGL Engine\",\n",
    "            fix_hairline=True,\n",
    "            )\n",
    "\n",
    "    url = website\n",
    "    driver.get(url)\n",
    "\n",
    "    try:\n",
    "        btn=WebDriverWait(driver, 60).until(EC.presence_of_element_located((By.XPATH\n",
    "                    ,'//button[text()=\"Accept all cookies\"]')))  \n",
    "        btn.click()  \n",
    "        btn=None \n",
    "    except:\n",
    "        pass\n",
    "\n",
    "    for pn in range(0,len(productNames)):\n",
    "        imageUrl=None\n",
    "        prod=productNames[pn]\n",
    "        imageUrl=f'''img[alt='{prod}']'''\n",
    "        try:\n",
    "            primages=WebDriverWait(driver, 200).until(\n",
    "            EC.visibility_of_element_located((By.CSS_SELECTOR,imageUrl\n",
    "                        )))  \n",
    "            prodImages.append(primages.get_attribute(\"src\"))\n",
    "\n",
    "    # rough don't un-comment\n",
    "    #     primages=WebDriverWait(driver, 30).until(\n",
    "    #         EC.visibility_of_element_located((By.CSS_SELECTOR,\"img[alt='Asteroid']\"\n",
    "    #                     )))      \n",
    "\n",
    "        except Exception as e:\n",
    "             if 'invalid selector' in str(e):\n",
    "                pass\n",
    "    #             print(primages.get_attribute(\"src\"))\n",
    "                prodImages.append(primages.get_attribute(\"not found\"))\n",
    "\n",
    "    #     imageSrc1.append(primages)\n",
    "\n",
    "\n",
    "    print('image scrapping done.....')\n",
    "\n",
    "#             time.sleep(120)\n",
    "#             loadMoreButton=WebDriverWait(driver, 120).until(EC.presence_of_element_located(\n",
    "#                     (By.CSS_SELECTOR,'div[class=\"desktop-only\"] a[title=\"Go to next page\"] img[role=\"presentation\"]')))     \n",
    "\n",
    "#             loadMoreButton.click()\n",
    "#             loadMoreButton=None    \n",
    "\n",
    "    #         productPrice1=[]\n",
    "    #         productNames1=[]\n",
    "#     except:\n",
    "#         pass\n",
    "    # finally:\n",
    "\n",
    "    time.sleep(30)\n",
    "    driver.delete_all_cookies()\n",
    "    driver.close()\n",
    "    driver.quit()  \n",
    "    print('doneee...')\n"
   ]
  },
  {
   "cell_type": "code",
   "execution_count": null,
   "id": "a91b1790",
   "metadata": {
    "scrolled": true
   },
   "outputs": [],
   "source": [
    "getLushData('https://www.lush.com/uk/en/c/collaborations')"
   ]
  },
  {
   "cell_type": "code",
   "execution_count": null,
   "id": "fd987a2b",
   "metadata": {
    "scrolled": true
   },
   "outputs": [],
   "source": [
    "getLushData1('https://www.lush.com/uk/en/c/collaborations')"
   ]
  },
  {
   "cell_type": "code",
   "execution_count": null,
   "id": "85c68b0c",
   "metadata": {
    "scrolled": true
   },
   "outputs": [],
   "source": [
    "getLushDataImages('https://www.lush.com/uk/en/c/collaborations')"
   ]
  },
  {
   "cell_type": "code",
   "execution_count": null,
   "id": "fd0af606",
   "metadata": {
    "scrolled": true
   },
   "outputs": [],
   "source": [
    "print('Product Names ',len(productNames))\n",
    "print('Product detail ',len(productDetail))\n",
    "print('Product Price ',len(productPrice))\n",
    "print('image src ',len(prodImages))"
   ]
  },
  {
   "cell_type": "code",
   "execution_count": null,
   "id": "3652f35b",
   "metadata": {
    "scrolled": true
   },
   "outputs": [],
   "source": [
    "prodImages"
   ]
  },
  {
   "cell_type": "code",
   "execution_count": null,
   "id": "9263ec31",
   "metadata": {
    "scrolled": true
   },
   "outputs": [],
   "source": [
    "global productNames,productPrice\n",
    "productNames=[]\n",
    "productPrice=[]"
   ]
  },
  {
   "cell_type": "code",
   "execution_count": null,
   "id": "cd0225e8",
   "metadata": {
    "scrolled": true
   },
   "outputs": [],
   "source": [
    "print('Product Names ',len(productNames))\n",
    "print('Product detail ',len(productDetail))\n",
    "print('Product Price ',len(productPrice))\n",
    "print('image src ',len(imageSrc))"
   ]
  },
  {
   "cell_type": "code",
   "execution_count": null,
   "id": "cdf03a9c",
   "metadata": {
    "scrolled": true
   },
   "outputs": [],
   "source": [
    "productNames"
   ]
  },
  {
   "cell_type": "code",
   "execution_count": null,
   "id": "80d9564c",
   "metadata": {
    "scrolled": true
   },
   "outputs": [],
   "source": [
    "productPrice"
   ]
  },
  {
   "cell_type": "markdown",
   "id": "75cbd9e6",
   "metadata": {},
   "source": [
    "# runing coding manually  --- End"
   ]
  },
  {
   "cell_type": "code",
   "execution_count": null,
   "id": "60135dfa",
   "metadata": {
    "scrolled": true
   },
   "outputs": [],
   "source": [
    "from selenium import webdriver\n",
    "from selenium_stealth import stealth\n",
    "import time\n",
    "\n",
    "global productNames, productPrice,imageSrc,driver,productDetail,imageSrc1\n",
    "\n",
    "productsDict={}\n",
    "productNames=[]\n",
    "productDetail=[]\n",
    "productPrice=[]\n",
    "imageSrc=[]\n",
    "imageSrc1=[]    \n",
    "prodImages=[]\n",
    "\n",
    "driver=None\n",
    "options = webdriver.ChromeOptions()\n",
    "options.add_argument(\"start-maximized\")\n",
    "\n",
    "# options.add_argument(\"--headless\")\n",
    "\n",
    "options.add_experimental_option(\"excludeSwitches\", [\"enable-automation\"])\n",
    "options.add_experimental_option('useAutomationExtension', False)\n",
    "driver = webdriver.Chrome(\n",
    "        service=Service(ChromeDriverManager().install()),options=options\n",
    ")\n",
    "stealth(driver,\n",
    "        languages=[\"en-US\", \"en\"],\n",
    "        vendor=\"Google Inc.\",\n",
    "        platform=\"Win32\",\n",
    "        webgl_vendor=\"Intel Inc.\",\n",
    "        renderer=\"Intel Iris OpenGL Engine\",\n",
    "        fix_hairline=True,\n",
    "        )\n",
    "\n",
    "url = \"https://www.bathnbloom.com/store/c8/bathandbody\"\n",
    "driver.get(url)\n",
    "prodImages=driver.find_elements(by=By.XPATH\n",
    "                                ,value=('//img[@class=\"wsite-com-category-product-featured-image wsite-imageaspectratio-image\"]'))\n",
    "\n",
    "for x in range(0,len(prodImages)):\n",
    "    print(prodImages[x].get_attribute(\"src\"))\n",
    "\n"
   ]
  },
  {
   "cell_type": "code",
   "execution_count": null,
   "id": "d6cfb8f0",
   "metadata": {
    "scrolled": true
   },
   "outputs": [],
   "source": [
    "# New bathAndBodyWorks...\n",
    "class bathAndBodyWorks:\n",
    "    def scrapData(website):\n",
    "        global productNames, productPrice,imageSrc,driver,productDetail,imageSrc1\n",
    "        productsDict={}\n",
    "        productNames=[]\n",
    "        productDetail=[]\n",
    "        productPrice=[]\n",
    "        imageSrc=[]\n",
    "        imageSrc1=[]\n",
    "        subCategory=[]\n",
    "        driver=None\n",
    "        \n",
    "        driver = webdriver.Chrome(service=Service(ChromeDriverManager().install()))\n",
    "        driver.get(website)\n",
    "        try:\n",
    "            while True:       \n",
    "\n",
    "                    time.sleep(120)\n",
    "                    loadMoreButton=WebDriverWait(driver, 120).until(EC.presence_of_element_located(\n",
    "                            (By.XPATH,'//li[@class=\"first-last next\"]/a[@class=\"page-next\"]')))     \n",
    "\n",
    "                    loadMoreButton.click()\n",
    "                    loadMoreButton=None                \n",
    "\n",
    "        except: \n",
    "#          (TimeoutException,NoSuchElementException,StaleElementReferenceException,MaxRetryError\n",
    "#               ,ConnectionRefusedError,NewConnectionError,NoSuchWindowException):\n",
    "            pass\n",
    "        \n",
    "        \n",
    "        \n",
    "#         productNames1=WebDriverWait(driver, 30).until(\n",
    "#             EC.presence_of_all_elements_located((By.XPATH\n",
    "#             ,'//div[@class=\"search-result-content\"]/ul[@id=\"search-result-items\"]//h3[@class=\"product-name\"][1]')))    \n",
    "\n",
    "#         for pname in productNames1:\n",
    "#             print(pname.text)\n",
    "#             productNames.append(pname.text)    \n",
    "            \n",
    "        time.sleep(30)\n",
    "        driver.delete_all_cookies()\n",
    "        driver.close()\n",
    "        driver.quit()  \n",
    "        print('done........')            \n",
    "\n",
    "\n",
    "\n"
   ]
  },
  {
   "cell_type": "code",
   "execution_count": null,
   "id": "134e6f45",
   "metadata": {
    "scrolled": true
   },
   "outputs": [],
   "source": [
    "scrapData=bathAndBodyWorks"
   ]
  },
  {
   "cell_type": "code",
   "execution_count": null,
   "id": "559e29f2",
   "metadata": {
    "scrolled": true
   },
   "outputs": [],
   "source": [
    "scrapData.scrapData('https://www.bathandbodyworks.com/c/body-care/all-moisturizers')"
   ]
  },
  {
   "cell_type": "markdown",
   "id": "a508e7a0",
   "metadata": {},
   "source": [
    "# End......"
   ]
  },
  {
   "cell_type": "code",
   "execution_count": null,
   "id": "7c5f3f20",
   "metadata": {
    "scrolled": true
   },
   "outputs": [],
   "source": [
    "class _scrpWebWaitProdImages:   \n",
    "\n",
    "    def __init__(self, website):\n",
    "        global productNames, productPrice,imageSrc,driver,productDetail,imageSrc1\n",
    "        productsDict={}\n",
    "        productNames=[]\n",
    "        productDetail=[]\n",
    "        productPrice=[]\n",
    "        imageSrc=[]\n",
    "        imageSrc1=[]\n",
    "        subCategory=[]\n",
    "        driver=None\n",
    "        import gc  \n",
    "        self.website = website\n",
    "        driver = webdriver.Chrome(service=Service(\n",
    "            ChromeDriverManager().install()))\n",
    "\n",
    "        driver.get(website)\n",
    "\n",
    "        time.sleep(30)\n",
    "        btn=WebDriverWait(driver, 30).until(EC.presence_of_element_located((By.XPATH\n",
    "                    ,'//button[text()=\"Accept all cookies\"]')))  \n",
    "        btn.click()  \n",
    "        btn=None\n",
    "        try:\n",
    "            while True:       \n",
    "          \n",
    "                    time.sleep(60)\n",
    "                    loadMoreButton=WebDriverWait(driver, 120).until(EC.presence_of_element_located(\n",
    "                            (By.XPATH,'//button[contains(text(),\"Load more\")]')))     \n",
    "\n",
    "                    loadMoreButton.click()\n",
    "                    loadMoreButton=None                \n",
    "               \n",
    "        except: \n",
    "#          (TimeoutException,NoSuchElementException,StaleElementReferenceException,MaxRetryError\n",
    "#               ,ConnectionRefusedError,NewConnectionError,NoSuchWindowException):\n",
    "            pass\n",
    "\n",
    "\n",
    "#         try:\n",
    "# # Product Details...\n",
    "#             time.sleep(30)\n",
    "#             productDetail1=WebDriverWait(driver, 120).until(\n",
    "#             EC.presence_of_all_elements_located((By.XPATH\n",
    "#                 ,'//div[contains(@class,\"c-Grid-styles__Wrapper-sc-7b9df201-2 XkYBc\")]//p[@class=\"text__Text-sc-fac938e2-0 product-card__Strapline-sc-a4c933fb-5 CIHoe hFslzk\"][1]')))    \n",
    "\n",
    "#             for prodDtl in productDetail1:\n",
    "#                 productDetail.append(prodDtl.text)  \n",
    "\n",
    "# # prod price:\n",
    "\n",
    "#             time.sleep(30)\n",
    "#             productPrice1=WebDriverWait(driver, 120).until(\n",
    "#             EC.presence_of_all_elements_located((By.XPATH\n",
    "#                 ,'//div[contains(@class,\"c-Grid-styles__Wrapper-sc-7b9df201-2 XkYBc\")]//span[@class=\"product-card__MoneyText-sc-a4c933fb-9 iPIKwB\"][1]')))    \n",
    "\n",
    "#             for prodPrice in productPrice1:\n",
    "#                 productPrice.append(prodPrice.text)   \n",
    "#         except:\n",
    "#             pass\n",
    "\n",
    "\n",
    "        try:\n",
    "# Product Images: \n",
    "#             print('images....')\n",
    "            time.sleep(30)\n",
    "#             global productNames\n",
    "#             productNames=[]\n",
    "            productNames1=WebDriverWait(driver, 120).until(\n",
    "            EC.presence_of_all_elements_located((By.XPATH\n",
    "            ,'//div[contains(@class,\"c-Grid-styles__Wrapper-sc-7b9df201-2 XkYBc\")]//h3[@class=\"text__Text-sc-fac938e2-0 product-card__Name-sc-a4c933fb-4 cKOjOB iFwJeI\"][1]')))    \n",
    "\n",
    "            for pname in productNames1:\n",
    "#                 print(pname.text)\n",
    "                productNames.append(pname.text)           \n",
    "\n",
    "            for pn in range(0,len(productNames)):\n",
    "                imageUrl=None\n",
    "                prod=productNames[pn]\n",
    "#                 print(prod)\n",
    "                imageUrl=f'''img[alt='{prod}']'''\n",
    "            #     print(imageUrl)\n",
    "                try:\n",
    "                    primages=driver.find_element(by=By.CSS_SELECTOR,value=(imageUrl))   \n",
    "#                     print(primages)\n",
    "            #         print(primages.get_attribute(\"src\"))\n",
    "                    imageSrc.append(primages.get_attribute(\"src\"))\n",
    "\n",
    "                except Exception as e:\n",
    "            #         print('except.....',str(e))\n",
    "                     if 'invalid selector' in str(e):\n",
    "                        pass\n",
    "            #             print(primages.get_attribute(\"src\"))\n",
    "                        imageSrc.append(primages.get_attribute(\"not found\"))\n",
    "\n",
    "            #     imageSrc1.append(primages)\n",
    "\n",
    "\n",
    " \n",
    "                        \n",
    "        except:\n",
    "            pass\n",
    "\n",
    "        finally:\n",
    "            time.sleep(60)\n",
    "            driver.delete_all_cookies()\n",
    "            driver.close()\n",
    "            driver.quit()  \n",
    "            print('done........')"
   ]
  },
  {
   "cell_type": "code",
   "execution_count": null,
   "id": "4c53e943",
   "metadata": {
    "scrolled": true
   },
   "outputs": [],
   "source": [
    "len(imageSrc1)"
   ]
  },
  {
   "cell_type": "code",
   "execution_count": null,
   "id": "8e830ed1",
   "metadata": {
    "scrolled": true
   },
   "outputs": [],
   "source": [
    "a=_scrpWebWait('https://www.lush.com/uk/en/c/bath-bombs')"
   ]
  },
  {
   "cell_type": "code",
   "execution_count": null,
   "id": "9c4777e0",
   "metadata": {
    "scrolled": true
   },
   "outputs": [],
   "source": [
    "# ***************\n",
    "a=_scrpWebWaitProdImages('https://www.lush.com/uk/en/c/shampoo')"
   ]
  },
  {
   "cell_type": "code",
   "execution_count": null,
   "id": "03ecdeff",
   "metadata": {
    "scrolled": true
   },
   "outputs": [],
   "source": [
    "imageSrc"
   ]
  },
  {
   "cell_type": "code",
   "execution_count": null,
   "id": "564e46f6",
   "metadata": {
    "scrolled": true
   },
   "outputs": [],
   "source": [
    "a=_scrpWebWait"
   ]
  },
  {
   "cell_type": "code",
   "execution_count": null,
   "id": "15b1ff03",
   "metadata": {
    "scrolled": true
   },
   "outputs": [],
   "source": [
    "a.scrapProdImages('https://www.lush.com/uk/en/c/bath-bombs')"
   ]
  },
  {
   "cell_type": "code",
   "execution_count": null,
   "id": "001f8fad",
   "metadata": {
    "scrolled": true
   },
   "outputs": [],
   "source": [
    "print('Product Names ',len(productNames))\n",
    "print('Product detail ',len(productDetail))\n",
    "print('Product Price ',len(productPrice))\n",
    "print('image src ',len(imageSrc))"
   ]
  },
  {
   "cell_type": "code",
   "execution_count": null,
   "id": "cba083b2",
   "metadata": {
    "scrolled": true
   },
   "outputs": [],
   "source": [
    "imageSrc"
   ]
  },
  {
   "cell_type": "code",
   "execution_count": null,
   "id": "34fea36f",
   "metadata": {
    "scrolled": true
   },
   "outputs": [],
   "source": [
    "global imageSrc1\n",
    "for pn in range(0,len(productNames)):\n",
    "    imageUrl=None\n",
    "    prod=productNames[pn]\n",
    "    imageSrc1.append(primages)\n",
    "    print(prod)"
   ]
  },
  {
   "cell_type": "code",
   "execution_count": null,
   "id": "c88ffb7c",
   "metadata": {
    "scrolled": true
   },
   "outputs": [],
   "source": [
    "for x in range(0,len(imageSrc1)):\n",
    "#     print(imageSrc1[x])\n",
    "#     imageSrc.append(imageSrc1[x].get_attribute(\"src\"))\n",
    "    print(imageSrc1[x].get_attribute(\"src\"))\n",
    "    "
   ]
  },
  {
   "cell_type": "code",
   "execution_count": null,
   "id": "3779df28",
   "metadata": {
    "scrolled": true
   },
   "outputs": [],
   "source": [
    "global productNames,imageSrc\n",
    "\n",
    "productsDict={'Product':productNames,'Product_Image':imageSrc}\n",
    "df=pd.DataFrame.from_dict(productsDict)\n",
    "#     df.insert(loc=0,column='Category',value=category)\n",
    "#     df.insert(loc=0,column='Head',value='Kids')\n",
    "\n",
    "print(df.info())\n",
    "print(df.head())"
   ]
  },
  {
   "cell_type": "code",
   "execution_count": null,
   "id": "9558b269",
   "metadata": {
    "scrolled": true
   },
   "outputs": [],
   "source": [
    "imageSrc=[]\n",
    "for pn in range(0,len(productNames)):\n",
    "    productDesc=productNames[pn]\n",
    "#     print(productDesc)\n",
    "    imageUrl=f'''//div[@class=\"flex__Flex-sc-2d867263-0 product-card__ImageContainer-sc-a4c933fb-2 eziUEP jLkqUY\"]//img[@alt=\"{productDesc}\"] '''\n",
    "    primages=WebDriverWait(driver,20).until(\n",
    "         EC.presence_of_element_located(By.XPATH,imageUrl)       \n",
    "    )\n",
    "#     primages=driver.find_element(by=By.XPATH,value=(imageUrl))\n",
    "#     imageSrc.append(primages)"
   ]
  },
  {
   "cell_type": "code",
   "execution_count": null,
   "id": "369c9456",
   "metadata": {
    "scrolled": true
   },
   "outputs": [],
   "source": [
    "len(imageSrc)"
   ]
  },
  {
   "cell_type": "code",
   "execution_count": null,
   "id": "6bd0f8b5",
   "metadata": {
    "scrolled": true
   },
   "outputs": [],
   "source": [
    "global imageSrc,productNames,productDetail,product_price"
   ]
  },
  {
   "cell_type": "code",
   "execution_count": null,
   "id": "f4958ee6",
   "metadata": {
    "scrolled": true
   },
   "outputs": [],
   "source": [
    "len(productPrice)"
   ]
  },
  {
   "cell_type": "code",
   "execution_count": null,
   "id": "d71efdf1",
   "metadata": {
    "scrolled": true
   },
   "outputs": [],
   "source": [
    "# global productDetail\n",
    "print('xxxx')\n",
    "print(len(productDetail))"
   ]
  },
  {
   "cell_type": "code",
   "execution_count": null,
   "id": "c8df0537",
   "metadata": {
    "scrolled": true
   },
   "outputs": [],
   "source": [
    "def getProdNamesImages():\n",
    "    global productNames,imageSrc,imageSrc1\n",
    "    productNames=[]\n",
    "    imageSrc=[]\n",
    "    imageSrc1=[]\n",
    "    prodImage=None\n",
    "    \n",
    "    driver = webdriver.Chrome(service=Service(\n",
    "        ChromeDriverManager().install()))\n",
    "\n",
    "    # open website\n",
    "    driver.get('https://www.lush.com/uk/en/c/bath-bombs')\n",
    "    btn=WebDriverWait(driver, 30).until(EC.presence_of_element_located((By.XPATH\n",
    "                ,'//button[text()=\"Accept all cookies\"]')))  \n",
    "    btn.click()  \n",
    "    btn=None\n",
    "    try:\n",
    "        while True:       \n",
    "\n",
    "                time.sleep(60)\n",
    "                loadMoreButton=WebDriverWait(driver, 120).until(EC.presence_of_element_located(\n",
    "                        (By.XPATH,'//button[contains(text(),\"Load more\")]')))     \n",
    "\n",
    "                loadMoreButton.click()\n",
    "                loadMoreButton=None                \n",
    "\n",
    "    except: \n",
    "    #          (TimeoutException,NoSuchElementException,StaleElementReferenceException,MaxRetryError\n",
    "    #               ,ConnectionRefusedError,NewConnectionError,NoSuchWindowException):\n",
    "        pass\n",
    "    try:\n",
    "        productNames1=WebDriverWait(driver, 120).until(\n",
    "        EC.presence_of_all_elements_located((By.XPATH\n",
    "        ,'//div[contains(@class,\"c-Grid-styles__Wrapper-sc-7b9df201-2 XkYBc\")]//h3[@class=\"text__Text-sc-fac938e2-0 product-card__Name-sc-a4c933fb-4 cKOjOB iFwJeI\"][1]')))    \n",
    "\n",
    "        for pname in productNames1:\n",
    "            productNames.append(pname.text)    \n",
    "#             print(pname.text) \n",
    "\n",
    "        for pn in range(0,len(productNames)):\n",
    "            imageUrl=None\n",
    "            prod=productNames[pn]\n",
    "#             print(prod)\n",
    "            imageUrl=f'''img[alt='{prod}']'''\n",
    "        #     print(imageUrl)\n",
    "            try:\n",
    "                primages=driver.find_element(by=By.CSS_SELECTOR,value=(imageUrl))   \n",
    "#                 print(primages)\n",
    "        #         print(primages.get_attribute(\"src\"))\n",
    "                imageSrc.append(primages.get_attribute(\"src\"))\n",
    "\n",
    "            except Exception as e:\n",
    "        #         print('except.....',str(e))\n",
    "                 if 'invalid selector' in str(e):\n",
    "                    pass\n",
    "        #             print(primages.get_attribute(\"src\"))\n",
    "                    imageSrc.append(primages.get_attribute(\"not found\"))\n",
    "\n",
    "        #     imageSrc1.append(primages)\n",
    "\n",
    "\n",
    "    except:\n",
    "        pass;\n",
    "    time.sleep(20)\n",
    "    driver.delete_all_cookies()\n",
    "    driver.close()\n",
    "    driver.quit()  \n",
    "    print('done........')\n",
    "    "
   ]
  },
  {
   "cell_type": "code",
   "execution_count": null,
   "id": "91946631",
   "metadata": {
    "scrolled": true
   },
   "outputs": [],
   "source": [
    "getProdNamesImages()"
   ]
  },
  {
   "cell_type": "code",
   "execution_count": null,
   "id": "ad4e38be",
   "metadata": {
    "scrolled": true
   },
   "outputs": [],
   "source": [
    "print('Product Names ',len(productNames))\n",
    "print('Product detail ',len(productDetail))\n",
    "print('Product Price ',len(productPrice))\n",
    "print('image src ',len(imageSrc))"
   ]
  },
  {
   "cell_type": "code",
   "execution_count": null,
   "id": "1f72fc58",
   "metadata": {
    "scrolled": true
   },
   "outputs": [],
   "source": [
    "imageSrc"
   ]
  },
  {
   "cell_type": "code",
   "execution_count": null,
   "id": "26bbef0b",
   "metadata": {
    "scrolled": true
   },
   "outputs": [],
   "source": [
    "prodImage=None\n",
    "driver = webdriver.Chrome(service=Service(\n",
    "    ChromeDriverManager().install()))\n",
    "\n",
    "# open website\n",
    "driver.get('https://www.lush.com/uk/en/c/bath-bombs')\n",
    "btn=WebDriverWait(driver, 30).until(EC.presence_of_element_located((By.XPATH\n",
    "            ,'//button[text()=\"Accept all cookies\"]')))  \n",
    "btn.click()  \n",
    "btn=None\n",
    "try:\n",
    "    while True:       \n",
    "\n",
    "            time.sleep(60)\n",
    "            loadMoreButton=WebDriverWait(driver, 120).until(EC.presence_of_element_located(\n",
    "                    (By.XPATH,'//button[contains(text(),\"Load more\")]')))     \n",
    "\n",
    "            loadMoreButton.click()\n",
    "            loadMoreButton=None                \n",
    "\n",
    "except: \n",
    "#          (TimeoutException,NoSuchElementException,StaleElementReferenceException,MaxRetryError\n",
    "#               ,ConnectionRefusedError,NewConnectionError,NoSuchWindowException):\n",
    "    pass"
   ]
  },
  {
   "cell_type": "code",
   "execution_count": null,
   "id": "a4e4063b",
   "metadata": {
    "scrolled": true
   },
   "outputs": [],
   "source": [
    "# Product Names\n",
    "global productNames\n",
    "productNames=[]\n",
    "productNames1=WebDriverWait(driver, 120).until(\n",
    "EC.presence_of_all_elements_located((By.XPATH\n",
    ",'//div[contains(@class,\"c-Grid-styles__Wrapper-sc-7b9df201-2 XkYBc\")]//h3[@class=\"text__Text-sc-fac938e2-0 product-card__Name-sc-a4c933fb-4 cKOjOB iFwJeI\"][1]')))    \n",
    "\n",
    "for pname in productNames1:\n",
    "    productNames.append(pname.text)    \n",
    "    print(pname.text)"
   ]
  },
  {
   "cell_type": "code",
   "execution_count": null,
   "id": "e32a1ea0",
   "metadata": {
    "scrolled": true
   },
   "outputs": [],
   "source": [
    "global imageSrc,imageSrc1\n",
    "imageSrc=[]\n",
    "imageSrc1=[]\n",
    "\n",
    "\n",
    "for pn in range(0,len(productNames)):\n",
    "    imageUrl=None\n",
    "    prod=productNames[pn]\n",
    "    print(prod)\n",
    "    imageUrl=f'''img[alt='{prod}']'''\n",
    "#     print(imageUrl)\n",
    "    try:\n",
    "        primages=driver.find_element(by=By.CSS_SELECTOR,value=(imageUrl))   \n",
    "        print(primages)\n",
    "#         print(primages.get_attribute(\"src\"))\n",
    "        imageSrc.append(primages.get_attribute(\"src\"))\n",
    "        \n",
    "    except Exception as e:\n",
    "#         print('except.....',str(e))\n",
    "         if 'invalid selector' in str(e):\n",
    "            pass\n",
    "#             print(primages.get_attribute(\"src\"))\n",
    "            imageSrc.append(primages.get_attribute(\"not found\"))\n",
    "\n",
    "#     imageSrc1.append(primages)\n",
    "\n",
    "\n",
    "\n",
    "\n",
    "    \n",
    "    "
   ]
  },
  {
   "cell_type": "code",
   "execution_count": null,
   "id": "b8823ba8",
   "metadata": {
    "scrolled": true
   },
   "outputs": [],
   "source": [
    "imageSrc"
   ]
  },
  {
   "cell_type": "code",
   "execution_count": null,
   "id": "691cdff7",
   "metadata": {
    "scrolled": true
   },
   "outputs": [],
   "source": [
    "productNames"
   ]
  },
  {
   "cell_type": "code",
   "execution_count": null,
   "id": "a64fd88d",
   "metadata": {
    "scrolled": true
   },
   "outputs": [],
   "source": [
    "len(imageSrc)"
   ]
  },
  {
   "cell_type": "code",
   "execution_count": null,
   "id": "3eccd9d9",
   "metadata": {
    "scrolled": true
   },
   "outputs": [],
   "source": [
    "imageSrc"
   ]
  },
  {
   "cell_type": "code",
   "execution_count": null,
   "id": "1a02e812",
   "metadata": {
    "scrolled": true
   },
   "outputs": [],
   "source": [
    "driver.delete_all_cookies()\n",
    "driver.close()\n",
    "driver.quit()  "
   ]
  },
  {
   "cell_type": "code",
   "execution_count": null,
   "id": "7e90b8b4",
   "metadata": {
    "scrolled": true
   },
   "outputs": [],
   "source": [
    "productsDict={}\n",
    "productsDict={'Product':productNames,'Product_Details':productDetail ,'Product_Price':productPrice ,'Images':imageSrc           }\n",
    "df=pd.DataFrame.from_dict(productsDict)\n",
    "# df.insert(loc=0,column='Category',value=category)\n",
    "# df.insert(loc=0,column='Head',value='Kids')\n",
    "print(df.info())\n",
    "# df.to_csv('lush.csv')\n",
    "    "
   ]
  },
  {
   "cell_type": "code",
   "execution_count": null,
   "id": "279530c9",
   "metadata": {
    "scrolled": true
   },
   "outputs": [],
   "source": [
    "imageSrc"
   ]
  },
  {
   "cell_type": "code",
   "execution_count": null,
   "id": "50adafed",
   "metadata": {
    "scrolled": true
   },
   "outputs": [],
   "source": [
    "for x in range(0,len(productNames)):\n",
    "    print(productNames[x])\n",
    "#     print(imageSrc[x].get_attribute(\"src\"))\n",
    "    "
   ]
  },
  {
   "cell_type": "code",
   "execution_count": null,
   "id": "e302bca7",
   "metadata": {
    "scrolled": false
   },
   "outputs": [],
   "source": [
    "# class _scrpWebWait:  \n",
    "    \n",
    "#     global productNames, productPrice,imageSrc,driver\n",
    "\n",
    "#     productsDict={}\n",
    "#     productNames=[]\n",
    "#     productPrice=[]\n",
    "#     imageSrc=[]\n",
    "#     subCategory=[]\n",
    "#     driver=None\n",
    "\n",
    "#     def __init__(self, website):\n",
    "#         self.website = website\n",
    "#         driver = webdriver.Chrome(service=Service(\n",
    "#             ChromeDriverManager().install()))\n",
    "\n",
    "#         # open website\n",
    "#         driver.get(website)\n",
    "#         productNames1 = []\n",
    "#         productPrice1 = []\n",
    "#         imageSrc1=[]\n",
    "\n",
    "#         currentPage = 0\n",
    "#         pagination = driver.find_element(\n",
    "#             by=By.XPATH, value=('//div[@class=\"paginate-bottom\"]'))\n",
    "#         pages = pagination.find_elements(by=By.TAG_NAME, value='span')\n",
    "#         lastPage = int(pages[-2].text)\n",
    "        \n",
    "#         while currentPage<=lastPage:            \n",
    "            \n",
    "#             productNames1 =WebDriverWait(driver, 120).until(\n",
    "#                 EC.presence_of_all_elements_located((By.XPATH\n",
    "#                         ,'//div[@class=\"grid__item large--seven-tenths right js-de-ProductTilesObserver\"]//h4[1]')))    \n",
    "          \n",
    "#             for pname in productNames1:\n",
    "#                 productNames.append(pname.text)\n",
    "\n",
    "#             productPrice1=WebDriverWait(driver, 120).until(EC.presence_of_all_elements_located((By.XPATH\n",
    "#                                     ,'//span[@class=\"js-de-ProductTile-currentPrice\"][1]')))    \n",
    "            \n",
    "#             for price in productPrice1:\n",
    "#                 productPrice.append(price.text)\n",
    "                \n",
    "#             imageSrc1 =WebDriverWait(driver, 120).until(\n",
    "#                 EC.presence_of_all_elements_located((By.XPATH\n",
    "#                         , '//div[@class=\"de-productTile-showcaseImageContainer\"]/img[1]')))  \n",
    "          \n",
    "#             for pImage in imageSrc1:\n",
    "#                 imageSrc.append(pImage.get_attribute(\"data-src\"))                \n",
    "                \n",
    "#             time.sleep(60)\n",
    "#             currentPage=currentPage+1\n",
    "#             try:\n",
    "#                 productNames1 = []\n",
    "#                 productPrice1 = []\n",
    "#                 imageSrc1=[]\n",
    "                \n",
    "# #                 WebDriverWait(browser, 5).until(EC.alert_is_present(), 'Timed out waiting for alerts to appear')\n",
    "# #                 alert = browser.switch_to.alert\n",
    "# #                 alert.accept()\n",
    "\n",
    "#                 nextPage=WebDriverWait(driver, 120).until(\n",
    "#                     EC.presence_of_element_located((By.XPATH, '//span[@class=\"next\"]')))    \n",
    "#                 nextPage.click()\n",
    "                \n",
    "#             except (TimeoutException,NoSuchElementException,StaleElementReferenceException):\n",
    "#                 pass\n",
    "            \n",
    "#         driver.close()\n",
    "#         driver.quit()"
   ]
  },
  {
   "cell_type": "code",
   "execution_count": null,
   "id": "a1f78444",
   "metadata": {
    "scrolled": true
   },
   "outputs": [],
   "source": [
    "\n",
    "global productNames,productDetail,productPrice,imageSrc,subCategory\n",
    "\n",
    "# print('Product Names ',len(productNames))\n",
    "# print('Product detail ',len(productDetail))\n",
    "# print('Product Price ',len(productPrice))\n",
    "# print('image src ',len(imageSrc))\n",
    "\n",
    "# global subCategory\n",
    "# getSubCategory()\n",
    "\n",
    "# productsDict={}\n",
    "# productNames=[]\n",
    "# productDetails=[]\n",
    "# productPrice=[]\n",
    "# imageSrc=[]\n",
    "# # subCategory=[]\n",
    "# driver=None\n",
    "\n",
    "subCategory=[\n",
    "'https://www.lush.com/uk/en/c/asteroid-city'\n",
    ",'https://www.lush.com/uk/en/c/super-mario-bros'\n",
    ",'https://www.lush.com/uk/en/c/lazy-oaf'\n",
    "            ]\n",
    "\n",
    "# subCategory\n",
    "\n",
    "for subCat in range(0,len(subCategory)):\n",
    "    website=subCategory[subCat]\n",
    "    print(subCategory[subCat])\n",
    "#     a=_scrpWebWaitProdImages(website)\n",
    "    getLushData(website)\n",
    "    category=website.replace('https://www.lush.com/uk/en/c/','')\n",
    "        \n",
    "\n",
    "\n",
    "    productsDict={'Product':productNames, 'Product_Price':productPrice,'Product_Image':imageSrc}\n",
    "    df=pd.DataFrame.from_dict(productsDict)\n",
    "    df.insert(loc=0,column='Category',value='ThaiJasmineCollection')\n",
    "#     df.insert(loc=0,column='Head',value='Kids')\n",
    "    \n",
    "#     print(df)\n",
    "    df.to_csv(f'c://WebScrapping1/bathandbloom/ThaiJasmineCollection.csv',index=False)\n"
   ]
  },
  {
   "cell_type": "code",
   "execution_count": null,
   "id": "3a4050de",
   "metadata": {
    "scrolled": true
   },
   "outputs": [],
   "source": [
    "print('Product Names ',len(productNames))\n",
    "print('Product detail ',len(productDetail))\n",
    "print('Product Price ',len(productPrice))\n",
    "print('image src ',len(imageSrc))"
   ]
  },
  {
   "cell_type": "code",
   "execution_count": null,
   "id": "dfabad18",
   "metadata": {
    "scrolled": true
   },
   "outputs": [],
   "source": [
    "len(imageSrc)"
   ]
  },
  {
   "cell_type": "code",
   "execution_count": null,
   "id": "3fcb006f",
   "metadata": {
    "scrolled": true
   },
   "outputs": [],
   "source": [
    "getSubCategory('https://www.bathnbloom.com/store/c7/Spa_N_Aromatherapy.html')\n",
    "subCategory"
   ]
  },
  {
   "cell_type": "code",
   "execution_count": null,
   "id": "d1a873e8",
   "metadata": {
    "scrolled": false
   },
   "outputs": [],
   "source": [
    "checkAttributeStatus=checkAttribute('https://www.decathlon.com/collections/hike-camp-deals')\n",
    "checkAttributeStatus"
   ]
  },
  {
   "cell_type": "code",
   "execution_count": null,
   "id": "95589d16",
   "metadata": {
    "scrolled": false
   },
   "outputs": [],
   "source": [
    "driver.close()"
   ]
  },
  {
   "cell_type": "code",
   "execution_count": null,
   "id": "94ca366a",
   "metadata": {
    "scrolled": false
   },
   "outputs": [],
   "source": [
    "subCategoryData=driver.find_elements(by=By.XPATH,value=('//ul[@class=\"de-u-listReset\"]//a[@href]'))\n"
   ]
  },
  {
   "cell_type": "code",
   "execution_count": null,
   "id": "feb691b2",
   "metadata": {
    "scrolled": false
   },
   "outputs": [],
   "source": [
    "len(subCategoryData)"
   ]
  },
  {
   "cell_type": "code",
   "execution_count": null,
   "id": "7b40cd4a",
   "metadata": {
    "scrolled": false
   },
   "outputs": [],
   "source": [
    "global subCategory\n",
    "for subCat in subCategoryData:\n",
    "#     print(subCat.get_attribute(\"href\"))\n",
    "    subCategory.append(subCat.get_attribute(\"href\"))"
   ]
  },
  {
   "cell_type": "code",
   "execution_count": null,
   "id": "4665ed07",
   "metadata": {
    "scrolled": false
   },
   "outputs": [],
   "source": [
    "for s in range(0, len(subCategory)):\n",
    "    print(\"'\"+subCategory[s]+\"',\")"
   ]
  },
  {
   "cell_type": "code",
   "execution_count": null,
   "id": "3724793c",
   "metadata": {
    "scrolled": false
   },
   "outputs": [],
   "source": [
    "productsDict.clear()\n",
    "productNames=[]\n",
    "productPrice=[]\n",
    "subCategory=[]"
   ]
  },
  {
   "cell_type": "code",
   "execution_count": null,
   "id": "ee26912c",
   "metadata": {
    "scrolled": false
   },
   "outputs": [],
   "source": [
    "productsDict"
   ]
  },
  {
   "cell_type": "code",
   "execution_count": null,
   "id": "a44a5726",
   "metadata": {
    "scrolled": false
   },
   "outputs": [],
   "source": [
    "# global driver\n",
    "# driver.close()\n"
   ]
  },
  {
   "cell_type": "markdown",
   "id": "9b335f47",
   "metadata": {},
   "source": [
    "# End"
   ]
  },
  {
   "cell_type": "code",
   "execution_count": null,
   "id": "c380184f",
   "metadata": {
    "scrolled": true
   },
   "outputs": [],
   "source": [
    "driver.close()"
   ]
  },
  {
   "cell_type": "code",
   "execution_count": null,
   "id": "805e7ac0",
   "metadata": {
    "scrolled": true
   },
   "outputs": [],
   "source": [
    "driver.quit()"
   ]
  },
  {
   "cell_type": "markdown",
   "id": "b07d0110",
   "metadata": {},
   "source": [
    "# # pagination next page"
   ]
  },
  {
   "cell_type": "code",
   "execution_count": null,
   "id": "ecfbccea",
   "metadata": {
    "scrolled": true
   },
   "outputs": [],
   "source": [
    "driver.quit()"
   ]
  },
  {
   "cell_type": "code",
   "execution_count": null,
   "id": "b6e40adf",
   "metadata": {
    "scrolled": true
   },
   "outputs": [],
   "source": [
    "a=_scrpWebWait('https://www.lush.com/uk/en/c/bath-bombs')"
   ]
  },
  {
   "cell_type": "code",
   "execution_count": null,
   "id": "f9d94ede",
   "metadata": {
    "scrolled": true
   },
   "outputs": [],
   "source": [
    "getSubCategory()\n",
    "subCategory"
   ]
  },
  {
   "cell_type": "code",
   "execution_count": null,
   "id": "d9ec753b",
   "metadata": {
    "scrolled": true
   },
   "outputs": [],
   "source": [
    "prodImage=None\n",
    "driver = webdriver.Chrome(service=Service(\n",
    "    ChromeDriverManager().install()))\n",
    "\n",
    "# open website\n",
    "driver.get('https://www.lush.com/uk/en/c/handmade-soap')\n",
    "btn=WebDriverWait(driver, 30).until(EC.presence_of_element_located((By.XPATH\n",
    "                    ,'//button[text()=\"Accept all cookies\"]')))  \n",
    "btn.click()  \n"
   ]
  },
  {
   "cell_type": "code",
   "execution_count": null,
   "id": "e1f6b2c8",
   "metadata": {
    "scrolled": true
   },
   "outputs": [],
   "source": [
    "# getting products image...\n",
    "global imageSrc\n",
    "imageSrc=[]\n",
    "\n",
    "imageSrc1 =WebDriverWait(driver, 200).until(EC.presence_of_all_elements_located((By.XPATH\n",
    "    ,'//div[@class=\"grid__Wrapper-sc-a19bb341-0 igawnv\"]//img[contains(@src,\"png\")][1]')))\n",
    "\n",
    "\n",
    "# len(imageSrc1)\n",
    "\n",
    "# choices = driver.find_elements_by_xpath(\"//div[contains(.,'5') and contains(@class, 'option')]\")    \n",
    "\n",
    "#     print(dx[x].get_attribute(\"src\"))\n",
    "#     print(x)\n",
    "    \n",
    "# # print('leng prodImages : '+len(prodImages))\n",
    "# for x in range(0,len(prodImages)):\n",
    "#     imageSrc.append(prodImages[x].get_attribute(\"src\"))\n",
    "\n",
    "# len(imageSrc)\n",
    "    \n",
    " "
   ]
  },
  {
   "cell_type": "code",
   "execution_count": null,
   "id": "27d6b174",
   "metadata": {
    "scrolled": true
   },
   "outputs": [],
   "source": [
    "# imageSrc\n",
    "# for x in range(0,len(imageSrc)):\n",
    "#     print(imageSrc[x])\n",
    "df=pd.DataFrame(imageSrc)"
   ]
  },
  {
   "cell_type": "code",
   "execution_count": null,
   "id": "d053fc80",
   "metadata": {
    "scrolled": true
   },
   "outputs": [],
   "source": [
    "df.to_csv('images.csv')"
   ]
  },
  {
   "cell_type": "code",
   "execution_count": null,
   "id": "da2c9c1a",
   "metadata": {
    "scrolled": true
   },
   "outputs": [],
   "source": [
    "driver.delete_all_cookies()\n",
    "driver.close()\n",
    "driver.quit()   "
   ]
  },
  {
   "cell_type": "code",
   "execution_count": null,
   "id": "bf796f76",
   "metadata": {
    "scrolled": true
   },
   "outputs": [],
   "source": [
    "len(imageSrc)"
   ]
  },
  {
   "cell_type": "code",
   "execution_count": null,
   "id": "d1cb86ee",
   "metadata": {
    "scrolled": true
   },
   "outputs": [],
   "source": [
    "prodImage=None\n",
    "driver = webdriver.Chrome(service=Service(\n",
    "    ChromeDriverManager().install()))\n",
    "\n",
    "# open website\n",
    "driver.get('https://www.lush.com/uk/en/c/handmade-soap')\n",
    "\n",
    "try:\n",
    "    btn=WebDriverWait(driver, 30).until(EC.presence_of_element_located((By.XPATH\n",
    "                        ,'//button[text()=\"Accept all cookies\"]')))  \n",
    "    \n",
    "#     driver.find_element(by=By.XPATH,value=('//button[text()=\"Accept all cookies\"]'))\n",
    "    btn.click()  \n",
    "\n",
    "    prodImage=WebDriverWait(driver, 60).until(EC.presence_of_all_elements_located((By.XPATH\n",
    "                        ,'//div[@class=\"grid__Wrapper-sc-a19bb341-0 igawnv\"]//img[contains(@src,\".png\")]')))   \n",
    "\n",
    "#     driver.find_elements(by=By.XPATH\n",
    "#                             ,value=('//div[@class=\"grid__Wrapper-sc-a19bb341-0 igawnv\"]//img[contains(@src,\".png\")]')\n",
    "#                                   )\n",
    "# WebDriverWait(driver, 120).until(EC.presence_of_all_elements_located((By.XPATH\n",
    "#                         ,'//div[@class=\"grid__Wrapper-sc-a19bb341-0 igawnv\"]//img[contains(@src,\".png\")]')))   \n",
    "    \n",
    "# productPrice1=WebDriverWait(driver, 120).until(EC.presence_of_all_elements_located((By.XPATH\n",
    "#                         ,'//span[@class=\"js-de-ProductTile-currentPrice\"][1]')))        \n",
    "    \n",
    "except (NoSuchElementException):\n",
    "    pass\n",
    "\n",
    "# try:\n",
    "#     prodImage=driver.find_elements(by=By.XPATH\n",
    "#                             ,value=('//div[@class=\"grid__Wrapper-sc-a19bb341-0 igawnv\"]//img[contains(@src,\".png\")]')\n",
    "#                                   )\n",
    "\n",
    "# except:\n",
    "#     pass\n",
    "\n",
    "# print(prodImage)\n",
    "# driver.close()\n",
    "\n",
    "# for image in prodImage:\n",
    "\n",
    "print(prodImage)    \n",
    "\n"
   ]
  },
  {
   "cell_type": "code",
   "execution_count": null,
   "id": "864b798a",
   "metadata": {
    "scrolled": false
   },
   "outputs": [],
   "source": [
    "\n"
   ]
  },
  {
   "cell_type": "code",
   "execution_count": null,
   "id": "6747a3e0",
   "metadata": {
    "scrolled": false
   },
   "outputs": [],
   "source": [
    "for pImage in imageSrc1:\n",
    "    print(pImage.get_attribute(\"data-src\"))"
   ]
  },
  {
   "cell_type": "code",
   "execution_count": null,
   "id": "22f36872",
   "metadata": {
    "scrolled": false
   },
   "outputs": [],
   "source": [
    "# global productNames,productPrice,i\n",
    "a=_scrpWebWait('https://www.decathlon.com/collections/bikes-cycling-deals')\n",
    "# imageSrc"
   ]
  },
  {
   "cell_type": "code",
   "execution_count": null,
   "id": "d407ac67",
   "metadata": {
    "scrolled": false
   },
   "outputs": [],
   "source": [
    "len(imageSrc)"
   ]
  },
  {
   "cell_type": "code",
   "execution_count": null,
   "id": "c8fe5f6d",
   "metadata": {
    "scrolled": false
   },
   "outputs": [],
   "source": [
    "print(imageSrc)"
   ]
  },
  {
   "cell_type": "code",
   "execution_count": null,
   "id": "2da24237",
   "metadata": {
    "scrolled": false
   },
   "outputs": [],
   "source": [
    "productPrice1=driver.find_elements(by=By.XPATH, value=('//span[@class=\"js-de-ProductTile-currentPrice\"][1]'))           \n",
    "            "
   ]
  },
  {
   "cell_type": "code",
   "execution_count": null,
   "id": "a519dbed",
   "metadata": {
    "scrolled": false
   },
   "outputs": [],
   "source": []
  },
  {
   "cell_type": "code",
   "execution_count": null,
   "id": "1fd51039",
   "metadata": {
    "scrolled": false
   },
   "outputs": [],
   "source": [
    "for price in productPrice1:\n",
    "    print(price.get_attribute(\"innerText\"))"
   ]
  },
  {
   "cell_type": "code",
   "execution_count": null,
   "id": "25bca175",
   "metadata": {
    "scrolled": false
   },
   "outputs": [],
   "source": [
    "global productNames,productPrice\n",
    "a=_scrpWeb('https://www.decathlon.com/collections/bikes-cycling-deals')\n"
   ]
  },
  {
   "cell_type": "code",
   "execution_count": null,
   "id": "dac71a74",
   "metadata": {
    "scrolled": false
   },
   "outputs": [],
   "source": [
    "product_list=[]\n",
    "for p in productNames:\n",
    "    print(p)"
   ]
  },
  {
   "cell_type": "code",
   "execution_count": null,
   "id": "a45041b3",
   "metadata": {
    "scrolled": false
   },
   "outputs": [],
   "source": [
    "currentPage=0\n",
    "\n",
    "pagination=driver.find_element(by=By.XPATH,value=('//div[@class=\"paginate-bottom\"]'))\n",
    "pages=pagination.find_elements(by=By.TAG_NAME,value='span')\n",
    "lastPage=int(pages[-2].text)\n",
    "\n",
    "while currentPage<=lastPage:\n",
    "    currentPage=currentPage+1\n",
    "    try:\n",
    "        nextPage=driver.find_element(by=By.XPATH,value=('//span[@class=\"next\"]'))\n",
    "        nextPage.click()\n",
    "    except:\n",
    "        pass\n",
    "\n",
    "\n"
   ]
  },
  {
   "cell_type": "code",
   "execution_count": null,
   "id": "7347cbe4",
   "metadata": {
    "scrolled": false
   },
   "outputs": [],
   "source": [
    "driver.close()"
   ]
  },
  {
   "cell_type": "code",
   "execution_count": null,
   "id": "1ff46a93",
   "metadata": {
    "scrolled": false
   },
   "outputs": [],
   "source": [
    "global productNames,productNames  \n",
    "while True:\n",
    "#     productNames=[]\n",
    "#     productNames=[]\n",
    "    btn=None\n",
    "    try:        \n",
    "#                 btn=None\n",
    "        btn=driver.find_element(by=By.LINK_TEXT,value=('SHOW MORE'))\n",
    "        btn.click()                \n",
    "    except NoSuchElementException:\n",
    "        break;\n",
    "    finally:\n",
    "#                 productNames=driver.find_elements(by=By.XPATH, value=('//div[@class=\"card-information__wrapper text-left\"]//span[@class=\"text\"][1]'))\n",
    "        productPrice=driver.find_elements(by=By.XPATH, value=('//dd[@class=\"price__last\"]//span[@class=\"price-item price-item--regular\"][1]'))\n",
    "        time.sleep(10)"
   ]
  },
  {
   "cell_type": "code",
   "execution_count": null,
   "id": "9d8d78eb",
   "metadata": {
    "scrolled": false
   },
   "outputs": [],
   "source": [
    "print(len(productPrice))"
   ]
  },
  {
   "cell_type": "code",
   "execution_count": null,
   "id": "13af2ded",
   "metadata": {
    "scrolled": false
   },
   "outputs": [],
   "source": [
    "# driver.refresh()\n",
    "# price=driver.find_elements(by=By.XPATH, value=('//dd[@class=\"price__last\"]//span[@class=\"price-item price-item--regular\"][1]'))\n",
    "for p in productPrice:\n",
    "    print(p.text)"
   ]
  },
  {
   "cell_type": "code",
   "execution_count": null,
   "id": "f68ba06d",
   "metadata": {
    "scrolled": false
   },
   "outputs": [],
   "source": [
    "#relevant website\n",
    "website_1='https://springs.com.pk/collections/chocolates'"
   ]
  },
  {
   "cell_type": "code",
   "execution_count": null,
   "id": "f36a706b",
   "metadata": {
    "scrolled": false
   },
   "outputs": [],
   "source": [
    "print()"
   ]
  },
  {
   "cell_type": "code",
   "execution_count": null,
   "id": "1dc123c7",
   "metadata": {
    "scrolled": false
   },
   "outputs": [],
   "source": [
    "productNames=driver.find_elements(by=By.XPATH, value=('//div[@class=\"card-information__wrapper text-left\"]//span[@class=\"text\"][1]'))"
   ]
  },
  {
   "cell_type": "code",
   "execution_count": null,
   "id": "a691b8cb",
   "metadata": {
    "scrolled": false
   },
   "outputs": [],
   "source": [
    "len(productNames)"
   ]
  },
  {
   "cell_type": "code",
   "execution_count": null,
   "id": "ad5585b2",
   "metadata": {
    "scrolled": false
   },
   "outputs": [],
   "source": [
    "for prodcuts in productNames:\n",
    "    print(prodcuts.text)"
   ]
  },
  {
   "cell_type": "code",
   "execution_count": null,
   "id": "232d6481",
   "metadata": {
    "scrolled": false
   },
   "outputs": [],
   "source": [
    "hrefLinks=driver.find_elements(by=By.XPATH,value=('//div[@class=\"pagination-page-item pagination-page-infinite\"]/a'))"
   ]
  },
  {
   "cell_type": "code",
   "execution_count": null,
   "id": "52643a8d",
   "metadata": {
    "scrolled": false
   },
   "outputs": [],
   "source": [
    "for href in hrefLinks:\n",
    "    print(href.text)"
   ]
  },
  {
   "cell_type": "code",
   "execution_count": null,
   "id": "fabbea66",
   "metadata": {
    "scrolled": false
   },
   "outputs": [],
   "source": [
    "btn=driver.find_element(by=By.LINK_TEXT,value=('SHOW MORE'))"
   ]
  },
  {
   "cell_type": "code",
   "execution_count": null,
   "id": "9ffef4e3",
   "metadata": {
    "scrolled": false
   },
   "outputs": [],
   "source": [
    "# for b in btn:\n",
    "#     print(b.text)\n",
    "btn.text"
   ]
  },
  {
   "cell_type": "code",
   "execution_count": null,
   "id": "c655be2a",
   "metadata": {
    "scrolled": false
   },
   "outputs": [],
   "source": [
    "btn=driver.find_element(by=By.LINK_TEXT,value=('SHOW MORE'))\n",
    "btn.click()"
   ]
  },
  {
   "cell_type": "code",
   "execution_count": null,
   "id": "4eeb94be",
   "metadata": {
    "scrolled": false
   },
   "outputs": [],
   "source": [
    "while True:\n",
    "    productNames=[]\n",
    "    btn=None\n",
    "    try:        \n",
    "        btn=driver.find_element(by=By.LINK_TEXT,value=('SHOW MORE'))\n",
    "        btn.click()\n",
    "        btn=None\n",
    "    except NoSuchElementException:\n",
    "        break\n",
    "    finally:\n",
    "        productNames=driver.find_elements(by=By.XPATH, value=('//div[@class=\"card-information__wrapper text-left\"]//span[@class=\"text\"][1]'))\n",
    "        time.sleep(10)  \n"
   ]
  },
  {
   "cell_type": "code",
   "execution_count": null,
   "id": "3b9d8420",
   "metadata": {
    "scrolled": false
   },
   "outputs": [],
   "source": [
    "print(btn.text)"
   ]
  },
  {
   "cell_type": "code",
   "execution_count": null,
   "id": "67d542f1",
   "metadata": {
    "scrolled": false
   },
   "outputs": [],
   "source": [
    "print(len(productNames))"
   ]
  },
  {
   "cell_type": "code",
   "execution_count": null,
   "id": "58fbd73a",
   "metadata": {
    "scrolled": false
   },
   "outputs": [],
   "source": [
    "for prodcuts in productNames:\n",
    "    print(prodcuts.text)"
   ]
  },
  {
   "cell_type": "code",
   "execution_count": null,
   "id": "1c6144ab",
   "metadata": {
    "scrolled": false
   },
   "outputs": [],
   "source": [
    "productPrice=driver.find_elements(by=By.XPATH, value=('//dd[@class=\"price__last\"]//span[@class=\"price-item price-item--regular\"][1]'))"
   ]
  },
  {
   "cell_type": "code",
   "execution_count": null,
   "id": "8a0be00f",
   "metadata": {
    "scrolled": false
   },
   "outputs": [],
   "source": [
    "driver.close()"
   ]
  },
  {
   "cell_type": "code",
   "execution_count": null,
   "id": "c6279339",
   "metadata": {
    "scrolled": false
   },
   "outputs": [],
   "source": [
    "print(len(pro))"
   ]
  },
  {
   "cell_type": "markdown",
   "id": "d9918894",
   "metadata": {},
   "source": [
    "# sub category"
   ]
  },
  {
   "cell_type": "code",
   "execution_count": null,
   "id": "6f1c6b32",
   "metadata": {
    "scrolled": false
   },
   "outputs": [],
   "source": [
    "\n",
    "driver.close()"
   ]
  },
  {
   "cell_type": "code",
   "execution_count": null,
   "id": "e5e6bd25",
   "metadata": {
    "scrolled": false
   },
   "outputs": [],
   "source": [
    "len(subCategoryData)"
   ]
  },
  {
   "cell_type": "markdown",
   "id": "ce3bfdcf",
   "metadata": {},
   "source": [
    "# # Subcategory Data...."
   ]
  },
  {
   "cell_type": "code",
   "execution_count": null,
   "id": "fff4a109",
   "metadata": {
    "scrolled": false
   },
   "outputs": [],
   "source": [
    "global subCategory\n",
    "website_1='https://www.lush.com/uk/en'\n",
    "driver = webdriver.Chrome(service=Service(ChromeDriverManager().install()))\n",
    "#open website\n",
    "driver.get(website_1)\n",
    "driver.maximize_window()\n",
    "\n",
    "btn=driver.find_element(by=By.XPATH,value=('//button[text()=\"Accept all cookies\"]'))\n",
    "btn.click()  \n",
    "\n",
    "# subCategoryData1=driver.find_elements(by=By.XPATH\n",
    "#                 ,value=('//ul[@class=\"Section__Collection-sc-40f90a5d-2 hsZmFD\"][1]'))\n",
    "\n",
    "# print(subCategoryData1.find_elements)\n",
    "\n",
    "# subCategoryData=driver.find_elements(\n",
    "#                     by=By.XPATH\n",
    "#                     ,value=('//li[contains(@class,\"Section__CollectionListItem-sc-40f90a5d-3 bgxHKl\")][1]')  )\n",
    "\n",
    "\n",
    "# for x in range(len(subCategoryData1)):\n",
    "# #     print(subCategoryData1[x])\n",
    "#     subCategoryData2=subCategoryData1[x].find_element(\n",
    "#                         by=By.XPATH\n",
    "#                         ,value=('//li[contains(@class,\"Section__CollectionListItem-sc-40f90a5d-3 bgxHKl\")]//a')  )\n",
    "#     print(subCategoryData2.get_attribute(\"href\"))\n",
    "\n",
    "subCategoryData=driver.find_elements(\n",
    "                    by=By.XPATH\n",
    "                    ,value=('//li[contains(@class,\"Section__CollectionListItem-sc-40f90a5d-3 bgxHKl\")]//a[1]')  )\n",
    "\n",
    "\n",
    "# print(subCategoryData2)\n",
    "# # (by=By.XPATH,value=('./li'))\n",
    "\n",
    "for subCat in subCategoryData:\n",
    "#     subCat\n",
    "#     print(subCat.get_attribute(\"href\"))\n",
    "    subCategory.append(subCat.get_attribute(\"href\"))\n",
    "\n",
    "driver.close()\n",
    "\n"
   ]
  },
  {
   "cell_type": "code",
   "execution_count": null,
   "id": "0059f4e7",
   "metadata": {
    "scrolled": false
   },
   "outputs": [],
   "source": [
    "\n"
   ]
  },
  {
   "cell_type": "code",
   "execution_count": null,
   "id": "ec6a788f",
   "metadata": {
    "scrolled": false
   },
   "outputs": [],
   "source": [
    "for subCat in subCategoryData:\n",
    "    print(subCat.get_attribute(\"href\"))\n",
    "#     subCategory.append(subCat.get_attribute(\"href\"))\n"
   ]
  },
  {
   "cell_type": "code",
   "execution_count": null,
   "id": "f5564b89",
   "metadata": {
    "scrolled": false
   },
   "outputs": [],
   "source": [
    "print(subCategoryData)"
   ]
  },
  {
   "cell_type": "code",
   "execution_count": null,
   "id": "09c794f9",
   "metadata": {
    "scrolled": false
   },
   "outputs": [],
   "source": [
    "for s in range(0, len(subCategory)):\n",
    "    print(subCategory[s])"
   ]
  },
  {
   "cell_type": "code",
   "execution_count": null,
   "id": "e00e8da3",
   "metadata": {
    "scrolled": false
   },
   "outputs": [],
   "source": [
    "driver.close()"
   ]
  },
  {
   "cell_type": "markdown",
   "id": "df93451a",
   "metadata": {},
   "source": [
    "# check if folder exists if not create"
   ]
  },
  {
   "cell_type": "code",
   "execution_count": null,
   "id": "860e9f60",
   "metadata": {
    "scrolled": false
   },
   "outputs": [],
   "source": [
    "def checkFolder(folder):\n",
    "#     folder=tfolder\n",
    "    isExists=os.path.exists(f'c://{folder}')\n",
    "    if not isExists:\n",
    "        os.mkdir(f'c://{folder}')\n",
    "    "
   ]
  },
  {
   "cell_type": "code",
   "execution_count": null,
   "id": "3b5cf28a",
   "metadata": {
    "scrolled": false
   },
   "outputs": [],
   "source": [
    "checkFolder('webscrapping')"
   ]
  },
  {
   "cell_type": "markdown",
   "id": "78ba84ea",
   "metadata": {},
   "source": [
    "# class"
   ]
  },
  {
   "cell_type": "code",
   "execution_count": null,
   "id": "3f1a1692",
   "metadata": {
    "scrolled": false
   },
   "outputs": [],
   "source": [
    "class _scrpWeb:\n",
    "    def __init__(self,website):\n",
    "        self.website=website\n",
    "        driver = webdriver.Chrome(service=Service(ChromeDriverManager().install()))\n",
    "        \n",
    "        #open website\n",
    "        driver.get(website)\n",
    "#         driver.maximize_window()\n",
    "#         global productNames\n",
    "#         driver.refresh()\n",
    "        global productNames,productPrice  \n",
    "        while True:\n",
    "#             productNames=[]\n",
    "#             productPrice=[]\n",
    "#             btn=None\n",
    "            try:        \n",
    "#                 btn=None\n",
    "                btn=driver.find_element(by=By.LINK_TEXT,value=('SHOW MORE'))\n",
    "                btn.click()  \n",
    "                btn=None\n",
    "            except NoSuchElementException:\n",
    "                break\n",
    "            finally:\n",
    "                productNames=driver.find_elements(by=By.XPATH, value=('//div[@class=\"card-information__wrapper text-left\"]//span[@class=\"text\"][1]'))\n",
    "                productPrice=driver.find_elements(by=By.XPATH, value=('//dd[@class=\"price__last\"]//span[@class=\"price-item price-item--regular\"][1]'))\n",
    "                time.sleep(100)\n",
    "#                 btn=None\n",
    "\n",
    "\n"
   ]
  },
  {
   "cell_type": "code",
   "execution_count": null,
   "id": "57a4df7e",
   "metadata": {
    "scrolled": false
   },
   "outputs": [],
   "source": [
    "# Extracting...."
   ]
  },
  {
   "cell_type": "code",
   "execution_count": null,
   "id": "743f6baf",
   "metadata": {
    "scrolled": false
   },
   "outputs": [],
   "source": [
    "\n",
    "webPage='https://springs.com.pk/collections/jam-honey-spreads'\n",
    "category=webPage.replace('https://springs.com.pk/collections/','')\n",
    "a=_scrpWeb(webPage)\n",
    "\n",
    "# driver.close()\n",
    "\n",
    "# creating DataFrame\n",
    "product_list=[]\n",
    "for p in productNames:\n",
    "        product_list.append(p.text)\n",
    "    #     print(p.text)\n",
    "\n",
    "product_price=[]\n",
    "for pr in productPrice:\n",
    "        product_price.append(pr.text)\n",
    "    #     print(pr.text)\n",
    "\n",
    "productsDict={'Product':product_list,'Product_Price':product_price}\n",
    "df=pd.DataFrame.from_dict(productsDict)\n",
    "# df[\"Product_Price\"].fillna(\"0\", inplace=True)\n",
    "df['Product_Price'].replace('',0)\n",
    "df['Product_Price']=df['Product_Price'].apply(lambda x: x.replace('Rs.',''))\n",
    "df['Product_Price']=df['Product_Price'].apply(lambda x: x.replace(',',''))\n",
    "# df['Product_Price']=df['Product_Price'].astype(float)\n",
    "df.insert(loc=0,column='Category',value=category)\n",
    "df\n",
    "checkFolder('webscrapping')\n",
    "df.to_csv(f'c://webscrapping/{category}.csv',index=False)\n",
    "# driver.close()\n",
    "# driver.quit()\n"
   ]
  },
  {
   "cell_type": "code",
   "execution_count": null,
   "id": "5edba0ab",
   "metadata": {
    "scrolled": false
   },
   "outputs": [],
   "source": [
    "#test extracting link and webscrapping in a Loop.... using list......\n",
    "\n",
    "subCategory=[\n",
    "'https://springs.com.pk/collections/ss-cigar',\n",
    "'https://springs.com.pk/collections/sugar-baking-dessert',\n",
    "'https://springs.com.pk/collections/talcum-powder-prickly-heat-powder',\n",
    "'https://springs.com.pk/collections/tea-coffee',\n",
    "'https://springs.com.pk/collections/tissues-wipes',\n",
    "'https://springs.com.pk/collections/toiletries',\n",
    "'https://springs.com.pk/collections/toner',\n",
    "'https://springs.com.pk/collections/toothbrush',\n",
    "'https://springs.com.pk/collections/toothpaste',\n",
    "'https://springs.com.pk/collections/treats-accessories',\n",
    "'https://springs.com.pk/collections/unisex',\n",
    "'https://springs.com.pk/collections/women',\n",
    "'https://springs.com.pk/collections/wraps-pittas',\n",
    "'https://springs.com.pk/collections/yogurt'\n",
    "]\n",
    "\n",
    "for subCat in range(0,len(subCategory)):\n",
    "#     print('list data : ',listData[category])\n",
    "\n",
    "    webPage=subCategory[subCat]\n",
    "#     print('web : ',webPage)\n",
    "    category=webPage.replace('https://springs.com.pk/collections/','')\n",
    "#     print(category)\n",
    "    a=_scrpWeb(webPage)\n",
    "\n",
    "    # creating DataFrame\n",
    "    product_list=[]\n",
    "    for p in productNames:\n",
    "        product_list.append(p.text)\n",
    "    #     print(p.text)\n",
    "\n",
    "    product_price=[]\n",
    "    for pr in productPrice:\n",
    "        product_price.append(pr.text)\n",
    "    #     print(pr.text)\n",
    "\n",
    "    productsDict={'Product':product_list,'Product_Price':product_price}\n",
    "    df=pd.DataFrame.from_dict(productsDict)\n",
    "    df['Product_Price']=df['Product_Price'].apply(lambda x: x.replace('Rs.',''))\n",
    "    df['Product_Price']=df['Product_Price'].apply(lambda x: x.replace(',',''))\n",
    "#     df['Product_Price']=df['Product_Price'].astype(float)\n",
    "    df.insert(loc=0,column='Category',value=category)\n",
    "    df\n",
    "    checkFolder('webscrapping')\n",
    "    df.to_csv(f'c://WebScrapping1/{category}.csv',index=False)\n",
    "#     driver.close()\n"
   ]
  },
  {
   "cell_type": "code",
   "execution_count": null,
   "id": "6d9f4c71",
   "metadata": {
    "scrolled": false
   },
   "outputs": [],
   "source": [
    "#test extracting link and webscrapping in a Loop....\n",
    "\n",
    "for subCat in range(0,len(subCategory)):\n",
    "\n",
    "#     print(subCategory[subCat])\n",
    "#     print(subCat.get_attribute(\"href\"))\n",
    "    \n",
    "\n",
    "    webPage=subCategory[subCat]\n",
    "#     print('web : ',webPage)\n",
    "    category=webPage.replace('https://springs.com.pk/collections/','')\n",
    "#     print(category)\n",
    "    a=_scrpWeb(webPage)\n",
    "\n",
    "    # creating DataFrame\n",
    "    product_list=[]\n",
    "    for p in productNames:\n",
    "        product_list.append(p.text)\n",
    "    #     print(p.text)\n",
    "\n",
    "    product_price=[]\n",
    "    for pr in productPrice:\n",
    "        product_price.append(pr.text)\n",
    "    #     print(pr.text)\n",
    "\n",
    "    productsDict={'Product':product_list,'Product_Price':product_price}\n",
    "    df=pd.DataFrame.from_dict(productsDict)\n",
    "    df['Product_Price']=df['Product_Price'].apply(lambda x: x.replace('Rs.',''))\n",
    "    df['Product_Price']=df['Product_Price'].apply(lambda x: x.replace(',',''))\n",
    "    df['Product_Price']=df['Product_Price'].astype(float)\n",
    "    df.insert(loc=0,column='Category',value=category)\n",
    "    df\n",
    "    checkFolder('webscrapping')\n",
    "    df.to_csv(f'c://webscrapping/{category}.csv',index=False)\n",
    "#     driver.close()\n",
    "\n",
    "\n"
   ]
  },
  {
   "cell_type": "code",
   "execution_count": null,
   "id": "e771bd50",
   "metadata": {
    "scrolled": false
   },
   "outputs": [],
   "source": [
    "# for handle in driver.window_handles:\n",
    "#     driver.switch_to.window(handle)\n",
    "driver.close()"
   ]
  },
  {
   "cell_type": "code",
   "execution_count": null,
   "id": "6a075d80",
   "metadata": {
    "scrolled": false
   },
   "outputs": [],
   "source": [
    "s='https://springs.com.pk/collections/chips-snacks-popcorn'\n",
    "print(s.replace('https://springs.com.pk/collections/',''))"
   ]
  },
  {
   "cell_type": "code",
   "execution_count": null,
   "id": "392668a9",
   "metadata": {
    "scrolled": false
   },
   "outputs": [],
   "source": [
    "def checkAttribute(webSite):\n",
    "    driver = webdriver.Chrome(service=Service(ChromeDriverManager().install()))\n",
    "    #open website\n",
    "    driver.get(website_1)\n",
    "    driver.maximize_window()\n",
    "    chkAtr=None\n",
    "    try:    \n",
    "        pagination = driver.find_element(\n",
    "           by=By.XPATH, value=('//div[@class=\"paginate-bottom\"]'))\n",
    "        chkAtr='Found'\n",
    "\n",
    "    except NoSuchElementException:\n",
    "        chkAtr='Not Found'\n",
    "        driver.close()\n",
    "        driver.quit()\n",
    "    return chkAtr\n",
    "        "
   ]
  },
  {
   "cell_type": "code",
   "execution_count": null,
   "id": "b7f7edf7",
   "metadata": {
    "scrolled": false
   },
   "outputs": [],
   "source": [
    "x=checkAttribute('https://www.decathlon.com/collections/hike-camp-deals')"
   ]
  },
  {
   "cell_type": "code",
   "execution_count": null,
   "id": "d5fafab4",
   "metadata": {
    "scrolled": false
   },
   "outputs": [],
   "source": [
    "x"
   ]
  },
  {
   "cell_type": "code",
   "execution_count": null,
   "id": "31e24f9e",
   "metadata": {
    "scrolled": false
   },
   "outputs": [],
   "source": []
  }
 ],
 "metadata": {
  "kernelspec": {
   "display_name": "Python 3",
   "language": "python",
   "name": "python3"
  },
  "language_info": {
   "codemirror_mode": {
    "name": "ipython",
    "version": 3
   },
   "file_extension": ".py",
   "mimetype": "text/x-python",
   "name": "python",
   "nbconvert_exporter": "python",
   "pygments_lexer": "ipython3",
   "version": "3.9.6"
  }
 },
 "nbformat": 4,
 "nbformat_minor": 5
}
