{
 "cells": [
  {
   "cell_type": "code",
   "execution_count": 3,
   "id": "00b8c6ab",
   "metadata": {
    "scrolled": true
   },
   "outputs": [],
   "source": [
    "#review package and module\n",
    "from selenium import webdriver\n",
    "from selenium.webdriver.common.keys import Keys\n",
    "from selenium.webdriver.common.by import By\n",
    "from selenium.webdriver.support.ui import WebDriverWait\n",
    "from selenium.webdriver.support import expected_conditions as EC\n",
    "from selenium.webdriver.chrome.options import Options\n",
    "from webdriver_manager.chrome import ChromeDriverManager\n",
    "# import chromedriver_autoinstaller\n",
    "from selenium.webdriver.chrome.service import Service\n",
    "from selenium.common.exceptions import NoSuchElementException,NoSuchFrameException,StaleElementReferenceException\n",
    "# ,MaxRetryError\n",
    "from urllib3.exceptions import MaxRetryError,NewConnectionError\n",
    "from selenium.common.exceptions import TimeoutException\n",
    "import pandas as pd\n",
    "import os\n",
    "import time"
   ]
  },
  {
   "cell_type": "code",
   "execution_count": 4,
   "id": "6eaaeecf",
   "metadata": {
    "scrolled": true
   },
   "outputs": [],
   "source": [
    "# main variables\n",
    "productNames=[]\n",
    "productDetail=[]\n",
    "productPrice=[]\n",
    "subCategory=[]\n",
    "imageSrc=[]\n",
    "checkAttributeStatus=None\n",
    "driver=None"
   ]
  },
  {
   "cell_type": "code",
   "execution_count": null,
   "id": "c2fcbba1",
   "metadata": {},
   "outputs": [],
   "source": [
    "def getSubCategory():   \n",
    "    global subCategory\n",
    "    subCategory=[]\n",
    "    website_1='https://www.lush.com/uk/en'\n",
    "    driver = webdriver.Chrome(service=Service(ChromeDriverManager().install()))\n",
    "    #open website\n",
    "    driver.get(website_1)\n",
    "    driver.maximize_window()\n",
    "\n",
    "    btn=driver.find_element(by=By.XPATH,value=('//button[text()=\"Accept all cookies\"]'))\n",
    "    btn.click()  \n",
    "\n",
    "    # subCategoryData1=driver.find_elements(by=By.XPATH\n",
    "    #                 ,value=('//ul[@class=\"Section__Collection-sc-40f90a5d-2 hsZmFD\"][1]'))\n",
    "\n",
    "    # print(subCategoryData1.find_elements)\n",
    "\n",
    "    # subCategoryData=driver.find_elements(\n",
    "    #                     by=By.XPATH\n",
    "    #                     ,value=('//li[contains(@class,\"Section__CollectionListItem-sc-40f90a5d-3 bgxHKl\")][1]')  )\n",
    "\n",
    "\n",
    "    # for x in range(len(subCategoryData1)):\n",
    "    # #     print(subCategoryData1[x])\n",
    "    #     subCategoryData2=subCategoryData1[x].find_element(\n",
    "    #                         by=By.XPATH\n",
    "    #                         ,value=('//li[contains(@class,\"Section__CollectionListItem-sc-40f90a5d-3 bgxHKl\")]//a')  )\n",
    "    #     print(subCategoryData2.get_attribute(\"href\"))\n",
    "\n",
    "    subCategoryData=driver.find_elements(\n",
    "                        by=By.XPATH\n",
    "                        ,value=('//li[contains(@class,\"Section__CollectionListItem-sc-40f90a5d-3 bgxHKl\")]//a[1]')  )\n",
    "\n",
    "\n",
    "    # print(subCategoryData2)\n",
    "    # # (by=By.XPATH,value=('./li'))\n",
    "\n",
    "    for subCat in subCategoryData:\n",
    "    #     subCat\n",
    "    #     print(subCat.get_attribute(\"href\"))\n",
    "        subCategory.append(subCat.get_attribute(\"href\"))\n",
    "   \n",
    "    driver.delete_all_cookies()\n",
    "    driver.close()\n",
    "    driver.quit()\n"
   ]
  },
  {
   "cell_type": "code",
   "execution_count": null,
   "id": "19280d96",
   "metadata": {
    "scrolled": true
   },
   "outputs": [],
   "source": [
    "def checkAttribute(webSite):\n",
    "    driver = webdriver.Chrome(service=Service(ChromeDriverManager().install()))\n",
    "    #open website\n",
    "    driver.get(webSite)\n",
    "    driver.maximize_window()\n",
    "    chkAtr=None\n",
    "    try:\n",
    "        btn=driver.find_element(by=By.XPATH,value=('//button[text()=\"Accept all cookies\"]'))\n",
    "        btn.click()  \n",
    "        pagination = driver.find_element(\n",
    "           by=By.XPATH, value=('//button[contains(text(),\"Load more\")]'))\n",
    "        chkAtr='Found'\n",
    "\n",
    "    except NoSuchElementException:\n",
    "        chkAtr='Not Found'\n",
    "        driver.delete_all_cookies()\n",
    "        driver.close()\n",
    "        driver.quit()\n",
    "    return chkAtr"
   ]
  },
  {
   "cell_type": "code",
   "execution_count": null,
   "id": "9e94eda3",
   "metadata": {
    "scrolled": true
   },
   "outputs": [],
   "source": [
    "class _scrpWebWaitNoPage:  \n",
    "    \n",
    "    global productNames, productPrice,imageSrc,driver\n",
    "\n",
    "    productsDict={}\n",
    "    productNames=[]\n",
    "    productPrice=[]\n",
    "    imageSrc=[]\n",
    "    subCategory=[]\n",
    "    driver=None\n",
    "\n",
    "    def __init__(self, website):\n",
    "        self.website = website\n",
    "        driver = webdriver.Chrome(service=Service(\n",
    "            ChromeDriverManager().install()))\n",
    "\n",
    "        # open website\n",
    "        driver.get(website)\n",
    "        productNames1 = []\n",
    "        productPrice1 = []\n",
    "        imageSrc1=[]\n",
    "\n",
    "        productNames1 =WebDriverWait(driver, 120).until(\n",
    "            EC.presence_of_all_elements_located((By.XPATH\n",
    "                    ,'//div[@class=\"grid__item large--seven-tenths right js-de-ProductTilesObserver\"]//h4[1]')))    \n",
    "\n",
    "        for pname in productNames1:\n",
    "            productNames.append(pname.text)\n",
    "\n",
    "        productPrice1=WebDriverWait(driver, 120).until(EC.presence_of_all_elements_located((By.XPATH\n",
    "                                ,'//span[@class=\"js-de-ProductTile-currentPrice\"][1]')))    \n",
    "\n",
    "        for price in productPrice1:\n",
    "            productPrice.append(price.text)\n",
    "\n",
    "        imageSrc1 =WebDriverWait(driver, 120).until(\n",
    "            EC.presence_of_all_elements_located((By.XPATH\n",
    "                    , '//div[@class=\"de-productTile-showcaseImageContainer\"]/img[1]')))  \n",
    "\n",
    "        for pImage in imageSrc1:\n",
    "            imageSrc.append(pImage.get_attribute(\"data-src\"))                \n",
    "                \n",
    "        time.sleep(60)\n",
    "\n",
    "        driver.close()\n",
    "        driver.quit()"
   ]
  },
  {
   "cell_type": "code",
   "execution_count": 12,
   "id": "0ae698b9",
   "metadata": {},
   "outputs": [],
   "source": [
    "class _scrpWebWait:  \n",
    "  \n",
    "    global productNames, productPrice,imageSrc,driver,productDetail\n",
    "\n",
    "    productsDict={}\n",
    "    productNames=[]\n",
    "    productDetail=[]\n",
    "    productPrice=[]\n",
    "    imageSrc=[]\n",
    "    subCategory=[]\n",
    "    driver=None\n",
    "\n",
    "    def __init__(self, website):\n",
    "        import gc  \n",
    "        self.website = website\n",
    "        driver = webdriver.Chrome(service=Service(\n",
    "            ChromeDriverManager().install()))\n",
    "\n",
    "        # open website\n",
    "#         gc.collect()\n",
    "#         driver.delete_all_cookies()\n",
    "#         driver.close()\n",
    "#         driver.quit()   \n",
    "\n",
    "        driver.get(website)\n",
    "\n",
    "        time.sleep(60)\n",
    "        btn=WebDriverWait(driver, 60).until(EC.presence_of_element_located((By.XPATH\n",
    "                                    ,'//button[text()=\"Reject non-essential\"]')))   \n",
    "        btn.click()  \n",
    "        btn=None\n",
    "        try:\n",
    "            while True:       \n",
    "          \n",
    "                    time.sleep(60)\n",
    "                    loadMoreButton=WebDriverWait(driver, 120).until(EC.presence_of_element_located(\n",
    "                            (By.XPATH,'//button[contains(text(),\"Load more\")]')))     \n",
    "\n",
    "                    loadMoreButton.click()\n",
    "                    loadMoreButton=None                \n",
    "               \n",
    "        except: \n",
    "#          (TimeoutException,NoSuchElementException,StaleElementReferenceException,MaxRetryError\n",
    "#               ,ConnectionRefusedError,NewConnectionError,NoSuchWindowException):\n",
    "            pass\n",
    "\n",
    "        try:\n",
    "            productNames1 = []\n",
    "            productDetail1=[]\n",
    "            productPrice1 = []\n",
    "            imageSrc1=[]\n",
    "\n",
    "            productNames1=WebDriverWait(driver, 120).until(\n",
    "            EC.presence_of_all_elements_located((By.XPATH\n",
    "        ,'//div[contains(@class,\"c-Grid-styles__Wrapper-sc-7b9df201-2 XkYBc\")]//h3[@class=\"text__Text-sc-fac938e2-0 product-card__Name-sc-a4c933fb-4 cKOjOB iFwJeI\"][1]')))    \n",
    "\n",
    "            for pname in productNames1:\n",
    "#                     print(pname.text)\n",
    "                productNames.append(pname.text)            \n",
    "            \n",
    "#             time.sleep(60)\n",
    "            productDetail1 =WebDriverWait(driver, 120).until(\n",
    "            EC.presence_of_all_elements_located((By.XPATH\n",
    "                ,'//div[contains(@class,\"c-Grid-styles__Wrapper-sc-7b9df201-2 XkYBc\")]//p[@class=\"text__Text-sc-fac938e2-0 product-card__Strapline-sc-a4c933fb-5 CIHoe hFslzk\"][1]')))    \n",
    "\n",
    "            for prodDtl in productDetail1:\n",
    "#                 print(prodDtl.text)\n",
    "                productDetail.append(prodDtl.text)  \n",
    "\n",
    "#Product Images:              \n",
    "#             time.sleep(60)\n",
    "            imageSrc1 =WebDriverWait(driver, 120).until(\n",
    "            EC.presence_of_all_elements_located((By.XPATH\n",
    "                ,'//div[@class=\"grid__Wrapper-sc-a19bb341-0 igawnv\"]//img[contains(@src,\"png\")]')))    \n",
    "\n",
    "            for pordImages in imageSrc1:\n",
    "#                 print(prodDtl.text)\n",
    "#                 productDetail.append(prodDtl.text)  \n",
    "                for x in range(0,len(prodImages)):\n",
    "                    prodImageData=prodImages[x].get_attribute(\"src\")\n",
    "                    imageSrc.append(prodImageData)\n",
    "        except:\n",
    "            pass\n",
    "        \n",
    "        driver.delete_all_cookies()\n",
    "        driver.close()\n",
    "        driver.quit()  \n",
    "    \n",
    "\n",
    "                \n",
    "    \n",
    "#                 try:\n",
    "                    \n",
    "#     #                 pass\n",
    "\n",
    "#     #                 productNames1 = []\n",
    "#     #                 productPrice1 = []\n",
    "#     #                 imageSrc1=[]  \n",
    "\n",
    "#     #                 productNames1=WebDriverWait(driver, 60).until(\n",
    "#     #                 EC.presence_of_all_elements_located((By.XPATH\n",
    "#     #             ,'//div[contains(@class,\"c-Grid-styles__Wrapper-sc-7b9df201-2 XkYBc\")]//h3[@class=\"text__Text-sc-fac938e2-0 product-card__Name-sc-a4c933fb-4 cKOjOB iFwJeI\"][1]')))    \n",
    "\n",
    "#     #                 for pname in productNames1:\n",
    "#     # #                     print(pname.text)\n",
    "#     #                     productNames.append(pname.text)\n",
    "\n",
    "#                     time.sleep(60)\n",
    "#                     productDetail1 =WebDriverWait(driver, 120).until(\n",
    "#                     EC.presence_of_all_elements_located((By.XPATH\n",
    "#                         ,'//div[contains(@class,\"c-Grid-styles__Wrapper-sc-7b9df201-2 XkYBc\")]//p[@class=\"text__Text-sc-fac938e2-0 product-card__Strapline-sc-a4c933fb-5 CIHoe hFslzk\"][1]')))    \n",
    "\n",
    "#                     for prodDtl in productDetail1:\n",
    "#     #                     print(prodDtl.text)\n",
    "#                         productDetail.append(prodDtl.text)    \n",
    "\n",
    "#                     time.sleep(120)\n",
    "#         #             productDetail\n",
    "#                     driver.delete_all_cookies()\n",
    "#                     driver.close()\n",
    "#                     driver.quit()\n",
    "                \n",
    "#                 except (TimeoutException,NoSuchElementException,StaleElementReferenceException,MaxRetryError\n",
    "#                    ,ConnectionRefusedError,NewConnectionError):\n",
    "#                     pass\n",
    "            "
   ]
  },
  {
   "cell_type": "code",
   "execution_count": 13,
   "id": "a8fbb700",
   "metadata": {},
   "outputs": [],
   "source": [
    "a=_scrpWebWait('https://www.lush.com/uk/en/c/bath-bombs')"
   ]
  },
  {
   "cell_type": "code",
   "execution_count": null,
   "id": "6bd0f8b5",
   "metadata": {},
   "outputs": [],
   "source": []
  },
  {
   "cell_type": "code",
   "execution_count": null,
   "id": "d71efdf1",
   "metadata": {},
   "outputs": [],
   "source": [
    "# global productDetail\n",
    "print('xxxx')\n",
    "print(len(productDetail))"
   ]
  },
  {
   "cell_type": "code",
   "execution_count": 14,
   "id": "e32a1ea0",
   "metadata": {},
   "outputs": [
    {
     "data": {
      "text/plain": [
       "[]"
      ]
     },
     "execution_count": 14,
     "metadata": {},
     "output_type": "execute_result"
    }
   ],
   "source": [
    "imageSrc"
   ]
  },
  {
   "cell_type": "code",
   "execution_count": null,
   "id": "e302bca7",
   "metadata": {
    "scrolled": true
   },
   "outputs": [],
   "source": [
    "# class _scrpWebWait:  \n",
    "    \n",
    "#     global productNames, productPrice,imageSrc,driver\n",
    "\n",
    "#     productsDict={}\n",
    "#     productNames=[]\n",
    "#     productPrice=[]\n",
    "#     imageSrc=[]\n",
    "#     subCategory=[]\n",
    "#     driver=None\n",
    "\n",
    "#     def __init__(self, website):\n",
    "#         self.website = website\n",
    "#         driver = webdriver.Chrome(service=Service(\n",
    "#             ChromeDriverManager().install()))\n",
    "\n",
    "#         # open website\n",
    "#         driver.get(website)\n",
    "#         productNames1 = []\n",
    "#         productPrice1 = []\n",
    "#         imageSrc1=[]\n",
    "\n",
    "#         currentPage = 0\n",
    "#         pagination = driver.find_element(\n",
    "#             by=By.XPATH, value=('//div[@class=\"paginate-bottom\"]'))\n",
    "#         pages = pagination.find_elements(by=By.TAG_NAME, value='span')\n",
    "#         lastPage = int(pages[-2].text)\n",
    "        \n",
    "#         while currentPage<=lastPage:            \n",
    "            \n",
    "#             productNames1 =WebDriverWait(driver, 120).until(\n",
    "#                 EC.presence_of_all_elements_located((By.XPATH\n",
    "#                         ,'//div[@class=\"grid__item large--seven-tenths right js-de-ProductTilesObserver\"]//h4[1]')))    \n",
    "          \n",
    "#             for pname in productNames1:\n",
    "#                 productNames.append(pname.text)\n",
    "\n",
    "#             productPrice1=WebDriverWait(driver, 120).until(EC.presence_of_all_elements_located((By.XPATH\n",
    "#                                     ,'//span[@class=\"js-de-ProductTile-currentPrice\"][1]')))    \n",
    "            \n",
    "#             for price in productPrice1:\n",
    "#                 productPrice.append(price.text)\n",
    "                \n",
    "#             imageSrc1 =WebDriverWait(driver, 120).until(\n",
    "#                 EC.presence_of_all_elements_located((By.XPATH\n",
    "#                         , '//div[@class=\"de-productTile-showcaseImageContainer\"]/img[1]')))  \n",
    "          \n",
    "#             for pImage in imageSrc1:\n",
    "#                 imageSrc.append(pImage.get_attribute(\"data-src\"))                \n",
    "                \n",
    "#             time.sleep(60)\n",
    "#             currentPage=currentPage+1\n",
    "#             try:\n",
    "#                 productNames1 = []\n",
    "#                 productPrice1 = []\n",
    "#                 imageSrc1=[]\n",
    "                \n",
    "# #                 WebDriverWait(browser, 5).until(EC.alert_is_present(), 'Timed out waiting for alerts to appear')\n",
    "# #                 alert = browser.switch_to.alert\n",
    "# #                 alert.accept()\n",
    "\n",
    "#                 nextPage=WebDriverWait(driver, 120).until(\n",
    "#                     EC.presence_of_element_located((By.XPATH, '//span[@class=\"next\"]')))    \n",
    "#                 nextPage.click()\n",
    "                \n",
    "#             except (TimeoutException,NoSuchElementException,StaleElementReferenceException):\n",
    "#                 pass\n",
    "            \n",
    "#         driver.close()\n",
    "#         driver.quit()"
   ]
  },
  {
   "cell_type": "code",
   "execution_count": null,
   "id": "a1f78444",
   "metadata": {
    "scrolled": false
   },
   "outputs": [],
   "source": [
    "\n",
    "# global productNames,productPrice,driver,imageSrc\n",
    "\n",
    "global subCategory\n",
    "# getSubCategory()\n",
    "\n",
    "productsDict={}\n",
    "productNames=[]\n",
    "productPrice=[]\n",
    "imageSrc=[]\n",
    "# subCategory=[]\n",
    "driver=None\n",
    "\n",
    "subCategory=[\n",
    "'https://www.lush.com/uk/en/c/bath-bombs'\n",
    "]\n",
    "\n",
    "# subCategory\n",
    "\n",
    "for subCat in range(0,len(subCategory)):\n",
    "    print(subCategory[subCat])\n",
    "    global checkAttributeStatus\n",
    "    checkAttributeStatus=checkAttribute(subCategory[subCat])\n",
    "    print(checkAttributeStatus)\n",
    "    \n",
    "    if checkAttributeStatus=='Found':\n",
    "        webPage=subCategory[subCat]\n",
    "#         category=webPage.replace('https://www.decathlon.com/collections/','')\n",
    "        a=_scrpWebWait(webPage)\n",
    "        productDetail\n",
    "#     else:\n",
    "#         webPage=subCategory[subCat]\n",
    "#         category=webPage.replace('https://www.decathlon.com/collections/','')\n",
    "#         a=_scrpWebWaitNoPage(webPage)\n",
    "    \n",
    "#     # creating DataFrame\n",
    "#     product_list=[]\n",
    "#     for p in productNames:\n",
    "#         product_list.append(p)\n",
    "\n",
    "#     product_price=[]\n",
    "#     for pr in productPrice:\n",
    "#         product_price.append(pr)\n",
    "\n",
    "#     product_image=[]\n",
    "#     for pim in imageSrc:\n",
    "#         product_image.append(pim)        \n",
    "\n",
    "#     productsDict={'Product':product_list,'Product_Price':product_price,'Product_Image':product_image}\n",
    "#     df=pd.DataFrame.from_dict(productsDict)\n",
    "#     df.insert(loc=0,column='Category',value=category)\n",
    "#     df.insert(loc=0,column='Head',value='Kids')\n",
    "    \n",
    "#     print(df)\n",
    "#     df.to_csv(f'c://WebScrapping1/decathlon/{category}.csv',index=False)\n"
   ]
  },
  {
   "cell_type": "code",
   "execution_count": null,
   "id": "3fcb006f",
   "metadata": {},
   "outputs": [],
   "source": [
    "subCategory"
   ]
  },
  {
   "cell_type": "code",
   "execution_count": null,
   "id": "d1a873e8",
   "metadata": {
    "scrolled": true
   },
   "outputs": [],
   "source": [
    "checkAttributeStatus=checkAttribute('https://www.decathlon.com/collections/hike-camp-deals')\n",
    "checkAttributeStatus"
   ]
  },
  {
   "cell_type": "code",
   "execution_count": null,
   "id": "95589d16",
   "metadata": {
    "scrolled": true
   },
   "outputs": [],
   "source": [
    "driver.close()"
   ]
  },
  {
   "cell_type": "code",
   "execution_count": null,
   "id": "94ca366a",
   "metadata": {
    "scrolled": true
   },
   "outputs": [],
   "source": [
    "subCategoryData=driver.find_elements(by=By.XPATH,value=('//ul[@class=\"de-u-listReset\"]//a[@href]'))\n"
   ]
  },
  {
   "cell_type": "code",
   "execution_count": null,
   "id": "feb691b2",
   "metadata": {
    "scrolled": true
   },
   "outputs": [],
   "source": [
    "len(subCategoryData)"
   ]
  },
  {
   "cell_type": "code",
   "execution_count": null,
   "id": "7b40cd4a",
   "metadata": {
    "scrolled": true
   },
   "outputs": [],
   "source": [
    "global subCategory\n",
    "for subCat in subCategoryData:\n",
    "#     print(subCat.get_attribute(\"href\"))\n",
    "    subCategory.append(subCat.get_attribute(\"href\"))"
   ]
  },
  {
   "cell_type": "code",
   "execution_count": null,
   "id": "4665ed07",
   "metadata": {
    "scrolled": true
   },
   "outputs": [],
   "source": [
    "for s in range(0, len(subCategory)):\n",
    "    print(\"'\"+subCategory[s]+\"',\")"
   ]
  },
  {
   "cell_type": "code",
   "execution_count": null,
   "id": "3724793c",
   "metadata": {
    "scrolled": true
   },
   "outputs": [],
   "source": [
    "productsDict.clear()\n",
    "productNames=[]\n",
    "productPrice=[]\n",
    "subCategory=[]"
   ]
  },
  {
   "cell_type": "code",
   "execution_count": null,
   "id": "ee26912c",
   "metadata": {
    "scrolled": true
   },
   "outputs": [],
   "source": [
    "productsDict"
   ]
  },
  {
   "cell_type": "code",
   "execution_count": null,
   "id": "a44a5726",
   "metadata": {
    "scrolled": true
   },
   "outputs": [],
   "source": [
    "# global driver\n",
    "# driver.close()\n"
   ]
  },
  {
   "cell_type": "markdown",
   "id": "9b335f47",
   "metadata": {},
   "source": [
    "# End"
   ]
  },
  {
   "cell_type": "code",
   "execution_count": 89,
   "id": "c380184f",
   "metadata": {},
   "outputs": [],
   "source": [
    "driver.close()"
   ]
  },
  {
   "cell_type": "code",
   "execution_count": 90,
   "id": "805e7ac0",
   "metadata": {},
   "outputs": [],
   "source": [
    "driver.quit()"
   ]
  },
  {
   "cell_type": "markdown",
   "id": "b07d0110",
   "metadata": {},
   "source": [
    "# # pagination next page"
   ]
  },
  {
   "cell_type": "code",
   "execution_count": null,
   "id": "ecfbccea",
   "metadata": {},
   "outputs": [],
   "source": [
    "driver.quit()"
   ]
  },
  {
   "cell_type": "code",
   "execution_count": null,
   "id": "b6e40adf",
   "metadata": {},
   "outputs": [],
   "source": [
    "a=_scrpWebWait('https://www.lush.com/uk/en/c/bath-bombs')"
   ]
  },
  {
   "cell_type": "code",
   "execution_count": null,
   "id": "f9d94ede",
   "metadata": {},
   "outputs": [],
   "source": [
    "getSubCategory()\n",
    "subCategory"
   ]
  },
  {
   "cell_type": "code",
   "execution_count": null,
   "id": "d9ec753b",
   "metadata": {},
   "outputs": [],
   "source": [
    "prodImage=None\n",
    "driver = webdriver.Chrome(service=Service(\n",
    "    ChromeDriverManager().install()))\n",
    "\n",
    "# open website\n",
    "driver.get('https://www.lush.com/uk/en/c/handmade-soap')\n",
    "btn=WebDriverWait(driver, 30).until(EC.presence_of_element_located((By.XPATH\n",
    "                    ,'//button[text()=\"Accept all cookies\"]')))  \n",
    "btn.click()  \n",
    "driver.delete_all_cookies()\n",
    "driver.close()\n",
    "driver.quit()"
   ]
  },
  {
   "cell_type": "code",
   "execution_count": null,
   "id": "e1f6b2c8",
   "metadata": {},
   "outputs": [],
   "source": [
    "# getting products image...\n",
    "prodImages=driver.find_elements(by=By.XPATH\n",
    "                            ,value=('//div[@class=\"grid__Wrapper-sc-a19bb341-0 igawnv\"]//img[contains(@src,\".png\")]')\n",
    "                                  )\n",
    "for x in range(0,len(prodImages)):\n",
    "    print(prodImages[x].get_attribute(\"src\"))"
   ]
  },
  {
   "cell_type": "code",
   "execution_count": null,
   "id": "bf796f76",
   "metadata": {},
   "outputs": [],
   "source": []
  },
  {
   "cell_type": "code",
   "execution_count": null,
   "id": "d1cb86ee",
   "metadata": {},
   "outputs": [],
   "source": [
    "prodImage=None\n",
    "driver = webdriver.Chrome(service=Service(\n",
    "    ChromeDriverManager().install()))\n",
    "\n",
    "# open website\n",
    "driver.get('https://www.lush.com/uk/en/c/handmade-soap')\n",
    "\n",
    "try:\n",
    "    btn=WebDriverWait(driver, 30).until(EC.presence_of_element_located((By.XPATH\n",
    "                        ,'//button[text()=\"Accept all cookies\"]')))  \n",
    "    \n",
    "#     driver.find_element(by=By.XPATH,value=('//button[text()=\"Accept all cookies\"]'))\n",
    "    btn.click()  \n",
    "\n",
    "    prodImage=WebDriverWait(driver, 60).until(EC.presence_of_all_elements_located((By.XPATH\n",
    "                        ,'//div[@class=\"grid__Wrapper-sc-a19bb341-0 igawnv\"]//img[contains(@src,\".png\")]')))   \n",
    "\n",
    "#     driver.find_elements(by=By.XPATH\n",
    "#                             ,value=('//div[@class=\"grid__Wrapper-sc-a19bb341-0 igawnv\"]//img[contains(@src,\".png\")]')\n",
    "#                                   )\n",
    "# WebDriverWait(driver, 120).until(EC.presence_of_all_elements_located((By.XPATH\n",
    "#                         ,'//div[@class=\"grid__Wrapper-sc-a19bb341-0 igawnv\"]//img[contains(@src,\".png\")]')))   \n",
    "    \n",
    "# productPrice1=WebDriverWait(driver, 120).until(EC.presence_of_all_elements_located((By.XPATH\n",
    "#                         ,'//span[@class=\"js-de-ProductTile-currentPrice\"][1]')))        \n",
    "    \n",
    "except (NoSuchElementException):\n",
    "    pass\n",
    "\n",
    "# try:\n",
    "#     prodImage=driver.find_elements(by=By.XPATH\n",
    "#                             ,value=('//div[@class=\"grid__Wrapper-sc-a19bb341-0 igawnv\"]//img[contains(@src,\".png\")]')\n",
    "#                                   )\n",
    "\n",
    "# except:\n",
    "#     pass\n",
    "\n",
    "# print(prodImage)\n",
    "# driver.close()\n",
    "\n",
    "# for image in prodImage:\n",
    "\n",
    "print(prodImage)    \n",
    "\n"
   ]
  },
  {
   "cell_type": "code",
   "execution_count": null,
   "id": "864b798a",
   "metadata": {
    "scrolled": true
   },
   "outputs": [],
   "source": [
    "imageSrc1=[]\n",
    "imageSrc1=driver.find_elements(by=By.XPATH,value='//div[@class=\"de-productTile-showcaseImageContainer\"]//img[1]')\n"
   ]
  },
  {
   "cell_type": "code",
   "execution_count": null,
   "id": "6747a3e0",
   "metadata": {
    "scrolled": true
   },
   "outputs": [],
   "source": [
    "for pImage in imageSrc1:\n",
    "    print(pImage.get_attribute(\"data-src\"))"
   ]
  },
  {
   "cell_type": "code",
   "execution_count": null,
   "id": "22f36872",
   "metadata": {
    "scrolled": true
   },
   "outputs": [],
   "source": [
    "# global productNames,productPrice,i\n",
    "a=_scrpWebWait('https://www.decathlon.com/collections/bikes-cycling-deals')\n",
    "# imageSrc"
   ]
  },
  {
   "cell_type": "code",
   "execution_count": null,
   "id": "d407ac67",
   "metadata": {
    "scrolled": true
   },
   "outputs": [],
   "source": [
    "len(imageSrc)"
   ]
  },
  {
   "cell_type": "code",
   "execution_count": null,
   "id": "c8fe5f6d",
   "metadata": {
    "scrolled": true
   },
   "outputs": [],
   "source": [
    "print(imageSrc)"
   ]
  },
  {
   "cell_type": "code",
   "execution_count": null,
   "id": "2da24237",
   "metadata": {
    "scrolled": true
   },
   "outputs": [],
   "source": [
    "productPrice1=driver.find_elements(by=By.XPATH, value=('//span[@class=\"js-de-ProductTile-currentPrice\"][1]'))           \n",
    "            "
   ]
  },
  {
   "cell_type": "code",
   "execution_count": null,
   "id": "a519dbed",
   "metadata": {
    "scrolled": true
   },
   "outputs": [],
   "source": []
  },
  {
   "cell_type": "code",
   "execution_count": null,
   "id": "1fd51039",
   "metadata": {
    "scrolled": true
   },
   "outputs": [],
   "source": [
    "for price in productPrice1:\n",
    "    print(price.get_attribute(\"innerText\"))"
   ]
  },
  {
   "cell_type": "code",
   "execution_count": null,
   "id": "25bca175",
   "metadata": {
    "scrolled": true
   },
   "outputs": [],
   "source": [
    "global productNames,productPrice\n",
    "a=_scrpWeb('https://www.decathlon.com/collections/bikes-cycling-deals')\n"
   ]
  },
  {
   "cell_type": "code",
   "execution_count": null,
   "id": "dac71a74",
   "metadata": {
    "scrolled": true
   },
   "outputs": [],
   "source": [
    "product_list=[]\n",
    "for p in productNames:\n",
    "    print(p)"
   ]
  },
  {
   "cell_type": "code",
   "execution_count": null,
   "id": "a45041b3",
   "metadata": {
    "scrolled": true
   },
   "outputs": [],
   "source": [
    "currentPage=0\n",
    "\n",
    "pagination=driver.find_element(by=By.XPATH,value=('//div[@class=\"paginate-bottom\"]'))\n",
    "pages=pagination.find_elements(by=By.TAG_NAME,value='span')\n",
    "lastPage=int(pages[-2].text)\n",
    "\n",
    "while currentPage<=lastPage:\n",
    "    currentPage=currentPage+1\n",
    "    try:\n",
    "        nextPage=driver.find_element(by=By.XPATH,value=('//span[@class=\"next\"]'))\n",
    "        nextPage.click()\n",
    "    except:\n",
    "        pass\n",
    "\n",
    "\n"
   ]
  },
  {
   "cell_type": "code",
   "execution_count": null,
   "id": "7347cbe4",
   "metadata": {
    "scrolled": true
   },
   "outputs": [],
   "source": [
    "driver.close()"
   ]
  },
  {
   "cell_type": "code",
   "execution_count": null,
   "id": "1ff46a93",
   "metadata": {
    "scrolled": true
   },
   "outputs": [],
   "source": [
    "global productNames,productNames  \n",
    "while True:\n",
    "#     productNames=[]\n",
    "#     productNames=[]\n",
    "    btn=None\n",
    "    try:        \n",
    "#                 btn=None\n",
    "        btn=driver.find_element(by=By.LINK_TEXT,value=('SHOW MORE'))\n",
    "        btn.click()                \n",
    "    except NoSuchElementException:\n",
    "        break;\n",
    "    finally:\n",
    "#                 productNames=driver.find_elements(by=By.XPATH, value=('//div[@class=\"card-information__wrapper text-left\"]//span[@class=\"text\"][1]'))\n",
    "        productPrice=driver.find_elements(by=By.XPATH, value=('//dd[@class=\"price__last\"]//span[@class=\"price-item price-item--regular\"][1]'))\n",
    "        time.sleep(10)"
   ]
  },
  {
   "cell_type": "code",
   "execution_count": null,
   "id": "9d8d78eb",
   "metadata": {
    "scrolled": true
   },
   "outputs": [],
   "source": [
    "print(len(productPrice))"
   ]
  },
  {
   "cell_type": "code",
   "execution_count": null,
   "id": "13af2ded",
   "metadata": {
    "scrolled": true
   },
   "outputs": [],
   "source": [
    "# driver.refresh()\n",
    "# price=driver.find_elements(by=By.XPATH, value=('//dd[@class=\"price__last\"]//span[@class=\"price-item price-item--regular\"][1]'))\n",
    "for p in productPrice:\n",
    "    print(p.text)"
   ]
  },
  {
   "cell_type": "code",
   "execution_count": null,
   "id": "f68ba06d",
   "metadata": {
    "scrolled": true
   },
   "outputs": [],
   "source": [
    "#relevant website\n",
    "website_1='https://springs.com.pk/collections/chocolates'"
   ]
  },
  {
   "cell_type": "code",
   "execution_count": null,
   "id": "f36a706b",
   "metadata": {
    "scrolled": true
   },
   "outputs": [],
   "source": [
    "print()"
   ]
  },
  {
   "cell_type": "code",
   "execution_count": null,
   "id": "1dc123c7",
   "metadata": {
    "scrolled": true
   },
   "outputs": [],
   "source": [
    "productNames=driver.find_elements(by=By.XPATH, value=('//div[@class=\"card-information__wrapper text-left\"]//span[@class=\"text\"][1]'))"
   ]
  },
  {
   "cell_type": "code",
   "execution_count": null,
   "id": "a691b8cb",
   "metadata": {
    "scrolled": true
   },
   "outputs": [],
   "source": [
    "len(productNames)"
   ]
  },
  {
   "cell_type": "code",
   "execution_count": null,
   "id": "ad5585b2",
   "metadata": {
    "scrolled": true
   },
   "outputs": [],
   "source": [
    "for prodcuts in productNames:\n",
    "    print(prodcuts.text)"
   ]
  },
  {
   "cell_type": "code",
   "execution_count": null,
   "id": "232d6481",
   "metadata": {
    "scrolled": true
   },
   "outputs": [],
   "source": [
    "hrefLinks=driver.find_elements(by=By.XPATH,value=('//div[@class=\"pagination-page-item pagination-page-infinite\"]/a'))"
   ]
  },
  {
   "cell_type": "code",
   "execution_count": null,
   "id": "52643a8d",
   "metadata": {
    "scrolled": true
   },
   "outputs": [],
   "source": [
    "for href in hrefLinks:\n",
    "    print(href.text)"
   ]
  },
  {
   "cell_type": "code",
   "execution_count": null,
   "id": "fabbea66",
   "metadata": {
    "scrolled": true
   },
   "outputs": [],
   "source": [
    "btn=driver.find_element(by=By.LINK_TEXT,value=('SHOW MORE'))"
   ]
  },
  {
   "cell_type": "code",
   "execution_count": null,
   "id": "9ffef4e3",
   "metadata": {
    "scrolled": true
   },
   "outputs": [],
   "source": [
    "# for b in btn:\n",
    "#     print(b.text)\n",
    "btn.text"
   ]
  },
  {
   "cell_type": "code",
   "execution_count": null,
   "id": "c655be2a",
   "metadata": {
    "scrolled": true
   },
   "outputs": [],
   "source": [
    "btn=driver.find_element(by=By.LINK_TEXT,value=('SHOW MORE'))\n",
    "btn.click()"
   ]
  },
  {
   "cell_type": "code",
   "execution_count": null,
   "id": "4eeb94be",
   "metadata": {
    "scrolled": true
   },
   "outputs": [],
   "source": [
    "while True:\n",
    "    productNames=[]\n",
    "    btn=None\n",
    "    try:        \n",
    "        btn=driver.find_element(by=By.LINK_TEXT,value=('SHOW MORE'))\n",
    "        btn.click()\n",
    "        btn=None\n",
    "    except NoSuchElementException:\n",
    "        break\n",
    "    finally:\n",
    "        productNames=driver.find_elements(by=By.XPATH, value=('//div[@class=\"card-information__wrapper text-left\"]//span[@class=\"text\"][1]'))\n",
    "        time.sleep(10)\n",
    "        \n",
    "\n"
   ]
  },
  {
   "cell_type": "code",
   "execution_count": null,
   "id": "3b9d8420",
   "metadata": {
    "scrolled": true
   },
   "outputs": [],
   "source": [
    "print(btn.text)"
   ]
  },
  {
   "cell_type": "code",
   "execution_count": null,
   "id": "67d542f1",
   "metadata": {
    "scrolled": true
   },
   "outputs": [],
   "source": [
    "print(len(productNames))"
   ]
  },
  {
   "cell_type": "code",
   "execution_count": null,
   "id": "58fbd73a",
   "metadata": {
    "scrolled": true
   },
   "outputs": [],
   "source": [
    "for prodcuts in productNames:\n",
    "    print(prodcuts.text)"
   ]
  },
  {
   "cell_type": "code",
   "execution_count": null,
   "id": "1c6144ab",
   "metadata": {
    "scrolled": true
   },
   "outputs": [],
   "source": [
    "productPrice=driver.find_elements(by=By.XPATH, value=('//dd[@class=\"price__last\"]//span[@class=\"price-item price-item--regular\"][1]'))"
   ]
  },
  {
   "cell_type": "code",
   "execution_count": null,
   "id": "8a0be00f",
   "metadata": {
    "scrolled": true
   },
   "outputs": [],
   "source": [
    "driver.close()"
   ]
  },
  {
   "cell_type": "code",
   "execution_count": null,
   "id": "c6279339",
   "metadata": {
    "scrolled": true
   },
   "outputs": [],
   "source": [
    "print(len(pro))"
   ]
  },
  {
   "cell_type": "markdown",
   "id": "d9918894",
   "metadata": {},
   "source": [
    "# sub category"
   ]
  },
  {
   "cell_type": "code",
   "execution_count": null,
   "id": "6f1c6b32",
   "metadata": {
    "scrolled": true
   },
   "outputs": [],
   "source": [
    "\n",
    "driver.close()"
   ]
  },
  {
   "cell_type": "code",
   "execution_count": null,
   "id": "e5e6bd25",
   "metadata": {
    "scrolled": true
   },
   "outputs": [],
   "source": [
    "len(subCategoryData)"
   ]
  },
  {
   "cell_type": "markdown",
   "id": "ce3bfdcf",
   "metadata": {},
   "source": [
    "# # Subcategory Data...."
   ]
  },
  {
   "cell_type": "code",
   "execution_count": null,
   "id": "fff4a109",
   "metadata": {
    "scrolled": true
   },
   "outputs": [],
   "source": [
    "global subCategory\n",
    "website_1='https://www.lush.com/uk/en'\n",
    "driver = webdriver.Chrome(service=Service(ChromeDriverManager().install()))\n",
    "#open website\n",
    "driver.get(website_1)\n",
    "driver.maximize_window()\n",
    "\n",
    "btn=driver.find_element(by=By.XPATH,value=('//button[text()=\"Accept all cookies\"]'))\n",
    "btn.click()  \n",
    "\n",
    "# subCategoryData1=driver.find_elements(by=By.XPATH\n",
    "#                 ,value=('//ul[@class=\"Section__Collection-sc-40f90a5d-2 hsZmFD\"][1]'))\n",
    "\n",
    "# print(subCategoryData1.find_elements)\n",
    "\n",
    "# subCategoryData=driver.find_elements(\n",
    "#                     by=By.XPATH\n",
    "#                     ,value=('//li[contains(@class,\"Section__CollectionListItem-sc-40f90a5d-3 bgxHKl\")][1]')  )\n",
    "\n",
    "\n",
    "# for x in range(len(subCategoryData1)):\n",
    "# #     print(subCategoryData1[x])\n",
    "#     subCategoryData2=subCategoryData1[x].find_element(\n",
    "#                         by=By.XPATH\n",
    "#                         ,value=('//li[contains(@class,\"Section__CollectionListItem-sc-40f90a5d-3 bgxHKl\")]//a')  )\n",
    "#     print(subCategoryData2.get_attribute(\"href\"))\n",
    "\n",
    "subCategoryData=driver.find_elements(\n",
    "                    by=By.XPATH\n",
    "                    ,value=('//li[contains(@class,\"Section__CollectionListItem-sc-40f90a5d-3 bgxHKl\")]//a[1]')  )\n",
    "\n",
    "\n",
    "# print(subCategoryData2)\n",
    "# # (by=By.XPATH,value=('./li'))\n",
    "\n",
    "for subCat in subCategoryData:\n",
    "#     subCat\n",
    "#     print(subCat.get_attribute(\"href\"))\n",
    "    subCategory.append(subCat.get_attribute(\"href\"))\n",
    "\n",
    "driver.close()\n",
    "\n"
   ]
  },
  {
   "cell_type": "code",
   "execution_count": null,
   "id": "0059f4e7",
   "metadata": {
    "scrolled": true
   },
   "outputs": [],
   "source": [
    "\n"
   ]
  },
  {
   "cell_type": "code",
   "execution_count": null,
   "id": "ec6a788f",
   "metadata": {
    "scrolled": true
   },
   "outputs": [],
   "source": [
    "for subCat in subCategoryData:\n",
    "    print(subCat.get_attribute(\"href\"))\n",
    "#     subCategory.append(subCat.get_attribute(\"href\"))\n"
   ]
  },
  {
   "cell_type": "code",
   "execution_count": null,
   "id": "f5564b89",
   "metadata": {
    "scrolled": true
   },
   "outputs": [],
   "source": [
    "print(subCategoryData)"
   ]
  },
  {
   "cell_type": "code",
   "execution_count": null,
   "id": "09c794f9",
   "metadata": {
    "scrolled": true
   },
   "outputs": [],
   "source": [
    "for s in range(0, len(subCategory)):\n",
    "    print(subCategory[s])"
   ]
  },
  {
   "cell_type": "code",
   "execution_count": null,
   "id": "e00e8da3",
   "metadata": {
    "scrolled": true
   },
   "outputs": [],
   "source": [
    "driver.close()"
   ]
  },
  {
   "cell_type": "markdown",
   "id": "df93451a",
   "metadata": {},
   "source": [
    "# check if folder exists if not create"
   ]
  },
  {
   "cell_type": "code",
   "execution_count": null,
   "id": "860e9f60",
   "metadata": {
    "scrolled": true
   },
   "outputs": [],
   "source": [
    "def checkFolder(folder):\n",
    "#     folder=tfolder\n",
    "    isExists=os.path.exists(f'c://{folder}')\n",
    "    if not isExists:\n",
    "        os.mkdir(f'c://{folder}')\n",
    "    "
   ]
  },
  {
   "cell_type": "code",
   "execution_count": null,
   "id": "3b5cf28a",
   "metadata": {
    "scrolled": true
   },
   "outputs": [],
   "source": [
    "checkFolder('webscrapping')"
   ]
  },
  {
   "cell_type": "markdown",
   "id": "78ba84ea",
   "metadata": {},
   "source": [
    "# class"
   ]
  },
  {
   "cell_type": "code",
   "execution_count": null,
   "id": "3f1a1692",
   "metadata": {
    "scrolled": true
   },
   "outputs": [],
   "source": [
    "class _scrpWeb:\n",
    "    def __init__(self,website):\n",
    "        self.website=website\n",
    "        driver = webdriver.Chrome(service=Service(ChromeDriverManager().install()))\n",
    "        \n",
    "        #open website\n",
    "        driver.get(website)\n",
    "#         driver.maximize_window()\n",
    "#         global productNames\n",
    "#         driver.refresh()\n",
    "        global productNames,productPrice  \n",
    "        while True:\n",
    "#             productNames=[]\n",
    "#             productPrice=[]\n",
    "#             btn=None\n",
    "            try:        \n",
    "#                 btn=None\n",
    "                btn=driver.find_element(by=By.LINK_TEXT,value=('SHOW MORE'))\n",
    "                btn.click()  \n",
    "                btn=None\n",
    "            except NoSuchElementException:\n",
    "                break\n",
    "            finally:\n",
    "                productNames=driver.find_elements(by=By.XPATH, value=('//div[@class=\"card-information__wrapper text-left\"]//span[@class=\"text\"][1]'))\n",
    "                productPrice=driver.find_elements(by=By.XPATH, value=('//dd[@class=\"price__last\"]//span[@class=\"price-item price-item--regular\"][1]'))\n",
    "                time.sleep(100)\n",
    "#                 btn=None\n",
    "\n",
    "\n"
   ]
  },
  {
   "cell_type": "code",
   "execution_count": null,
   "id": "57a4df7e",
   "metadata": {
    "scrolled": true
   },
   "outputs": [],
   "source": [
    "# Extracting...."
   ]
  },
  {
   "cell_type": "code",
   "execution_count": null,
   "id": "743f6baf",
   "metadata": {
    "scrolled": true
   },
   "outputs": [],
   "source": [
    "\n",
    "webPage='https://springs.com.pk/collections/jam-honey-spreads'\n",
    "category=webPage.replace('https://springs.com.pk/collections/','')\n",
    "a=_scrpWeb(webPage)\n",
    "\n",
    "# driver.close()\n",
    "\n",
    "# creating DataFrame\n",
    "product_list=[]\n",
    "for p in productNames:\n",
    "        product_list.append(p.text)\n",
    "    #     print(p.text)\n",
    "\n",
    "product_price=[]\n",
    "for pr in productPrice:\n",
    "        product_price.append(pr.text)\n",
    "    #     print(pr.text)\n",
    "\n",
    "productsDict={'Product':product_list,'Product_Price':product_price}\n",
    "df=pd.DataFrame.from_dict(productsDict)\n",
    "# df[\"Product_Price\"].fillna(\"0\", inplace=True)\n",
    "df['Product_Price'].replace('',0)\n",
    "df['Product_Price']=df['Product_Price'].apply(lambda x: x.replace('Rs.',''))\n",
    "df['Product_Price']=df['Product_Price'].apply(lambda x: x.replace(',',''))\n",
    "# df['Product_Price']=df['Product_Price'].astype(float)\n",
    "df.insert(loc=0,column='Category',value=category)\n",
    "df\n",
    "checkFolder('webscrapping')\n",
    "df.to_csv(f'c://webscrapping/{category}.csv',index=False)\n",
    "# driver.close()\n",
    "# driver.quit()\n"
   ]
  },
  {
   "cell_type": "code",
   "execution_count": null,
   "id": "5edba0ab",
   "metadata": {
    "scrolled": true
   },
   "outputs": [],
   "source": [
    "#test extracting link and webscrapping in a Loop.... using list......\n",
    "\n",
    "subCategory=[\n",
    "'https://springs.com.pk/collections/ss-cigar',\n",
    "'https://springs.com.pk/collections/sugar-baking-dessert',\n",
    "'https://springs.com.pk/collections/talcum-powder-prickly-heat-powder',\n",
    "'https://springs.com.pk/collections/tea-coffee',\n",
    "'https://springs.com.pk/collections/tissues-wipes',\n",
    "'https://springs.com.pk/collections/toiletries',\n",
    "'https://springs.com.pk/collections/toner',\n",
    "'https://springs.com.pk/collections/toothbrush',\n",
    "'https://springs.com.pk/collections/toothpaste',\n",
    "'https://springs.com.pk/collections/treats-accessories',\n",
    "'https://springs.com.pk/collections/unisex',\n",
    "'https://springs.com.pk/collections/women',\n",
    "'https://springs.com.pk/collections/wraps-pittas',\n",
    "'https://springs.com.pk/collections/yogurt'\n",
    "]\n",
    "\n",
    "for subCat in range(0,len(subCategory)):\n",
    "#     print('list data : ',listData[category])\n",
    "\n",
    "    webPage=subCategory[subCat]\n",
    "#     print('web : ',webPage)\n",
    "    category=webPage.replace('https://springs.com.pk/collections/','')\n",
    "#     print(category)\n",
    "    a=_scrpWeb(webPage)\n",
    "\n",
    "    # creating DataFrame\n",
    "    product_list=[]\n",
    "    for p in productNames:\n",
    "        product_list.append(p.text)\n",
    "    #     print(p.text)\n",
    "\n",
    "    product_price=[]\n",
    "    for pr in productPrice:\n",
    "        product_price.append(pr.text)\n",
    "    #     print(pr.text)\n",
    "\n",
    "    productsDict={'Product':product_list,'Product_Price':product_price}\n",
    "    df=pd.DataFrame.from_dict(productsDict)\n",
    "    df['Product_Price']=df['Product_Price'].apply(lambda x: x.replace('Rs.',''))\n",
    "    df['Product_Price']=df['Product_Price'].apply(lambda x: x.replace(',',''))\n",
    "#     df['Product_Price']=df['Product_Price'].astype(float)\n",
    "    df.insert(loc=0,column='Category',value=category)\n",
    "    df\n",
    "    checkFolder('webscrapping')\n",
    "    df.to_csv(f'c://WebScrapping1/{category}.csv',index=False)\n",
    "#     driver.close()\n"
   ]
  },
  {
   "cell_type": "code",
   "execution_count": null,
   "id": "6d9f4c71",
   "metadata": {
    "scrolled": true
   },
   "outputs": [],
   "source": [
    "#test extracting link and webscrapping in a Loop....\n",
    "\n",
    "for subCat in range(0,len(subCategory)):\n",
    "\n",
    "#     print(subCategory[subCat])\n",
    "#     print(subCat.get_attribute(\"href\"))\n",
    "    \n",
    "\n",
    "    webPage=subCategory[subCat]\n",
    "#     print('web : ',webPage)\n",
    "    category=webPage.replace('https://springs.com.pk/collections/','')\n",
    "#     print(category)\n",
    "    a=_scrpWeb(webPage)\n",
    "\n",
    "    # creating DataFrame\n",
    "    product_list=[]\n",
    "    for p in productNames:\n",
    "        product_list.append(p.text)\n",
    "    #     print(p.text)\n",
    "\n",
    "    product_price=[]\n",
    "    for pr in productPrice:\n",
    "        product_price.append(pr.text)\n",
    "    #     print(pr.text)\n",
    "\n",
    "    productsDict={'Product':product_list,'Product_Price':product_price}\n",
    "    df=pd.DataFrame.from_dict(productsDict)\n",
    "    df['Product_Price']=df['Product_Price'].apply(lambda x: x.replace('Rs.',''))\n",
    "    df['Product_Price']=df['Product_Price'].apply(lambda x: x.replace(',',''))\n",
    "    df['Product_Price']=df['Product_Price'].astype(float)\n",
    "    df.insert(loc=0,column='Category',value=category)\n",
    "    df\n",
    "    checkFolder('webscrapping')\n",
    "    df.to_csv(f'c://webscrapping/{category}.csv',index=False)\n",
    "#     driver.close()\n",
    "\n",
    "\n"
   ]
  },
  {
   "cell_type": "code",
   "execution_count": null,
   "id": "e771bd50",
   "metadata": {
    "scrolled": true
   },
   "outputs": [],
   "source": [
    "# for handle in driver.window_handles:\n",
    "#     driver.switch_to.window(handle)\n",
    "driver.close()"
   ]
  },
  {
   "cell_type": "code",
   "execution_count": null,
   "id": "6a075d80",
   "metadata": {
    "scrolled": true
   },
   "outputs": [],
   "source": [
    "s='https://springs.com.pk/collections/chips-snacks-popcorn'\n",
    "print(s.replace('https://springs.com.pk/collections/',''))"
   ]
  },
  {
   "cell_type": "code",
   "execution_count": null,
   "id": "392668a9",
   "metadata": {
    "scrolled": true
   },
   "outputs": [],
   "source": [
    "def checkAttribute(webSite):\n",
    "    driver = webdriver.Chrome(service=Service(ChromeDriverManager().install()))\n",
    "    #open website\n",
    "    driver.get(website_1)\n",
    "    driver.maximize_window()\n",
    "    chkAtr=None\n",
    "    try:    \n",
    "        pagination = driver.find_element(\n",
    "           by=By.XPATH, value=('//div[@class=\"paginate-bottom\"]'))\n",
    "        chkAtr='Found'\n",
    "\n",
    "    except NoSuchElementException:\n",
    "        chkAtr='Not Found'\n",
    "        driver.close()\n",
    "        driver.quit()\n",
    "    return chkAtr\n",
    "        "
   ]
  },
  {
   "cell_type": "code",
   "execution_count": null,
   "id": "b7f7edf7",
   "metadata": {
    "scrolled": true
   },
   "outputs": [],
   "source": [
    "x=checkAttribute('https://www.decathlon.com/collections/hike-camp-deals')"
   ]
  },
  {
   "cell_type": "code",
   "execution_count": null,
   "id": "d5fafab4",
   "metadata": {
    "scrolled": true
   },
   "outputs": [],
   "source": [
    "x"
   ]
  },
  {
   "cell_type": "code",
   "execution_count": null,
   "id": "31e24f9e",
   "metadata": {
    "scrolled": true
   },
   "outputs": [],
   "source": []
  }
 ],
 "metadata": {
  "kernelspec": {
   "display_name": "Python 3",
   "language": "python",
   "name": "python3"
  },
  "language_info": {
   "codemirror_mode": {
    "name": "ipython",
    "version": 3
   },
   "file_extension": ".py",
   "mimetype": "text/x-python",
   "name": "python",
   "nbconvert_exporter": "python",
   "pygments_lexer": "ipython3",
   "version": "3.9.6"
  }
 },
 "nbformat": 4,
 "nbformat_minor": 5
}
