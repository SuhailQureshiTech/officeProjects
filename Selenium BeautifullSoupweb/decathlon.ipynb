{
 "cells": [
  {
   "cell_type": "code",
   "execution_count": null,
   "id": "00b8c6ab",
   "metadata": {},
   "outputs": [],
   "source": [
    "#review package and module\n",
    "from selenium import webdriver\n",
    "from selenium.webdriver.common.keys import Keys\n",
    "from selenium.webdriver.common.by import By\n",
    "from selenium.webdriver.support.ui import WebDriverWait\n",
    "from selenium.webdriver.support import expected_conditions as EC\n",
    "from selenium.webdriver.chrome.options import Options\n",
    "from webdriver_manager.chrome import ChromeDriverManager\n",
    "# import chromedriver_autoinstaller\n",
    "from selenium.webdriver.chrome.service import Service\n",
    "from selenium.common.exceptions import NoSuchElementException,NoSuchFrameException,StaleElementReferenceException\n",
    "from selenium.common.exceptions import TimeoutException\n",
    "import pandas as pd\n",
    "import os\n",
    "import time"
   ]
  },
  {
   "cell_type": "code",
   "execution_count": null,
   "id": "6eaaeecf",
   "metadata": {},
   "outputs": [],
   "source": [
    "# main variables\n",
    "productNames=[]\n",
    "productPrice=[]\n",
    "subCategory=[]\n",
    "imageSrc=[]\n",
    "checkAttributeStatus=None\n",
    "driver=None"
   ]
  },
  {
   "cell_type": "code",
   "execution_count": null,
   "id": "19280d96",
   "metadata": {},
   "outputs": [],
   "source": [
    "def checkAttribute(webSite):\n",
    "    driver = webdriver.Chrome(service=Service(ChromeDriverManager().install()))\n",
    "    #open website\n",
    "    driver.get(webSite)\n",
    "    driver.maximize_window()\n",
    "    chkAtr=None\n",
    "    try:    \n",
    "        pagination = driver.find_element(\n",
    "           by=By.XPATH, value=('//div[@class=\"paginate-bottom\"]'))\n",
    "        chkAtr='Found'\n",
    "\n",
    "    except NoSuchElementException:\n",
    "        chkAtr='Not Found'\n",
    "        driver.close()\n",
    "        driver.quit()\n",
    "    return chkAtr"
   ]
  },
  {
   "cell_type": "code",
   "execution_count": null,
   "id": "31156c86",
   "metadata": {},
   "outputs": [],
   "source": [
    "# global checkAttributeStatus\n",
    "# checkAttributeStatus=checkAttribute('https://www.decathlon.com/collections/hike-camp-deals')\n",
    "# checkAttributeStatus"
   ]
  },
  {
   "cell_type": "code",
   "execution_count": null,
   "id": "66490755",
   "metadata": {},
   "outputs": [],
   "source": [
    "# driver = webdriver.Chrome(service=Service(ChromeDriverManager().install()))"
   ]
  },
  {
   "cell_type": "code",
   "execution_count": null,
   "id": "95c49dc9",
   "metadata": {},
   "outputs": [],
   "source": [
    "#relevant website\n",
    "# website_1='https://www.decathlon.com/collections/hike-camp-deals'"
   ]
  },
  {
   "cell_type": "code",
   "execution_count": null,
   "id": "06ad32d6",
   "metadata": {},
   "outputs": [],
   "source": [
    "# driver = webdriver.Chrome(service=Service(ChromeDriverManager().install()))\n",
    "# #open website\n",
    "# driver.get(website_1)\n",
    "# driver.maximize_window()"
   ]
  },
  {
   "cell_type": "code",
   "execution_count": null,
   "id": "9e94eda3",
   "metadata": {},
   "outputs": [],
   "source": [
    "class _scrpWebWaitNoPage:  \n",
    "    \n",
    "    global productNames, productPrice,imageSrc,driver\n",
    "\n",
    "    productsDict={}\n",
    "    productNames=[]\n",
    "    productPrice=[]\n",
    "    imageSrc=[]\n",
    "    subCategory=[]\n",
    "    driver=None\n",
    "\n",
    "    def __init__(self, website):\n",
    "        self.website = website\n",
    "        driver = webdriver.Chrome(service=Service(\n",
    "            ChromeDriverManager().install()))\n",
    "\n",
    "        # open website\n",
    "        driver.get(website)\n",
    "        productNames1 = []\n",
    "        productPrice1 = []\n",
    "        imageSrc1=[]\n",
    "\n",
    "        productNames1 =WebDriverWait(driver, 120).until(\n",
    "            EC.presence_of_all_elements_located((By.XPATH\n",
    "                    ,'//div[@class=\"grid__item large--seven-tenths right js-de-ProductTilesObserver\"]//h4[1]')))    \n",
    "\n",
    "        for pname in productNames1:\n",
    "            productNames.append(pname.text)\n",
    "\n",
    "        productPrice1=WebDriverWait(driver, 120).until(EC.presence_of_all_elements_located((By.XPATH\n",
    "                                ,'//span[@class=\"js-de-ProductTile-currentPrice\"][1]')))    \n",
    "\n",
    "        for price in productPrice1:\n",
    "            productPrice.append(price.text)\n",
    "\n",
    "        imageSrc1 =WebDriverWait(driver, 120).until(\n",
    "            EC.presence_of_all_elements_located((By.XPATH\n",
    "                    , '//div[@class=\"de-productTile-showcaseImageContainer\"]/img[1]')))  \n",
    "\n",
    "        for pImage in imageSrc1:\n",
    "            imageSrc.append(pImage.get_attribute(\"data-src\"))                \n",
    "                \n",
    "        time.sleep(60)\n",
    "\n",
    "        driver.close()\n",
    "        driver.quit()"
   ]
  },
  {
   "cell_type": "code",
   "execution_count": null,
   "id": "e302bca7",
   "metadata": {},
   "outputs": [],
   "source": [
    "class _scrpWebWait:  \n",
    "    \n",
    "    global productNames, productPrice,imageSrc,driver\n",
    "\n",
    "    productsDict={}\n",
    "    productNames=[]\n",
    "    productPrice=[]\n",
    "    imageSrc=[]\n",
    "    subCategory=[]\n",
    "    driver=None\n",
    "\n",
    "    def __init__(self, website):\n",
    "        self.website = website\n",
    "        driver = webdriver.Chrome(service=Service(\n",
    "            ChromeDriverManager().install()))\n",
    "\n",
    "        # open website\n",
    "        driver.get(website)\n",
    "        productNames1 = []\n",
    "        productPrice1 = []\n",
    "        imageSrc1=[]\n",
    "\n",
    "        currentPage = 0\n",
    "        pagination = driver.find_element(\n",
    "            by=By.XPATH, value=('//div[@class=\"paginate-bottom\"]'))\n",
    "        pages = pagination.find_elements(by=By.TAG_NAME, value='span')\n",
    "        lastPage = int(pages[-2].text)\n",
    "        \n",
    "        while currentPage<=lastPage:            \n",
    "            \n",
    "            productNames1 =WebDriverWait(driver, 120).until(\n",
    "                EC.presence_of_all_elements_located((By.XPATH\n",
    "                        ,'//div[@class=\"grid__item large--seven-tenths right js-de-ProductTilesObserver\"]//h4[1]')))    \n",
    "          \n",
    "            for pname in productNames1:\n",
    "                productNames.append(pname.text)\n",
    "\n",
    "            productPrice1=WebDriverWait(driver, 120).until(EC.presence_of_all_elements_located((By.XPATH\n",
    "                                    ,'//span[@class=\"js-de-ProductTile-currentPrice\"][1]')))    \n",
    "            \n",
    "            for price in productPrice1:\n",
    "                productPrice.append(price.text)\n",
    "                \n",
    "            imageSrc1 =WebDriverWait(driver, 120).until(\n",
    "                EC.presence_of_all_elements_located((By.XPATH\n",
    "                        , '//div[@class=\"de-productTile-showcaseImageContainer\"]/img[1]')))  \n",
    "          \n",
    "            for pImage in imageSrc1:\n",
    "                imageSrc.append(pImage.get_attribute(\"data-src\"))                \n",
    "                \n",
    "            time.sleep(60)\n",
    "            currentPage=currentPage+1\n",
    "            try:\n",
    "                productNames1 = []\n",
    "                productPrice1 = []\n",
    "                imageSrc1=[]\n",
    "                \n",
    "#                 WebDriverWait(browser, 5).until(EC.alert_is_present(), 'Timed out waiting for alerts to appear')\n",
    "#                 alert = browser.switch_to.alert\n",
    "#                 alert.accept()\n",
    "\n",
    "                nextPage=WebDriverWait(driver, 120).until(\n",
    "                    EC.presence_of_element_located((By.XPATH, '//span[@class=\"next\"]')))    \n",
    "                nextPage.click()\n",
    "                \n",
    "            except (TimeoutException,NoSuchElementException,StaleElementReferenceException):\n",
    "                pass\n",
    "            \n",
    "        driver.close()\n",
    "        driver.quit()"
   ]
  },
  {
   "cell_type": "code",
   "execution_count": 19,
   "id": "a1f78444",
   "metadata": {},
   "outputs": [
    {
     "name": "stdout",
     "output_type": "stream",
     "text": [
      "Not Found\n",
      "    Head        Category                                            Product  \\\n",
      "0   Kids  bike-kids-gear                          Btwin ST 100 RR 24\" CN FR   \n",
      "1   Kids  bike-kids-gear  Btwin Rockrider ST100 Mountain Bike 20\" Kids 3...   \n",
      "2   Kids  bike-kids-gear  Kids' Cycling Skating and Scootering Helmet Bo...   \n",
      "3   Kids  bike-kids-gear                    Btwin Bowl 500 City Bike Helmet   \n",
      "4   Kids  bike-kids-gear            Rockrider ST500 Kids' Mountain Bike 24\"   \n",
      "5   Kids  bike-kids-gear     Btwin 500 Original Bike 24\" Kids 4'5\" to 4'11\"   \n",
      "6   Kids  bike-kids-gear                      B100 US Biking/Skating Helmet   \n",
      "7   Kids  bike-kids-gear  Btwin Rockrider ST500 Mountain Bike 20\" Kids 3...   \n",
      "8   Kids  bike-kids-gear      Btwin 500 Hybrid Bike 16'' Kids' 3'7\" to 4'0\"   \n",
      "9   Kids  bike-kids-gear                     20' Orginal 500 Gir CN FR Pink   \n",
      "10  Kids  bike-kids-gear  Btwin Unicorn 500, Girls' Bike with Training W...   \n",
      "11  Kids  bike-kids-gear  Btwin 100 Frosty Blue Hybrid Bike 16\" Kids 3'7...   \n",
      "12  Kids  bike-kids-gear  Rockrider ST900 Mountain Bike 20\" Kids 3'11\" t...   \n",
      "13  Kids  bike-kids-gear                     Btwin 20 x 1.95 Kid's MTB Tire   \n",
      "14  Kids  bike-kids-gear                     Btwin 100 Cycling Shorts Kids'   \n",
      "15  Kids  bike-kids-gear  Btwin HYC500 Girls' Hybrid Bike 16\" Kids' 3'7\"...   \n",
      "16  Kids  bike-kids-gear            Btwin Kids' Plastic Bike Pannier Basket   \n",
      "17  Kids  bike-kids-gear                       Giro Scamp Bike Helmet Kids'   \n",
      "18  Kids  bike-kids-gear  Rockrider ST900 Mountain Bike 24\" Kids 4'5\" to...   \n",
      "19  Kids  bike-kids-gear                    Btwin 24 x 1.95 Kids' Bike Tire   \n",
      "20  Kids  bike-kids-gear              Btwin 500 Winter Cycling Gloves Kids'   \n",
      "21  Kids  bike-kids-gear                                             CBH100   \n",
      "22  Kids  bike-kids-gear                     Btwin 300 Cycling Gloves Kids'   \n",
      "23  Kids  bike-kids-gear              Btwin Fingerless Cycling Gloves Kids'   \n",
      "24  Kids  bike-kids-gear                      Btwin Kids' Bike Saddle Cover   \n",
      "25  Kids  bike-kids-gear                         Btwin Bike Dome Bell Kids'   \n",
      "26  Kids  bike-kids-gear                   Giro Hale Mips Bike Helmet Kids'   \n",
      "27  Kids  bike-kids-gear                 Btwin Visibility Safety Vest Kids'   \n",
      "28  Kids  bike-kids-gear           Rockrider 500 Mountain Bike Shorts Kids'   \n",
      "29  Kids  bike-kids-gear       Triban 100 Road Bike 26\" Kids' 4'5\" to 4\"11\"   \n",
      "30  Kids  bike-kids-gear     Giro Cormick Adult Mips Bike Helmet 21 - 24 in   \n",
      "31  Kids  bike-kids-gear                        Giro Isode Mips Bike Helmet   \n",
      "32  Kids  bike-kids-gear                        Giro Scamp Kids Bike Helmet   \n",
      "33  Kids  bike-kids-gear                    Elops 100 Extra Baby Seat Mount   \n",
      "34  Kids  bike-kids-gear                 Runride 100 10\" Kids' Balance Bike   \n",
      "35  Kids  bike-kids-gear               Giro Vasona Women's Mips Bike Helmet   \n",
      "\n",
      "      Product_Price                                      Product_Image  \n",
      "0           $140.00  //cdn.shopify.com/s/files/1/1330/6287/products...  \n",
      "1           $135.00  //cdn.shopify.com/s/files/1/1330/6287/products...  \n",
      "2            $19.99  //cdn.shopify.com/s/files/1/1330/6287/products...  \n",
      "3            $20.00  //cdn.shopify.com/s/files/1/1330/6287/products...  \n",
      "4           $175.00  //cdn.shopify.com/s/files/1/1330/6287/products...  \n",
      "5           $349.00  //cdn.shopify.com/s/files/1/1330/6287/products...  \n",
      "6            $29.99  //cdn.shopify.com/s/files/1/1330/6287/products...  \n",
      "7           $150.00  //cdn.shopify.com/s/files/1/1330/6287/products...  \n",
      "8           $249.00  //cdn.shopify.com/s/files/1/1330/6287/products...  \n",
      "9           $299.00  //cdn.shopify.com/s/files/1/1330/6287/products...  \n",
      "10          $199.00  //cdn.shopify.com/s/files/1/1330/6287/products...  \n",
      "11          $129.00  //cdn.shopify.com/s/files/1/1330/6287/products...  \n",
      "12          $199.00  //cdn.shopify.com/s/files/1/1330/6287/products...  \n",
      "13           $19.99  //cdn.shopify.com/s/files/1/1330/6287/products...  \n",
      "14            $5.00  //cdn.shopify.com/s/files/1/1330/6287/products...  \n",
      "15          $249.00  //cdn.shopify.com/s/files/1/1330/6287/products...  \n",
      "16            $5.00  //cdn.shopify.com/s/files/1/1330/6287/products...  \n",
      "17           $20.00  //cdn.shopify.com/s/files/1/1330/6287/products...  \n",
      "18          $249.00  //cdn.shopify.com/s/files/1/1330/6287/products...  \n",
      "19           $19.99  //cdn.shopify.com/s/files/1/1330/6287/products...  \n",
      "20           $10.00  //cdn.shopify.com/s/files/1/1330/6287/products...  \n",
      "21           $24.99  //cdn.shopify.com/s/files/1/1330/6287/products...  \n",
      "22            $3.00  //cdn.shopify.com/s/files/1/1330/6287/products...  \n",
      "23            $5.00  //cdn.shopify.com/s/files/1/1330/6287/products...  \n",
      "24            $7.00  //cdn.shopify.com/s/files/1/1330/6287/products...  \n",
      "25            $3.00  //cdn.shopify.com/s/files/1/1330/6287/products...  \n",
      "26  $30.00 — $60.00  //cdn.shopify.com/s/files/1/1330/6287/products...  \n",
      "27            $5.00  //cdn.shopify.com/s/files/1/1330/6287/products...  \n",
      "28           $10.00  //cdn.shopify.com/s/files/1/1330/6287/products...  \n",
      "29          $599.00  //cdn.shopify.com/s/files/1/1330/6287/products...  \n",
      "30           $35.00  //cdn.shopify.com/s/files/1/1330/6287/products...  \n",
      "31           $35.00  //cdn.shopify.com/s/files/1/1330/6287/products...  \n",
      "32           $20.00  //cdn.shopify.com/s/files/1/1330/6287/products...  \n",
      "33           $10.00  //cdn.shopify.com/s/files/1/1330/6287/products...  \n",
      "34           $49.99  //cdn.shopify.com/s/files/1/1330/6287/products...  \n",
      "35           $30.00  //cdn.shopify.com/s/files/1/1330/6287/products...  \n",
      "Not Found\n",
      "    Head           Category  \\\n",
      "0   Kids  fitness-kids-gear   \n",
      "1   Kids  fitness-kids-gear   \n",
      "2   Kids  fitness-kids-gear   \n",
      "3   Kids  fitness-kids-gear   \n",
      "4   Kids  fitness-kids-gear   \n",
      "..   ...                ...   \n",
      "66  Kids  fitness-kids-gear   \n",
      "67  Kids  fitness-kids-gear   \n",
      "68  Kids  fitness-kids-gear   \n",
      "69  Kids  fitness-kids-gear   \n",
      "70  Kids  fitness-kids-gear   \n",
      "\n",
      "                                              Product Product_Price  \\\n",
      "0                           Btwin ST 100 RR 24\" CN FR       $140.00   \n",
      "1   Btwin Rockrider ST100 Mountain Bike 20\" Kids 3...       $135.00   \n",
      "2   Kids' Cycling Skating and Scootering Helmet Bo...        $19.99   \n",
      "3                     Btwin Bowl 500 City Bike Helmet        $20.00   \n",
      "4             Rockrider ST500 Kids' Mountain Bike 24\"       $175.00   \n",
      "..                                                ...           ...   \n",
      "66  Domyos S580 Breathable Seamless Gym Sports Bra...        $10.00   \n",
      "67                           Hexagonal Trampoline 240       $299.00   \n",
      "68    Domtos 240 Cover for Hexagonal Trampoline Kids'        $24.99   \n",
      "69                      Domyos Space Hopper Hand Pump         $3.00   \n",
      "70        Domyos 300 Octagonal Trampoline Cover Kids'        $30.00   \n",
      "\n",
      "                                        Product_Image  \n",
      "0   //cdn.shopify.com/s/files/1/1330/6287/products...  \n",
      "1   //cdn.shopify.com/s/files/1/1330/6287/products...  \n",
      "2   //cdn.shopify.com/s/files/1/1330/6287/products...  \n",
      "3   //cdn.shopify.com/s/files/1/1330/6287/products...  \n",
      "4   //cdn.shopify.com/s/files/1/1330/6287/products...  \n",
      "..                                                ...  \n",
      "66  //cdn.shopify.com/s/files/1/1330/6287/products...  \n",
      "67  //cdn.shopify.com/s/files/1/1330/6287/products...  \n",
      "68  //cdn.shopify.com/s/files/1/1330/6287/products...  \n",
      "69  //cdn.shopify.com/s/files/1/1330/6287/products...  \n",
      "70  //cdn.shopify.com/s/files/1/1330/6287/products...  \n",
      "\n",
      "[71 rows x 5 columns]\n",
      "Not Found\n",
      "    Head        Category                                            Product  \\\n",
      "0   Kids  golf-kids-gear                          Btwin ST 100 RR 24\" CN FR   \n",
      "1   Kids  golf-kids-gear  Btwin Rockrider ST100 Mountain Bike 20\" Kids 3...   \n",
      "2   Kids  golf-kids-gear  Kids' Cycling Skating and Scootering Helmet Bo...   \n",
      "3   Kids  golf-kids-gear                    Btwin Bowl 500 City Bike Helmet   \n",
      "4   Kids  golf-kids-gear            Rockrider ST500 Kids' Mountain Bike 24\"   \n",
      "..   ...             ...                                                ...   \n",
      "76  Kids  golf-kids-gear                Inesis Windproof Golf Sweater Kids'   \n",
      "77  Kids  golf-kids-gear    KIDS' GOLF SET 8-10 YEARS RIGHT HANDED - INESIS   \n",
      "78  Kids  golf-kids-gear   KIDS' GOLF SET 11-13 YEARS RIGHT HANDED - INESIS   \n",
      "79  Kids  golf-kids-gear                   Inesis Right-Handed Hybrid Kids'   \n",
      "80  Kids  golf-kids-gear  GIRL'S GOLF SHOES WATERPROOF GRIP - WHITE AND ...   \n",
      "\n",
      "   Product_Price                                      Product_Image  \n",
      "0        $140.00  //cdn.shopify.com/s/files/1/1330/6287/products...  \n",
      "1        $135.00  //cdn.shopify.com/s/files/1/1330/6287/products...  \n",
      "2         $19.99  //cdn.shopify.com/s/files/1/1330/6287/products...  \n",
      "3         $20.00  //cdn.shopify.com/s/files/1/1330/6287/products...  \n",
      "4        $175.00  //cdn.shopify.com/s/files/1/1330/6287/products...  \n",
      "..           ...                                                ...  \n",
      "76        $30.00  //cdn.shopify.com/s/files/1/1330/6287/products...  \n",
      "77       $179.00  //cdn.shopify.com/s/files/1/1330/6287/products...  \n",
      "78       $209.00  //cdn.shopify.com/s/files/1/1330/6287/products...  \n",
      "79        $20.00  //cdn.shopify.com/s/files/1/1330/6287/products...  \n",
      "80        $59.99  //cdn.shopify.com/s/files/1/1330/6287/products...  \n",
      "\n",
      "[81 rows x 5 columns]\n"
     ]
    },
    {
     "name": "stdout",
     "output_type": "stream",
     "text": [
      "Not Found\n",
      "    Head                Category  \\\n",
      "0   Kids  gymnastics-accessories   \n",
      "1   Kids  gymnastics-accessories   \n",
      "2   Kids  gymnastics-accessories   \n",
      "3   Kids  gymnastics-accessories   \n",
      "4   Kids  gymnastics-accessories   \n",
      "..   ...                     ...   \n",
      "78  Kids  gymnastics-accessories   \n",
      "79  Kids  gymnastics-accessories   \n",
      "80  Kids  gymnastics-accessories   \n",
      "81  Kids  gymnastics-accessories   \n",
      "82  Kids  gymnastics-accessories   \n",
      "\n",
      "                                              Product Product_Price  \\\n",
      "0                           Btwin ST 100 RR 24\" CN FR       $140.00   \n",
      "1   Btwin Rockrider ST100 Mountain Bike 20\" Kids 3...       $135.00   \n",
      "2   Kids' Cycling Skating and Scootering Helmet Bo...        $19.99   \n",
      "3                     Btwin Bowl 500 City Bike Helmet        $20.00   \n",
      "4             Rockrider ST500 Kids' Mountain Bike 24\"       $175.00   \n",
      "..                                                ...           ...   \n",
      "78   KIDS' GOLF SET 11-13 YEARS RIGHT HANDED - INESIS       $209.00   \n",
      "79                   Inesis Right-Handed Hybrid Kids'        $20.00   \n",
      "80  GIRL'S GOLF SHOES WATERPROOF GRIP - WHITE AND ...        $59.99   \n",
      "81        Nyamba Rubber Pilates Resistance Band 6 lbs         $5.00   \n",
      "82     Nyamba 500 Low Resistance Pilates Elastic Band        $10.00   \n",
      "\n",
      "                                        Product_Image  \n",
      "0   //cdn.shopify.com/s/files/1/1330/6287/products...  \n",
      "1   //cdn.shopify.com/s/files/1/1330/6287/products...  \n",
      "2   //cdn.shopify.com/s/files/1/1330/6287/products...  \n",
      "3   //cdn.shopify.com/s/files/1/1330/6287/products...  \n",
      "4   //cdn.shopify.com/s/files/1/1330/6287/products...  \n",
      "..                                                ...  \n",
      "78  //cdn.shopify.com/s/files/1/1330/6287/products...  \n",
      "79  //cdn.shopify.com/s/files/1/1330/6287/products...  \n",
      "80  //cdn.shopify.com/s/files/1/1330/6287/products...  \n",
      "81  //cdn.shopify.com/s/files/1/1330/6287/products...  \n",
      "82  //cdn.shopify.com/s/files/1/1330/6287/products...  \n",
      "\n",
      "[83 rows x 5 columns]\n",
      "Found\n"
     ]
    },
    {
     "ename": "StaleElementReferenceException",
     "evalue": "Message: stale element reference: stale element not found\n  (Session info: chrome=114.0.5735.110)\nStacktrace:\nBacktrace:\n\tGetHandleVerifier [0x007FA813+48355]\n\t(No symbol) [0x0078C4B1]\n\t(No symbol) [0x00695358]\n\t(No symbol) [0x0069E5A3]\n\t(No symbol) [0x00698A78]\n\t(No symbol) [0x00698A56]\n\t(No symbol) [0x00697C03]\n\t(No symbol) [0x0069A19B]\n\t(No symbol) [0x006ED279]\n\t(No symbol) [0x006DA73C]\n\t(No symbol) [0x006EC922]\n\t(No symbol) [0x006DA536]\n\t(No symbol) [0x006B82DC]\n\t(No symbol) [0x006B93DD]\n\tGetHandleVerifier [0x00A5AABD+2539405]\n\tGetHandleVerifier [0x00A9A78F+2800735]\n\tGetHandleVerifier [0x00A9456C+2775612]\n\tGetHandleVerifier [0x008851E0+616112]\n\t(No symbol) [0x00795F8C]\n\t(No symbol) [0x00792328]\n\t(No symbol) [0x0079240B]\n\t(No symbol) [0x00784FF7]\n\tBaseThreadInitThunk [0x765F00C9+25]\n\tRtlGetAppContainerNamedObjectPath [0x77207B4E+286]\n\tRtlGetAppContainerNamedObjectPath [0x77207B1E+238]\n",
     "output_type": "error",
     "traceback": [
      "\u001b[1;31m---------------------------------------------------------------------------\u001b[0m",
      "\u001b[1;31mStaleElementReferenceException\u001b[0m            Traceback (most recent call last)",
      "\u001b[1;32m<ipython-input-19-84cd130e66da>\u001b[0m in \u001b[0;36m<module>\u001b[1;34m\u001b[0m\n\u001b[0;32m     31\u001b[0m         \u001b[0mwebPage\u001b[0m\u001b[1;33m=\u001b[0m\u001b[0msubCategory\u001b[0m\u001b[1;33m[\u001b[0m\u001b[0msubCat\u001b[0m\u001b[1;33m]\u001b[0m\u001b[1;33m\u001b[0m\u001b[1;33m\u001b[0m\u001b[0m\n\u001b[0;32m     32\u001b[0m         \u001b[0mcategory\u001b[0m\u001b[1;33m=\u001b[0m\u001b[0mwebPage\u001b[0m\u001b[1;33m.\u001b[0m\u001b[0mreplace\u001b[0m\u001b[1;33m(\u001b[0m\u001b[1;34m'https://www.decathlon.com/collections/'\u001b[0m\u001b[1;33m,\u001b[0m\u001b[1;34m''\u001b[0m\u001b[1;33m)\u001b[0m\u001b[1;33m\u001b[0m\u001b[1;33m\u001b[0m\u001b[0m\n\u001b[1;32m---> 33\u001b[1;33m         \u001b[0ma\u001b[0m\u001b[1;33m=\u001b[0m\u001b[0m_scrpWebWait\u001b[0m\u001b[1;33m(\u001b[0m\u001b[0mwebPage\u001b[0m\u001b[1;33m)\u001b[0m\u001b[1;33m\u001b[0m\u001b[1;33m\u001b[0m\u001b[0m\n\u001b[0m\u001b[0;32m     34\u001b[0m \u001b[1;31m#         print('mil gaya...')\u001b[0m\u001b[1;33m\u001b[0m\u001b[1;33m\u001b[0m\u001b[1;33m\u001b[0m\u001b[0m\n\u001b[0;32m     35\u001b[0m     \u001b[1;32melse\u001b[0m\u001b[1;33m:\u001b[0m\u001b[1;33m\u001b[0m\u001b[1;33m\u001b[0m\u001b[0m\n",
      "\u001b[1;32m<ipython-input-9-c2c391856ec7>\u001b[0m in \u001b[0;36m__init__\u001b[1;34m(self, website)\u001b[0m\n\u001b[0;32m     47\u001b[0m \u001b[1;33m\u001b[0m\u001b[0m\n\u001b[0;32m     48\u001b[0m             \u001b[1;32mfor\u001b[0m \u001b[0mpImage\u001b[0m \u001b[1;32min\u001b[0m \u001b[0mimageSrc1\u001b[0m\u001b[1;33m:\u001b[0m\u001b[1;33m\u001b[0m\u001b[1;33m\u001b[0m\u001b[0m\n\u001b[1;32m---> 49\u001b[1;33m                 \u001b[0mimageSrc\u001b[0m\u001b[1;33m.\u001b[0m\u001b[0mappend\u001b[0m\u001b[1;33m(\u001b[0m\u001b[0mpImage\u001b[0m\u001b[1;33m.\u001b[0m\u001b[0mget_attribute\u001b[0m\u001b[1;33m(\u001b[0m\u001b[1;34m\"data-src\"\u001b[0m\u001b[1;33m)\u001b[0m\u001b[1;33m)\u001b[0m\u001b[1;33m\u001b[0m\u001b[1;33m\u001b[0m\u001b[0m\n\u001b[0m\u001b[0;32m     50\u001b[0m \u001b[1;33m\u001b[0m\u001b[0m\n\u001b[0;32m     51\u001b[0m             \u001b[0mtime\u001b[0m\u001b[1;33m.\u001b[0m\u001b[0msleep\u001b[0m\u001b[1;33m(\u001b[0m\u001b[1;36m60\u001b[0m\u001b[1;33m)\u001b[0m\u001b[1;33m\u001b[0m\u001b[1;33m\u001b[0m\u001b[0m\n",
      "\u001b[1;32m~\\AppData\\Local\\Programs\\Python\\Python39\\lib\\site-packages\\selenium\\webdriver\\remote\\webelement.py\u001b[0m in \u001b[0;36mget_attribute\u001b[1;34m(self, name)\u001b[0m\n\u001b[0;32m    171\u001b[0m         \u001b[1;32mif\u001b[0m \u001b[0mgetAttribute_js\u001b[0m \u001b[1;32mis\u001b[0m \u001b[1;32mNone\u001b[0m\u001b[1;33m:\u001b[0m\u001b[1;33m\u001b[0m\u001b[1;33m\u001b[0m\u001b[0m\n\u001b[0;32m    172\u001b[0m             \u001b[0m_load_js\u001b[0m\u001b[1;33m(\u001b[0m\u001b[1;33m)\u001b[0m\u001b[1;33m\u001b[0m\u001b[1;33m\u001b[0m\u001b[0m\n\u001b[1;32m--> 173\u001b[1;33m         attribute_value = self.parent.execute_script(\n\u001b[0m\u001b[0;32m    174\u001b[0m             \u001b[1;34m\"return (%s).apply(null, arguments);\"\u001b[0m \u001b[1;33m%\u001b[0m \u001b[0mgetAttribute_js\u001b[0m\u001b[1;33m,\u001b[0m\u001b[1;33m\u001b[0m\u001b[1;33m\u001b[0m\u001b[0m\n\u001b[0;32m    175\u001b[0m             self, name)\n",
      "\u001b[1;32m~\\AppData\\Local\\Programs\\Python\\Python39\\lib\\site-packages\\selenium\\webdriver\\remote\\webdriver.py\u001b[0m in \u001b[0;36mexecute_script\u001b[1;34m(self, script, *args)\u001b[0m\n\u001b[0;32m    882\u001b[0m         \u001b[0mcommand\u001b[0m \u001b[1;33m=\u001b[0m \u001b[0mCommand\u001b[0m\u001b[1;33m.\u001b[0m\u001b[0mW3C_EXECUTE_SCRIPT\u001b[0m\u001b[1;33m\u001b[0m\u001b[1;33m\u001b[0m\u001b[0m\n\u001b[0;32m    883\u001b[0m \u001b[1;33m\u001b[0m\u001b[0m\n\u001b[1;32m--> 884\u001b[1;33m         return self.execute(command, {\n\u001b[0m\u001b[0;32m    885\u001b[0m             \u001b[1;34m'script'\u001b[0m\u001b[1;33m:\u001b[0m \u001b[0mscript\u001b[0m\u001b[1;33m,\u001b[0m\u001b[1;33m\u001b[0m\u001b[1;33m\u001b[0m\u001b[0m\n\u001b[0;32m    886\u001b[0m             'args': converted_args})['value']\n",
      "\u001b[1;32m~\\AppData\\Local\\Programs\\Python\\Python39\\lib\\site-packages\\selenium\\webdriver\\remote\\webdriver.py\u001b[0m in \u001b[0;36mexecute\u001b[1;34m(self, driver_command, params)\u001b[0m\n\u001b[0;32m    428\u001b[0m         \u001b[0mresponse\u001b[0m \u001b[1;33m=\u001b[0m \u001b[0mself\u001b[0m\u001b[1;33m.\u001b[0m\u001b[0mcommand_executor\u001b[0m\u001b[1;33m.\u001b[0m\u001b[0mexecute\u001b[0m\u001b[1;33m(\u001b[0m\u001b[0mdriver_command\u001b[0m\u001b[1;33m,\u001b[0m \u001b[0mparams\u001b[0m\u001b[1;33m)\u001b[0m\u001b[1;33m\u001b[0m\u001b[1;33m\u001b[0m\u001b[0m\n\u001b[0;32m    429\u001b[0m         \u001b[1;32mif\u001b[0m \u001b[0mresponse\u001b[0m\u001b[1;33m:\u001b[0m\u001b[1;33m\u001b[0m\u001b[1;33m\u001b[0m\u001b[0m\n\u001b[1;32m--> 430\u001b[1;33m             \u001b[0mself\u001b[0m\u001b[1;33m.\u001b[0m\u001b[0merror_handler\u001b[0m\u001b[1;33m.\u001b[0m\u001b[0mcheck_response\u001b[0m\u001b[1;33m(\u001b[0m\u001b[0mresponse\u001b[0m\u001b[1;33m)\u001b[0m\u001b[1;33m\u001b[0m\u001b[1;33m\u001b[0m\u001b[0m\n\u001b[0m\u001b[0;32m    431\u001b[0m             response['value'] = self._unwrap_value(\n\u001b[0;32m    432\u001b[0m                 response.get('value', None))\n",
      "\u001b[1;32m~\\AppData\\Local\\Programs\\Python\\Python39\\lib\\site-packages\\selenium\\webdriver\\remote\\errorhandler.py\u001b[0m in \u001b[0;36mcheck_response\u001b[1;34m(self, response)\u001b[0m\n\u001b[0;32m    245\u001b[0m                 \u001b[0malert_text\u001b[0m \u001b[1;33m=\u001b[0m \u001b[0mvalue\u001b[0m\u001b[1;33m[\u001b[0m\u001b[1;34m'alert'\u001b[0m\u001b[1;33m]\u001b[0m\u001b[1;33m.\u001b[0m\u001b[0mget\u001b[0m\u001b[1;33m(\u001b[0m\u001b[1;34m'text'\u001b[0m\u001b[1;33m)\u001b[0m\u001b[1;33m\u001b[0m\u001b[1;33m\u001b[0m\u001b[0m\n\u001b[0;32m    246\u001b[0m             \u001b[1;32mraise\u001b[0m \u001b[0mexception_class\u001b[0m\u001b[1;33m(\u001b[0m\u001b[0mmessage\u001b[0m\u001b[1;33m,\u001b[0m \u001b[0mscreen\u001b[0m\u001b[1;33m,\u001b[0m \u001b[0mstacktrace\u001b[0m\u001b[1;33m,\u001b[0m \u001b[0malert_text\u001b[0m\u001b[1;33m)\u001b[0m  \u001b[1;31m# type: ignore[call-arg]  # mypy is not smart enough here\u001b[0m\u001b[1;33m\u001b[0m\u001b[1;33m\u001b[0m\u001b[0m\n\u001b[1;32m--> 247\u001b[1;33m         \u001b[1;32mraise\u001b[0m \u001b[0mexception_class\u001b[0m\u001b[1;33m(\u001b[0m\u001b[0mmessage\u001b[0m\u001b[1;33m,\u001b[0m \u001b[0mscreen\u001b[0m\u001b[1;33m,\u001b[0m \u001b[0mstacktrace\u001b[0m\u001b[1;33m)\u001b[0m\u001b[1;33m\u001b[0m\u001b[1;33m\u001b[0m\u001b[0m\n\u001b[0m\u001b[0;32m    248\u001b[0m \u001b[1;33m\u001b[0m\u001b[0m\n\u001b[0;32m    249\u001b[0m     \u001b[1;32mdef\u001b[0m \u001b[0m_value_or_default\u001b[0m\u001b[1;33m(\u001b[0m\u001b[0mself\u001b[0m\u001b[1;33m,\u001b[0m \u001b[0mobj\u001b[0m\u001b[1;33m:\u001b[0m \u001b[0mMapping\u001b[0m\u001b[1;33m[\u001b[0m\u001b[0m_KT\u001b[0m\u001b[1;33m,\u001b[0m \u001b[0m_VT\u001b[0m\u001b[1;33m]\u001b[0m\u001b[1;33m,\u001b[0m \u001b[0mkey\u001b[0m\u001b[1;33m:\u001b[0m \u001b[0m_KT\u001b[0m\u001b[1;33m,\u001b[0m \u001b[0mdefault\u001b[0m\u001b[1;33m:\u001b[0m \u001b[0m_VT\u001b[0m\u001b[1;33m)\u001b[0m \u001b[1;33m->\u001b[0m \u001b[0m_VT\u001b[0m\u001b[1;33m:\u001b[0m\u001b[1;33m\u001b[0m\u001b[1;33m\u001b[0m\u001b[0m\n",
      "\u001b[1;31mStaleElementReferenceException\u001b[0m: Message: stale element reference: stale element not found\n  (Session info: chrome=114.0.5735.110)\nStacktrace:\nBacktrace:\n\tGetHandleVerifier [0x007FA813+48355]\n\t(No symbol) [0x0078C4B1]\n\t(No symbol) [0x00695358]\n\t(No symbol) [0x0069E5A3]\n\t(No symbol) [0x00698A78]\n\t(No symbol) [0x00698A56]\n\t(No symbol) [0x00697C03]\n\t(No symbol) [0x0069A19B]\n\t(No symbol) [0x006ED279]\n\t(No symbol) [0x006DA73C]\n\t(No symbol) [0x006EC922]\n\t(No symbol) [0x006DA536]\n\t(No symbol) [0x006B82DC]\n\t(No symbol) [0x006B93DD]\n\tGetHandleVerifier [0x00A5AABD+2539405]\n\tGetHandleVerifier [0x00A9A78F+2800735]\n\tGetHandleVerifier [0x00A9456C+2775612]\n\tGetHandleVerifier [0x008851E0+616112]\n\t(No symbol) [0x00795F8C]\n\t(No symbol) [0x00792328]\n\t(No symbol) [0x0079240B]\n\t(No symbol) [0x00784FF7]\n\tBaseThreadInitThunk [0x765F00C9+25]\n\tRtlGetAppContainerNamedObjectPath [0x77207B4E+286]\n\tRtlGetAppContainerNamedObjectPath [0x77207B1E+238]\n"
     ]
    }
   ],
   "source": [
    "\n",
    "# global productNames,productPrice,driver,imageSrc\n",
    "\n",
    "productsDict={}\n",
    "productNames=[]\n",
    "productPrice=[]\n",
    "imageSrc=[]\n",
    "subCategory=[]\n",
    "driver=None\n",
    "\n",
    "subCategory=[\n",
    "'https://www.decathlon.com/collections/bike-kids-gear'\n",
    ",'https://www.decathlon.com/collections/fitness-kids-gear'\n",
    ",'https://www.decathlon.com/collections/golf-kids-gear'\n",
    ",'https://www.decathlon.com/collections/gymnastics-accessories'\n",
    ",'https://www.decathlon.com/collections/hike-kids-gear'\n",
    ",'https://www.decathlon.com/collections/rackets-kids-gear'\n",
    ",'https://www.decathlon.com/collections/run-kids-gear'\n",
    ",'https://www.decathlon.com/collections/skates-kids-gear'\n",
    ",'https://www.decathlon.com/collections/swimming-kids-gear'\n",
    ",'https://www.decathlon.com/collections/team-kids-gear'\n",
    ",'https://www.decathlon.com/collections/kids-toys-games'\n",
    ",'https://www.decathlon.com/collections/winter-kids-gear'\n",
    "]\n",
    "\n",
    "for subCat in range(0,len(subCategory)):\n",
    "    global checkAttributeStatus\n",
    "    checkAttributeStatus=checkAttribute(subCategory[subCat])\n",
    "    print(checkAttributeStatus)\n",
    "    \n",
    "    if checkAttributeStatus=='Found':\n",
    "        webPage=subCategory[subCat]\n",
    "        category=webPage.replace('https://www.decathlon.com/collections/','')\n",
    "        a=_scrpWebWait(webPage)\n",
    "#         print('mil gaya...')\n",
    "    else:\n",
    "        webPage=subCategory[subCat]\n",
    "        category=webPage.replace('https://www.decathlon.com/collections/','')\n",
    "        a=_scrpWebWaitNoPage(webPage)\n",
    "    \n",
    "    # creating DataFrame\n",
    "    product_list=[]\n",
    "    for p in productNames:\n",
    "        product_list.append(p)\n",
    "\n",
    "    product_price=[]\n",
    "    for pr in productPrice:\n",
    "        product_price.append(pr)\n",
    "\n",
    "    product_image=[]\n",
    "    for pim in imageSrc:\n",
    "        product_image.append(pim)        \n",
    "\n",
    "    productsDict={'Product':product_list,'Product_Price':product_price,'Product_Image':product_image}\n",
    "    df=pd.DataFrame.from_dict(productsDict)\n",
    "    df.insert(loc=0,column='Category',value=category)\n",
    "    df.insert(loc=0,column='Head',value='Kids')\n",
    "    \n",
    "    print(df)\n",
    "    df.to_csv(f'c://WebScrapping1/decathlon/{category}.csv',index=False)\n"
   ]
  },
  {
   "cell_type": "code",
   "execution_count": null,
   "id": "d1a873e8",
   "metadata": {},
   "outputs": [],
   "source": [
    "checkAttributeStatus=checkAttribute('https://www.decathlon.com/collections/hike-camp-deals')\n",
    "checkAttributeStatus"
   ]
  },
  {
   "cell_type": "code",
   "execution_count": null,
   "id": "95589d16",
   "metadata": {},
   "outputs": [],
   "source": [
    "driver.close()"
   ]
  },
  {
   "cell_type": "code",
   "execution_count": null,
   "id": "94ca366a",
   "metadata": {},
   "outputs": [],
   "source": [
    "subCategoryData=driver.find_elements(by=By.XPATH,value=('//ul[@class=\"de-u-listReset\"]//a[@href]'))\n"
   ]
  },
  {
   "cell_type": "code",
   "execution_count": null,
   "id": "feb691b2",
   "metadata": {},
   "outputs": [],
   "source": [
    "len(subCategoryData)"
   ]
  },
  {
   "cell_type": "code",
   "execution_count": null,
   "id": "7b40cd4a",
   "metadata": {},
   "outputs": [],
   "source": [
    "global subCategory\n",
    "for subCat in subCategoryData:\n",
    "#     print(subCat.get_attribute(\"href\"))\n",
    "    subCategory.append(subCat.get_attribute(\"href\"))"
   ]
  },
  {
   "cell_type": "code",
   "execution_count": null,
   "id": "4665ed07",
   "metadata": {},
   "outputs": [],
   "source": [
    "for s in range(0, len(subCategory)):\n",
    "    print(\"'\"+subCategory[s]+\"',\")"
   ]
  },
  {
   "cell_type": "code",
   "execution_count": null,
   "id": "3724793c",
   "metadata": {},
   "outputs": [],
   "source": [
    "productsDict.clear()\n",
    "productNames=[]\n",
    "productPrice=[]\n",
    "subCategory=[]"
   ]
  },
  {
   "cell_type": "code",
   "execution_count": null,
   "id": "ee26912c",
   "metadata": {},
   "outputs": [],
   "source": [
    "productsDict"
   ]
  },
  {
   "cell_type": "code",
   "execution_count": null,
   "id": "a44a5726",
   "metadata": {},
   "outputs": [],
   "source": [
    "# global driver\n",
    "# driver.close()\n"
   ]
  },
  {
   "cell_type": "markdown",
   "id": "9b335f47",
   "metadata": {},
   "source": [
    "# End"
   ]
  },
  {
   "cell_type": "markdown",
   "id": "b07d0110",
   "metadata": {},
   "source": [
    "# # pagination next page"
   ]
  },
  {
   "cell_type": "code",
   "execution_count": null,
   "id": "864b798a",
   "metadata": {},
   "outputs": [],
   "source": [
    "imageSrc1=[]\n",
    "imageSrc1=driver.find_elements(by=By.XPATH,value='//div[@class=\"de-productTile-showcaseImageContainer\"]//img[1]')\n"
   ]
  },
  {
   "cell_type": "code",
   "execution_count": null,
   "id": "6747a3e0",
   "metadata": {},
   "outputs": [],
   "source": [
    "for pImage in imageSrc1:\n",
    "    print(pImage.get_attribute(\"data-src\"))"
   ]
  },
  {
   "cell_type": "code",
   "execution_count": null,
   "id": "22f36872",
   "metadata": {},
   "outputs": [],
   "source": [
    "# global productNames,productPrice,i\n",
    "a=_scrpWebWait('https://www.decathlon.com/collections/bikes-cycling-deals')\n",
    "# imageSrc"
   ]
  },
  {
   "cell_type": "code",
   "execution_count": null,
   "id": "d407ac67",
   "metadata": {},
   "outputs": [],
   "source": [
    "len(imageSrc)"
   ]
  },
  {
   "cell_type": "code",
   "execution_count": null,
   "id": "c8fe5f6d",
   "metadata": {},
   "outputs": [],
   "source": [
    "print(imageSrc)"
   ]
  },
  {
   "cell_type": "code",
   "execution_count": null,
   "id": "2da24237",
   "metadata": {},
   "outputs": [],
   "source": [
    "productPrice1=driver.find_elements(by=By.XPATH, value=('//span[@class=\"js-de-ProductTile-currentPrice\"][1]'))           \n",
    "            "
   ]
  },
  {
   "cell_type": "code",
   "execution_count": null,
   "id": "a519dbed",
   "metadata": {},
   "outputs": [],
   "source": []
  },
  {
   "cell_type": "code",
   "execution_count": null,
   "id": "1fd51039",
   "metadata": {},
   "outputs": [],
   "source": [
    "for price in productPrice1:\n",
    "    print(price.get_attribute(\"innerText\"))"
   ]
  },
  {
   "cell_type": "code",
   "execution_count": null,
   "id": "25bca175",
   "metadata": {},
   "outputs": [],
   "source": [
    "global productNames,productPrice\n",
    "a=_scrpWeb('https://www.decathlon.com/collections/bikes-cycling-deals')\n"
   ]
  },
  {
   "cell_type": "code",
   "execution_count": null,
   "id": "dac71a74",
   "metadata": {},
   "outputs": [],
   "source": [
    "product_list=[]\n",
    "for p in productNames:\n",
    "    print(p)"
   ]
  },
  {
   "cell_type": "code",
   "execution_count": null,
   "id": "a45041b3",
   "metadata": {},
   "outputs": [],
   "source": [
    "currentPage=0\n",
    "\n",
    "pagination=driver.find_element(by=By.XPATH,value=('//div[@class=\"paginate-bottom\"]'))\n",
    "pages=pagination.find_elements(by=By.TAG_NAME,value='span')\n",
    "lastPage=int(pages[-2].text)\n",
    "\n",
    "while currentPage<=lastPage:\n",
    "    currentPage=currentPage+1\n",
    "    try:\n",
    "        nextPage=driver.find_element(by=By.XPATH,value=('//span[@class=\"next\"]'))\n",
    "        nextPage.click()\n",
    "    except:\n",
    "        pass\n",
    "\n",
    "\n"
   ]
  },
  {
   "cell_type": "code",
   "execution_count": null,
   "id": "7347cbe4",
   "metadata": {},
   "outputs": [],
   "source": [
    "driver.close()"
   ]
  },
  {
   "cell_type": "code",
   "execution_count": null,
   "id": "1ff46a93",
   "metadata": {},
   "outputs": [],
   "source": [
    "global productNames,productNames  \n",
    "while True:\n",
    "#     productNames=[]\n",
    "#     productNames=[]\n",
    "    btn=None\n",
    "    try:        \n",
    "#                 btn=None\n",
    "        btn=driver.find_element(by=By.LINK_TEXT,value=('SHOW MORE'))\n",
    "        btn.click()                \n",
    "    except NoSuchElementException:\n",
    "        break;\n",
    "    finally:\n",
    "#                 productNames=driver.find_elements(by=By.XPATH, value=('//div[@class=\"card-information__wrapper text-left\"]//span[@class=\"text\"][1]'))\n",
    "        productPrice=driver.find_elements(by=By.XPATH, value=('//dd[@class=\"price__last\"]//span[@class=\"price-item price-item--regular\"][1]'))\n",
    "        time.sleep(10)"
   ]
  },
  {
   "cell_type": "code",
   "execution_count": null,
   "id": "9d8d78eb",
   "metadata": {},
   "outputs": [],
   "source": [
    "print(len(productPrice))"
   ]
  },
  {
   "cell_type": "code",
   "execution_count": null,
   "id": "13af2ded",
   "metadata": {},
   "outputs": [],
   "source": [
    "# driver.refresh()\n",
    "# price=driver.find_elements(by=By.XPATH, value=('//dd[@class=\"price__last\"]//span[@class=\"price-item price-item--regular\"][1]'))\n",
    "for p in productPrice:\n",
    "    print(p.text)"
   ]
  },
  {
   "cell_type": "code",
   "execution_count": null,
   "id": "f68ba06d",
   "metadata": {},
   "outputs": [],
   "source": [
    "#relevant website\n",
    "website_1='https://springs.com.pk/collections/chocolates'"
   ]
  },
  {
   "cell_type": "code",
   "execution_count": null,
   "id": "f36a706b",
   "metadata": {},
   "outputs": [],
   "source": [
    "print()"
   ]
  },
  {
   "cell_type": "code",
   "execution_count": null,
   "id": "1dc123c7",
   "metadata": {},
   "outputs": [],
   "source": [
    "productNames=driver.find_elements(by=By.XPATH, value=('//div[@class=\"card-information__wrapper text-left\"]//span[@class=\"text\"][1]'))"
   ]
  },
  {
   "cell_type": "code",
   "execution_count": null,
   "id": "a691b8cb",
   "metadata": {},
   "outputs": [],
   "source": [
    "len(productNames)"
   ]
  },
  {
   "cell_type": "code",
   "execution_count": null,
   "id": "ad5585b2",
   "metadata": {},
   "outputs": [],
   "source": [
    "for prodcuts in productNames:\n",
    "    print(prodcuts.text)"
   ]
  },
  {
   "cell_type": "code",
   "execution_count": null,
   "id": "232d6481",
   "metadata": {},
   "outputs": [],
   "source": [
    "hrefLinks=driver.find_elements(by=By.XPATH,value=('//div[@class=\"pagination-page-item pagination-page-infinite\"]/a'))"
   ]
  },
  {
   "cell_type": "code",
   "execution_count": null,
   "id": "52643a8d",
   "metadata": {},
   "outputs": [],
   "source": [
    "for href in hrefLinks:\n",
    "    print(href.text)"
   ]
  },
  {
   "cell_type": "code",
   "execution_count": null,
   "id": "fabbea66",
   "metadata": {},
   "outputs": [],
   "source": [
    "btn=driver.find_element(by=By.LINK_TEXT,value=('SHOW MORE'))"
   ]
  },
  {
   "cell_type": "code",
   "execution_count": null,
   "id": "9ffef4e3",
   "metadata": {},
   "outputs": [],
   "source": [
    "# for b in btn:\n",
    "#     print(b.text)\n",
    "btn.text"
   ]
  },
  {
   "cell_type": "code",
   "execution_count": null,
   "id": "c655be2a",
   "metadata": {},
   "outputs": [],
   "source": [
    "btn=driver.find_element(by=By.LINK_TEXT,value=('SHOW MORE'))\n",
    "btn.click()"
   ]
  },
  {
   "cell_type": "code",
   "execution_count": null,
   "id": "4eeb94be",
   "metadata": {},
   "outputs": [],
   "source": [
    "while True:\n",
    "    productNames=[]\n",
    "    btn=None\n",
    "    try:        \n",
    "        btn=driver.find_element(by=By.LINK_TEXT,value=('SHOW MORE'))\n",
    "        btn.click()\n",
    "        btn=None\n",
    "    except NoSuchElementException:\n",
    "        break\n",
    "    finally:\n",
    "        productNames=driver.find_elements(by=By.XPATH, value=('//div[@class=\"card-information__wrapper text-left\"]//span[@class=\"text\"][1]'))\n",
    "        time.sleep(10)\n",
    "        \n",
    "\n"
   ]
  },
  {
   "cell_type": "code",
   "execution_count": null,
   "id": "3b9d8420",
   "metadata": {},
   "outputs": [],
   "source": [
    "print(btn.text)"
   ]
  },
  {
   "cell_type": "code",
   "execution_count": null,
   "id": "67d542f1",
   "metadata": {},
   "outputs": [],
   "source": [
    "print(len(productNames))"
   ]
  },
  {
   "cell_type": "code",
   "execution_count": null,
   "id": "58fbd73a",
   "metadata": {},
   "outputs": [],
   "source": [
    "for prodcuts in productNames:\n",
    "    print(prodcuts.text)"
   ]
  },
  {
   "cell_type": "code",
   "execution_count": null,
   "id": "1c6144ab",
   "metadata": {},
   "outputs": [],
   "source": [
    "productPrice=driver.find_elements(by=By.XPATH, value=('//dd[@class=\"price__last\"]//span[@class=\"price-item price-item--regular\"][1]'))"
   ]
  },
  {
   "cell_type": "code",
   "execution_count": null,
   "id": "8a0be00f",
   "metadata": {},
   "outputs": [],
   "source": [
    "driver.close()"
   ]
  },
  {
   "cell_type": "code",
   "execution_count": null,
   "id": "c6279339",
   "metadata": {},
   "outputs": [],
   "source": [
    "print(len(pro))"
   ]
  },
  {
   "cell_type": "markdown",
   "id": "d9918894",
   "metadata": {},
   "source": [
    "# sub category"
   ]
  },
  {
   "cell_type": "code",
   "execution_count": null,
   "id": "6f1c6b32",
   "metadata": {},
   "outputs": [],
   "source": [
    "\n",
    "driver.close()"
   ]
  },
  {
   "cell_type": "code",
   "execution_count": null,
   "id": "e5e6bd25",
   "metadata": {},
   "outputs": [],
   "source": [
    "len(subCategoryData)"
   ]
  },
  {
   "cell_type": "markdown",
   "id": "ce3bfdcf",
   "metadata": {},
   "source": [
    "# # Subcategory Data...."
   ]
  },
  {
   "cell_type": "code",
   "execution_count": null,
   "id": "fff4a109",
   "metadata": {},
   "outputs": [],
   "source": [
    "# global subCategory\n",
    "#relevant website\n",
    "website_1='https://www.decathlon.com/collections/bike'\n",
    "driver = webdriver.Chrome(service=Service(ChromeDriverManager().install()))\n",
    "#open website\n",
    "driver.get(website_1)\n",
    "driver.maximize_window()\n",
    "subCategoryData=driver.find_elements(by=By.XPATH\n",
    "                ,value=('//ul[@class=\"de-u-listReset\"]//a[@class=\"not-breadcrumb-item\"][1]'))\n",
    "for subCat in subCategoryData:\n",
    "    print(\"'\"+subCat.get_attribute(\"href\")+\"',\")\n",
    "#     subCategory.append(subCat.get_attribute(\"href\"))\n",
    "\n",
    "driver.close()\n",
    "\n"
   ]
  },
  {
   "cell_type": "code",
   "execution_count": null,
   "id": "0059f4e7",
   "metadata": {},
   "outputs": [],
   "source": [
    "\n"
   ]
  },
  {
   "cell_type": "code",
   "execution_count": null,
   "id": "ec6a788f",
   "metadata": {},
   "outputs": [],
   "source": [
    "for subCat in subCategoryData:\n",
    "    print(subCat.get_attribute(\"href\"))\n",
    "#     subCategory.append(subCat.get_attribute(\"href\"))\n"
   ]
  },
  {
   "cell_type": "code",
   "execution_count": null,
   "id": "f5564b89",
   "metadata": {},
   "outputs": [],
   "source": [
    "print(subCategoryData)"
   ]
  },
  {
   "cell_type": "code",
   "execution_count": null,
   "id": "09c794f9",
   "metadata": {},
   "outputs": [],
   "source": [
    "for s in range(0, len(subCategory)):\n",
    "    print(subCategory[s])"
   ]
  },
  {
   "cell_type": "code",
   "execution_count": null,
   "id": "e00e8da3",
   "metadata": {},
   "outputs": [],
   "source": [
    "driver.close()"
   ]
  },
  {
   "cell_type": "markdown",
   "id": "df93451a",
   "metadata": {},
   "source": [
    "# check if folder exists if not create"
   ]
  },
  {
   "cell_type": "code",
   "execution_count": null,
   "id": "860e9f60",
   "metadata": {},
   "outputs": [],
   "source": [
    "def checkFolder(folder):\n",
    "#     folder=tfolder\n",
    "    isExists=os.path.exists(f'c://{folder}')\n",
    "    if not isExists:\n",
    "        os.mkdir(f'c://{folder}')\n",
    "    "
   ]
  },
  {
   "cell_type": "code",
   "execution_count": null,
   "id": "3b5cf28a",
   "metadata": {},
   "outputs": [],
   "source": [
    "checkFolder('webscrapping')"
   ]
  },
  {
   "cell_type": "markdown",
   "id": "78ba84ea",
   "metadata": {},
   "source": [
    "# class"
   ]
  },
  {
   "cell_type": "code",
   "execution_count": null,
   "id": "3f1a1692",
   "metadata": {},
   "outputs": [],
   "source": [
    "class _scrpWeb:\n",
    "    def __init__(self,website):\n",
    "        self.website=website\n",
    "        driver = webdriver.Chrome(service=Service(ChromeDriverManager().install()))\n",
    "        \n",
    "        #open website\n",
    "        driver.get(website)\n",
    "#         driver.maximize_window()\n",
    "#         global productNames\n",
    "#         driver.refresh()\n",
    "        global productNames,productPrice  \n",
    "        while True:\n",
    "#             productNames=[]\n",
    "#             productPrice=[]\n",
    "#             btn=None\n",
    "            try:        \n",
    "#                 btn=None\n",
    "                btn=driver.find_element(by=By.LINK_TEXT,value=('SHOW MORE'))\n",
    "                btn.click()  \n",
    "                btn=None\n",
    "            except NoSuchElementException:\n",
    "                break\n",
    "            finally:\n",
    "                productNames=driver.find_elements(by=By.XPATH, value=('//div[@class=\"card-information__wrapper text-left\"]//span[@class=\"text\"][1]'))\n",
    "                productPrice=driver.find_elements(by=By.XPATH, value=('//dd[@class=\"price__last\"]//span[@class=\"price-item price-item--regular\"][1]'))\n",
    "                time.sleep(100)\n",
    "#                 btn=None\n",
    "\n",
    "\n"
   ]
  },
  {
   "cell_type": "code",
   "execution_count": null,
   "id": "57a4df7e",
   "metadata": {},
   "outputs": [],
   "source": [
    "# Extracting...."
   ]
  },
  {
   "cell_type": "code",
   "execution_count": null,
   "id": "743f6baf",
   "metadata": {},
   "outputs": [],
   "source": [
    "\n",
    "webPage='https://springs.com.pk/collections/jam-honey-spreads'\n",
    "category=webPage.replace('https://springs.com.pk/collections/','')\n",
    "a=_scrpWeb(webPage)\n",
    "\n",
    "# driver.close()\n",
    "\n",
    "# creating DataFrame\n",
    "product_list=[]\n",
    "for p in productNames:\n",
    "        product_list.append(p.text)\n",
    "    #     print(p.text)\n",
    "\n",
    "product_price=[]\n",
    "for pr in productPrice:\n",
    "        product_price.append(pr.text)\n",
    "    #     print(pr.text)\n",
    "\n",
    "productsDict={'Product':product_list,'Product_Price':product_price}\n",
    "df=pd.DataFrame.from_dict(productsDict)\n",
    "# df[\"Product_Price\"].fillna(\"0\", inplace=True)\n",
    "df['Product_Price'].replace('',0)\n",
    "df['Product_Price']=df['Product_Price'].apply(lambda x: x.replace('Rs.',''))\n",
    "df['Product_Price']=df['Product_Price'].apply(lambda x: x.replace(',',''))\n",
    "# df['Product_Price']=df['Product_Price'].astype(float)\n",
    "df.insert(loc=0,column='Category',value=category)\n",
    "df\n",
    "checkFolder('webscrapping')\n",
    "df.to_csv(f'c://webscrapping/{category}.csv',index=False)\n",
    "# driver.close()\n",
    "# driver.quit()\n"
   ]
  },
  {
   "cell_type": "code",
   "execution_count": null,
   "id": "5edba0ab",
   "metadata": {},
   "outputs": [],
   "source": [
    "#test extracting link and webscrapping in a Loop.... using list......\n",
    "\n",
    "subCategory=[\n",
    "'https://springs.com.pk/collections/ss-cigar',\n",
    "'https://springs.com.pk/collections/sugar-baking-dessert',\n",
    "'https://springs.com.pk/collections/talcum-powder-prickly-heat-powder',\n",
    "'https://springs.com.pk/collections/tea-coffee',\n",
    "'https://springs.com.pk/collections/tissues-wipes',\n",
    "'https://springs.com.pk/collections/toiletries',\n",
    "'https://springs.com.pk/collections/toner',\n",
    "'https://springs.com.pk/collections/toothbrush',\n",
    "'https://springs.com.pk/collections/toothpaste',\n",
    "'https://springs.com.pk/collections/treats-accessories',\n",
    "'https://springs.com.pk/collections/unisex',\n",
    "'https://springs.com.pk/collections/women',\n",
    "'https://springs.com.pk/collections/wraps-pittas',\n",
    "'https://springs.com.pk/collections/yogurt'\n",
    "]\n",
    "\n",
    "for subCat in range(0,len(subCategory)):\n",
    "#     print('list data : ',listData[category])\n",
    "\n",
    "    webPage=subCategory[subCat]\n",
    "#     print('web : ',webPage)\n",
    "    category=webPage.replace('https://springs.com.pk/collections/','')\n",
    "#     print(category)\n",
    "    a=_scrpWeb(webPage)\n",
    "\n",
    "    # creating DataFrame\n",
    "    product_list=[]\n",
    "    for p in productNames:\n",
    "        product_list.append(p.text)\n",
    "    #     print(p.text)\n",
    "\n",
    "    product_price=[]\n",
    "    for pr in productPrice:\n",
    "        product_price.append(pr.text)\n",
    "    #     print(pr.text)\n",
    "\n",
    "    productsDict={'Product':product_list,'Product_Price':product_price}\n",
    "    df=pd.DataFrame.from_dict(productsDict)\n",
    "    df['Product_Price']=df['Product_Price'].apply(lambda x: x.replace('Rs.',''))\n",
    "    df['Product_Price']=df['Product_Price'].apply(lambda x: x.replace(',',''))\n",
    "#     df['Product_Price']=df['Product_Price'].astype(float)\n",
    "    df.insert(loc=0,column='Category',value=category)\n",
    "    df\n",
    "    checkFolder('webscrapping')\n",
    "    df.to_csv(f'c://WebScrapping1/{category}.csv',index=False)\n",
    "#     driver.close()\n"
   ]
  },
  {
   "cell_type": "code",
   "execution_count": null,
   "id": "6d9f4c71",
   "metadata": {},
   "outputs": [],
   "source": [
    "#test extracting link and webscrapping in a Loop....\n",
    "\n",
    "for subCat in range(0,len(subCategory)):\n",
    "\n",
    "#     print(subCategory[subCat])\n",
    "#     print(subCat.get_attribute(\"href\"))\n",
    "    \n",
    "\n",
    "    webPage=subCategory[subCat]\n",
    "#     print('web : ',webPage)\n",
    "    category=webPage.replace('https://springs.com.pk/collections/','')\n",
    "#     print(category)\n",
    "    a=_scrpWeb(webPage)\n",
    "\n",
    "    # creating DataFrame\n",
    "    product_list=[]\n",
    "    for p in productNames:\n",
    "        product_list.append(p.text)\n",
    "    #     print(p.text)\n",
    "\n",
    "    product_price=[]\n",
    "    for pr in productPrice:\n",
    "        product_price.append(pr.text)\n",
    "    #     print(pr.text)\n",
    "\n",
    "    productsDict={'Product':product_list,'Product_Price':product_price}\n",
    "    df=pd.DataFrame.from_dict(productsDict)\n",
    "    df['Product_Price']=df['Product_Price'].apply(lambda x: x.replace('Rs.',''))\n",
    "    df['Product_Price']=df['Product_Price'].apply(lambda x: x.replace(',',''))\n",
    "    df['Product_Price']=df['Product_Price'].astype(float)\n",
    "    df.insert(loc=0,column='Category',value=category)\n",
    "    df\n",
    "    checkFolder('webscrapping')\n",
    "    df.to_csv(f'c://webscrapping/{category}.csv',index=False)\n",
    "#     driver.close()\n",
    "\n",
    "\n"
   ]
  },
  {
   "cell_type": "code",
   "execution_count": null,
   "id": "e771bd50",
   "metadata": {},
   "outputs": [],
   "source": [
    "# for handle in driver.window_handles:\n",
    "#     driver.switch_to.window(handle)\n",
    "driver.close()"
   ]
  },
  {
   "cell_type": "code",
   "execution_count": null,
   "id": "6a075d80",
   "metadata": {},
   "outputs": [],
   "source": [
    "s='https://springs.com.pk/collections/chips-snacks-popcorn'\n",
    "print(s.replace('https://springs.com.pk/collections/',''))"
   ]
  },
  {
   "cell_type": "code",
   "execution_count": null,
   "id": "392668a9",
   "metadata": {},
   "outputs": [],
   "source": [
    "def checkAttribute(webSite):\n",
    "    driver = webdriver.Chrome(service=Service(ChromeDriverManager().install()))\n",
    "    #open website\n",
    "    driver.get(website_1)\n",
    "    driver.maximize_window()\n",
    "    chkAtr=None\n",
    "    try:    \n",
    "        pagination = driver.find_element(\n",
    "           by=By.XPATH, value=('//div[@class=\"paginate-bottom\"]'))\n",
    "        chkAtr='Found'\n",
    "\n",
    "    except NoSuchElementException:\n",
    "        chkAtr='Not Found'\n",
    "        driver.close()\n",
    "        driver.quit()\n",
    "    return chkAtr\n",
    "        "
   ]
  },
  {
   "cell_type": "code",
   "execution_count": null,
   "id": "b7f7edf7",
   "metadata": {},
   "outputs": [],
   "source": [
    "x=checkAttribute('https://www.decathlon.com/collections/hike-camp-deals')"
   ]
  },
  {
   "cell_type": "code",
   "execution_count": null,
   "id": "d5fafab4",
   "metadata": {},
   "outputs": [],
   "source": [
    "x"
   ]
  },
  {
   "cell_type": "code",
   "execution_count": null,
   "id": "31e24f9e",
   "metadata": {},
   "outputs": [],
   "source": []
  }
 ],
 "metadata": {
  "kernelspec": {
   "display_name": "Python 3",
   "language": "python",
   "name": "python3"
  },
  "language_info": {
   "codemirror_mode": {
    "name": "ipython",
    "version": 3
   },
   "file_extension": ".py",
   "mimetype": "text/x-python",
   "name": "python",
   "nbconvert_exporter": "python",
   "pygments_lexer": "ipython3",
   "version": "3.9.6"
  }
 },
 "nbformat": 4,
 "nbformat_minor": 5
}
