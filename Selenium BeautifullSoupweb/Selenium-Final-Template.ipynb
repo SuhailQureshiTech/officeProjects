{
 "cells": [
  {
   "cell_type": "markdown",
   "metadata": {},
   "source": [
    "### Part 1 - Set Up"
   ]
  },
  {
   "cell_type": "code",
   "execution_count": 23,
   "metadata": {},
   "outputs": [],
   "source": [
    "# relevant packages & modules\n",
    "from selenium import webdriver\n",
    "from selenium.webdriver.common.keys import Keys\n",
    "from selenium.webdriver.common.by import By\n",
    "from selenium.webdriver.chrome.options import Options\n",
    "import time"
   ]
  },
  {
   "cell_type": "code",
   "execution_count": 24,
   "metadata": {},
   "outputs": [],
   "source": [
    "# relevant websites\n",
    "website_1 = 'https://www.geekbuying.com/search?keyword=laptop'\n",
    "website_2 = 'http://automationpractice.com/index.php'"
   ]
  },
  {
   "cell_type": "code",
   "execution_count": 25,
   "metadata": {},
   "outputs": [],
   "source": [
    "# initialize Chrome\n",
    "driver = webdriver.Chrome('C:\\webdrivers\\chromedriver.exe')\n",
    "\n",
    "# open website\n",
    "driver.get(website_1)\n",
    "\n",
    "#maximize window\n",
    "driver.maximize_window()"
   ]
  },
  {
   "cell_type": "markdown",
   "metadata": {},
   "source": [
    "### Part 2 - Locators "
   ]
  },
  {
   "cell_type": "markdown",
   "metadata": {},
   "source": [
    "##### Xpath - Locator"
   ]
  },
  {
   "cell_type": "code",
   "execution_count": 19,
   "metadata": {},
   "outputs": [],
   "source": [
    "price = driver.find_element_by_xpath('(//li[@class=\"searchResultItem\"]/div/div[3])[1]')"
   ]
  },
  {
   "cell_type": "code",
   "execution_count": 20,
   "metadata": {},
   "outputs": [
    {
     "name": "stdout",
     "output_type": "stream",
     "text": [
      "€308.38\n"
     ]
    }
   ],
   "source": [
    "# print out the price\n",
    "print(price.text)"
   ]
  },
  {
   "cell_type": "code",
   "execution_count": 27,
   "metadata": {},
   "outputs": [],
   "source": [
    "prices = driver.find_elements_by_xpath('//li[@class=\"searchResultItem\"]/div/div[3]')"
   ]
  },
  {
   "cell_type": "code",
   "execution_count": 28,
   "metadata": {},
   "outputs": [
    {
     "data": {
      "text/plain": [
       "40"
      ]
     },
     "execution_count": 28,
     "metadata": {},
     "output_type": "execute_result"
    }
   ],
   "source": [
    "len(prices)"
   ]
  },
  {
   "cell_type": "code",
   "execution_count": 29,
   "metadata": {},
   "outputs": [
    {
     "name": "stdout",
     "output_type": "stream",
     "text": [
      "€308.38\n",
      "€25.27\n",
      "€89.31\n",
      "€53.08\n",
      "€1230.19\n",
      "€42.12\n",
      "€10.10\n",
      "€17.69\n",
      "€64.03\n",
      "€36.22\n",
      "€25.27\n",
      "€1162.78\n",
      "€10.10\n",
      "€615.09\n",
      "€26.95\n",
      "€8.42\n",
      "€22.74\n",
      "€28.64\n",
      "€22.74\n",
      "€42.12\n",
      "€337.03\n",
      "€16.84\n",
      "€67.40\n",
      "€22.74\n",
      "€11.79\n",
      "€53.92\n",
      "€53.92\n",
      "€33.70\n",
      "€21.06\n",
      "€14.32\n",
      "€25.27\n",
      "€1457.69\n",
      "€581.39\n",
      "€42.12\n",
      "€21.06\n",
      "€28.64\n",
      "€353.88\n",
      "€345.46\n",
      "€21.06\n",
      "€328.61\n"
     ]
    }
   ],
   "source": [
    "# print out all price points\n",
    "for p in prices:\n",
    "    print(p.text)"
   ]
  },
  {
   "cell_type": "code",
   "execution_count": 30,
   "metadata": {},
   "outputs": [
    {
     "data": {
      "text/plain": [
       "list"
      ]
     },
     "execution_count": 30,
     "metadata": {},
     "output_type": "execute_result"
    }
   ],
   "source": [
    "type(prices)"
   ]
  },
  {
   "cell_type": "markdown",
   "metadata": {},
   "source": [
    "##### Class Name - Locator"
   ]
  },
  {
   "cell_type": "code",
   "execution_count": 42,
   "metadata": {},
   "outputs": [],
   "source": [
    "names = driver.find_elements_by_class_name('name')"
   ]
  },
  {
   "cell_type": "code",
   "execution_count": 43,
   "metadata": {},
   "outputs": [
    {
     "name": "stdout",
     "output_type": "stream",
     "text": [
      "40\n"
     ]
    }
   ],
   "source": [
    "print(len(names))"
   ]
  },
  {
   "cell_type": "code",
   "execution_count": 44,
   "metadata": {},
   "outputs": [
    {
     "data": {
      "text/plain": [
       "list"
      ]
     },
     "execution_count": 44,
     "metadata": {},
     "output_type": "execute_result"
    }
   ],
   "source": [
    "type(names)"
   ]
  },
  {
   "cell_type": "code",
   "execution_count": 45,
   "metadata": {},
   "outputs": [
    {
     "name": "stdout",
     "output_type": "stream",
     "text": [
      "ALLDOCUBE KNote X Pro Tablet Laptop Intel Gemini Lake N4100 13.3 Inch 1080P FHD Screen Windows 10 8GB RAM 128GB ROM - Grey\n",
      "Logitech G300S Wired Gaming Mouse 9 Programmable Keys 2500DPI Ergonomic Shape For PC / - Black\n",
      "Brown Workstation Computer Desk Laptop Table\n",
      "Logitech G502 HERO Proteus Spectrum Wired Adaptive Gaming Mouse 12000DPI USB Computer Mouse For PC / - Black\n",
      "One Netbook 4 Platinum Laptop 360 Degree YOGA 10.1\" Touch Screen Intel Core i7-1160G7 16GB DDR4 RAM 1TB PCI-E SSD WiFi 6 Windows 10 Fingerprint - Black\n",
      "Xiaomi Wowstick 1F + Electric Screwdriver Bits Toolkit for Reparing Phone Toy Laptop Digital Product - Gray\n",
      "Protective Case for 8.9 Inch Magic-Ben MAG1 Pocket Laptop - Black\n",
      "Laptop Stand Black 30.5x28x(24.5-37.5) cm Steel\n",
      "Draper Tools Expert Technicians Laptop Tool Case Blue and Black 89209\n",
      "Monitor Laptop Dual Desk Mount Bracket 13\"-23\"\n",
      "Tronsmart Glary Gaming Headset 7.1 Virtual Surround Sound Stereo Sound with Colorful LED Lighting USB Interface Mic for PC\n",
      "One Netbook 4 Platinum Laptop 360 Degree YOGA 10.1\" Touch Screen Intel Core i7-1160G7 16GB DDR4 RAM 512GB PCI-E SSD WiFi 6 Windows 10 Fingerprint - Black\n",
      "PU Leather Protective Case for 8.4\" One Netbook One Mix 3 Pro Yoga Pocket Laptop - Black\n",
      "One Netbook A1 360 Degree 2 in 1 Pocket Laptop Intel M3-8100Y 8GB RAM 512GB PCIe SSD + Original Stylus Pen + Protective Case\n",
      "HXSJ S3 1080P HD Webcam 5MP Auto Focus Built-in Microphone Adjustable Angle Support Video Conference For Desktop PC / - Black\n",
      "PU Leather Protective Case for 8.4\" One Netbook One Mix 3 / 3S Yoga Pocket Laptop - Black\n",
      "Logitech Pebble Wireless Mouse Bluetooth 2.4GHz Mute Dual Modes Portable For PC - White\n",
      "Logitech G302 Daedalus Prime MOBA Wired Optical Gaming Mouse Lightweight Design 4000 DPI For PC / - Black\n",
      "Logitech Pebble Wireless Mouse Bluetooth 2.4GHz Mute Dual Modes Portable For PC - Black\n",
      "Logitech C270 HD Vid 720P Webcam With MIC Micphone Video Calling for Android TV Box/PC/\n",
      "Cenava F151 Laptop Intel Celeron J3455 Quad Core 15.6\" 1920*1080 Windows 10 8GB RAM 512GB SSD - Rose Gold\n",
      "H20 White Backlight Full Screen Touchpad Mini 2.4G Wireless Keyboard for TV Box/Pad//PC - Black\n",
      "Tronsmart Brio PD Portable Charger 20100mAh for Nintendo Switch & USB Type-C - Black\n",
      "External Mobile Optical Drive Portable CD DVD Ultra-thin USB 3.0 Interface For Laptop PC MAC - Black\n",
      "PU Leather Protective Case for 7\" One Netbook One Mix 2 / 2S Yoga Pocket Laptop - Black\n",
      "Xiaomi 23L Sports Leisure Backpack Waterproof 15.6-inch Laptop Bag Outdoor Travel Rucksack - Gray\n",
      "Xiaomi 23L Sports Leisure Backpack Waterproof 15.6-inch Laptop Bag Outdoor Travel Rucksack - Black\n",
      "Xiaomi 23L Sports Leisure Backpack Waterproof 15.6-inch Laptop Bag Outdoor Travel Rucksack - Gray\n",
      "Original Charger for One Netbook One Mix 2S Yoga Pocket Laptop - Black\n",
      "Xiaomi Wireless Mouse 2 Mute Portable Ultra-thin 2.4G Wireless 1000DPI For PC -White\n",
      "Xiaomi Portable Mouse Mi Mouse Bluetooth 4.0 / RF 2.4GHz Wireless Dual Modes Connection for PC - Silver\n",
      "One Netbook OneGx1 Pro Gaming Laptop 7-inch 1920x1200 Intel i7-1160G7 16GB RAM 512GB SSD WiFi 6 Windows 10 - 5G Version Black\n",
      "One Netbook A1 360 Degree 2 in 1 Pocket Laptop Intel M3-8100Y 8GB RAM 256GB PCIe SSD + Original Stylus Pen + Protective Case\n",
      "Xiaomi UREVO 25L Multi-functional Backpack Waterproof 15-inch Laptop Bag Outdoor Travel Rucksack From Xiaomi Youpin- Black\n",
      "Maxmemory X200 64GB SATA3 High Speed SSD 2.5 Inch Solid State Drive Hard Disk For PC - Black\n",
      "ASHU H800 1080P HD Webcam Built-In Microphone Auto Color Correction Support CC2000 TARGET ICQ For Desktop - Black\n",
      "Cenava PA156G Laptop Intel Celeron J4125 15.6 Inch 1920*1080 Windows 10 8GB RAM 512GB SSD - Silver\n",
      "DERE X156 15.6 Inch Laptop Intel Celeron J4115 1920*1080 FHD 8GB DDR4 512G SSD Windows 10 HDMI Output - Silver\n",
      "HXSJ S90 720P HD Webcam USB Compatible Adjustable Angle Automatic Color Correction Built-in Sound-absorbing Microphone For Desktop TV - Black\n",
      "DERE X156 15.6 Inch Laptop Intel Celeron J4115 1920*1080 FHD 8GB DDR4 256G SSD Windows 10 HDMI Output - Silver\n"
     ]
    }
   ],
   "source": [
    "for n in names:\n",
    "    print(n.text)"
   ]
  },
  {
   "cell_type": "code",
   "execution_count": 48,
   "metadata": {},
   "outputs": [
    {
     "name": "stdout",
     "output_type": "stream",
     "text": [
      "Original Charger for One Netbook One Mix 2S Yoga Pocket Laptop - Black\n"
     ]
    }
   ],
   "source": [
    "# print specific item from the list\n",
    "print(names[28].text)"
   ]
  },
  {
   "cell_type": "markdown",
   "metadata": {},
   "source": [
    "##### ID - Locator"
   ]
  },
  {
   "cell_type": "code",
   "execution_count": 50,
   "metadata": {},
   "outputs": [],
   "source": [
    "driver = webdriver.Chrome('C:\\webdrivers\\chromedriver.exe')\n",
    "driver.get(website_2)\n",
    "time.sleep(1)\n",
    "search = driver.find_element_by_id('search_query_top')\n",
    "\n",
    "#click\n",
    "search.click()\n",
    "time.sleep(1)\n",
    "search.send_keys('hellohello')"
   ]
  },
  {
   "cell_type": "code",
   "execution_count": null,
   "metadata": {},
   "outputs": [],
   "source": []
  },
  {
   "cell_type": "markdown",
   "metadata": {},
   "source": [
    "##### Name - Locator"
   ]
  },
  {
   "cell_type": "code",
   "execution_count": 51,
   "metadata": {},
   "outputs": [],
   "source": [
    "search_button = driver.find_element_by_name('submit_search')\n",
    "search_button.click()"
   ]
  },
  {
   "cell_type": "markdown",
   "metadata": {},
   "source": [
    "##### LinkText - Locator"
   ]
  },
  {
   "cell_type": "code",
   "execution_count": null,
   "metadata": {},
   "outputs": [],
   "source": [
    "contact = driver.find_element_by_link_text('Contact us')"
   ]
  },
  {
   "cell_type": "code",
   "execution_count": null,
   "metadata": {},
   "outputs": [],
   "source": []
  },
  {
   "cell_type": "markdown",
   "metadata": {},
   "source": [
    "##### Partial LinkText - Locator"
   ]
  },
  {
   "cell_type": "code",
   "execution_count": 54,
   "metadata": {},
   "outputs": [],
   "source": [
    "driver = webdriver.Chrome('C:\\webdrivers\\chromedriver.exe')\n",
    "driver.get(website_2)\n",
    "driver.maximize_window()\n",
    "time.sleep(1)\n",
    "\n",
    "contact_partial = driver.find_element_by_partial_link_text('ntact u')\n",
    "contact_partial.click()"
   ]
  },
  {
   "cell_type": "code",
   "execution_count": null,
   "metadata": {},
   "outputs": [],
   "source": []
  },
  {
   "cell_type": "markdown",
   "metadata": {},
   "source": [
    "### Part 3 - Different ways to use Locators "
   ]
  },
  {
   "cell_type": "code",
   "execution_count": null,
   "metadata": {},
   "outputs": [],
   "source": [
    "# Option 1 - XPath Locator\n",
    "prices = driver.find_elements_by_xpath('//li[@class=\"searchResultItem\"]/div/div[3]')\n",
    "\n",
    "# Option 1 - ID Locator\n",
    "search = driver.find_element_by_id('search_query_top')"
   ]
  },
  {
   "cell_type": "code",
   "execution_count": null,
   "metadata": {},
   "outputs": [],
   "source": [
    "# Option 2 - XPath Locator\n",
    "prices_2 = driver.find_elements(By.XPATH('//li[@class=\"searchResultItem\"]/div/div[3]'))\n",
    "\n",
    "#Option 2 - ID Locator\n",
    "search_2 = driver.find_elements(By.ID('search_query_top'))"
   ]
  },
  {
   "cell_type": "code",
   "execution_count": null,
   "metadata": {},
   "outputs": [],
   "source": []
  },
  {
   "cell_type": "markdown",
   "metadata": {},
   "source": [
    "### Part 4 - Selenium in Action "
   ]
  },
  {
   "cell_type": "code",
   "execution_count": 55,
   "metadata": {},
   "outputs": [],
   "source": [
    "# open website\n",
    "driver=webdriver.Chrome(executable_path='C:\\webdrivers\\chromedriver.exe')\n",
    "driver.get(website_2)\n",
    "time.sleep(1)\n",
    "\n",
    "#send keys and click on button\n",
    "search = driver.find_element_by_id('search_query_top')\n",
    "search.click()\n",
    "time.sleep(1)\n",
    "\n",
    "# type a text inside the search bar\n",
    "search.send_keys('hello')\n",
    "time.sleep(1)\n",
    "\n",
    "# submit your search request\n",
    "search_button = driver.find_element_by_name('submit_search')\n",
    "search_button.click()\n",
    "\n",
    "#go back\n",
    "driver.back()\n",
    "time.sleep(1)\n",
    "\n",
    "# click Contact us - Link Text Locator\n",
    "contact_us = driver.find_element_by_link_text('Contact us')\n",
    "contact_us.click()\n",
    "time.sleep(1)\n",
    "\n",
    "# close driver at the end\n",
    "driver.close()"
   ]
  },
  {
   "cell_type": "markdown",
   "metadata": {},
   "source": [
    "### Optional : Run everything in one Step - Headless"
   ]
  },
  {
   "cell_type": "code",
   "execution_count": 56,
   "metadata": {},
   "outputs": [
    {
     "name": "stdout",
     "output_type": "stream",
     "text": [
      "Website was opened\n",
      "A text was typed inside the search bar\n",
      "Search Request was submitted\n",
      "Go back to Initial Page\n",
      "Contact Us button was clicked using the Link Text Locator\n",
      "Driver was closed - Bye Bye\n"
     ]
    }
   ],
   "source": [
    "chrome_options = Options()\n",
    "chrome_options.add_argument('--headless')\n",
    "\n",
    "# open website\n",
    "driver=webdriver.Chrome(executable_path='C:\\webdrivers\\chromedriver.exe', options=chrome_options )\n",
    "driver.get(website_2)\n",
    "time.sleep(1)\n",
    "\n",
    "print('Website was opened')\n",
    "\n",
    "\n",
    "#send keys and click on button\n",
    "search = driver.find_element_by_id('search_query_top')\n",
    "search.click()\n",
    "time.sleep(1)\n",
    "\n",
    "# type a text inside the search bar\n",
    "search.send_keys('hello')\n",
    "time.sleep(1)\n",
    "\n",
    "print('A text was typed inside the search bar')\n",
    "\n",
    "# submit your search request\n",
    "search_button = driver.find_element_by_name('submit_search')\n",
    "search_button.click()\n",
    "\n",
    "print('Search Request was submitted')\n",
    "\n",
    "#go back\n",
    "driver.back()\n",
    "time.sleep(1)\n",
    "\n",
    "print('Go back to Initial Page')\n",
    "\n",
    "# click Contact us - Link Text Locator\n",
    "contact_us = driver.find_element_by_link_text('Contact us')\n",
    "contact_us.click()\n",
    "time.sleep(1)\n",
    "\n",
    "print('Contact Us button was clicked using the Link Text Locator')\n",
    "\n",
    "# close driver at the end\n",
    "driver.close()\n",
    "\n",
    "print('Driver was closed - Bye Bye')"
   ]
  }
 ],
 "metadata": {
  "kernelspec": {
   "display_name": "Python 3",
   "language": "python",
   "name": "python3"
  },
  "language_info": {
   "codemirror_mode": {
    "name": "ipython",
    "version": 3
   },
   "file_extension": ".py",
   "mimetype": "text/x-python",
   "name": "python",
   "nbconvert_exporter": "python",
   "pygments_lexer": "ipython3",
   "version": "3.9.2"
  }
 },
 "nbformat": 4,
 "nbformat_minor": 4
}
